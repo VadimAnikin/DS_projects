{
 "cells": [
  {
   "cell_type": "markdown",
   "metadata": {},
   "source": [
    "#  Прогнозирование заказов такси"
   ]
  },
  {
   "cell_type": "markdown",
   "metadata": {},
   "source": [
    "Компания «Чётенькое такси» собрала исторические данные о заказах такси в аэропортах. Чтобы привлекать больше водителей в период пиковой нагрузки, нужно спрогнозировать количество заказов такси на следующий час. Постройте модель для такого предсказания.\n",
    "\n",
    "Значение метрики *RMSE* на тестовой выборке должно быть не больше 48.\n",
    "\n",
    "Вам нужно:\n",
    "\n",
    "1. Загрузить данные и выполнить их ресемплирование по одному часу.\n",
    "2. Проанализировать данные.\n",
    "3. Обучить разные модели с различными гиперпараметрами. Сделать тестовую выборку размером 10% от исходных данных.\n",
    "4. Проверить данные на тестовой выборке и сделать выводы.\n",
    "\n",
    "\n",
    "Данные лежат в файле `taxi.csv`. Количество заказов находится в столбце `num_orders` (от англ. *number of orders*, «число заказов»)."
   ]
  },
  {
   "cell_type": "markdown",
   "metadata": {},
   "source": [
    "## Подготовка"
   ]
  },
  {
   "cell_type": "code",
   "execution_count": 1,
   "metadata": {},
   "outputs": [],
   "source": [
    "import pandas as pd\n",
    "import numpy as np\n",
    "import matplotlib.pyplot as plt\n",
    "import seaborn as sns\n",
    "from IPython.display import display\n",
    "from statsmodels.tsa.seasonal import seasonal_decompose\n",
    "from sklearn.model_selection import train_test_split, cross_val_score, GridSearchCV\n",
    "from sklearn.linear_model import LinearRegression, ElasticNet, Ridge, Lasso\n",
    "from sklearn.metrics import mean_squared_error\n",
    "import warnings\n",
    "warnings.filterwarnings('ignore')\n",
    "%matplotlib inline"
   ]
  },
  {
   "cell_type": "code",
   "execution_count": 2,
   "metadata": {},
   "outputs": [],
   "source": [
    "df = pd.read_csv('/datasets/taxi.csv', index_col='datetime', parse_dates=[0])"
   ]
  },
  {
   "cell_type": "code",
   "execution_count": 3,
   "metadata": {},
   "outputs": [
    {
     "data": {
      "text/html": [
       "<div>\n",
       "<style scoped>\n",
       "    .dataframe tbody tr th:only-of-type {\n",
       "        vertical-align: middle;\n",
       "    }\n",
       "\n",
       "    .dataframe tbody tr th {\n",
       "        vertical-align: top;\n",
       "    }\n",
       "\n",
       "    .dataframe thead th {\n",
       "        text-align: right;\n",
       "    }\n",
       "</style>\n",
       "<table border=\"1\" class=\"dataframe\">\n",
       "  <thead>\n",
       "    <tr style=\"text-align: right;\">\n",
       "      <th></th>\n",
       "      <th>num_orders</th>\n",
       "    </tr>\n",
       "    <tr>\n",
       "      <th>datetime</th>\n",
       "      <th></th>\n",
       "    </tr>\n",
       "  </thead>\n",
       "  <tbody>\n",
       "    <tr>\n",
       "      <td>2018-03-01 00:00:00</td>\n",
       "      <td>9</td>\n",
       "    </tr>\n",
       "    <tr>\n",
       "      <td>2018-03-01 00:10:00</td>\n",
       "      <td>14</td>\n",
       "    </tr>\n",
       "    <tr>\n",
       "      <td>2018-03-01 00:20:00</td>\n",
       "      <td>28</td>\n",
       "    </tr>\n",
       "    <tr>\n",
       "      <td>2018-03-01 00:30:00</td>\n",
       "      <td>20</td>\n",
       "    </tr>\n",
       "    <tr>\n",
       "      <td>2018-03-01 00:40:00</td>\n",
       "      <td>32</td>\n",
       "    </tr>\n",
       "  </tbody>\n",
       "</table>\n",
       "</div>"
      ],
      "text/plain": [
       "                     num_orders\n",
       "datetime                       \n",
       "2018-03-01 00:00:00           9\n",
       "2018-03-01 00:10:00          14\n",
       "2018-03-01 00:20:00          28\n",
       "2018-03-01 00:30:00          20\n",
       "2018-03-01 00:40:00          32"
      ]
     },
     "execution_count": 3,
     "metadata": {},
     "output_type": "execute_result"
    }
   ],
   "source": [
    "df.head()"
   ]
  },
  {
   "cell_type": "code",
   "execution_count": 4,
   "metadata": {},
   "outputs": [
    {
     "name": "stdout",
     "output_type": "stream",
     "text": [
      "<class 'pandas.core.frame.DataFrame'>\n",
      "DatetimeIndex: 26496 entries, 2018-03-01 00:00:00 to 2018-08-31 23:50:00\n",
      "Data columns (total 1 columns):\n",
      "num_orders    26496 non-null int64\n",
      "dtypes: int64(1)\n",
      "memory usage: 414.0 KB\n"
     ]
    }
   ],
   "source": [
    "df.info()"
   ]
  },
  {
   "cell_type": "code",
   "execution_count": 5,
   "metadata": {},
   "outputs": [],
   "source": [
    "df = df.sort_index()\n",
    "df = df.resample('1H').sum()"
   ]
  },
  {
   "cell_type": "markdown",
   "metadata": {},
   "source": [
    "Выполним ресемплирование данных по одному часу"
   ]
  },
  {
   "cell_type": "code",
   "execution_count": 6,
   "metadata": {},
   "outputs": [
    {
     "data": {
      "text/plain": [
       "True"
      ]
     },
     "execution_count": 6,
     "metadata": {},
     "output_type": "execute_result"
    }
   ],
   "source": [
    "df.index.is_monotonic"
   ]
  },
  {
   "cell_type": "markdown",
   "metadata": {},
   "source": [
    "Проверим, что даты идут по порядку"
   ]
  },
  {
   "cell_type": "markdown",
   "metadata": {},
   "source": [
    "## Анализ"
   ]
  },
  {
   "cell_type": "markdown",
   "metadata": {},
   "source": [
    "Разложим данные на три составляющие: тренд, сезонность и остаток."
   ]
  },
  {
   "cell_type": "code",
   "execution_count": 7,
   "metadata": {},
   "outputs": [
    {
     "data": {
      "image/png": "[encoded data removed]",
      "text/plain": [
       "<Figure size 864x864 with 3 Axes>"
      ]
     },
     "metadata": {
      "needs_background": "light"
     },
     "output_type": "display_data"
    }
   ],
   "source": [
    "decomposed = seasonal_decompose(df['2018-04':'2018-04'])\n",
    "plt.figure(figsize=(12, 12))\n",
    "plt.subplot(311)\n",
    "\n",
    "decomposed.trend.plot(ax=plt.gca())\n",
    "plt.title('Trend')\n",
    "plt.subplot(312)\n",
    "decomposed.seasonal.plot(ax=plt.gca())\n",
    "\n",
    "plt.title('Seasonality')\n",
    "plt.subplot(313)\n",
    "decomposed.resid.plot(ax=plt.gca())\n",
    "\n",
    "plt.title('Residuals')\n",
    "plt.tight_layout()"
   ]
  },
  {
   "cell_type": "markdown",
   "metadata": {},
   "source": [
    "-Распределение сезонной части выглядит статическим в интервале суток\n",
    "\n",
    "-Тренд показывает линейный рост количества заказов со временем"
   ]
  },
  {
   "cell_type": "code",
   "execution_count": 8,
   "metadata": {},
   "outputs": [
    {
     "data": {
      "image/png": "[encoded data removed]",
      "text/plain": [
       "<Figure size 864x432 with 1 Axes>"
      ]
     },
     "metadata": {
      "needs_background": "light"
     },
     "output_type": "display_data"
    }
   ],
   "source": [
    "plot = sns.catplot(data=df, kind='box', height=6, aspect=2, legend_out=False)\n",
    "plot.set_axis_labels(x_var='Orders per hour')\n",
    "plot.set\n",
    "plot.fig.suptitle('Taxi orders per hour', y=1.1);"
   ]
  },
  {
   "cell_type": "markdown",
   "metadata": {},
   "source": [
    "В среднем в час заказов в такси бывает около 100, но бывают и такое, что в час заказывают 200 и больше."
   ]
  },
  {
   "cell_type": "code",
   "execution_count": 9,
   "metadata": {},
   "outputs": [
    {
     "data": {
      "text/plain": [
       "Text(0.5, 1.0, 'Trend')"
      ]
     },
     "execution_count": 9,
     "metadata": {},
     "output_type": "execute_result"
    },
    {
     "data": {
      "image/png": "[encoded data removed]",
      "text/plain": [
       "<Figure size 864x360 with 1 Axes>"
      ]
     },
     "metadata": {
      "needs_background": "light"
     },
     "output_type": "display_data"
    }
   ],
   "source": [
    "decomposed = seasonal_decompose(df)\n",
    "plt.figure(figsize=(12, 5))\n",
    "decomposed.trend.plot(ax=plt.gca())\n",
    "plt.title('Trend')"
   ]
  },
  {
   "cell_type": "markdown",
   "metadata": {},
   "source": [
    "За весь период тренд показывает линейный рост количества заказов, возможно это связано с тем, что компания только набирает оборот, и постепенно кол-во заказов становится больше."
   ]
  },
  {
   "cell_type": "markdown",
   "metadata": {},
   "source": [
    "## Обучение"
   ]
  },
  {
   "cell_type": "code",
   "execution_count": 10,
   "metadata": {},
   "outputs": [
    {
     "name": "stdout",
     "output_type": "stream",
     "text": [
      "RMSE baseline модели: 53.368\n"
     ]
    }
   ],
   "source": [
    "train, test = train_test_split(df, shuffle=False, test_size=0.2)\n",
    "train = train.dropna()\n",
    "pred_previous = test.shift()\n",
    "pred_previous.iloc[0] = train.iloc[-1]\n",
    "rmse_base =  mean_squared_error(test['num_orders'], pred_previous) ** 0.5\n",
    "print(\"RMSE baseline модели:\", round(rmse_base, 3))"
   ]
  },
  {
   "cell_type": "markdown",
   "metadata": {},
   "source": [
    "В качестве baseline модели будем предсказывать новые значения предыдущими"
   ]
  },
  {
   "cell_type": "code",
   "execution_count": 11,
   "metadata": {},
   "outputs": [
    {
     "name": "stdout",
     "output_type": "stream",
     "text": [
      "RMSE baseline модели: 74.42015786913375\n"
     ]
    }
   ],
   "source": [
    "pred_mean = np.ones(test.shape) * train['num_orders'].mean()\n",
    "print(\"RMSE baseline модели:\", mean_squared_error(test['num_orders'], pred_mean) ** 0.5)"
   ]
  },
  {
   "cell_type": "markdown",
   "metadata": {},
   "source": [
    "А также будем предсказывать средним значением."
   ]
  },
  {
   "cell_type": "markdown",
   "metadata": {},
   "source": [
    "Напишем функцию для создания обучающих признаков"
   ]
  },
  {
   "cell_type": "code",
   "execution_count": 12,
   "metadata": {},
   "outputs": [],
   "source": [
    "def make_features(data, max_lag, rolling_mean_size):\n",
    "    df = data.copy()\n",
    "    df['dayofweek'] = df.index.dayofweek\n",
    "    \n",
    "    for lag in range(1, max_lag + 1):\n",
    "        df['lag_{}'.format(lag)] = df['num_orders'].shift(lag)\n",
    "\n",
    "    df['rolling_mean'] = df['num_orders'].shift().rolling(rolling_mean_size).mean()\n",
    "    \n",
    "    return df"
   ]
  },
  {
   "cell_type": "code",
   "execution_count": 13,
   "metadata": {},
   "outputs": [],
   "source": [
    "df_new = make_features(df, 10, 10)"
   ]
  },
  {
   "cell_type": "code",
   "execution_count": 14,
   "metadata": {},
   "outputs": [
    {
     "data": {
      "text/html": [
       "<div>\n",
       "<style scoped>\n",
       "    .dataframe tbody tr th:only-of-type {\n",
       "        vertical-align: middle;\n",
       "    }\n",
       "\n",
       "    .dataframe tbody tr th {\n",
       "        vertical-align: top;\n",
       "    }\n",
       "\n",
       "    .dataframe thead th {\n",
       "        text-align: right;\n",
       "    }\n",
       "</style>\n",
       "<table border=\"1\" class=\"dataframe\">\n",
       "  <thead>\n",
       "    <tr style=\"text-align: right;\">\n",
       "      <th></th>\n",
       "      <th>num_orders</th>\n",
       "      <th>dayofweek</th>\n",
       "      <th>lag_1</th>\n",
       "      <th>lag_2</th>\n",
       "      <th>lag_3</th>\n",
       "      <th>lag_4</th>\n",
       "      <th>lag_5</th>\n",
       "      <th>lag_6</th>\n",
       "      <th>lag_7</th>\n",
       "      <th>lag_8</th>\n",
       "      <th>lag_9</th>\n",
       "      <th>lag_10</th>\n",
       "      <th>rolling_mean</th>\n",
       "    </tr>\n",
       "    <tr>\n",
       "      <th>datetime</th>\n",
       "      <th></th>\n",
       "      <th></th>\n",
       "      <th></th>\n",
       "      <th></th>\n",
       "      <th></th>\n",
       "      <th></th>\n",
       "      <th></th>\n",
       "      <th></th>\n",
       "      <th></th>\n",
       "      <th></th>\n",
       "      <th></th>\n",
       "      <th></th>\n",
       "      <th></th>\n",
       "    </tr>\n",
       "  </thead>\n",
       "  <tbody>\n",
       "    <tr>\n",
       "      <td>2018-03-01 00:00:00</td>\n",
       "      <td>124</td>\n",
       "      <td>3</td>\n",
       "      <td>NaN</td>\n",
       "      <td>NaN</td>\n",
       "      <td>NaN</td>\n",
       "      <td>NaN</td>\n",
       "      <td>NaN</td>\n",
       "      <td>NaN</td>\n",
       "      <td>NaN</td>\n",
       "      <td>NaN</td>\n",
       "      <td>NaN</td>\n",
       "      <td>NaN</td>\n",
       "      <td>NaN</td>\n",
       "    </tr>\n",
       "    <tr>\n",
       "      <td>2018-03-01 01:00:00</td>\n",
       "      <td>85</td>\n",
       "      <td>3</td>\n",
       "      <td>124.0</td>\n",
       "      <td>NaN</td>\n",
       "      <td>NaN</td>\n",
       "      <td>NaN</td>\n",
       "      <td>NaN</td>\n",
       "      <td>NaN</td>\n",
       "      <td>NaN</td>\n",
       "      <td>NaN</td>\n",
       "      <td>NaN</td>\n",
       "      <td>NaN</td>\n",
       "      <td>NaN</td>\n",
       "    </tr>\n",
       "    <tr>\n",
       "      <td>2018-03-01 02:00:00</td>\n",
       "      <td>71</td>\n",
       "      <td>3</td>\n",
       "      <td>85.0</td>\n",
       "      <td>124.0</td>\n",
       "      <td>NaN</td>\n",
       "      <td>NaN</td>\n",
       "      <td>NaN</td>\n",
       "      <td>NaN</td>\n",
       "      <td>NaN</td>\n",
       "      <td>NaN</td>\n",
       "      <td>NaN</td>\n",
       "      <td>NaN</td>\n",
       "      <td>NaN</td>\n",
       "    </tr>\n",
       "    <tr>\n",
       "      <td>2018-03-01 03:00:00</td>\n",
       "      <td>66</td>\n",
       "      <td>3</td>\n",
       "      <td>71.0</td>\n",
       "      <td>85.0</td>\n",
       "      <td>124.0</td>\n",
       "      <td>NaN</td>\n",
       "      <td>NaN</td>\n",
       "      <td>NaN</td>\n",
       "      <td>NaN</td>\n",
       "      <td>NaN</td>\n",
       "      <td>NaN</td>\n",
       "      <td>NaN</td>\n",
       "      <td>NaN</td>\n",
       "    </tr>\n",
       "    <tr>\n",
       "      <td>2018-03-01 04:00:00</td>\n",
       "      <td>43</td>\n",
       "      <td>3</td>\n",
       "      <td>66.0</td>\n",
       "      <td>71.0</td>\n",
       "      <td>85.0</td>\n",
       "      <td>124.0</td>\n",
       "      <td>NaN</td>\n",
       "      <td>NaN</td>\n",
       "      <td>NaN</td>\n",
       "      <td>NaN</td>\n",
       "      <td>NaN</td>\n",
       "      <td>NaN</td>\n",
       "      <td>NaN</td>\n",
       "    </tr>\n",
       "  </tbody>\n",
       "</table>\n",
       "</div>"
      ],
      "text/plain": [
       "                     num_orders  dayofweek  lag_1  lag_2  lag_3  lag_4  lag_5  \\\n",
       "datetime                                                                        \n",
       "2018-03-01 00:00:00         124          3    NaN    NaN    NaN    NaN    NaN   \n",
       "2018-03-01 01:00:00          85          3  124.0    NaN    NaN    NaN    NaN   \n",
       "2018-03-01 02:00:00          71          3   85.0  124.0    NaN    NaN    NaN   \n",
       "2018-03-01 03:00:00          66          3   71.0   85.0  124.0    NaN    NaN   \n",
       "2018-03-01 04:00:00          43          3   66.0   71.0   85.0  124.0    NaN   \n",
       "\n",
       "                     lag_6  lag_7  lag_8  lag_9  lag_10  rolling_mean  \n",
       "datetime                                                               \n",
       "2018-03-01 00:00:00    NaN    NaN    NaN    NaN     NaN           NaN  \n",
       "2018-03-01 01:00:00    NaN    NaN    NaN    NaN     NaN           NaN  \n",
       "2018-03-01 02:00:00    NaN    NaN    NaN    NaN     NaN           NaN  \n",
       "2018-03-01 03:00:00    NaN    NaN    NaN    NaN     NaN           NaN  \n",
       "2018-03-01 04:00:00    NaN    NaN    NaN    NaN     NaN           NaN  "
      ]
     },
     "execution_count": 14,
     "metadata": {},
     "output_type": "execute_result"
    }
   ],
   "source": [
    "df_new.head()"
   ]
  },
  {
   "cell_type": "code",
   "execution_count": 15,
   "metadata": {},
   "outputs": [],
   "source": [
    "train, test = train_test_split(df_new, shuffle=False, test_size=0.1)\n",
    "train = train.dropna()"
   ]
  },
  {
   "cell_type": "code",
   "execution_count": 16,
   "metadata": {},
   "outputs": [],
   "source": [
    "X_train = train.drop('num_orders', axis = 1)\n",
    "y_train = train['num_orders']\n",
    "X_test = test.drop('num_orders', axis = 1)\n",
    "y_test = test['num_orders']"
   ]
  },
  {
   "cell_type": "markdown",
   "metadata": {},
   "source": [
    "### ***Линейная регрессия***"
   ]
  },
  {
   "cell_type": "code",
   "execution_count": 17,
   "metadata": {},
   "outputs": [
    {
     "name": "stdout",
     "output_type": "stream",
     "text": [
      "RMSE на обучающей выборке: 31.26856904327208\n",
      "RMSE на тестовой выборке:  54.60984980574331\n"
     ]
    }
   ],
   "source": [
    "model = LinearRegression()\n",
    "model.fit(X_train, y_train)\n",
    "preds_train = model.predict(X_train)\n",
    "preds_test = model.predict(X_test)\n",
    "print(\"RMSE на обучающей выборке:\", mean_squared_error(y_train, preds_train) ** 0.5)\n",
    "print(\"RMSE на тестовой выборке: \", mean_squared_error(y_test, preds_test) ** 0.5)"
   ]
  },
  {
   "cell_type": "code",
   "execution_count": 18,
   "metadata": {},
   "outputs": [],
   "source": [
    "from sklearn.model_selection import TimeSeriesSplit\n",
    "tscv = TimeSeriesSplit()"
   ]
  },
  {
   "cell_type": "markdown",
   "metadata": {},
   "source": [
    "Подберем оптимальные параметры, чтобы улучшить качество модели."
   ]
  },
  {
   "cell_type": "code",
   "execution_count": 19,
   "metadata": {},
   "outputs": [
    {
     "name": "stdout",
     "output_type": "stream",
     "text": [
      "RMSE на тестовой выборке: 23.5642736943987\n",
      "максимальное смещение: 96\n",
      "размер скользящего окна: 91\n",
      "CPU times: user 2min 43s, sys: 2min 44s, total: 5min 28s\n",
      "Wall time: 5min 28s\n"
     ]
    }
   ],
   "source": [
    "%%time\n",
    "best_lag = 0\n",
    "best_roll_size = 0\n",
    "best_rmse = 74\n",
    "for lag in range(1, 101, 5):\n",
    "    for roll_size in range(1, 101, 5):\n",
    "\n",
    "        new_df = make_features(df, lag, roll_size)\n",
    "        train, test = train_test_split(new_df, shuffle=False, test_size=0.2)\n",
    "        train = train.dropna()\n",
    "        X_train = train.drop('num_orders', axis = 1)\n",
    "        y_train = train['num_orders']\n",
    "        X_test = test.drop('num_orders', axis = 1)\n",
    "        y_test = test['num_orders']\n",
    "\n",
    "        lr = LinearRegression()\n",
    "        lr.fit(X_train, y_train)\n",
    "        mse = cross_val_score(lr, X_train, y_train, cv=tscv, scoring='neg_mean_squared_error') \n",
    "        rmse = (-mse.mean()) ** 0.5\n",
    "        if rmse < best_rmse :\n",
    "            best_rmse = rmse\n",
    "            best_lag = lag\n",
    "            best_roll_size = roll_size\n",
    "print('RMSE на тестовой выборке:', best_rmse)\n",
    "print('максимальное смещение:',best_lag)\n",
    "print('размер скользящего окна:',best_roll_size)"
   ]
  },
  {
   "cell_type": "markdown",
   "metadata": {},
   "source": [
    "### ***Lasso***"
   ]
  },
  {
   "cell_type": "code",
   "execution_count": 20,
   "metadata": {},
   "outputs": [
    {
     "name": "stdout",
     "output_type": "stream",
     "text": [
      "RMSE на тестовой выборке: 23.470967705055045\n",
      "максимальное смещение: 96\n",
      "размер скользящего окна: 1\n",
      "Коэффициент регуляризации: 0.9000000000000001\n",
      "CPU times: user 20min 10s, sys: 19min 50s, total: 40min 1s\n",
      "Wall time: 40min 2s\n"
     ]
    }
   ],
   "source": [
    "%%time\n",
    "best_lag_ls = 0\n",
    "best_roll_size_ls = 0\n",
    "best_alpha_ls = 0\n",
    "best_rmse_ls = 74\n",
    "for lag in range(1, 101, 5):\n",
    "    for roll_size in range(1, 101, 5):\n",
    "        for alpha in np.arange(0.1, 1, 0.2):\n",
    "\n",
    "            new_df_1 = make_features(df, lag, roll_size)\n",
    "            train, test = train_test_split(new_df_1, shuffle=False, test_size=0.2)\n",
    "            train = train.dropna()\n",
    "            X_train = train.drop('num_orders', axis = 1)\n",
    "            y_train = train['num_orders']\n",
    "            X_test = test.drop('num_orders', axis = 1)\n",
    "            y_test = test['num_orders']\n",
    "                \n",
    "            ls = Lasso(alpha=alpha)\n",
    "            ls.fit(X_train, y_train)\n",
    "\n",
    "            mse = cross_val_score(ls, X_train, y_train, cv=tscv, scoring='neg_mean_squared_error') \n",
    "            rmse = (-mse.mean()) ** 0.5\n",
    "            if rmse < best_rmse_ls :\n",
    "                best_rmse_ls = rmse\n",
    "                best_lag_ls = lag\n",
    "                best_roll_size_ls = roll_size\n",
    "                best_alpha_ls = alpha\n",
    "print('RMSE на тестовой выборке:',best_rmse_ls)\n",
    "print('максимальное смещение:',best_lag_ls)\n",
    "print('размер скользящего окна:',best_roll_size_ls)\n",
    "print('Коэффициент регуляризации:',best_alpha_ls)"
   ]
  },
  {
   "cell_type": "markdown",
   "metadata": {},
   "source": [
    "### ***Ridge***"
   ]
  },
  {
   "cell_type": "code",
   "execution_count": 21,
   "metadata": {},
   "outputs": [
    {
     "name": "stdout",
     "output_type": "stream",
     "text": [
      "RMSE на тестовой выборке: 23.576746508510634\n",
      "максимальное смещение: 96\n",
      "размер скользящего окна: 6\n",
      "Коэффициент регуляризации: 0.9000000000000001\n",
      "CPU times: user 10min 28s, sys: 11min 15s, total: 21min 43s\n",
      "Wall time: 21min 44s\n"
     ]
    }
   ],
   "source": [
    "%%time\n",
    "best_lag_rd = 0\n",
    "best_roll_size_rd = 0\n",
    "best_alpha_rd = 0\n",
    "best_rmse_rd = 74\n",
    "for lag in range(1, 101, 5):\n",
    "    for roll_size in range(1, 101, 5):\n",
    "        for alpha in np.arange(0.1, 1, 0.2):\n",
    "\n",
    "            new_df_2 = make_features(df, lag, roll_size)\n",
    "            train, test = train_test_split(new_df_2, shuffle=False, test_size=0.2)\n",
    "            train = train.dropna()\n",
    "            X_train = train.drop('num_orders', axis = 1)\n",
    "            y_train = train['num_orders']\n",
    "            X_test = test.drop('num_orders', axis = 1)\n",
    "            y_test = test['num_orders']\n",
    "                \n",
    "            rd = Ridge(alpha=alpha)\n",
    "            rd.fit(X_train, y_train)\n",
    "\n",
    "            mse = cross_val_score(rd, X_train, y_train, cv=tscv, scoring='neg_mean_squared_error') \n",
    "            rmse = (-mse.mean()) ** 0.5\n",
    "            if rmse < best_rmse_rd :\n",
    "                best_rmse_rd = rmse\n",
    "                best_lag_rd = lag\n",
    "                best_roll_size_rd = roll_size\n",
    "                best_alpha_rd= alpha\n",
    "print('RMSE на тестовой выборке:',best_rmse_rd)\n",
    "print('максимальное смещение:',best_lag_rd)\n",
    "print('размер скользящего окна:',best_roll_size_rd)\n",
    "print('Коэффициент регуляризации:',best_alpha_rd)"
   ]
  },
  {
   "cell_type": "code",
   "execution_count": 22,
   "metadata": {},
   "outputs": [],
   "source": [
    "res = pd.DataFrame([['Baseline', round(rmse_base, 2), 1, 0, np.nan],\n",
    "                      ['Linear Regression', round(best_rmse, 2), best_lag, best_roll_size, np.nan],\n",
    "                      ['Lasso', round(best_rmse_ls, 2), best_lag_ls, best_roll_size_ls, best_alpha_ls],\n",
    "                      ['Ridge', round(best_rmse_rd, 2), best_lag_rd, best_roll_size_rd, best_alpha_rd]],\n",
    "                    columns = ['model', 'rmse', 'max_lag', 'roll_size', 'alpha'])"
   ]
  },
  {
   "cell_type": "code",
   "execution_count": 23,
   "metadata": {},
   "outputs": [
    {
     "data": {
      "text/html": [
       "<div>\n",
       "<style scoped>\n",
       "    .dataframe tbody tr th:only-of-type {\n",
       "        vertical-align: middle;\n",
       "    }\n",
       "\n",
       "    .dataframe tbody tr th {\n",
       "        vertical-align: top;\n",
       "    }\n",
       "\n",
       "    .dataframe thead th {\n",
       "        text-align: right;\n",
       "    }\n",
       "</style>\n",
       "<table border=\"1\" class=\"dataframe\">\n",
       "  <thead>\n",
       "    <tr style=\"text-align: right;\">\n",
       "      <th></th>\n",
       "      <th>model</th>\n",
       "      <th>rmse</th>\n",
       "      <th>max_lag</th>\n",
       "      <th>roll_size</th>\n",
       "      <th>alpha</th>\n",
       "    </tr>\n",
       "  </thead>\n",
       "  <tbody>\n",
       "    <tr>\n",
       "      <td>0</td>\n",
       "      <td>Baseline</td>\n",
       "      <td>53.37</td>\n",
       "      <td>1</td>\n",
       "      <td>0</td>\n",
       "      <td>NaN</td>\n",
       "    </tr>\n",
       "    <tr>\n",
       "      <td>1</td>\n",
       "      <td>Linear Regression</td>\n",
       "      <td>23.56</td>\n",
       "      <td>96</td>\n",
       "      <td>91</td>\n",
       "      <td>NaN</td>\n",
       "    </tr>\n",
       "    <tr>\n",
       "      <td>2</td>\n",
       "      <td>Lasso</td>\n",
       "      <td>23.47</td>\n",
       "      <td>96</td>\n",
       "      <td>1</td>\n",
       "      <td>0.9</td>\n",
       "    </tr>\n",
       "    <tr>\n",
       "      <td>3</td>\n",
       "      <td>Ridge</td>\n",
       "      <td>23.58</td>\n",
       "      <td>96</td>\n",
       "      <td>6</td>\n",
       "      <td>0.9</td>\n",
       "    </tr>\n",
       "  </tbody>\n",
       "</table>\n",
       "</div>"
      ],
      "text/plain": [
       "               model   rmse  max_lag  roll_size  alpha\n",
       "0           Baseline  53.37        1          0    NaN\n",
       "1  Linear Regression  23.56       96         91    NaN\n",
       "2              Lasso  23.47       96          1    0.9\n",
       "3              Ridge  23.58       96          6    0.9"
      ]
     },
     "execution_count": 23,
     "metadata": {},
     "output_type": "execute_result"
    }
   ],
   "source": [
    "res"
   ]
  },
  {
   "cell_type": "markdown",
   "metadata": {},
   "source": [
    "## Выводы"
   ]
  },
  {
   "cell_type": "markdown",
   "metadata": {},
   "source": [
    "1) Удалось достигнуть уменьшения RMSE по сравнению с baseline моделью.\n",
    "\n",
    "2) Все модели показывают примерно одинаковый результат RMSE 35.7.\n",
    "\n",
    "3) Не понятно почему у всех моделей максимальное смещение 1.!!!\n",
    "\n",
    "4) Наилучший результат даёт скользящее окно размером ~40-50 часов (около двух дней)"
   ]
  }
 ],
 "metadata": {
  "ExecuteTimeLog": [
   {
    "duration": 1539,
    "start_time": "2021-07-21T09:38:05.494Z"
   },
   {
    "duration": 47,
    "start_time": "2021-07-21T09:38:25.277Z"
   },
   {
    "duration": 15,
    "start_time": "2021-07-21T09:38:32.166Z"
   },
   {
    "duration": 12,
    "start_time": "2021-07-21T09:38:42.294Z"
   },
   {
    "duration": 16,
    "start_time": "2021-07-21T09:39:03.565Z"
   },
   {
    "duration": 6,
    "start_time": "2021-07-21T09:39:20.166Z"
   },
   {
    "duration": 413,
    "start_time": "2021-07-21T09:40:32.875Z"
   },
   {
    "duration": 2060,
    "start_time": "2021-07-21T09:40:42.553Z"
   },
   {
    "duration": 523,
    "start_time": "2021-07-21T09:41:50.840Z"
   },
   {
    "duration": 2095,
    "start_time": "2021-07-21T09:42:45.782Z"
   },
   {
    "duration": 286,
    "start_time": "2021-07-21T09:43:21.312Z"
   },
   {
    "duration": 562,
    "start_time": "2021-07-21T09:43:26.298Z"
   },
   {
    "duration": 15,
    "start_time": "2021-07-21T09:43:58.388Z"
   },
   {
    "duration": 7,
    "start_time": "2021-07-21T09:44:13.079Z"
   },
   {
    "duration": 5,
    "start_time": "2021-07-21T09:45:29.980Z"
   },
   {
    "duration": 19,
    "start_time": "2021-07-21T09:46:26.678Z"
   },
   {
    "duration": 23,
    "start_time": "2021-07-21T09:46:38.394Z"
   },
   {
    "duration": 12,
    "start_time": "2021-07-21T09:47:07.634Z"
   },
   {
    "duration": 7,
    "start_time": "2021-07-21T09:47:23.297Z"
   },
   {
    "duration": 105,
    "start_time": "2021-07-21T09:48:01.903Z"
   },
   {
    "duration": 115144,
    "start_time": "2021-07-21T09:48:43.166Z"
   },
   {
    "duration": 157434,
    "start_time": "2021-07-21T09:53:03.272Z"
   },
   {
    "duration": 8,
    "start_time": "2021-07-21T09:58:52.435Z"
   },
   {
    "duration": 196,
    "start_time": "2021-07-21T10:00:42.060Z"
   },
   {
    "duration": 9,
    "start_time": "2021-07-21T10:00:45.517Z"
   },
   {
    "duration": 671,
    "start_time": "2021-07-21T10:00:46.127Z"
   },
   {
    "duration": 473,
    "start_time": "2021-07-21T10:01:30.652Z"
   },
   {
    "duration": 8,
    "start_time": "2021-07-21T10:01:41.422Z"
   },
   {
    "duration": 462,
    "start_time": "2021-07-21T10:01:46.934Z"
   },
   {
    "duration": 10,
    "start_time": "2021-07-21T10:03:10.389Z"
   },
   {
    "duration": 676753,
    "start_time": "2021-07-21T10:03:11.173Z"
   },
   {
    "duration": 45036,
    "start_time": "2021-07-21T10:15:01.027Z"
   },
   {
    "duration": 9,
    "start_time": "2021-07-21T10:15:56.496Z"
   },
   {
    "duration": 450,
    "start_time": "2021-07-21T10:15:56.953Z"
   },
   {
    "duration": 159441,
    "start_time": "2021-07-21T10:17:07.167Z"
   },
   {
    "duration": 158563,
    "start_time": "2021-07-21T10:20:40.044Z"
   },
   {
    "duration": 10,
    "start_time": "2021-07-21T10:23:52.002Z"
   },
   {
    "duration": 453,
    "start_time": "2021-07-21T10:23:57.973Z"
   },
   {
    "duration": 1178,
    "start_time": "2021-07-21T10:25:22.093Z"
   },
   {
    "duration": 313,
    "start_time": "2021-07-21T10:25:59.283Z"
   },
   {
    "duration": 8,
    "start_time": "2021-07-21T10:26:41.093Z"
   },
   {
    "duration": 23775,
    "start_time": "2021-07-21T10:27:18.124Z"
   },
   {
    "duration": 379362,
    "start_time": "2021-07-21T10:27:57.918Z"
   },
   {
    "duration": 45585,
    "start_time": "2021-07-21T10:34:20.855Z"
   },
   {
    "duration": 12601,
    "start_time": "2021-07-21T10:35:21.897Z"
   },
   {
    "duration": 163055,
    "start_time": "2021-07-21T10:35:40.252Z"
   },
   {
    "duration": 481320,
    "start_time": "2021-07-21T10:38:27.798Z"
   },
   {
    "duration": 10897,
    "start_time": "2021-07-21T10:46:48.210Z"
   },
   {
    "duration": 5294,
    "start_time": "2021-07-21T10:47:19.809Z"
   },
   {
    "duration": 1146655,
    "start_time": "2021-07-21T10:47:52.249Z"
   },
   {
    "duration": 591091,
    "start_time": "2021-07-21T11:06:58.910Z"
   },
   {
    "duration": 329,
    "start_time": "2021-07-21T11:19:26.337Z"
   },
   {
    "duration": 300,
    "start_time": "2021-07-21T11:19:37.749Z"
   },
   {
    "duration": 8,
    "start_time": "2021-07-21T11:19:43.290Z"
   },
   {
    "duration": 12,
    "start_time": "2021-07-21T11:19:46.188Z"
   },
   {
    "duration": 1440,
    "start_time": "2021-07-21T11:27:10.162Z"
   },
   {
    "duration": 1523,
    "start_time": "2021-07-21T11:27:22.682Z"
   },
   {
    "duration": 13447,
    "start_time": "2021-07-21T11:27:38.956Z"
   },
   {
    "duration": 21172,
    "start_time": "2021-07-21T11:28:15.734Z"
   },
   {
    "duration": 8,
    "start_time": "2021-07-21T14:26:22.855Z"
   },
   {
    "duration": 424,
    "start_time": "2021-07-21T14:26:26.652Z"
   },
   {
    "duration": 1514,
    "start_time": "2021-07-21T14:26:31.626Z"
   },
   {
    "duration": 46,
    "start_time": "2021-07-21T14:26:33.143Z"
   },
   {
    "duration": 13,
    "start_time": "2021-07-21T14:26:33.192Z"
   },
   {
    "duration": 11,
    "start_time": "2021-07-21T14:26:33.207Z"
   },
   {
    "duration": 13,
    "start_time": "2021-07-21T14:26:33.220Z"
   },
   {
    "duration": 51,
    "start_time": "2021-07-21T14:26:33.235Z"
   },
   {
    "duration": 1953,
    "start_time": "2021-07-21T14:26:34.144Z"
   },
   {
    "duration": 547,
    "start_time": "2021-07-21T14:26:36.100Z"
   },
   {
    "duration": 649,
    "start_time": "2021-07-21T14:26:36.650Z"
   },
   {
    "duration": 14,
    "start_time": "2021-07-21T14:26:38.779Z"
   },
   {
    "duration": 8,
    "start_time": "2021-07-21T14:26:39.657Z"
   },
   {
    "duration": 5,
    "start_time": "2021-07-21T14:26:41.099Z"
   },
   {
    "duration": 22,
    "start_time": "2021-07-21T14:26:43.970Z"
   },
   {
    "duration": 22,
    "start_time": "2021-07-21T14:26:49.063Z"
   },
   {
    "duration": 10,
    "start_time": "2021-07-21T14:26:50.074Z"
   },
   {
    "duration": 8,
    "start_time": "2021-07-21T14:26:50.645Z"
   },
   {
    "duration": 16,
    "start_time": "2021-07-21T14:26:54.139Z"
   },
   {
    "duration": 109603,
    "start_time": "2021-07-21T14:28:46.781Z"
   },
   {
    "duration": 436,
    "start_time": "2021-07-21T14:36:44.606Z"
   },
   {
    "duration": 4,
    "start_time": "2021-07-21T14:36:52.740Z"
   },
   {
    "duration": 240,
    "start_time": "2021-07-21T14:37:32.749Z"
   },
   {
    "duration": 225,
    "start_time": "2021-07-21T14:37:57.910Z"
   },
   {
    "duration": 241,
    "start_time": "2021-07-21T14:38:19.534Z"
   },
   {
    "duration": 417,
    "start_time": "2021-07-21T14:43:17.998Z"
   },
   {
    "duration": 423,
    "start_time": "2021-07-21T14:43:24.784Z"
   },
   {
    "duration": 414133,
    "start_time": "2021-07-21T14:43:32.306Z"
   },
   {
    "duration": 4572,
    "start_time": "2021-07-21T14:50:40.213Z"
   },
   {
    "duration": 556376,
    "start_time": "2021-07-21T14:50:59.320Z"
   },
   {
    "duration": 4574,
    "start_time": "2021-07-21T15:04:57.016Z"
   },
   {
    "duration": 5777,
    "start_time": "2021-07-21T15:05:20.947Z"
   },
   {
    "duration": 5886,
    "start_time": "2021-07-21T15:05:34.001Z"
   },
   {
    "duration": 4535,
    "start_time": "2021-07-21T15:06:52.046Z"
   },
   {
    "duration": 4285,
    "start_time": "2021-07-21T15:07:01.205Z"
   },
   {
    "duration": 478972,
    "start_time": "2021-07-21T15:07:21.609Z"
   },
   {
    "duration": 1494,
    "start_time": "2021-07-22T07:18:23.239Z"
   },
   {
    "duration": 47,
    "start_time": "2021-07-22T07:18:24.735Z"
   },
   {
    "duration": 16,
    "start_time": "2021-07-22T07:18:24.785Z"
   },
   {
    "duration": 13,
    "start_time": "2021-07-22T07:18:24.805Z"
   },
   {
    "duration": 20,
    "start_time": "2021-07-22T07:18:24.821Z"
   },
   {
    "duration": 42,
    "start_time": "2021-07-22T07:18:24.844Z"
   },
   {
    "duration": 1992,
    "start_time": "2021-07-22T07:18:24.888Z"
   },
   {
    "duration": 538,
    "start_time": "2021-07-22T07:18:26.886Z"
   },
   {
    "duration": 778,
    "start_time": "2021-07-22T07:18:27.427Z"
   },
   {
    "duration": 14,
    "start_time": "2021-07-22T07:18:28.207Z"
   },
   {
    "duration": 22,
    "start_time": "2021-07-22T07:18:28.223Z"
   },
   {
    "duration": 19,
    "start_time": "2021-07-22T07:18:28.248Z"
   },
   {
    "duration": 35,
    "start_time": "2021-07-22T07:18:28.270Z"
   },
   {
    "duration": 22,
    "start_time": "2021-07-22T07:18:28.308Z"
   },
   {
    "duration": 12,
    "start_time": "2021-07-22T07:18:28.333Z"
   },
   {
    "duration": 6,
    "start_time": "2021-07-22T07:18:28.348Z"
   },
   {
    "duration": 131,
    "start_time": "2021-07-22T07:18:28.357Z"
   },
   {
    "duration": 102,
    "start_time": "2021-07-22T07:18:28.492Z"
   },
   {
    "duration": 309492,
    "start_time": "2021-07-22T07:18:28.596Z"
   },
   {
    "duration": 1195396,
    "start_time": "2021-07-22T07:23:38.092Z"
   },
   {
    "duration": 584299,
    "start_time": "2021-07-22T07:43:33.492Z"
   },
   {
    "duration": 94,
    "start_time": "2021-07-22T07:53:17.794Z"
   },
   {
    "duration": 15,
    "start_time": "2021-07-22T07:53:17.892Z"
   },
   {
    "duration": 28381,
    "start_time": "2021-07-22T07:59:14.819Z"
   },
   {
    "duration": 483084,
    "start_time": "2021-07-22T07:59:52.503Z"
   },
   {
    "duration": 1566,
    "start_time": "2021-07-22T08:11:26.566Z"
   },
   {
    "duration": 53,
    "start_time": "2021-07-22T08:11:28.135Z"
   },
   {
    "duration": 15,
    "start_time": "2021-07-22T08:11:28.191Z"
   },
   {
    "duration": 11,
    "start_time": "2021-07-22T08:11:28.209Z"
   },
   {
    "duration": 13,
    "start_time": "2021-07-22T08:11:28.222Z"
   },
   {
    "duration": 4,
    "start_time": "2021-07-22T08:11:28.238Z"
   },
   {
    "duration": 1980,
    "start_time": "2021-07-22T08:11:28.244Z"
   },
   {
    "duration": 602,
    "start_time": "2021-07-22T08:11:30.228Z"
   },
   {
    "duration": 786,
    "start_time": "2021-07-22T08:11:30.834Z"
   },
   {
    "duration": 14,
    "start_time": "2021-07-22T08:11:31.622Z"
   },
   {
    "duration": 12,
    "start_time": "2021-07-22T08:11:31.639Z"
   },
   {
    "duration": 40,
    "start_time": "2021-07-22T08:11:31.653Z"
   },
   {
    "duration": 37,
    "start_time": "2021-07-22T08:11:31.696Z"
   },
   {
    "duration": 21,
    "start_time": "2021-07-22T08:11:31.736Z"
   },
   {
    "duration": 18,
    "start_time": "2021-07-22T08:11:31.759Z"
   },
   {
    "duration": 11,
    "start_time": "2021-07-22T08:11:31.780Z"
   },
   {
    "duration": 91,
    "start_time": "2021-07-22T08:11:31.794Z"
   },
   {
    "duration": 96,
    "start_time": "2021-07-22T08:11:31.889Z"
   },
   {
    "duration": 1491,
    "start_time": "2021-07-22T08:13:04.628Z"
   },
   {
    "duration": 47,
    "start_time": "2021-07-22T08:13:06.122Z"
   },
   {
    "duration": 21,
    "start_time": "2021-07-22T08:13:06.172Z"
   },
   {
    "duration": 13,
    "start_time": "2021-07-22T08:13:06.196Z"
   },
   {
    "duration": 13,
    "start_time": "2021-07-22T08:13:06.212Z"
   },
   {
    "duration": 5,
    "start_time": "2021-07-22T08:13:06.228Z"
   },
   {
    "duration": 1932,
    "start_time": "2021-07-22T08:13:06.236Z"
   },
   {
    "duration": 505,
    "start_time": "2021-07-22T08:13:08.172Z"
   },
   {
    "duration": 792,
    "start_time": "2021-07-22T08:13:08.680Z"
   },
   {
    "duration": 21,
    "start_time": "2021-07-22T08:13:09.475Z"
   },
   {
    "duration": 8,
    "start_time": "2021-07-22T08:13:09.499Z"
   },
   {
    "duration": 7,
    "start_time": "2021-07-22T08:13:09.510Z"
   },
   {
    "duration": 66,
    "start_time": "2021-07-22T08:13:09.519Z"
   },
   {
    "duration": 23,
    "start_time": "2021-07-22T08:13:09.588Z"
   },
   {
    "duration": 13,
    "start_time": "2021-07-22T08:13:09.614Z"
   },
   {
    "duration": 6,
    "start_time": "2021-07-22T08:13:09.629Z"
   },
   {
    "duration": 154,
    "start_time": "2021-07-22T08:13:09.638Z"
   },
   {
    "duration": 92,
    "start_time": "2021-07-22T08:13:09.795Z"
   },
   {
    "duration": 328704,
    "start_time": "2021-07-22T08:13:09.890Z"
   },
   {
    "duration": 2402793,
    "start_time": "2021-07-22T08:18:38.598Z"
   },
   {
    "duration": 1304193,
    "start_time": "2021-07-22T08:58:41.394Z"
   },
   {
    "duration": 95,
    "start_time": "2021-07-22T09:20:25.591Z"
   },
   {
    "duration": 18,
    "start_time": "2021-07-22T09:20:25.691Z"
   }
  ],
  "kernelspec": {
   "display_name": "Python 3",
   "language": "python",
   "name": "python3"
  },
  "language_info": {
   "codemirror_mode": {
    "name": "ipython",
    "version": 3
   },
   "file_extension": ".py",
   "mimetype": "text/x-python",
   "name": "python",
   "nbconvert_exporter": "python",
   "pygments_lexer": "ipython3",
   "version": "3.7.8"
  },
  "toc": {
   "base_numbering": 1,
   "nav_menu": {},
   "number_sections": true,
   "sideBar": true,
   "skip_h1_title": true,
   "title_cell": "Содержание",
   "title_sidebar": "Contents",
   "toc_cell": true,
   "toc_position": {},
   "toc_section_display": true,
   "toc_window_display": false
  }
 },
 "nbformat": 4,
 "nbformat_minor": 2
}
