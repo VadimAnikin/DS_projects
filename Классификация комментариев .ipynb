{
 "cells": [
  {
   "cell_type": "markdown",
   "metadata": {
    "toc": true
   },
   "source": [
    "<h1>Содержание<span class=\"tocSkip\"></span></h1>\n",
    "<div class=\"toc\"><ul class=\"toc-item\"><li><span><a href=\"#Подготовка\" data-toc-modified-id=\"Подготовка-1\"><span class=\"toc-item-num\">1&nbsp;&nbsp;</span>Подготовка</a></span></li><li><span><a href=\"#Обучение\" data-toc-modified-id=\"Обучение-2\"><span class=\"toc-item-num\">2&nbsp;&nbsp;</span>Обучение</a></span></li><li><span><a href=\"#Тестирование\" data-toc-modified-id=\"Тестирование-3\"><span class=\"toc-item-num\">3&nbsp;&nbsp;</span>Тестирование</a></span></li><li><span><a href=\"#Выводы\" data-toc-modified-id=\"Выводы-4\"><span class=\"toc-item-num\">4&nbsp;&nbsp;</span>Выводы</a></span></li><li><span><a href=\"#Чек-лист-проверки\" data-toc-modified-id=\"Чек-лист-проверки-5\"><span class=\"toc-item-num\">5&nbsp;&nbsp;</span>Чек-лист проверки</a></span></li></ul></div>"
   ]
  },
  {
   "cell_type": "markdown",
   "metadata": {},
   "source": [
    "# Проект для «Викишоп»"
   ]
  },
  {
   "cell_type": "markdown",
   "metadata": {},
   "source": [
    "Интернет-магазин «Викишоп» запускает новый сервис. Теперь пользователи могут редактировать и дополнять описания товаров, как в вики-сообществах. То есть клиенты предлагают свои правки и комментируют изменения других. Магазину нужен инструмент, который будет искать токсичные комментарии и отправлять их на модерацию. \n",
    "\n",
    "Обучите модель классифицировать комментарии на позитивные и негативные. В вашем распоряжении набор данных с разметкой о токсичности правок.\n",
    "\n",
    "Постройте модель со значением метрики качества *F1* не меньше 0.75. \n",
    "\n",
    "**Инструкция по выполнению проекта**\n",
    "\n",
    "1. Загрузите и подготовьте данные.\n",
    "2. Обучите разные модели. \n",
    "3. Сделайте выводы.\n",
    "\n",
    "Для выполнения проекта применять *BERT* необязательно, но вы можете попробовать.\n",
    "\n",
    "**Описание данных**\n",
    "\n",
    "Данные находятся в файле `toxic_comments.csv`. Столбец *text* в нём содержит текст комментария, а *toxic* — целевой признак."
   ]
  },
  {
   "cell_type": "markdown",
   "metadata": {},
   "source": [
    "## Подготовка"
   ]
  },
  {
   "cell_type": "code",
   "execution_count": 1,
   "metadata": {},
   "outputs": [
    {
     "name": "stderr",
     "output_type": "stream",
     "text": [
      "[nltk_data] Downloading package wordnet to /home/jovyan/nltk_data...\n",
      "[nltk_data]   Package wordnet is already up-to-date!\n",
      "[nltk_data] Downloading package punkt to /home/jovyan/nltk_data...\n",
      "[nltk_data]   Package punkt is already up-to-date!\n",
      "[nltk_data] Downloading package stopwords to /home/jovyan/nltk_data...\n",
      "[nltk_data]   Package stopwords is already up-to-date!\n"
     ]
    }
   ],
   "source": [
    "import pandas as pd\n",
    "import numpy as np\n",
    "import re\n",
    "from sklearn.feature_extraction.text import TfidfVectorizer, CountVectorizer\n",
    "from sklearn.utils import shuffle\n",
    "import nltk\n",
    "from nltk.corpus import stopwords as nltk_stopwords\n",
    "from nltk.stem import WordNetLemmatizer\n",
    "nltk.download('wordnet')\n",
    "nltk.download('punkt')\n",
    "nltk.download('stopwords')\n",
    "from sklearn.model_selection import train_test_split, cross_val_score, GridSearchCV\n",
    "from sklearn.linear_model import LogisticRegression\n",
    "from sklearn.svm import LinearSVC\n",
    "from sklearn.metrics import f1_score, accuracy_score\n",
    "import torch\n",
    "import transformers\n",
    "from tqdm import notebook"
   ]
  },
  {
   "cell_type": "code",
   "execution_count": 2,
   "metadata": {},
   "outputs": [],
   "source": [
    "df = pd.read_csv(\"/datasets/toxic_comments.csv\")"
   ]
  },
  {
   "cell_type": "code",
   "execution_count": 3,
   "metadata": {},
   "outputs": [
    {
     "data": {
      "text/html": [
       "<div>\n",
       "<style scoped>\n",
       "    .dataframe tbody tr th:only-of-type {\n",
       "        vertical-align: middle;\n",
       "    }\n",
       "\n",
       "    .dataframe tbody tr th {\n",
       "        vertical-align: top;\n",
       "    }\n",
       "\n",
       "    .dataframe thead th {\n",
       "        text-align: right;\n",
       "    }\n",
       "</style>\n",
       "<table border=\"1\" class=\"dataframe\">\n",
       "  <thead>\n",
       "    <tr style=\"text-align: right;\">\n",
       "      <th></th>\n",
       "      <th>text</th>\n",
       "      <th>toxic</th>\n",
       "    </tr>\n",
       "  </thead>\n",
       "  <tbody>\n",
       "    <tr>\n",
       "      <td>0</td>\n",
       "      <td>Explanation\\nWhy the edits made under my usern...</td>\n",
       "      <td>0</td>\n",
       "    </tr>\n",
       "    <tr>\n",
       "      <td>1</td>\n",
       "      <td>D'aww! He matches this background colour I'm s...</td>\n",
       "      <td>0</td>\n",
       "    </tr>\n",
       "    <tr>\n",
       "      <td>2</td>\n",
       "      <td>Hey man, I'm really not trying to edit war. It...</td>\n",
       "      <td>0</td>\n",
       "    </tr>\n",
       "    <tr>\n",
       "      <td>3</td>\n",
       "      <td>\"\\nMore\\nI can't make any real suggestions on ...</td>\n",
       "      <td>0</td>\n",
       "    </tr>\n",
       "    <tr>\n",
       "      <td>4</td>\n",
       "      <td>You, sir, are my hero. Any chance you remember...</td>\n",
       "      <td>0</td>\n",
       "    </tr>\n",
       "  </tbody>\n",
       "</table>\n",
       "</div>"
      ],
      "text/plain": [
       "                                                text  toxic\n",
       "0  Explanation\\nWhy the edits made under my usern...      0\n",
       "1  D'aww! He matches this background colour I'm s...      0\n",
       "2  Hey man, I'm really not trying to edit war. It...      0\n",
       "3  \"\\nMore\\nI can't make any real suggestions on ...      0\n",
       "4  You, sir, are my hero. Any chance you remember...      0"
      ]
     },
     "execution_count": 3,
     "metadata": {},
     "output_type": "execute_result"
    }
   ],
   "source": [
    "df.head()"
   ]
  },
  {
   "cell_type": "code",
   "execution_count": 4,
   "metadata": {},
   "outputs": [
    {
     "name": "stdout",
     "output_type": "stream",
     "text": [
      "<class 'pandas.core.frame.DataFrame'>\n",
      "RangeIndex: 159571 entries, 0 to 159570\n",
      "Data columns (total 2 columns):\n",
      "text     159571 non-null object\n",
      "toxic    159571 non-null int64\n",
      "dtypes: int64(1), object(1)\n",
      "memory usage: 2.4+ MB\n"
     ]
    }
   ],
   "source": [
    "df.info()"
   ]
  },
  {
   "cell_type": "code",
   "execution_count": 5,
   "metadata": {},
   "outputs": [
    {
     "data": {
      "text/plain": [
       "(159571, 2)"
      ]
     },
     "execution_count": 5,
     "metadata": {},
     "output_type": "execute_result"
    }
   ],
   "source": [
    "df.shape"
   ]
  },
  {
   "cell_type": "code",
   "execution_count": 6,
   "metadata": {
    "scrolled": true
   },
   "outputs": [
    {
     "data": {
      "text/plain": [
       "0    143346\n",
       "1     16225\n",
       "Name: toxic, dtype: int64"
      ]
     },
     "execution_count": 6,
     "metadata": {},
     "output_type": "execute_result"
    }
   ],
   "source": [
    "df['toxic'].value_counts()"
   ]
  },
  {
   "cell_type": "markdown",
   "metadata": {},
   "source": [
    "Подготовим данные для векторизации.\n",
    "\n",
    "Для этого проведём кодировку символов к Unicode,\n",
    "\n",
    "проведём лемматизацию слов,\n",
    "\n",
    "удалим пробелы, пунктуацию и стоп-слова.\n",
    "\n"
   ]
  },
  {
   "cell_type": "code",
   "execution_count": 7,
   "metadata": {},
   "outputs": [],
   "source": [
    "corpus = df['text'].values.astype('U')"
   ]
  },
  {
   "cell_type": "code",
   "execution_count": 8,
   "metadata": {},
   "outputs": [],
   "source": [
    "lemmatizer = WordNetLemmatizer()\n",
    "def lemmatize(text):\n",
    "    word_list = nltk.word_tokenize(text)\n",
    "    lemmatized_output = ' '.join([lemmatizer.lemmatize(w) for w in word_list])\n",
    "    return lemmatized_output\n",
    "\n",
    "def clear_text(text):\n",
    "    text = re.sub(r'[^a-zA-Z ]', ' ', text)\n",
    "    return \" \".join(text.split())"
   ]
  },
  {
   "cell_type": "code",
   "execution_count": 22,
   "metadata": {},
   "outputs": [],
   "source": [
    "corpus_clear = [lemmatize(clear_text(corpus[i])) for i in range(len(corpus))]"
   ]
  },
  {
   "cell_type": "code",
   "execution_count": 23,
   "metadata": {},
   "outputs": [],
   "source": [
    "stopwords = set(nltk_stopwords.words('english'))"
   ]
  },
  {
   "cell_type": "markdown",
   "metadata": {},
   "source": [
    "Разделим данные на тестовую и тренировочную выборки."
   ]
  },
  {
   "cell_type": "code",
   "execution_count": 24,
   "metadata": {},
   "outputs": [],
   "source": [
    "X_train, X_test, y_train, y_test = train_test_split(corpus_clear, df['toxic'], test_size=0.2, random_state=12345)"
   ]
  },
  {
   "cell_type": "markdown",
   "metadata": {},
   "source": [
    "Проведём векторизацию с помощью TfidfVectorizer, а также удалим стоп-слова"
   ]
  },
  {
   "cell_type": "code",
   "execution_count": 25,
   "metadata": {},
   "outputs": [],
   "source": [
    "tf_idf = TfidfVectorizer(stop_words=stopwords)"
   ]
  },
  {
   "cell_type": "code",
   "execution_count": 26,
   "metadata": {},
   "outputs": [],
   "source": [
    "X_train_vec = tf_idf.fit_transform(X_train)"
   ]
  },
  {
   "cell_type": "code",
   "execution_count": 27,
   "metadata": {},
   "outputs": [],
   "source": [
    "X_test_vec = tf_idf.transform(X_test)"
   ]
  },
  {
   "cell_type": "code",
   "execution_count": 28,
   "metadata": {
    "scrolled": true
   },
   "outputs": [
    {
     "name": "stdout",
     "output_type": "stream",
     "text": [
      "Размер тренировочного датасета: (127656, 144110)\n",
      "Размер тренировочного датасета: (31915, 144110)\n"
     ]
    }
   ],
   "source": [
    "print('Размер тренировочного датасета:',X_train_vec.shape)\n",
    "print('Размер тренировочного датасета:',X_test_vec.shape)"
   ]
  },
  {
   "cell_type": "markdown",
   "metadata": {},
   "source": [
    "Данные подготовленные к обучению"
   ]
  },
  {
   "cell_type": "markdown",
   "metadata": {},
   "source": [
    "## Обучение"
   ]
  },
  {
   "cell_type": "markdown",
   "metadata": {},
   "source": [
    "Найдём метрику accuracy для константной модели. Эта модель будет всегда предсказывать 0"
   ]
  },
  {
   "cell_type": "code",
   "execution_count": 29,
   "metadata": {},
   "outputs": [
    {
     "name": "stdout",
     "output_type": "stream",
     "text": [
      "Accuracy константной модели: 0.9\n"
     ]
    }
   ],
   "source": [
    "base = pd.Series(data=np.zeros((len(y_test))), index=y_test.index, dtype='int16')\n",
    "base_accuacy = accuracy_score(y_test, base)\n",
    "print('Accuracy константной модели:',round(base_accuacy,2))"
   ]
  },
  {
   "cell_type": "code",
   "execution_count": 30,
   "metadata": {
    "scrolled": true
   },
   "outputs": [
    {
     "name": "stdout",
     "output_type": "stream",
     "text": [
      "Fitting 5 folds for each of 11 candidates, totalling 55 fits\n",
      "[CV] C=10.0, max_iter=1000 ...........................................\n"
     ]
    },
    {
     "name": "stderr",
     "output_type": "stream",
     "text": [
      "[Parallel(n_jobs=-1)]: Using backend SequentialBackend with 1 concurrent workers.\n",
      "/opt/conda/lib/python3.7/site-packages/sklearn/linear_model/logistic.py:432: FutureWarning: Default solver will be changed to 'lbfgs' in 0.22. Specify a solver to silence this warning.\n",
      "  FutureWarning)\n"
     ]
    },
    {
     "name": "stdout",
     "output_type": "stream",
     "text": [
      "[CV] ............................ C=10.0, max_iter=1000, total=  16.1s\n",
      "[CV] C=10.0, max_iter=1000 ...........................................\n"
     ]
    },
    {
     "name": "stderr",
     "output_type": "stream",
     "text": [
      "[Parallel(n_jobs=-1)]: Done   1 out of   1 | elapsed:   16.1s remaining:    0.0s\n"
     ]
    },
    {
     "name": "stdout",
     "output_type": "stream",
     "text": [
      "[CV] ............................ C=10.0, max_iter=1000, total=  16.3s\n",
      "[CV] C=10.0, max_iter=1000 ...........................................\n",
      "[CV] ............................ C=10.0, max_iter=1000, total=  15.8s\n",
      "[CV] C=10.0, max_iter=1000 ...........................................\n",
      "[CV] ............................ C=10.0, max_iter=1000, total=  15.9s\n",
      "[CV] C=10.0, max_iter=1000 ...........................................\n",
      "[CV] ............................ C=10.0, max_iter=1000, total=  16.8s\n",
      "[CV] C=11.0, max_iter=1000 ...........................................\n",
      "[CV] ............................ C=11.0, max_iter=1000, total=  15.8s\n",
      "[CV] C=11.0, max_iter=1000 ...........................................\n",
      "[CV] ............................ C=11.0, max_iter=1000, total=  15.8s\n",
      "[CV] C=11.0, max_iter=1000 ...........................................\n",
      "[CV] ............................ C=11.0, max_iter=1000, total=  15.5s\n",
      "[CV] C=11.0, max_iter=1000 ...........................................\n",
      "[CV] ............................ C=11.0, max_iter=1000, total=  15.6s\n",
      "[CV] C=11.0, max_iter=1000 ...........................................\n",
      "[CV] ............................ C=11.0, max_iter=1000, total=  16.4s\n",
      "[CV] C=12.0, max_iter=1000 ...........................................\n",
      "[CV] ............................ C=12.0, max_iter=1000, total=  14.7s\n",
      "[CV] C=12.0, max_iter=1000 ...........................................\n",
      "[CV] ............................ C=12.0, max_iter=1000, total=  15.6s\n",
      "[CV] C=12.0, max_iter=1000 ...........................................\n",
      "[CV] ............................ C=12.0, max_iter=1000, total=  15.2s\n",
      "[CV] C=12.0, max_iter=1000 ...........................................\n",
      "[CV] ............................ C=12.0, max_iter=1000, total=  15.0s\n",
      "[CV] C=12.0, max_iter=1000 ...........................................\n",
      "[CV] ............................ C=12.0, max_iter=1000, total=  15.2s\n",
      "[CV] C=13.0, max_iter=1000 ...........................................\n",
      "[CV] ............................ C=13.0, max_iter=1000, total=  15.0s\n",
      "[CV] C=13.0, max_iter=1000 ...........................................\n",
      "[CV] ............................ C=13.0, max_iter=1000, total=  15.8s\n",
      "[CV] C=13.0, max_iter=1000 ...........................................\n",
      "[CV] ............................ C=13.0, max_iter=1000, total=  16.0s\n",
      "[CV] C=13.0, max_iter=1000 ...........................................\n",
      "[CV] ............................ C=13.0, max_iter=1000, total=  15.3s\n",
      "[CV] C=13.0, max_iter=1000 ...........................................\n",
      "[CV] ............................ C=13.0, max_iter=1000, total=  15.0s\n",
      "[CV] C=14.0, max_iter=1000 ...........................................\n",
      "[CV] ............................ C=14.0, max_iter=1000, total=  14.9s\n",
      "[CV] C=14.0, max_iter=1000 ...........................................\n",
      "[CV] ............................ C=14.0, max_iter=1000, total=  15.9s\n",
      "[CV] C=14.0, max_iter=1000 ...........................................\n",
      "[CV] ............................ C=14.0, max_iter=1000, total=  15.2s\n",
      "[CV] C=14.0, max_iter=1000 ...........................................\n",
      "[CV] ............................ C=14.0, max_iter=1000, total=  15.2s\n",
      "[CV] C=14.0, max_iter=1000 ...........................................\n",
      "[CV] ............................ C=14.0, max_iter=1000, total=  15.0s\n",
      "[CV] C=15.0, max_iter=1000 ...........................................\n",
      "[CV] ............................ C=15.0, max_iter=1000, total=  14.7s\n",
      "[CV] C=15.0, max_iter=1000 ...........................................\n",
      "[CV] ............................ C=15.0, max_iter=1000, total=  15.6s\n",
      "[CV] C=15.0, max_iter=1000 ...........................................\n",
      "[CV] ............................ C=15.0, max_iter=1000, total=  15.2s\n",
      "[CV] C=15.0, max_iter=1000 ...........................................\n",
      "[CV] ............................ C=15.0, max_iter=1000, total=  14.6s\n",
      "[CV] C=15.0, max_iter=1000 ...........................................\n",
      "[CV] ............................ C=15.0, max_iter=1000, total=  15.1s\n",
      "[CV] C=16.0, max_iter=1000 ...........................................\n",
      "[CV] ............................ C=16.0, max_iter=1000, total=  19.0s\n",
      "[CV] C=16.0, max_iter=1000 ...........................................\n",
      "[CV] ............................ C=16.0, max_iter=1000, total=  17.4s\n",
      "[CV] C=16.0, max_iter=1000 ...........................................\n",
      "[CV] ............................ C=16.0, max_iter=1000, total=  16.0s\n",
      "[CV] C=16.0, max_iter=1000 ...........................................\n",
      "[CV] ............................ C=16.0, max_iter=1000, total=  16.3s\n",
      "[CV] C=16.0, max_iter=1000 ...........................................\n",
      "[CV] ............................ C=16.0, max_iter=1000, total=  15.9s\n",
      "[CV] C=17.0, max_iter=1000 ...........................................\n",
      "[CV] ............................ C=17.0, max_iter=1000, total=  20.4s\n",
      "[CV] C=17.0, max_iter=1000 ...........................................\n",
      "[CV] ............................ C=17.0, max_iter=1000, total=  17.5s\n",
      "[CV] C=17.0, max_iter=1000 ...........................................\n",
      "[CV] ............................ C=17.0, max_iter=1000, total=  21.6s\n",
      "[CV] C=17.0, max_iter=1000 ...........................................\n",
      "[CV] ............................ C=17.0, max_iter=1000, total=  19.3s\n",
      "[CV] C=17.0, max_iter=1000 ...........................................\n",
      "[CV] ............................ C=17.0, max_iter=1000, total=  22.2s\n",
      "[CV] C=18.0, max_iter=1000 ...........................................\n",
      "[CV] ............................ C=18.0, max_iter=1000, total=  20.4s\n",
      "[CV] C=18.0, max_iter=1000 ...........................................\n",
      "[CV] ............................ C=18.0, max_iter=1000, total=  19.4s\n",
      "[CV] C=18.0, max_iter=1000 ...........................................\n",
      "[CV] ............................ C=18.0, max_iter=1000, total=  20.5s\n",
      "[CV] C=18.0, max_iter=1000 ...........................................\n",
      "[CV] ............................ C=18.0, max_iter=1000, total=  18.4s\n",
      "[CV] C=18.0, max_iter=1000 ...........................................\n",
      "[CV] ............................ C=18.0, max_iter=1000, total=  18.6s\n",
      "[CV] C=19.0, max_iter=1000 ...........................................\n",
      "[CV] ............................ C=19.0, max_iter=1000, total=  19.7s\n",
      "[CV] C=19.0, max_iter=1000 ...........................................\n",
      "[CV] ............................ C=19.0, max_iter=1000, total=  20.5s\n",
      "[CV] C=19.0, max_iter=1000 ...........................................\n",
      "[CV] ............................ C=19.0, max_iter=1000, total=  17.7s\n",
      "[CV] C=19.0, max_iter=1000 ...........................................\n",
      "[CV] ............................ C=19.0, max_iter=1000, total=  17.3s\n",
      "[CV] C=19.0, max_iter=1000 ...........................................\n",
      "[CV] ............................ C=19.0, max_iter=1000, total=  18.7s\n",
      "[CV] C=20.0, max_iter=1000 ...........................................\n",
      "[CV] ............................ C=20.0, max_iter=1000, total=  18.1s\n",
      "[CV] C=20.0, max_iter=1000 ...........................................\n",
      "[CV] ............................ C=20.0, max_iter=1000, total=  17.7s\n",
      "[CV] C=20.0, max_iter=1000 ...........................................\n",
      "[CV] ............................ C=20.0, max_iter=1000, total=  18.5s\n",
      "[CV] C=20.0, max_iter=1000 ...........................................\n",
      "[CV] ............................ C=20.0, max_iter=1000, total=  17.1s\n",
      "[CV] C=20.0, max_iter=1000 ...........................................\n",
      "[CV] ............................ C=20.0, max_iter=1000, total=  18.7s\n"
     ]
    },
    {
     "name": "stderr",
     "output_type": "stream",
     "text": [
      "[Parallel(n_jobs=-1)]: Done  55 out of  55 | elapsed: 15.5min finished\n"
     ]
    },
    {
     "name": "stdout",
     "output_type": "stream",
     "text": [
      "CPU times: user 9min 5s, sys: 6min 42s, total: 15min 47s\n",
      "Wall time: 15min 49s\n"
     ]
    },
    {
     "data": {
      "text/plain": [
       "GridSearchCV(cv=5, error_score='raise-deprecating',\n",
       "             estimator=LogisticRegression(C=1.0, class_weight=None, dual=False,\n",
       "                                          fit_intercept=True,\n",
       "                                          intercept_scaling=1, l1_ratio=None,\n",
       "                                          max_iter=100, multi_class='warn',\n",
       "                                          n_jobs=None, penalty='l2',\n",
       "                                          random_state=None, solver='warn',\n",
       "                                          tol=0.0001, verbose=0,\n",
       "                                          warm_start=False),\n",
       "             iid='warn', n_jobs=-1,\n",
       "             param_grid={'C': array([10., 11., 12., 13., 14., 15., 16., 17., 18., 19., 20.]),\n",
       "                         'max_iter': [1000]},\n",
       "             pre_dispatch='2*n_jobs', refit=True, return_train_score=False,\n",
       "             scoring='f1', verbose=2)"
      ]
     },
     "execution_count": 30,
     "metadata": {},
     "output_type": "execute_result"
    }
   ],
   "source": [
    "%%time\n",
    "parameters = {'C': np.linspace(10, 20, num = 11, endpoint = True),\n",
    "             'max_iter': [1000]}\n",
    "lrm = LogisticRegression()\n",
    "clf = GridSearchCV(lrm, parameters,\n",
    "                  cv=5,\n",
    "                  scoring='f1',\n",
    "                  n_jobs=-1,\n",
    "                  verbose=2)\n",
    "clf.fit(X_train_vec, y_train)"
   ]
  },
  {
   "cell_type": "code",
   "execution_count": 31,
   "metadata": {
    "scrolled": true
   },
   "outputs": [
    {
     "name": "stdout",
     "output_type": "stream",
     "text": [
      "Наилучший показатель f1 на кросс-валидации: 0.7617640513405083\n",
      "Параметр регуляризации для лучшей модели: {'C': 16.0, 'max_iter': 1000}\n"
     ]
    }
   ],
   "source": [
    "print('Наилучший показатель f1 на кросс-валидации:',clf.best_score_)\n",
    "print('Параметр регуляризации для лучшей модели:',clf.best_params_)"
   ]
  },
  {
   "cell_type": "markdown",
   "metadata": {},
   "source": [
    "## Тестирование "
   ]
  },
  {
   "cell_type": "code",
   "execution_count": 32,
   "metadata": {},
   "outputs": [],
   "source": [
    "model = LogisticRegression(C=16, max_iter=1000)\n",
    "model.fit(X_train_vec, y_train)\n",
    "predict = model.predict(X_test_vec)\n",
    "f1 = f1_score(y_test, predict)\n",
    "accuracy = accuracy_score(y_test, predict)"
   ]
  },
  {
   "cell_type": "code",
   "execution_count": 33,
   "metadata": {},
   "outputs": [
    {
     "name": "stdout",
     "output_type": "stream",
     "text": [
      "Показатель f1 на тестовой выборке: 0.78\n"
     ]
    }
   ],
   "source": [
    "print('Показатель f1 на тестовой выборке:',round(f1,2))"
   ]
  },
  {
   "cell_type": "code",
   "execution_count": 34,
   "metadata": {
    "scrolled": true
   },
   "outputs": [
    {
     "name": "stdout",
     "output_type": "stream",
     "text": [
      "Показатель accuracy на тестовой выборке: 0.96\n"
     ]
    }
   ],
   "source": [
    "print('Показатель accuracy на тестовой выборке:',round(accuracy,2))"
   ]
  },
  {
   "cell_type": "markdown",
   "metadata": {},
   "source": [
    "## Выводы"
   ]
  },
  {
   "cell_type": "markdown",
   "metadata": {},
   "source": [
    "Данные были загружены и обработаны:\n",
    " * проведена лемматизация, удалены пробелы, знаки пунктуации и стоп-слова, корпус был векторизован.\n",
    "\n",
    "На обновленных данных была обучена модель LogisticRegression:\n",
    " * показатель f1:0.78,\n",
    " * показатель accuracy:0.96, выше чем у константной модели,\n",
    " * кросс-валидация моделей и подбор гиперпараметров проводились с помощью GridSearchCV."
   ]
  }
 ],
 "metadata": {
  "ExecuteTimeLog": [
   {
    "duration": 6904,
    "start_time": "2021-08-01T08:11:32.366Z"
   },
   {
    "duration": 3564,
    "start_time": "2021-08-01T08:11:55.361Z"
   },
   {
    "duration": 2775,
    "start_time": "2021-08-01T08:12:33.491Z"
   },
   {
    "duration": 2756,
    "start_time": "2021-08-01T08:13:22.269Z"
   },
   {
    "duration": 779,
    "start_time": "2021-08-01T08:15:09.068Z"
   },
   {
    "duration": 21,
    "start_time": "2021-08-01T08:15:15.720Z"
   },
   {
    "duration": 6,
    "start_time": "2021-08-01T08:15:46.835Z"
   },
   {
    "duration": 8,
    "start_time": "2021-08-01T08:16:01.983Z"
   },
   {
    "duration": 325,
    "start_time": "2021-08-01T08:16:05.476Z"
   },
   {
    "duration": 253,
    "start_time": "2021-08-01T08:16:16.449Z"
   },
   {
    "duration": 9,
    "start_time": "2021-08-01T08:16:33.571Z"
   },
   {
    "duration": 6,
    "start_time": "2021-08-01T08:17:21.217Z"
   },
   {
    "duration": 2910,
    "start_time": "2021-08-01T08:17:36.430Z"
   },
   {
    "duration": 142937,
    "start_time": "2021-08-01T08:18:38.511Z"
   },
   {
    "duration": 10,
    "start_time": "2021-08-01T08:21:08.747Z"
   },
   {
    "duration": 85,
    "start_time": "2021-08-01T08:21:10.705Z"
   },
   {
    "duration": 4,
    "start_time": "2021-08-01T08:21:11.921Z"
   },
   {
    "duration": 9142,
    "start_time": "2021-08-01T08:21:13.596Z"
   },
   {
    "duration": 2298,
    "start_time": "2021-08-01T08:21:24.456Z"
   },
   {
    "duration": 117,
    "start_time": "2021-08-01T08:21:50.545Z"
   },
   {
    "duration": 5,
    "start_time": "2021-08-01T08:21:58.378Z"
   },
   {
    "duration": 3,
    "start_time": "2021-08-01T08:22:29.444Z"
   },
   {
    "duration": 8327,
    "start_time": "2021-08-01T08:22:29.873Z"
   },
   {
    "duration": 4,
    "start_time": "2021-08-01T08:22:47.420Z"
   },
   {
    "duration": 8097,
    "start_time": "2021-08-01T08:22:47.787Z"
   },
   {
    "duration": 1958,
    "start_time": "2021-08-01T08:22:55.886Z"
   },
   {
    "duration": 5,
    "start_time": "2021-08-01T08:22:57.847Z"
   },
   {
    "duration": 117,
    "start_time": "2021-08-01T08:24:47.022Z"
   },
   {
    "duration": 172,
    "start_time": "2021-08-01T08:25:02.403Z"
   },
   {
    "duration": 10,
    "start_time": "2021-08-01T08:25:27.789Z"
   },
   {
    "duration": 945909,
    "start_time": "2021-08-01T08:25:48.846Z"
   },
   {
    "duration": 6,
    "start_time": "2021-08-01T08:42:34.538Z"
   },
   {
    "duration": 18569,
    "start_time": "2021-08-01T08:42:42.923Z"
   },
   {
    "duration": 4,
    "start_time": "2021-08-01T08:43:06.165Z"
   },
   {
    "duration": 5,
    "start_time": "2021-08-01T08:43:08.977Z"
   },
   {
    "duration": 31,
    "start_time": "2021-08-01T08:47:59.258Z"
   },
   {
    "duration": 131,
    "start_time": "2021-08-01T08:51:51.497Z"
   },
   {
    "duration": 6384,
    "start_time": "2021-08-01T08:54:30.378Z"
   },
   {
    "duration": 786,
    "start_time": "2021-08-01T08:54:36.765Z"
   },
   {
    "duration": 19,
    "start_time": "2021-08-01T08:54:37.554Z"
   },
   {
    "duration": 81,
    "start_time": "2021-08-01T08:54:37.575Z"
   },
   {
    "duration": 257,
    "start_time": "2021-08-01T08:54:37.658Z"
   },
   {
    "duration": 39,
    "start_time": "2021-08-01T08:54:37.918Z"
   },
   {
    "duration": 2900,
    "start_time": "2021-08-01T08:54:37.959Z"
   },
   {
    "duration": 30,
    "start_time": "2021-08-01T08:54:40.865Z"
   },
   {
    "duration": 138512,
    "start_time": "2021-08-01T09:18:05.905Z"
   },
   {
    "duration": 4,
    "start_time": "2021-08-01T09:20:24.420Z"
   },
   {
    "duration": 369,
    "start_time": "2021-08-01T09:20:24.427Z"
   },
   {
    "duration": 45,
    "start_time": "2021-08-01T09:20:24.799Z"
   },
   {
    "duration": 9218,
    "start_time": "2021-08-01T09:20:24.847Z"
   },
   {
    "duration": 2295,
    "start_time": "2021-08-01T09:20:34.068Z"
   },
   {
    "duration": 5,
    "start_time": "2021-08-01T09:20:36.366Z"
   },
   {
    "duration": 27,
    "start_time": "2021-08-01T09:20:36.375Z"
   },
   {
    "duration": 949561,
    "start_time": "2021-08-01T09:20:36.407Z"
   },
   {
    "duration": 7,
    "start_time": "2021-08-01T09:36:25.970Z"
   },
   {
    "duration": 18070,
    "start_time": "2021-08-01T09:36:26.002Z"
   },
   {
    "duration": 4,
    "start_time": "2021-08-01T09:36:44.074Z"
   },
   {
    "duration": 29,
    "start_time": "2021-08-01T09:36:44.081Z"
   }
  ],
  "kernelspec": {
   "display_name": "Python 3",
   "language": "python",
   "name": "python3"
  },
  "language_info": {
   "codemirror_mode": {
    "name": "ipython",
    "version": 3
   },
   "file_extension": ".py",
   "mimetype": "text/x-python",
   "name": "python",
   "nbconvert_exporter": "python",
   "pygments_lexer": "ipython3",
   "version": "3.7.8"
  },
  "toc": {
   "base_numbering": 1,
   "nav_menu": {},
   "number_sections": true,
   "sideBar": true,
   "skip_h1_title": true,
   "title_cell": "Содержание",
   "title_sidebar": "Contents",
   "toc_cell": true,
   "toc_position": {
    "height": "calc(100% - 180px)",
    "left": "10px",
    "top": "150px",
    "width": "302.391px"
   },
   "toc_section_display": true,
   "toc_window_display": false
  }
 },
 "nbformat": 4,
 "nbformat_minor": 2
}
