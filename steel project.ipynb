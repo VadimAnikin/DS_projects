{
 "cells": [
  {
   "cell_type": "markdown",
   "metadata": {},
   "source": [
    "## Задача:\n",
    "Чтобы оптимизировать производственные расходы, металлургический комбинат ООО «Так закаляем сталь» решил уменьшить потребление электроэнергии на этапе обработки стали. Вам предстоит построить модель, которая предскажет температуру стали.\n",
    "\n",
    "### Описание этапа обработки:\n",
    "\n",
    "Сталь обрабатывают в металлическом ковше вместимостью около 100 тонн. Чтобы ковш выдерживал высокие температуры, изнутри его облицовывают огнеупорным кирпичом. Расплавленную сталь заливают в ковш и подогревают до нужной температуры графитовыми электродами. Они установлены в крышке ковша. \n",
    "\n",
    "Из сплава выводится сера (десульфурация), добавлением примесей корректируется химический состав и отбираются пробы. Сталь легируют — изменяют её состав — подавая куски сплава из бункера для сыпучих материалов или проволоку через специальный трайб-аппарат (англ. tribe, «масса»).\n",
    "\n",
    "Перед тем как первый раз ввести легирующие добавки, измеряют температуру стали и производят её химический анализ. Потом температуру на несколько минут повышают, добавляют легирующие материалы и продувают сплав инертным газом. Затем его перемешивают и снова проводят измерения. Такой цикл повторяется до достижения целевого химического состава и оптимальной температуры плавки.\n",
    "\n",
    "Тогда расплавленная сталь отправляется на доводку металла или поступает в машину непрерывной разливки. Оттуда готовый продукт выходит в виде заготовок-слябов (англ. *slab*, «плита»).\n",
    "\n",
    "### Описание данных:\n",
    "\n",
    "Данные состоят из файлов, полученных из разных источников:\n",
    "\n",
    "- `data_arc.csv` — данные об электродах;\n",
    "- `data_bulk.csv` — данные о подаче сыпучих материалов (объём);\n",
    "- `data_bulk_time.csv` *—* данные о подаче сыпучих материалов (время);\n",
    "- `data_gas.csv` — данные о продувке сплава газом;\n",
    "- `data_temp.csv` — результаты измерения температуры;\n",
    "- `data_wire.csv` — данные о проволочных материалах (объём);\n",
    "- `data_wire_time.csv` — данные о проволочных материалах (время).\n",
    "\n",
    "Во всех файлах столбец `key` содержит номер партии. В файлах может быть несколько строк с одинаковым значением `key`: они соответствуют разным итерациям обработки.\n",
    "\n",
    "### План работы:\n",
    "\n",
    "- Загрузим данные.\n",
    "- Проведем первичный анализ данных.\n",
    "- Изучим производственные процессы и исходные данные.\n",
    "- Проведем исследовательский анализ данных.\n",
    "- Подготовим данные (определим признаки необходимые для модели)\n",
    "- Сделаем сводную таблицу\n",
    "- Используем  XGBoost, CatBoost, LinearRegression с подбором нужных параметров.\n",
    "- Сравним резльтаты моделей и выберем лучшую.\n",
    "- Проверим на тестовой выборке.\n",
    "- Напишем отчет.\n"
   ]
  },
  {
   "cell_type": "markdown",
   "metadata": {},
   "source": [
    "## Первичный анализ данных."
   ]
  },
  {
   "cell_type": "code",
   "execution_count": 1,
   "metadata": {},
   "outputs": [],
   "source": [
    "import pandas as pd\n",
    "import seaborn as sns\n",
    "import matplotlib.pyplot as plt\n",
    "%matplotlib inline\n",
    "import math\n",
    "from pathlib import Path\n",
    "from catboost import CatBoostRegressor\n",
    "from sklearn.preprocessing import StandardScaler\n",
    "from sklearn.model_selection import train_test_split\n",
    "from sklearn.metrics import mean_absolute_error\n",
    "from sklearn.preprocessing import MinMaxScaler\n",
    "from sklearn.model_selection import GridSearchCV\n",
    "from sklearn.linear_model import LinearRegression\n",
    "from sklearn.linear_model import Ridge, Lasso\n",
    "import warnings\n",
    "warnings.filterwarnings('ignore')\n",
    "from scipy import stats\n",
    "import xgboost\n",
    "import numpy as np"
   ]
  },
  {
   "cell_type": "markdown",
   "metadata": {},
   "source": [
    "Загрузим данные "
   ]
  },
  {
   "cell_type": "code",
   "execution_count": 2,
   "metadata": {},
   "outputs": [],
   "source": [
    "arc = pd.read_csv('/datasets/final_steel/data_arc.csv')\n",
    "bulk = pd.read_csv('/datasets/final_steel/data_bulk.csv')\n",
    "bulk_time = pd.read_csv('/datasets/final_steel/data_bulk_time.csv')\n",
    "gas = pd.read_csv('/datasets/final_steel/data_gas.csv')\n",
    "temp = pd.read_csv('/datasets/final_steel/data_temp.csv')\n",
    "wire = pd.read_csv('/datasets/final_steel/data_wire.csv')\n",
    "wire_time = pd.read_csv('/datasets/final_steel/data_wire_time.csv')"
   ]
  },
  {
   "cell_type": "code",
   "execution_count": 3,
   "metadata": {},
   "outputs": [],
   "source": [
    "def df_info(df):\n",
    "        df.info()\n",
    "        display(df.head(10))\n",
    "        display(df.describe())\n",
    "        print('Кол-во дубликатов:', df.duplicated().sum())\n",
    "        print()\n",
    "        print('Кол-во уникальных партий:', len(df['key'].unique()))"
   ]
  },
  {
   "cell_type": "code",
   "execution_count": 4,
   "metadata": {},
   "outputs": [
    {
     "name": "stdout",
     "output_type": "stream",
     "text": [
      "<class 'pandas.core.frame.DataFrame'>\n",
      "RangeIndex: 14876 entries, 0 to 14875\n",
      "Data columns (total 5 columns):\n",
      "key                     14876 non-null int64\n",
      "Начало нагрева дугой    14876 non-null object\n",
      "Конец нагрева дугой     14876 non-null object\n",
      "Активная мощность       14876 non-null float64\n",
      "Реактивная мощность     14876 non-null float64\n",
      "dtypes: float64(2), int64(1), object(2)\n",
      "memory usage: 581.2+ KB\n"
     ]
    },
    {
     "data": {
      "text/html": [
       "<div>\n",
       "<style scoped>\n",
       "    .dataframe tbody tr th:only-of-type {\n",
       "        vertical-align: middle;\n",
       "    }\n",
       "\n",
       "    .dataframe tbody tr th {\n",
       "        vertical-align: top;\n",
       "    }\n",
       "\n",
       "    .dataframe thead th {\n",
       "        text-align: right;\n",
       "    }\n",
       "</style>\n",
       "<table border=\"1\" class=\"dataframe\">\n",
       "  <thead>\n",
       "    <tr style=\"text-align: right;\">\n",
       "      <th></th>\n",
       "      <th>key</th>\n",
       "      <th>Начало нагрева дугой</th>\n",
       "      <th>Конец нагрева дугой</th>\n",
       "      <th>Активная мощность</th>\n",
       "      <th>Реактивная мощность</th>\n",
       "    </tr>\n",
       "  </thead>\n",
       "  <tbody>\n",
       "    <tr>\n",
       "      <td>0</td>\n",
       "      <td>1</td>\n",
       "      <td>2019-05-03 11:02:14</td>\n",
       "      <td>2019-05-03 11:06:02</td>\n",
       "      <td>0.976059</td>\n",
       "      <td>0.687084</td>\n",
       "    </tr>\n",
       "    <tr>\n",
       "      <td>1</td>\n",
       "      <td>1</td>\n",
       "      <td>2019-05-03 11:07:28</td>\n",
       "      <td>2019-05-03 11:10:33</td>\n",
       "      <td>0.805607</td>\n",
       "      <td>0.520285</td>\n",
       "    </tr>\n",
       "    <tr>\n",
       "      <td>2</td>\n",
       "      <td>1</td>\n",
       "      <td>2019-05-03 11:11:44</td>\n",
       "      <td>2019-05-03 11:14:36</td>\n",
       "      <td>0.744363</td>\n",
       "      <td>0.498805</td>\n",
       "    </tr>\n",
       "    <tr>\n",
       "      <td>3</td>\n",
       "      <td>1</td>\n",
       "      <td>2019-05-03 11:18:14</td>\n",
       "      <td>2019-05-03 11:24:19</td>\n",
       "      <td>1.659363</td>\n",
       "      <td>1.062669</td>\n",
       "    </tr>\n",
       "    <tr>\n",
       "      <td>4</td>\n",
       "      <td>1</td>\n",
       "      <td>2019-05-03 11:26:09</td>\n",
       "      <td>2019-05-03 11:28:37</td>\n",
       "      <td>0.692755</td>\n",
       "      <td>0.414397</td>\n",
       "    </tr>\n",
       "    <tr>\n",
       "      <td>5</td>\n",
       "      <td>2</td>\n",
       "      <td>2019-05-03 11:34:14</td>\n",
       "      <td>2019-05-03 11:36:31</td>\n",
       "      <td>0.438063</td>\n",
       "      <td>0.283043</td>\n",
       "    </tr>\n",
       "    <tr>\n",
       "      <td>6</td>\n",
       "      <td>2</td>\n",
       "      <td>2019-05-03 11:38:50</td>\n",
       "      <td>2019-05-03 11:44:28</td>\n",
       "      <td>1.296415</td>\n",
       "      <td>0.892914</td>\n",
       "    </tr>\n",
       "    <tr>\n",
       "      <td>7</td>\n",
       "      <td>2</td>\n",
       "      <td>2019-05-03 11:46:19</td>\n",
       "      <td>2019-05-03 11:48:25</td>\n",
       "      <td>0.490377</td>\n",
       "      <td>0.305281</td>\n",
       "    </tr>\n",
       "    <tr>\n",
       "      <td>8</td>\n",
       "      <td>2</td>\n",
       "      <td>2019-05-03 11:49:48</td>\n",
       "      <td>2019-05-03 11:53:18</td>\n",
       "      <td>0.827743</td>\n",
       "      <td>0.516874</td>\n",
       "    </tr>\n",
       "    <tr>\n",
       "      <td>9</td>\n",
       "      <td>3</td>\n",
       "      <td>2019-05-03 12:06:54</td>\n",
       "      <td>2019-05-03 12:11:34</td>\n",
       "      <td>1.062053</td>\n",
       "      <td>0.671494</td>\n",
       "    </tr>\n",
       "  </tbody>\n",
       "</table>\n",
       "</div>"
      ],
      "text/plain": [
       "   key Начало нагрева дугой  Конец нагрева дугой  Активная мощность  \\\n",
       "0    1  2019-05-03 11:02:14  2019-05-03 11:06:02           0.976059   \n",
       "1    1  2019-05-03 11:07:28  2019-05-03 11:10:33           0.805607   \n",
       "2    1  2019-05-03 11:11:44  2019-05-03 11:14:36           0.744363   \n",
       "3    1  2019-05-03 11:18:14  2019-05-03 11:24:19           1.659363   \n",
       "4    1  2019-05-03 11:26:09  2019-05-03 11:28:37           0.692755   \n",
       "5    2  2019-05-03 11:34:14  2019-05-03 11:36:31           0.438063   \n",
       "6    2  2019-05-03 11:38:50  2019-05-03 11:44:28           1.296415   \n",
       "7    2  2019-05-03 11:46:19  2019-05-03 11:48:25           0.490377   \n",
       "8    2  2019-05-03 11:49:48  2019-05-03 11:53:18           0.827743   \n",
       "9    3  2019-05-03 12:06:54  2019-05-03 12:11:34           1.062053   \n",
       "\n",
       "   Реактивная мощность  \n",
       "0             0.687084  \n",
       "1             0.520285  \n",
       "2             0.498805  \n",
       "3             1.062669  \n",
       "4             0.414397  \n",
       "5             0.283043  \n",
       "6             0.892914  \n",
       "7             0.305281  \n",
       "8             0.516874  \n",
       "9             0.671494  "
      ]
     },
     "metadata": {},
     "output_type": "display_data"
    },
    {
     "data": {
      "text/html": [
       "<div>\n",
       "<style scoped>\n",
       "    .dataframe tbody tr th:only-of-type {\n",
       "        vertical-align: middle;\n",
       "    }\n",
       "\n",
       "    .dataframe tbody tr th {\n",
       "        vertical-align: top;\n",
       "    }\n",
       "\n",
       "    .dataframe thead th {\n",
       "        text-align: right;\n",
       "    }\n",
       "</style>\n",
       "<table border=\"1\" class=\"dataframe\">\n",
       "  <thead>\n",
       "    <tr style=\"text-align: right;\">\n",
       "      <th></th>\n",
       "      <th>key</th>\n",
       "      <th>Активная мощность</th>\n",
       "      <th>Реактивная мощность</th>\n",
       "    </tr>\n",
       "  </thead>\n",
       "  <tbody>\n",
       "    <tr>\n",
       "      <td>count</td>\n",
       "      <td>14876.000000</td>\n",
       "      <td>14876.000000</td>\n",
       "      <td>14876.000000</td>\n",
       "    </tr>\n",
       "    <tr>\n",
       "      <td>mean</td>\n",
       "      <td>1615.220422</td>\n",
       "      <td>0.670441</td>\n",
       "      <td>0.452592</td>\n",
       "    </tr>\n",
       "    <tr>\n",
       "      <td>std</td>\n",
       "      <td>934.571502</td>\n",
       "      <td>0.408159</td>\n",
       "      <td>5.878702</td>\n",
       "    </tr>\n",
       "    <tr>\n",
       "      <td>min</td>\n",
       "      <td>1.000000</td>\n",
       "      <td>0.030002</td>\n",
       "      <td>-715.504924</td>\n",
       "    </tr>\n",
       "    <tr>\n",
       "      <td>25%</td>\n",
       "      <td>806.000000</td>\n",
       "      <td>0.395297</td>\n",
       "      <td>0.290991</td>\n",
       "    </tr>\n",
       "    <tr>\n",
       "      <td>50%</td>\n",
       "      <td>1617.000000</td>\n",
       "      <td>0.555517</td>\n",
       "      <td>0.415962</td>\n",
       "    </tr>\n",
       "    <tr>\n",
       "      <td>75%</td>\n",
       "      <td>2429.000000</td>\n",
       "      <td>0.857034</td>\n",
       "      <td>0.637371</td>\n",
       "    </tr>\n",
       "    <tr>\n",
       "      <td>max</td>\n",
       "      <td>3241.000000</td>\n",
       "      <td>3.731596</td>\n",
       "      <td>2.676388</td>\n",
       "    </tr>\n",
       "  </tbody>\n",
       "</table>\n",
       "</div>"
      ],
      "text/plain": [
       "                key  Активная мощность  Реактивная мощность\n",
       "count  14876.000000       14876.000000         14876.000000\n",
       "mean    1615.220422           0.670441             0.452592\n",
       "std      934.571502           0.408159             5.878702\n",
       "min        1.000000           0.030002          -715.504924\n",
       "25%      806.000000           0.395297             0.290991\n",
       "50%     1617.000000           0.555517             0.415962\n",
       "75%     2429.000000           0.857034             0.637371\n",
       "max     3241.000000           3.731596             2.676388"
      ]
     },
     "metadata": {},
     "output_type": "display_data"
    },
    {
     "name": "stdout",
     "output_type": "stream",
     "text": [
      "Кол-во дубликатов: 0\n",
      "\n",
      "Кол-во уникальных партий: 3214\n"
     ]
    }
   ],
   "source": [
    "df_info(arc)"
   ]
  },
  {
   "cell_type": "markdown",
   "metadata": {},
   "source": [
    "- Почти 15 тысяч строк и 5 столбцов.\n",
    "- В данных нет дубликатов и пропусков.\n",
    "- Аномальное минимальное значение у реактивной мощности.\n",
    "- Нужно изменить тип данных у двух столбцов \"Начало нагрева дугой\" и \"Конец нагрева дугой\" на `datetime`.\n",
    "- Кол-во уникальных партий 3214."
   ]
  },
  {
   "cell_type": "code",
   "execution_count": 5,
   "metadata": {},
   "outputs": [
    {
     "name": "stdout",
     "output_type": "stream",
     "text": [
      "<class 'pandas.core.frame.DataFrame'>\n",
      "RangeIndex: 3129 entries, 0 to 3128\n",
      "Data columns (total 16 columns):\n",
      "key        3129 non-null int64\n",
      "Bulk 1     252 non-null float64\n",
      "Bulk 2     22 non-null float64\n",
      "Bulk 3     1298 non-null float64\n",
      "Bulk 4     1014 non-null float64\n",
      "Bulk 5     77 non-null float64\n",
      "Bulk 6     576 non-null float64\n",
      "Bulk 7     25 non-null float64\n",
      "Bulk 8     1 non-null float64\n",
      "Bulk 9     19 non-null float64\n",
      "Bulk 10    176 non-null float64\n",
      "Bulk 11    177 non-null float64\n",
      "Bulk 12    2450 non-null float64\n",
      "Bulk 13    18 non-null float64\n",
      "Bulk 14    2806 non-null float64\n",
      "Bulk 15    2248 non-null float64\n",
      "dtypes: float64(15), int64(1)\n",
      "memory usage: 391.2 KB\n"
     ]
    },
    {
     "data": {
      "text/html": [
       "<div>\n",
       "<style scoped>\n",
       "    .dataframe tbody tr th:only-of-type {\n",
       "        vertical-align: middle;\n",
       "    }\n",
       "\n",
       "    .dataframe tbody tr th {\n",
       "        vertical-align: top;\n",
       "    }\n",
       "\n",
       "    .dataframe thead th {\n",
       "        text-align: right;\n",
       "    }\n",
       "</style>\n",
       "<table border=\"1\" class=\"dataframe\">\n",
       "  <thead>\n",
       "    <tr style=\"text-align: right;\">\n",
       "      <th></th>\n",
       "      <th>key</th>\n",
       "      <th>Bulk 1</th>\n",
       "      <th>Bulk 2</th>\n",
       "      <th>Bulk 3</th>\n",
       "      <th>Bulk 4</th>\n",
       "      <th>Bulk 5</th>\n",
       "      <th>Bulk 6</th>\n",
       "      <th>Bulk 7</th>\n",
       "      <th>Bulk 8</th>\n",
       "      <th>Bulk 9</th>\n",
       "      <th>Bulk 10</th>\n",
       "      <th>Bulk 11</th>\n",
       "      <th>Bulk 12</th>\n",
       "      <th>Bulk 13</th>\n",
       "      <th>Bulk 14</th>\n",
       "      <th>Bulk 15</th>\n",
       "    </tr>\n",
       "  </thead>\n",
       "  <tbody>\n",
       "    <tr>\n",
       "      <td>0</td>\n",
       "      <td>1</td>\n",
       "      <td>NaN</td>\n",
       "      <td>NaN</td>\n",
       "      <td>NaN</td>\n",
       "      <td>43.0</td>\n",
       "      <td>NaN</td>\n",
       "      <td>NaN</td>\n",
       "      <td>NaN</td>\n",
       "      <td>NaN</td>\n",
       "      <td>NaN</td>\n",
       "      <td>NaN</td>\n",
       "      <td>NaN</td>\n",
       "      <td>206.0</td>\n",
       "      <td>NaN</td>\n",
       "      <td>150.0</td>\n",
       "      <td>154.0</td>\n",
       "    </tr>\n",
       "    <tr>\n",
       "      <td>1</td>\n",
       "      <td>2</td>\n",
       "      <td>NaN</td>\n",
       "      <td>NaN</td>\n",
       "      <td>NaN</td>\n",
       "      <td>73.0</td>\n",
       "      <td>NaN</td>\n",
       "      <td>NaN</td>\n",
       "      <td>NaN</td>\n",
       "      <td>NaN</td>\n",
       "      <td>NaN</td>\n",
       "      <td>NaN</td>\n",
       "      <td>NaN</td>\n",
       "      <td>206.0</td>\n",
       "      <td>NaN</td>\n",
       "      <td>149.0</td>\n",
       "      <td>154.0</td>\n",
       "    </tr>\n",
       "    <tr>\n",
       "      <td>2</td>\n",
       "      <td>3</td>\n",
       "      <td>NaN</td>\n",
       "      <td>NaN</td>\n",
       "      <td>NaN</td>\n",
       "      <td>34.0</td>\n",
       "      <td>NaN</td>\n",
       "      <td>NaN</td>\n",
       "      <td>NaN</td>\n",
       "      <td>NaN</td>\n",
       "      <td>NaN</td>\n",
       "      <td>NaN</td>\n",
       "      <td>NaN</td>\n",
       "      <td>205.0</td>\n",
       "      <td>NaN</td>\n",
       "      <td>152.0</td>\n",
       "      <td>153.0</td>\n",
       "    </tr>\n",
       "    <tr>\n",
       "      <td>3</td>\n",
       "      <td>4</td>\n",
       "      <td>NaN</td>\n",
       "      <td>NaN</td>\n",
       "      <td>NaN</td>\n",
       "      <td>81.0</td>\n",
       "      <td>NaN</td>\n",
       "      <td>NaN</td>\n",
       "      <td>NaN</td>\n",
       "      <td>NaN</td>\n",
       "      <td>NaN</td>\n",
       "      <td>NaN</td>\n",
       "      <td>NaN</td>\n",
       "      <td>207.0</td>\n",
       "      <td>NaN</td>\n",
       "      <td>153.0</td>\n",
       "      <td>154.0</td>\n",
       "    </tr>\n",
       "    <tr>\n",
       "      <td>4</td>\n",
       "      <td>5</td>\n",
       "      <td>NaN</td>\n",
       "      <td>NaN</td>\n",
       "      <td>NaN</td>\n",
       "      <td>78.0</td>\n",
       "      <td>NaN</td>\n",
       "      <td>NaN</td>\n",
       "      <td>NaN</td>\n",
       "      <td>NaN</td>\n",
       "      <td>NaN</td>\n",
       "      <td>NaN</td>\n",
       "      <td>NaN</td>\n",
       "      <td>203.0</td>\n",
       "      <td>NaN</td>\n",
       "      <td>151.0</td>\n",
       "      <td>152.0</td>\n",
       "    </tr>\n",
       "    <tr>\n",
       "      <td>5</td>\n",
       "      <td>6</td>\n",
       "      <td>NaN</td>\n",
       "      <td>NaN</td>\n",
       "      <td>NaN</td>\n",
       "      <td>117.0</td>\n",
       "      <td>NaN</td>\n",
       "      <td>NaN</td>\n",
       "      <td>NaN</td>\n",
       "      <td>NaN</td>\n",
       "      <td>NaN</td>\n",
       "      <td>NaN</td>\n",
       "      <td>NaN</td>\n",
       "      <td>204.0</td>\n",
       "      <td>NaN</td>\n",
       "      <td>201.0</td>\n",
       "      <td>154.0</td>\n",
       "    </tr>\n",
       "    <tr>\n",
       "      <td>6</td>\n",
       "      <td>7</td>\n",
       "      <td>NaN</td>\n",
       "      <td>NaN</td>\n",
       "      <td>NaN</td>\n",
       "      <td>117.0</td>\n",
       "      <td>NaN</td>\n",
       "      <td>NaN</td>\n",
       "      <td>NaN</td>\n",
       "      <td>NaN</td>\n",
       "      <td>NaN</td>\n",
       "      <td>NaN</td>\n",
       "      <td>NaN</td>\n",
       "      <td>204.0</td>\n",
       "      <td>NaN</td>\n",
       "      <td>152.0</td>\n",
       "      <td>154.0</td>\n",
       "    </tr>\n",
       "    <tr>\n",
       "      <td>7</td>\n",
       "      <td>8</td>\n",
       "      <td>NaN</td>\n",
       "      <td>NaN</td>\n",
       "      <td>NaN</td>\n",
       "      <td>99.0</td>\n",
       "      <td>NaN</td>\n",
       "      <td>NaN</td>\n",
       "      <td>NaN</td>\n",
       "      <td>NaN</td>\n",
       "      <td>NaN</td>\n",
       "      <td>NaN</td>\n",
       "      <td>NaN</td>\n",
       "      <td>410.0</td>\n",
       "      <td>NaN</td>\n",
       "      <td>252.0</td>\n",
       "      <td>153.0</td>\n",
       "    </tr>\n",
       "    <tr>\n",
       "      <td>8</td>\n",
       "      <td>9</td>\n",
       "      <td>NaN</td>\n",
       "      <td>NaN</td>\n",
       "      <td>NaN</td>\n",
       "      <td>117.0</td>\n",
       "      <td>NaN</td>\n",
       "      <td>NaN</td>\n",
       "      <td>NaN</td>\n",
       "      <td>NaN</td>\n",
       "      <td>NaN</td>\n",
       "      <td>NaN</td>\n",
       "      <td>NaN</td>\n",
       "      <td>107.0</td>\n",
       "      <td>NaN</td>\n",
       "      <td>99.0</td>\n",
       "      <td>203.0</td>\n",
       "    </tr>\n",
       "    <tr>\n",
       "      <td>9</td>\n",
       "      <td>10</td>\n",
       "      <td>NaN</td>\n",
       "      <td>NaN</td>\n",
       "      <td>NaN</td>\n",
       "      <td>NaN</td>\n",
       "      <td>NaN</td>\n",
       "      <td>NaN</td>\n",
       "      <td>NaN</td>\n",
       "      <td>NaN</td>\n",
       "      <td>NaN</td>\n",
       "      <td>NaN</td>\n",
       "      <td>NaN</td>\n",
       "      <td>203.0</td>\n",
       "      <td>NaN</td>\n",
       "      <td>102.0</td>\n",
       "      <td>204.0</td>\n",
       "    </tr>\n",
       "  </tbody>\n",
       "</table>\n",
       "</div>"
      ],
      "text/plain": [
       "   key  Bulk 1  Bulk 2  Bulk 3  Bulk 4  Bulk 5  Bulk 6  Bulk 7  Bulk 8  \\\n",
       "0    1     NaN     NaN     NaN    43.0     NaN     NaN     NaN     NaN   \n",
       "1    2     NaN     NaN     NaN    73.0     NaN     NaN     NaN     NaN   \n",
       "2    3     NaN     NaN     NaN    34.0     NaN     NaN     NaN     NaN   \n",
       "3    4     NaN     NaN     NaN    81.0     NaN     NaN     NaN     NaN   \n",
       "4    5     NaN     NaN     NaN    78.0     NaN     NaN     NaN     NaN   \n",
       "5    6     NaN     NaN     NaN   117.0     NaN     NaN     NaN     NaN   \n",
       "6    7     NaN     NaN     NaN   117.0     NaN     NaN     NaN     NaN   \n",
       "7    8     NaN     NaN     NaN    99.0     NaN     NaN     NaN     NaN   \n",
       "8    9     NaN     NaN     NaN   117.0     NaN     NaN     NaN     NaN   \n",
       "9   10     NaN     NaN     NaN     NaN     NaN     NaN     NaN     NaN   \n",
       "\n",
       "   Bulk 9  Bulk 10  Bulk 11  Bulk 12  Bulk 13  Bulk 14  Bulk 15  \n",
       "0     NaN      NaN      NaN    206.0      NaN    150.0    154.0  \n",
       "1     NaN      NaN      NaN    206.0      NaN    149.0    154.0  \n",
       "2     NaN      NaN      NaN    205.0      NaN    152.0    153.0  \n",
       "3     NaN      NaN      NaN    207.0      NaN    153.0    154.0  \n",
       "4     NaN      NaN      NaN    203.0      NaN    151.0    152.0  \n",
       "5     NaN      NaN      NaN    204.0      NaN    201.0    154.0  \n",
       "6     NaN      NaN      NaN    204.0      NaN    152.0    154.0  \n",
       "7     NaN      NaN      NaN    410.0      NaN    252.0    153.0  \n",
       "8     NaN      NaN      NaN    107.0      NaN     99.0    203.0  \n",
       "9     NaN      NaN      NaN    203.0      NaN    102.0    204.0  "
      ]
     },
     "metadata": {},
     "output_type": "display_data"
    },
    {
     "data": {
      "text/html": [
       "<div>\n",
       "<style scoped>\n",
       "    .dataframe tbody tr th:only-of-type {\n",
       "        vertical-align: middle;\n",
       "    }\n",
       "\n",
       "    .dataframe tbody tr th {\n",
       "        vertical-align: top;\n",
       "    }\n",
       "\n",
       "    .dataframe thead th {\n",
       "        text-align: right;\n",
       "    }\n",
       "</style>\n",
       "<table border=\"1\" class=\"dataframe\">\n",
       "  <thead>\n",
       "    <tr style=\"text-align: right;\">\n",
       "      <th></th>\n",
       "      <th>key</th>\n",
       "      <th>Bulk 1</th>\n",
       "      <th>Bulk 2</th>\n",
       "      <th>Bulk 3</th>\n",
       "      <th>Bulk 4</th>\n",
       "      <th>Bulk 5</th>\n",
       "      <th>Bulk 6</th>\n",
       "      <th>Bulk 7</th>\n",
       "      <th>Bulk 8</th>\n",
       "      <th>Bulk 9</th>\n",
       "      <th>Bulk 10</th>\n",
       "      <th>Bulk 11</th>\n",
       "      <th>Bulk 12</th>\n",
       "      <th>Bulk 13</th>\n",
       "      <th>Bulk 14</th>\n",
       "      <th>Bulk 15</th>\n",
       "    </tr>\n",
       "  </thead>\n",
       "  <tbody>\n",
       "    <tr>\n",
       "      <td>count</td>\n",
       "      <td>3129.000000</td>\n",
       "      <td>252.000000</td>\n",
       "      <td>22.000000</td>\n",
       "      <td>1298.000000</td>\n",
       "      <td>1014.000000</td>\n",
       "      <td>77.000000</td>\n",
       "      <td>576.000000</td>\n",
       "      <td>25.000000</td>\n",
       "      <td>1.0</td>\n",
       "      <td>19.000000</td>\n",
       "      <td>176.000000</td>\n",
       "      <td>177.000000</td>\n",
       "      <td>2450.000000</td>\n",
       "      <td>18.000000</td>\n",
       "      <td>2806.000000</td>\n",
       "      <td>2248.000000</td>\n",
       "    </tr>\n",
       "    <tr>\n",
       "      <td>mean</td>\n",
       "      <td>1624.383509</td>\n",
       "      <td>39.242063</td>\n",
       "      <td>253.045455</td>\n",
       "      <td>113.879045</td>\n",
       "      <td>104.394477</td>\n",
       "      <td>107.025974</td>\n",
       "      <td>118.925347</td>\n",
       "      <td>305.600000</td>\n",
       "      <td>49.0</td>\n",
       "      <td>76.315789</td>\n",
       "      <td>83.284091</td>\n",
       "      <td>76.819209</td>\n",
       "      <td>260.471020</td>\n",
       "      <td>181.111111</td>\n",
       "      <td>170.284747</td>\n",
       "      <td>160.513345</td>\n",
       "    </tr>\n",
       "    <tr>\n",
       "      <td>std</td>\n",
       "      <td>933.337642</td>\n",
       "      <td>18.277654</td>\n",
       "      <td>21.180578</td>\n",
       "      <td>75.483494</td>\n",
       "      <td>48.184126</td>\n",
       "      <td>81.790646</td>\n",
       "      <td>72.057776</td>\n",
       "      <td>191.022904</td>\n",
       "      <td>NaN</td>\n",
       "      <td>21.720581</td>\n",
       "      <td>26.060347</td>\n",
       "      <td>59.655365</td>\n",
       "      <td>120.649269</td>\n",
       "      <td>46.088009</td>\n",
       "      <td>65.868652</td>\n",
       "      <td>51.765319</td>\n",
       "    </tr>\n",
       "    <tr>\n",
       "      <td>min</td>\n",
       "      <td>1.000000</td>\n",
       "      <td>10.000000</td>\n",
       "      <td>228.000000</td>\n",
       "      <td>6.000000</td>\n",
       "      <td>12.000000</td>\n",
       "      <td>11.000000</td>\n",
       "      <td>17.000000</td>\n",
       "      <td>47.000000</td>\n",
       "      <td>49.0</td>\n",
       "      <td>63.000000</td>\n",
       "      <td>24.000000</td>\n",
       "      <td>8.000000</td>\n",
       "      <td>53.000000</td>\n",
       "      <td>151.000000</td>\n",
       "      <td>16.000000</td>\n",
       "      <td>1.000000</td>\n",
       "    </tr>\n",
       "    <tr>\n",
       "      <td>25%</td>\n",
       "      <td>816.000000</td>\n",
       "      <td>27.000000</td>\n",
       "      <td>242.000000</td>\n",
       "      <td>58.000000</td>\n",
       "      <td>72.000000</td>\n",
       "      <td>70.000000</td>\n",
       "      <td>69.750000</td>\n",
       "      <td>155.000000</td>\n",
       "      <td>49.0</td>\n",
       "      <td>66.000000</td>\n",
       "      <td>64.000000</td>\n",
       "      <td>25.000000</td>\n",
       "      <td>204.000000</td>\n",
       "      <td>153.250000</td>\n",
       "      <td>119.000000</td>\n",
       "      <td>105.000000</td>\n",
       "    </tr>\n",
       "    <tr>\n",
       "      <td>50%</td>\n",
       "      <td>1622.000000</td>\n",
       "      <td>31.000000</td>\n",
       "      <td>251.500000</td>\n",
       "      <td>97.500000</td>\n",
       "      <td>102.000000</td>\n",
       "      <td>86.000000</td>\n",
       "      <td>100.000000</td>\n",
       "      <td>298.000000</td>\n",
       "      <td>49.0</td>\n",
       "      <td>68.000000</td>\n",
       "      <td>86.500000</td>\n",
       "      <td>64.000000</td>\n",
       "      <td>208.000000</td>\n",
       "      <td>155.500000</td>\n",
       "      <td>151.000000</td>\n",
       "      <td>160.000000</td>\n",
       "    </tr>\n",
       "    <tr>\n",
       "      <td>75%</td>\n",
       "      <td>2431.000000</td>\n",
       "      <td>46.000000</td>\n",
       "      <td>257.750000</td>\n",
       "      <td>152.000000</td>\n",
       "      <td>133.000000</td>\n",
       "      <td>132.000000</td>\n",
       "      <td>157.000000</td>\n",
       "      <td>406.000000</td>\n",
       "      <td>49.0</td>\n",
       "      <td>70.500000</td>\n",
       "      <td>102.000000</td>\n",
       "      <td>106.000000</td>\n",
       "      <td>316.000000</td>\n",
       "      <td>203.500000</td>\n",
       "      <td>205.750000</td>\n",
       "      <td>205.000000</td>\n",
       "    </tr>\n",
       "    <tr>\n",
       "      <td>max</td>\n",
       "      <td>3241.000000</td>\n",
       "      <td>185.000000</td>\n",
       "      <td>325.000000</td>\n",
       "      <td>454.000000</td>\n",
       "      <td>281.000000</td>\n",
       "      <td>603.000000</td>\n",
       "      <td>503.000000</td>\n",
       "      <td>772.000000</td>\n",
       "      <td>49.0</td>\n",
       "      <td>147.000000</td>\n",
       "      <td>159.000000</td>\n",
       "      <td>313.000000</td>\n",
       "      <td>1849.000000</td>\n",
       "      <td>305.000000</td>\n",
       "      <td>636.000000</td>\n",
       "      <td>405.000000</td>\n",
       "    </tr>\n",
       "  </tbody>\n",
       "</table>\n",
       "</div>"
      ],
      "text/plain": [
       "               key      Bulk 1      Bulk 2       Bulk 3       Bulk 4  \\\n",
       "count  3129.000000  252.000000   22.000000  1298.000000  1014.000000   \n",
       "mean   1624.383509   39.242063  253.045455   113.879045   104.394477   \n",
       "std     933.337642   18.277654   21.180578    75.483494    48.184126   \n",
       "min       1.000000   10.000000  228.000000     6.000000    12.000000   \n",
       "25%     816.000000   27.000000  242.000000    58.000000    72.000000   \n",
       "50%    1622.000000   31.000000  251.500000    97.500000   102.000000   \n",
       "75%    2431.000000   46.000000  257.750000   152.000000   133.000000   \n",
       "max    3241.000000  185.000000  325.000000   454.000000   281.000000   \n",
       "\n",
       "           Bulk 5      Bulk 6      Bulk 7  Bulk 8      Bulk 9     Bulk 10  \\\n",
       "count   77.000000  576.000000   25.000000     1.0   19.000000  176.000000   \n",
       "mean   107.025974  118.925347  305.600000    49.0   76.315789   83.284091   \n",
       "std     81.790646   72.057776  191.022904     NaN   21.720581   26.060347   \n",
       "min     11.000000   17.000000   47.000000    49.0   63.000000   24.000000   \n",
       "25%     70.000000   69.750000  155.000000    49.0   66.000000   64.000000   \n",
       "50%     86.000000  100.000000  298.000000    49.0   68.000000   86.500000   \n",
       "75%    132.000000  157.000000  406.000000    49.0   70.500000  102.000000   \n",
       "max    603.000000  503.000000  772.000000    49.0  147.000000  159.000000   \n",
       "\n",
       "          Bulk 11      Bulk 12     Bulk 13      Bulk 14      Bulk 15  \n",
       "count  177.000000  2450.000000   18.000000  2806.000000  2248.000000  \n",
       "mean    76.819209   260.471020  181.111111   170.284747   160.513345  \n",
       "std     59.655365   120.649269   46.088009    65.868652    51.765319  \n",
       "min      8.000000    53.000000  151.000000    16.000000     1.000000  \n",
       "25%     25.000000   204.000000  153.250000   119.000000   105.000000  \n",
       "50%     64.000000   208.000000  155.500000   151.000000   160.000000  \n",
       "75%    106.000000   316.000000  203.500000   205.750000   205.000000  \n",
       "max    313.000000  1849.000000  305.000000   636.000000   405.000000  "
      ]
     },
     "metadata": {},
     "output_type": "display_data"
    },
    {
     "name": "stdout",
     "output_type": "stream",
     "text": [
      "Кол-во дубликатов: 0\n",
      "\n",
      "Кол-во уникальных партий: 3129\n"
     ]
    }
   ],
   "source": [
    "df_info(bulk)"
   ]
  },
  {
   "cell_type": "markdown",
   "metadata": {},
   "source": [
    "- Имеем 3129 строк и 16 столбцов.\n",
    "- Дубликаты отсутствуют.\n",
    "- Большое кол-во пропусков во всех столбцах кроме \"Key\".\n",
    "- Верный тип данных.\n",
    "- Кол-во уникальных партий 3129."
   ]
  },
  {
   "cell_type": "code",
   "execution_count": 6,
   "metadata": {},
   "outputs": [
    {
     "name": "stdout",
     "output_type": "stream",
     "text": [
      "<class 'pandas.core.frame.DataFrame'>\n",
      "RangeIndex: 3129 entries, 0 to 3128\n",
      "Data columns (total 16 columns):\n",
      "key        3129 non-null int64\n",
      "Bulk 1     252 non-null object\n",
      "Bulk 2     22 non-null object\n",
      "Bulk 3     1298 non-null object\n",
      "Bulk 4     1014 non-null object\n",
      "Bulk 5     77 non-null object\n",
      "Bulk 6     576 non-null object\n",
      "Bulk 7     25 non-null object\n",
      "Bulk 8     1 non-null object\n",
      "Bulk 9     19 non-null object\n",
      "Bulk 10    176 non-null object\n",
      "Bulk 11    177 non-null object\n",
      "Bulk 12    2450 non-null object\n",
      "Bulk 13    18 non-null object\n",
      "Bulk 14    2806 non-null object\n",
      "Bulk 15    2248 non-null object\n",
      "dtypes: int64(1), object(15)\n",
      "memory usage: 391.2+ KB\n"
     ]
    },
    {
     "data": {
      "text/html": [
       "<div>\n",
       "<style scoped>\n",
       "    .dataframe tbody tr th:only-of-type {\n",
       "        vertical-align: middle;\n",
       "    }\n",
       "\n",
       "    .dataframe tbody tr th {\n",
       "        vertical-align: top;\n",
       "    }\n",
       "\n",
       "    .dataframe thead th {\n",
       "        text-align: right;\n",
       "    }\n",
       "</style>\n",
       "<table border=\"1\" class=\"dataframe\">\n",
       "  <thead>\n",
       "    <tr style=\"text-align: right;\">\n",
       "      <th></th>\n",
       "      <th>key</th>\n",
       "      <th>Bulk 1</th>\n",
       "      <th>Bulk 2</th>\n",
       "      <th>Bulk 3</th>\n",
       "      <th>Bulk 4</th>\n",
       "      <th>Bulk 5</th>\n",
       "      <th>Bulk 6</th>\n",
       "      <th>Bulk 7</th>\n",
       "      <th>Bulk 8</th>\n",
       "      <th>Bulk 9</th>\n",
       "      <th>Bulk 10</th>\n",
       "      <th>Bulk 11</th>\n",
       "      <th>Bulk 12</th>\n",
       "      <th>Bulk 13</th>\n",
       "      <th>Bulk 14</th>\n",
       "      <th>Bulk 15</th>\n",
       "    </tr>\n",
       "  </thead>\n",
       "  <tbody>\n",
       "    <tr>\n",
       "      <td>0</td>\n",
       "      <td>1</td>\n",
       "      <td>NaN</td>\n",
       "      <td>NaN</td>\n",
       "      <td>NaN</td>\n",
       "      <td>2019-05-03 11:21:30</td>\n",
       "      <td>NaN</td>\n",
       "      <td>NaN</td>\n",
       "      <td>NaN</td>\n",
       "      <td>NaN</td>\n",
       "      <td>NaN</td>\n",
       "      <td>NaN</td>\n",
       "      <td>NaN</td>\n",
       "      <td>2019-05-03 11:03:52</td>\n",
       "      <td>NaN</td>\n",
       "      <td>2019-05-03 11:03:52</td>\n",
       "      <td>2019-05-03 11:03:52</td>\n",
       "    </tr>\n",
       "    <tr>\n",
       "      <td>1</td>\n",
       "      <td>2</td>\n",
       "      <td>NaN</td>\n",
       "      <td>NaN</td>\n",
       "      <td>NaN</td>\n",
       "      <td>2019-05-03 11:46:38</td>\n",
       "      <td>NaN</td>\n",
       "      <td>NaN</td>\n",
       "      <td>NaN</td>\n",
       "      <td>NaN</td>\n",
       "      <td>NaN</td>\n",
       "      <td>NaN</td>\n",
       "      <td>NaN</td>\n",
       "      <td>2019-05-03 11:40:20</td>\n",
       "      <td>NaN</td>\n",
       "      <td>2019-05-03 11:40:20</td>\n",
       "      <td>2019-05-03 11:40:20</td>\n",
       "    </tr>\n",
       "    <tr>\n",
       "      <td>2</td>\n",
       "      <td>3</td>\n",
       "      <td>NaN</td>\n",
       "      <td>NaN</td>\n",
       "      <td>NaN</td>\n",
       "      <td>2019-05-03 12:31:06</td>\n",
       "      <td>NaN</td>\n",
       "      <td>NaN</td>\n",
       "      <td>NaN</td>\n",
       "      <td>NaN</td>\n",
       "      <td>NaN</td>\n",
       "      <td>NaN</td>\n",
       "      <td>NaN</td>\n",
       "      <td>2019-05-03 12:09:40</td>\n",
       "      <td>NaN</td>\n",
       "      <td>2019-05-03 12:09:40</td>\n",
       "      <td>2019-05-03 12:09:40</td>\n",
       "    </tr>\n",
       "    <tr>\n",
       "      <td>3</td>\n",
       "      <td>4</td>\n",
       "      <td>NaN</td>\n",
       "      <td>NaN</td>\n",
       "      <td>NaN</td>\n",
       "      <td>2019-05-03 12:48:43</td>\n",
       "      <td>NaN</td>\n",
       "      <td>NaN</td>\n",
       "      <td>NaN</td>\n",
       "      <td>NaN</td>\n",
       "      <td>NaN</td>\n",
       "      <td>NaN</td>\n",
       "      <td>NaN</td>\n",
       "      <td>2019-05-03 12:41:24</td>\n",
       "      <td>NaN</td>\n",
       "      <td>2019-05-03 12:41:24</td>\n",
       "      <td>2019-05-03 12:41:24</td>\n",
       "    </tr>\n",
       "    <tr>\n",
       "      <td>4</td>\n",
       "      <td>5</td>\n",
       "      <td>NaN</td>\n",
       "      <td>NaN</td>\n",
       "      <td>NaN</td>\n",
       "      <td>2019-05-03 13:18:50</td>\n",
       "      <td>NaN</td>\n",
       "      <td>NaN</td>\n",
       "      <td>NaN</td>\n",
       "      <td>NaN</td>\n",
       "      <td>NaN</td>\n",
       "      <td>NaN</td>\n",
       "      <td>NaN</td>\n",
       "      <td>2019-05-03 13:12:56</td>\n",
       "      <td>NaN</td>\n",
       "      <td>2019-05-03 13:12:56</td>\n",
       "      <td>2019-05-03 13:12:56</td>\n",
       "    </tr>\n",
       "    <tr>\n",
       "      <td>5</td>\n",
       "      <td>6</td>\n",
       "      <td>NaN</td>\n",
       "      <td>NaN</td>\n",
       "      <td>NaN</td>\n",
       "      <td>2019-05-03 13:59:24</td>\n",
       "      <td>NaN</td>\n",
       "      <td>NaN</td>\n",
       "      <td>NaN</td>\n",
       "      <td>NaN</td>\n",
       "      <td>NaN</td>\n",
       "      <td>NaN</td>\n",
       "      <td>NaN</td>\n",
       "      <td>2019-05-03 13:53:27</td>\n",
       "      <td>NaN</td>\n",
       "      <td>2019-05-03 13:53:27</td>\n",
       "      <td>2019-05-03 13:53:27</td>\n",
       "    </tr>\n",
       "    <tr>\n",
       "      <td>6</td>\n",
       "      <td>7</td>\n",
       "      <td>NaN</td>\n",
       "      <td>NaN</td>\n",
       "      <td>NaN</td>\n",
       "      <td>2019-05-03 14:29:14</td>\n",
       "      <td>NaN</td>\n",
       "      <td>NaN</td>\n",
       "      <td>NaN</td>\n",
       "      <td>NaN</td>\n",
       "      <td>NaN</td>\n",
       "      <td>NaN</td>\n",
       "      <td>NaN</td>\n",
       "      <td>2019-05-03 14:22:19</td>\n",
       "      <td>NaN</td>\n",
       "      <td>2019-05-03 14:22:19</td>\n",
       "      <td>2019-05-03 14:22:19</td>\n",
       "    </tr>\n",
       "    <tr>\n",
       "      <td>7</td>\n",
       "      <td>8</td>\n",
       "      <td>NaN</td>\n",
       "      <td>NaN</td>\n",
       "      <td>NaN</td>\n",
       "      <td>2019-05-03 15:04:05</td>\n",
       "      <td>NaN</td>\n",
       "      <td>NaN</td>\n",
       "      <td>NaN</td>\n",
       "      <td>NaN</td>\n",
       "      <td>NaN</td>\n",
       "      <td>NaN</td>\n",
       "      <td>NaN</td>\n",
       "      <td>2019-05-03 14:55:46</td>\n",
       "      <td>NaN</td>\n",
       "      <td>2019-05-03 14:55:46</td>\n",
       "      <td>2019-05-03 14:55:46</td>\n",
       "    </tr>\n",
       "    <tr>\n",
       "      <td>8</td>\n",
       "      <td>9</td>\n",
       "      <td>NaN</td>\n",
       "      <td>NaN</td>\n",
       "      <td>NaN</td>\n",
       "      <td>2019-05-03 15:47:34</td>\n",
       "      <td>NaN</td>\n",
       "      <td>NaN</td>\n",
       "      <td>NaN</td>\n",
       "      <td>NaN</td>\n",
       "      <td>NaN</td>\n",
       "      <td>NaN</td>\n",
       "      <td>NaN</td>\n",
       "      <td>2019-05-03 15:41:00</td>\n",
       "      <td>NaN</td>\n",
       "      <td>2019-05-03 15:41:00</td>\n",
       "      <td>2019-05-03 15:41:00</td>\n",
       "    </tr>\n",
       "    <tr>\n",
       "      <td>9</td>\n",
       "      <td>10</td>\n",
       "      <td>NaN</td>\n",
       "      <td>NaN</td>\n",
       "      <td>NaN</td>\n",
       "      <td>NaN</td>\n",
       "      <td>NaN</td>\n",
       "      <td>NaN</td>\n",
       "      <td>NaN</td>\n",
       "      <td>NaN</td>\n",
       "      <td>NaN</td>\n",
       "      <td>NaN</td>\n",
       "      <td>NaN</td>\n",
       "      <td>2019-05-03 16:18:52</td>\n",
       "      <td>NaN</td>\n",
       "      <td>2019-05-03 16:18:52</td>\n",
       "      <td>2019-05-03 16:18:52</td>\n",
       "    </tr>\n",
       "  </tbody>\n",
       "</table>\n",
       "</div>"
      ],
      "text/plain": [
       "   key Bulk 1 Bulk 2 Bulk 3               Bulk 4 Bulk 5 Bulk 6 Bulk 7 Bulk 8  \\\n",
       "0    1    NaN    NaN    NaN  2019-05-03 11:21:30    NaN    NaN    NaN    NaN   \n",
       "1    2    NaN    NaN    NaN  2019-05-03 11:46:38    NaN    NaN    NaN    NaN   \n",
       "2    3    NaN    NaN    NaN  2019-05-03 12:31:06    NaN    NaN    NaN    NaN   \n",
       "3    4    NaN    NaN    NaN  2019-05-03 12:48:43    NaN    NaN    NaN    NaN   \n",
       "4    5    NaN    NaN    NaN  2019-05-03 13:18:50    NaN    NaN    NaN    NaN   \n",
       "5    6    NaN    NaN    NaN  2019-05-03 13:59:24    NaN    NaN    NaN    NaN   \n",
       "6    7    NaN    NaN    NaN  2019-05-03 14:29:14    NaN    NaN    NaN    NaN   \n",
       "7    8    NaN    NaN    NaN  2019-05-03 15:04:05    NaN    NaN    NaN    NaN   \n",
       "8    9    NaN    NaN    NaN  2019-05-03 15:47:34    NaN    NaN    NaN    NaN   \n",
       "9   10    NaN    NaN    NaN                  NaN    NaN    NaN    NaN    NaN   \n",
       "\n",
       "  Bulk 9 Bulk 10 Bulk 11              Bulk 12 Bulk 13              Bulk 14  \\\n",
       "0    NaN     NaN     NaN  2019-05-03 11:03:52     NaN  2019-05-03 11:03:52   \n",
       "1    NaN     NaN     NaN  2019-05-03 11:40:20     NaN  2019-05-03 11:40:20   \n",
       "2    NaN     NaN     NaN  2019-05-03 12:09:40     NaN  2019-05-03 12:09:40   \n",
       "3    NaN     NaN     NaN  2019-05-03 12:41:24     NaN  2019-05-03 12:41:24   \n",
       "4    NaN     NaN     NaN  2019-05-03 13:12:56     NaN  2019-05-03 13:12:56   \n",
       "5    NaN     NaN     NaN  2019-05-03 13:53:27     NaN  2019-05-03 13:53:27   \n",
       "6    NaN     NaN     NaN  2019-05-03 14:22:19     NaN  2019-05-03 14:22:19   \n",
       "7    NaN     NaN     NaN  2019-05-03 14:55:46     NaN  2019-05-03 14:55:46   \n",
       "8    NaN     NaN     NaN  2019-05-03 15:41:00     NaN  2019-05-03 15:41:00   \n",
       "9    NaN     NaN     NaN  2019-05-03 16:18:52     NaN  2019-05-03 16:18:52   \n",
       "\n",
       "               Bulk 15  \n",
       "0  2019-05-03 11:03:52  \n",
       "1  2019-05-03 11:40:20  \n",
       "2  2019-05-03 12:09:40  \n",
       "3  2019-05-03 12:41:24  \n",
       "4  2019-05-03 13:12:56  \n",
       "5  2019-05-03 13:53:27  \n",
       "6  2019-05-03 14:22:19  \n",
       "7  2019-05-03 14:55:46  \n",
       "8  2019-05-03 15:41:00  \n",
       "9  2019-05-03 16:18:52  "
      ]
     },
     "metadata": {},
     "output_type": "display_data"
    },
    {
     "data": {
      "text/html": [
       "<div>\n",
       "<style scoped>\n",
       "    .dataframe tbody tr th:only-of-type {\n",
       "        vertical-align: middle;\n",
       "    }\n",
       "\n",
       "    .dataframe tbody tr th {\n",
       "        vertical-align: top;\n",
       "    }\n",
       "\n",
       "    .dataframe thead th {\n",
       "        text-align: right;\n",
       "    }\n",
       "</style>\n",
       "<table border=\"1\" class=\"dataframe\">\n",
       "  <thead>\n",
       "    <tr style=\"text-align: right;\">\n",
       "      <th></th>\n",
       "      <th>key</th>\n",
       "    </tr>\n",
       "  </thead>\n",
       "  <tbody>\n",
       "    <tr>\n",
       "      <td>count</td>\n",
       "      <td>3129.000000</td>\n",
       "    </tr>\n",
       "    <tr>\n",
       "      <td>mean</td>\n",
       "      <td>1624.383509</td>\n",
       "    </tr>\n",
       "    <tr>\n",
       "      <td>std</td>\n",
       "      <td>933.337642</td>\n",
       "    </tr>\n",
       "    <tr>\n",
       "      <td>min</td>\n",
       "      <td>1.000000</td>\n",
       "    </tr>\n",
       "    <tr>\n",
       "      <td>25%</td>\n",
       "      <td>816.000000</td>\n",
       "    </tr>\n",
       "    <tr>\n",
       "      <td>50%</td>\n",
       "      <td>1622.000000</td>\n",
       "    </tr>\n",
       "    <tr>\n",
       "      <td>75%</td>\n",
       "      <td>2431.000000</td>\n",
       "    </tr>\n",
       "    <tr>\n",
       "      <td>max</td>\n",
       "      <td>3241.000000</td>\n",
       "    </tr>\n",
       "  </tbody>\n",
       "</table>\n",
       "</div>"
      ],
      "text/plain": [
       "               key\n",
       "count  3129.000000\n",
       "mean   1624.383509\n",
       "std     933.337642\n",
       "min       1.000000\n",
       "25%     816.000000\n",
       "50%    1622.000000\n",
       "75%    2431.000000\n",
       "max    3241.000000"
      ]
     },
     "metadata": {},
     "output_type": "display_data"
    },
    {
     "name": "stdout",
     "output_type": "stream",
     "text": [
      "Кол-во дубликатов: 0\n",
      "\n",
      "Кол-во уникальных партий: 3129\n"
     ]
    }
   ],
   "source": [
    "df_info(bulk_time)"
   ]
  },
  {
   "cell_type": "markdown",
   "metadata": {},
   "source": [
    "- Имеем 3129 строк и 16 столбцов.\n",
    "- Дубликаты отсутствуют.\n",
    "- Большое кол-во пропусков во всех столбцах кроме \"Key\".\n",
    "- Нужно изменить тип данных.\n",
    "- Кол-во уникальных партий 3129."
   ]
  },
  {
   "cell_type": "code",
   "execution_count": 7,
   "metadata": {},
   "outputs": [
    {
     "name": "stdout",
     "output_type": "stream",
     "text": [
      "<class 'pandas.core.frame.DataFrame'>\n",
      "RangeIndex: 3239 entries, 0 to 3238\n",
      "Data columns (total 2 columns):\n",
      "key      3239 non-null int64\n",
      "Газ 1    3239 non-null float64\n",
      "dtypes: float64(1), int64(1)\n",
      "memory usage: 50.7 KB\n"
     ]
    },
    {
     "data": {
      "text/html": [
       "<div>\n",
       "<style scoped>\n",
       "    .dataframe tbody tr th:only-of-type {\n",
       "        vertical-align: middle;\n",
       "    }\n",
       "\n",
       "    .dataframe tbody tr th {\n",
       "        vertical-align: top;\n",
       "    }\n",
       "\n",
       "    .dataframe thead th {\n",
       "        text-align: right;\n",
       "    }\n",
       "</style>\n",
       "<table border=\"1\" class=\"dataframe\">\n",
       "  <thead>\n",
       "    <tr style=\"text-align: right;\">\n",
       "      <th></th>\n",
       "      <th>key</th>\n",
       "      <th>Газ 1</th>\n",
       "    </tr>\n",
       "  </thead>\n",
       "  <tbody>\n",
       "    <tr>\n",
       "      <td>0</td>\n",
       "      <td>1</td>\n",
       "      <td>29.749986</td>\n",
       "    </tr>\n",
       "    <tr>\n",
       "      <td>1</td>\n",
       "      <td>2</td>\n",
       "      <td>12.555561</td>\n",
       "    </tr>\n",
       "    <tr>\n",
       "      <td>2</td>\n",
       "      <td>3</td>\n",
       "      <td>28.554793</td>\n",
       "    </tr>\n",
       "    <tr>\n",
       "      <td>3</td>\n",
       "      <td>4</td>\n",
       "      <td>18.841219</td>\n",
       "    </tr>\n",
       "    <tr>\n",
       "      <td>4</td>\n",
       "      <td>5</td>\n",
       "      <td>5.413692</td>\n",
       "    </tr>\n",
       "    <tr>\n",
       "      <td>5</td>\n",
       "      <td>6</td>\n",
       "      <td>11.273392</td>\n",
       "    </tr>\n",
       "    <tr>\n",
       "      <td>6</td>\n",
       "      <td>7</td>\n",
       "      <td>9.836267</td>\n",
       "    </tr>\n",
       "    <tr>\n",
       "      <td>7</td>\n",
       "      <td>8</td>\n",
       "      <td>15.171553</td>\n",
       "    </tr>\n",
       "    <tr>\n",
       "      <td>8</td>\n",
       "      <td>9</td>\n",
       "      <td>8.216623</td>\n",
       "    </tr>\n",
       "    <tr>\n",
       "      <td>9</td>\n",
       "      <td>10</td>\n",
       "      <td>6.529891</td>\n",
       "    </tr>\n",
       "  </tbody>\n",
       "</table>\n",
       "</div>"
      ],
      "text/plain": [
       "   key      Газ 1\n",
       "0    1  29.749986\n",
       "1    2  12.555561\n",
       "2    3  28.554793\n",
       "3    4  18.841219\n",
       "4    5   5.413692\n",
       "5    6  11.273392\n",
       "6    7   9.836267\n",
       "7    8  15.171553\n",
       "8    9   8.216623\n",
       "9   10   6.529891"
      ]
     },
     "metadata": {},
     "output_type": "display_data"
    },
    {
     "data": {
      "text/html": [
       "<div>\n",
       "<style scoped>\n",
       "    .dataframe tbody tr th:only-of-type {\n",
       "        vertical-align: middle;\n",
       "    }\n",
       "\n",
       "    .dataframe tbody tr th {\n",
       "        vertical-align: top;\n",
       "    }\n",
       "\n",
       "    .dataframe thead th {\n",
       "        text-align: right;\n",
       "    }\n",
       "</style>\n",
       "<table border=\"1\" class=\"dataframe\">\n",
       "  <thead>\n",
       "    <tr style=\"text-align: right;\">\n",
       "      <th></th>\n",
       "      <th>key</th>\n",
       "      <th>Газ 1</th>\n",
       "    </tr>\n",
       "  </thead>\n",
       "  <tbody>\n",
       "    <tr>\n",
       "      <td>count</td>\n",
       "      <td>3239.000000</td>\n",
       "      <td>3239.000000</td>\n",
       "    </tr>\n",
       "    <tr>\n",
       "      <td>mean</td>\n",
       "      <td>1621.861377</td>\n",
       "      <td>11.002062</td>\n",
       "    </tr>\n",
       "    <tr>\n",
       "      <td>std</td>\n",
       "      <td>935.386334</td>\n",
       "      <td>6.220327</td>\n",
       "    </tr>\n",
       "    <tr>\n",
       "      <td>min</td>\n",
       "      <td>1.000000</td>\n",
       "      <td>0.008399</td>\n",
       "    </tr>\n",
       "    <tr>\n",
       "      <td>25%</td>\n",
       "      <td>812.500000</td>\n",
       "      <td>7.043089</td>\n",
       "    </tr>\n",
       "    <tr>\n",
       "      <td>50%</td>\n",
       "      <td>1622.000000</td>\n",
       "      <td>9.836267</td>\n",
       "    </tr>\n",
       "    <tr>\n",
       "      <td>75%</td>\n",
       "      <td>2431.500000</td>\n",
       "      <td>13.769915</td>\n",
       "    </tr>\n",
       "    <tr>\n",
       "      <td>max</td>\n",
       "      <td>3241.000000</td>\n",
       "      <td>77.995040</td>\n",
       "    </tr>\n",
       "  </tbody>\n",
       "</table>\n",
       "</div>"
      ],
      "text/plain": [
       "               key        Газ 1\n",
       "count  3239.000000  3239.000000\n",
       "mean   1621.861377    11.002062\n",
       "std     935.386334     6.220327\n",
       "min       1.000000     0.008399\n",
       "25%     812.500000     7.043089\n",
       "50%    1622.000000     9.836267\n",
       "75%    2431.500000    13.769915\n",
       "max    3241.000000    77.995040"
      ]
     },
     "metadata": {},
     "output_type": "display_data"
    },
    {
     "name": "stdout",
     "output_type": "stream",
     "text": [
      "Кол-во дубликатов: 0\n",
      "\n",
      "Кол-во уникальных партий: 3239\n"
     ]
    }
   ],
   "source": [
    "df_info(gas)"
   ]
  },
  {
   "cell_type": "markdown",
   "metadata": {},
   "source": [
    "- Имеем 3239 строк и 2 столбца.\n",
    "- Дубликаты и пропуски отсутствуют.\n",
    "- Кол-во уникальных партий 3239."
   ]
  },
  {
   "cell_type": "code",
   "execution_count": 8,
   "metadata": {},
   "outputs": [
    {
     "name": "stdout",
     "output_type": "stream",
     "text": [
      "<class 'pandas.core.frame.DataFrame'>\n",
      "RangeIndex: 15907 entries, 0 to 15906\n",
      "Data columns (total 3 columns):\n",
      "key             15907 non-null int64\n",
      "Время замера    15907 non-null object\n",
      "Температура     13006 non-null float64\n",
      "dtypes: float64(1), int64(1), object(1)\n",
      "memory usage: 372.9+ KB\n"
     ]
    },
    {
     "data": {
      "text/html": [
       "<div>\n",
       "<style scoped>\n",
       "    .dataframe tbody tr th:only-of-type {\n",
       "        vertical-align: middle;\n",
       "    }\n",
       "\n",
       "    .dataframe tbody tr th {\n",
       "        vertical-align: top;\n",
       "    }\n",
       "\n",
       "    .dataframe thead th {\n",
       "        text-align: right;\n",
       "    }\n",
       "</style>\n",
       "<table border=\"1\" class=\"dataframe\">\n",
       "  <thead>\n",
       "    <tr style=\"text-align: right;\">\n",
       "      <th></th>\n",
       "      <th>key</th>\n",
       "      <th>Время замера</th>\n",
       "      <th>Температура</th>\n",
       "    </tr>\n",
       "  </thead>\n",
       "  <tbody>\n",
       "    <tr>\n",
       "      <td>0</td>\n",
       "      <td>1</td>\n",
       "      <td>2019-05-03 11:16:18</td>\n",
       "      <td>1571.0</td>\n",
       "    </tr>\n",
       "    <tr>\n",
       "      <td>1</td>\n",
       "      <td>1</td>\n",
       "      <td>2019-05-03 11:25:53</td>\n",
       "      <td>1604.0</td>\n",
       "    </tr>\n",
       "    <tr>\n",
       "      <td>2</td>\n",
       "      <td>1</td>\n",
       "      <td>2019-05-03 11:29:11</td>\n",
       "      <td>1618.0</td>\n",
       "    </tr>\n",
       "    <tr>\n",
       "      <td>3</td>\n",
       "      <td>1</td>\n",
       "      <td>2019-05-03 11:30:01</td>\n",
       "      <td>1601.0</td>\n",
       "    </tr>\n",
       "    <tr>\n",
       "      <td>4</td>\n",
       "      <td>1</td>\n",
       "      <td>2019-05-03 11:30:39</td>\n",
       "      <td>1613.0</td>\n",
       "    </tr>\n",
       "    <tr>\n",
       "      <td>5</td>\n",
       "      <td>2</td>\n",
       "      <td>2019-05-03 11:37:27</td>\n",
       "      <td>1581.0</td>\n",
       "    </tr>\n",
       "    <tr>\n",
       "      <td>6</td>\n",
       "      <td>2</td>\n",
       "      <td>2019-05-03 11:38:00</td>\n",
       "      <td>1577.0</td>\n",
       "    </tr>\n",
       "    <tr>\n",
       "      <td>7</td>\n",
       "      <td>2</td>\n",
       "      <td>2019-05-03 11:49:38</td>\n",
       "      <td>1589.0</td>\n",
       "    </tr>\n",
       "    <tr>\n",
       "      <td>8</td>\n",
       "      <td>2</td>\n",
       "      <td>2019-05-03 11:55:50</td>\n",
       "      <td>1604.0</td>\n",
       "    </tr>\n",
       "    <tr>\n",
       "      <td>9</td>\n",
       "      <td>2</td>\n",
       "      <td>2019-05-03 11:58:24</td>\n",
       "      <td>1608.0</td>\n",
       "    </tr>\n",
       "  </tbody>\n",
       "</table>\n",
       "</div>"
      ],
      "text/plain": [
       "   key         Время замера  Температура\n",
       "0    1  2019-05-03 11:16:18       1571.0\n",
       "1    1  2019-05-03 11:25:53       1604.0\n",
       "2    1  2019-05-03 11:29:11       1618.0\n",
       "3    1  2019-05-03 11:30:01       1601.0\n",
       "4    1  2019-05-03 11:30:39       1613.0\n",
       "5    2  2019-05-03 11:37:27       1581.0\n",
       "6    2  2019-05-03 11:38:00       1577.0\n",
       "7    2  2019-05-03 11:49:38       1589.0\n",
       "8    2  2019-05-03 11:55:50       1604.0\n",
       "9    2  2019-05-03 11:58:24       1608.0"
      ]
     },
     "metadata": {},
     "output_type": "display_data"
    },
    {
     "data": {
      "text/html": [
       "<div>\n",
       "<style scoped>\n",
       "    .dataframe tbody tr th:only-of-type {\n",
       "        vertical-align: middle;\n",
       "    }\n",
       "\n",
       "    .dataframe tbody tr th {\n",
       "        vertical-align: top;\n",
       "    }\n",
       "\n",
       "    .dataframe thead th {\n",
       "        text-align: right;\n",
       "    }\n",
       "</style>\n",
       "<table border=\"1\" class=\"dataframe\">\n",
       "  <thead>\n",
       "    <tr style=\"text-align: right;\">\n",
       "      <th></th>\n",
       "      <th>key</th>\n",
       "      <th>Температура</th>\n",
       "    </tr>\n",
       "  </thead>\n",
       "  <tbody>\n",
       "    <tr>\n",
       "      <td>count</td>\n",
       "      <td>15907.000000</td>\n",
       "      <td>13006.000000</td>\n",
       "    </tr>\n",
       "    <tr>\n",
       "      <td>mean</td>\n",
       "      <td>1607.880870</td>\n",
       "      <td>1591.840920</td>\n",
       "    </tr>\n",
       "    <tr>\n",
       "      <td>std</td>\n",
       "      <td>942.212073</td>\n",
       "      <td>21.375851</td>\n",
       "    </tr>\n",
       "    <tr>\n",
       "      <td>min</td>\n",
       "      <td>1.000000</td>\n",
       "      <td>1191.000000</td>\n",
       "    </tr>\n",
       "    <tr>\n",
       "      <td>25%</td>\n",
       "      <td>790.000000</td>\n",
       "      <td>1581.000000</td>\n",
       "    </tr>\n",
       "    <tr>\n",
       "      <td>50%</td>\n",
       "      <td>1618.000000</td>\n",
       "      <td>1591.000000</td>\n",
       "    </tr>\n",
       "    <tr>\n",
       "      <td>75%</td>\n",
       "      <td>2427.000000</td>\n",
       "      <td>1601.000000</td>\n",
       "    </tr>\n",
       "    <tr>\n",
       "      <td>max</td>\n",
       "      <td>3241.000000</td>\n",
       "      <td>1705.000000</td>\n",
       "    </tr>\n",
       "  </tbody>\n",
       "</table>\n",
       "</div>"
      ],
      "text/plain": [
       "                key   Температура\n",
       "count  15907.000000  13006.000000\n",
       "mean    1607.880870   1591.840920\n",
       "std      942.212073     21.375851\n",
       "min        1.000000   1191.000000\n",
       "25%      790.000000   1581.000000\n",
       "50%     1618.000000   1591.000000\n",
       "75%     2427.000000   1601.000000\n",
       "max     3241.000000   1705.000000"
      ]
     },
     "metadata": {},
     "output_type": "display_data"
    },
    {
     "name": "stdout",
     "output_type": "stream",
     "text": [
      "Кол-во дубликатов: 0\n",
      "\n",
      "Кол-во уникальных партий: 3216\n"
     ]
    }
   ],
   "source": [
    "df_info(temp)"
   ]
  },
  {
   "cell_type": "markdown",
   "metadata": {},
   "source": [
    "- Имеем больше 15 тысяч строк и 3 столбца.\n",
    "- Дубликаты отсутствуют.\n",
    "- Есть пропуски в столбце \"Температура\".\n",
    "- Нужно изменить тип данных в столбце \"Время замера\".\n",
    "- Кол-во уникальных партий 3216."
   ]
  },
  {
   "cell_type": "code",
   "execution_count": 9,
   "metadata": {},
   "outputs": [
    {
     "name": "stdout",
     "output_type": "stream",
     "text": [
      "<class 'pandas.core.frame.DataFrame'>\n",
      "RangeIndex: 3081 entries, 0 to 3080\n",
      "Data columns (total 10 columns):\n",
      "key       3081 non-null int64\n",
      "Wire 1    3055 non-null float64\n",
      "Wire 2    1079 non-null float64\n",
      "Wire 3    63 non-null float64\n",
      "Wire 4    14 non-null float64\n",
      "Wire 5    1 non-null float64\n",
      "Wire 6    73 non-null float64\n",
      "Wire 7    11 non-null float64\n",
      "Wire 8    19 non-null float64\n",
      "Wire 9    29 non-null float64\n",
      "dtypes: float64(9), int64(1)\n",
      "memory usage: 240.8 KB\n"
     ]
    },
    {
     "data": {
      "text/html": [
       "<div>\n",
       "<style scoped>\n",
       "    .dataframe tbody tr th:only-of-type {\n",
       "        vertical-align: middle;\n",
       "    }\n",
       "\n",
       "    .dataframe tbody tr th {\n",
       "        vertical-align: top;\n",
       "    }\n",
       "\n",
       "    .dataframe thead th {\n",
       "        text-align: right;\n",
       "    }\n",
       "</style>\n",
       "<table border=\"1\" class=\"dataframe\">\n",
       "  <thead>\n",
       "    <tr style=\"text-align: right;\">\n",
       "      <th></th>\n",
       "      <th>key</th>\n",
       "      <th>Wire 1</th>\n",
       "      <th>Wire 2</th>\n",
       "      <th>Wire 3</th>\n",
       "      <th>Wire 4</th>\n",
       "      <th>Wire 5</th>\n",
       "      <th>Wire 6</th>\n",
       "      <th>Wire 7</th>\n",
       "      <th>Wire 8</th>\n",
       "      <th>Wire 9</th>\n",
       "    </tr>\n",
       "  </thead>\n",
       "  <tbody>\n",
       "    <tr>\n",
       "      <td>0</td>\n",
       "      <td>1</td>\n",
       "      <td>60.059998</td>\n",
       "      <td>NaN</td>\n",
       "      <td>NaN</td>\n",
       "      <td>NaN</td>\n",
       "      <td>NaN</td>\n",
       "      <td>NaN</td>\n",
       "      <td>NaN</td>\n",
       "      <td>NaN</td>\n",
       "      <td>NaN</td>\n",
       "    </tr>\n",
       "    <tr>\n",
       "      <td>1</td>\n",
       "      <td>2</td>\n",
       "      <td>96.052315</td>\n",
       "      <td>NaN</td>\n",
       "      <td>NaN</td>\n",
       "      <td>NaN</td>\n",
       "      <td>NaN</td>\n",
       "      <td>NaN</td>\n",
       "      <td>NaN</td>\n",
       "      <td>NaN</td>\n",
       "      <td>NaN</td>\n",
       "    </tr>\n",
       "    <tr>\n",
       "      <td>2</td>\n",
       "      <td>3</td>\n",
       "      <td>91.160157</td>\n",
       "      <td>NaN</td>\n",
       "      <td>NaN</td>\n",
       "      <td>NaN</td>\n",
       "      <td>NaN</td>\n",
       "      <td>NaN</td>\n",
       "      <td>NaN</td>\n",
       "      <td>NaN</td>\n",
       "      <td>NaN</td>\n",
       "    </tr>\n",
       "    <tr>\n",
       "      <td>3</td>\n",
       "      <td>4</td>\n",
       "      <td>89.063515</td>\n",
       "      <td>NaN</td>\n",
       "      <td>NaN</td>\n",
       "      <td>NaN</td>\n",
       "      <td>NaN</td>\n",
       "      <td>NaN</td>\n",
       "      <td>NaN</td>\n",
       "      <td>NaN</td>\n",
       "      <td>NaN</td>\n",
       "    </tr>\n",
       "    <tr>\n",
       "      <td>4</td>\n",
       "      <td>5</td>\n",
       "      <td>89.238236</td>\n",
       "      <td>9.114560</td>\n",
       "      <td>NaN</td>\n",
       "      <td>NaN</td>\n",
       "      <td>NaN</td>\n",
       "      <td>NaN</td>\n",
       "      <td>NaN</td>\n",
       "      <td>NaN</td>\n",
       "      <td>NaN</td>\n",
       "    </tr>\n",
       "    <tr>\n",
       "      <td>5</td>\n",
       "      <td>6</td>\n",
       "      <td>99.109917</td>\n",
       "      <td>9.114560</td>\n",
       "      <td>NaN</td>\n",
       "      <td>NaN</td>\n",
       "      <td>NaN</td>\n",
       "      <td>NaN</td>\n",
       "      <td>NaN</td>\n",
       "      <td>NaN</td>\n",
       "      <td>NaN</td>\n",
       "    </tr>\n",
       "    <tr>\n",
       "      <td>6</td>\n",
       "      <td>7</td>\n",
       "      <td>98.061600</td>\n",
       "      <td>NaN</td>\n",
       "      <td>NaN</td>\n",
       "      <td>NaN</td>\n",
       "      <td>NaN</td>\n",
       "      <td>NaN</td>\n",
       "      <td>NaN</td>\n",
       "      <td>NaN</td>\n",
       "      <td>NaN</td>\n",
       "    </tr>\n",
       "    <tr>\n",
       "      <td>7</td>\n",
       "      <td>8</td>\n",
       "      <td>155.282394</td>\n",
       "      <td>NaN</td>\n",
       "      <td>NaN</td>\n",
       "      <td>NaN</td>\n",
       "      <td>NaN</td>\n",
       "      <td>NaN</td>\n",
       "      <td>NaN</td>\n",
       "      <td>NaN</td>\n",
       "      <td>NaN</td>\n",
       "    </tr>\n",
       "    <tr>\n",
       "      <td>8</td>\n",
       "      <td>9</td>\n",
       "      <td>113.393279</td>\n",
       "      <td>9.143681</td>\n",
       "      <td>NaN</td>\n",
       "      <td>NaN</td>\n",
       "      <td>NaN</td>\n",
       "      <td>NaN</td>\n",
       "      <td>NaN</td>\n",
       "      <td>NaN</td>\n",
       "      <td>NaN</td>\n",
       "    </tr>\n",
       "    <tr>\n",
       "      <td>9</td>\n",
       "      <td>10</td>\n",
       "      <td>81.244796</td>\n",
       "      <td>12.376000</td>\n",
       "      <td>NaN</td>\n",
       "      <td>NaN</td>\n",
       "      <td>NaN</td>\n",
       "      <td>NaN</td>\n",
       "      <td>NaN</td>\n",
       "      <td>NaN</td>\n",
       "      <td>NaN</td>\n",
       "    </tr>\n",
       "  </tbody>\n",
       "</table>\n",
       "</div>"
      ],
      "text/plain": [
       "   key      Wire 1     Wire 2  Wire 3  Wire 4  Wire 5  Wire 6  Wire 7  Wire 8  \\\n",
       "0    1   60.059998        NaN     NaN     NaN     NaN     NaN     NaN     NaN   \n",
       "1    2   96.052315        NaN     NaN     NaN     NaN     NaN     NaN     NaN   \n",
       "2    3   91.160157        NaN     NaN     NaN     NaN     NaN     NaN     NaN   \n",
       "3    4   89.063515        NaN     NaN     NaN     NaN     NaN     NaN     NaN   \n",
       "4    5   89.238236   9.114560     NaN     NaN     NaN     NaN     NaN     NaN   \n",
       "5    6   99.109917   9.114560     NaN     NaN     NaN     NaN     NaN     NaN   \n",
       "6    7   98.061600        NaN     NaN     NaN     NaN     NaN     NaN     NaN   \n",
       "7    8  155.282394        NaN     NaN     NaN     NaN     NaN     NaN     NaN   \n",
       "8    9  113.393279   9.143681     NaN     NaN     NaN     NaN     NaN     NaN   \n",
       "9   10   81.244796  12.376000     NaN     NaN     NaN     NaN     NaN     NaN   \n",
       "\n",
       "   Wire 9  \n",
       "0     NaN  \n",
       "1     NaN  \n",
       "2     NaN  \n",
       "3     NaN  \n",
       "4     NaN  \n",
       "5     NaN  \n",
       "6     NaN  \n",
       "7     NaN  \n",
       "8     NaN  \n",
       "9     NaN  "
      ]
     },
     "metadata": {},
     "output_type": "display_data"
    },
    {
     "data": {
      "text/html": [
       "<div>\n",
       "<style scoped>\n",
       "    .dataframe tbody tr th:only-of-type {\n",
       "        vertical-align: middle;\n",
       "    }\n",
       "\n",
       "    .dataframe tbody tr th {\n",
       "        vertical-align: top;\n",
       "    }\n",
       "\n",
       "    .dataframe thead th {\n",
       "        text-align: right;\n",
       "    }\n",
       "</style>\n",
       "<table border=\"1\" class=\"dataframe\">\n",
       "  <thead>\n",
       "    <tr style=\"text-align: right;\">\n",
       "      <th></th>\n",
       "      <th>key</th>\n",
       "      <th>Wire 1</th>\n",
       "      <th>Wire 2</th>\n",
       "      <th>Wire 3</th>\n",
       "      <th>Wire 4</th>\n",
       "      <th>Wire 5</th>\n",
       "      <th>Wire 6</th>\n",
       "      <th>Wire 7</th>\n",
       "      <th>Wire 8</th>\n",
       "      <th>Wire 9</th>\n",
       "    </tr>\n",
       "  </thead>\n",
       "  <tbody>\n",
       "    <tr>\n",
       "      <td>count</td>\n",
       "      <td>3081.000000</td>\n",
       "      <td>3055.000000</td>\n",
       "      <td>1079.000000</td>\n",
       "      <td>63.000000</td>\n",
       "      <td>14.000000</td>\n",
       "      <td>1.000</td>\n",
       "      <td>73.000000</td>\n",
       "      <td>11.000000</td>\n",
       "      <td>19.000000</td>\n",
       "      <td>29.000000</td>\n",
       "    </tr>\n",
       "    <tr>\n",
       "      <td>mean</td>\n",
       "      <td>1623.426485</td>\n",
       "      <td>100.895853</td>\n",
       "      <td>50.577323</td>\n",
       "      <td>189.482681</td>\n",
       "      <td>57.442841</td>\n",
       "      <td>15.132</td>\n",
       "      <td>48.016974</td>\n",
       "      <td>10.039007</td>\n",
       "      <td>53.625193</td>\n",
       "      <td>34.155752</td>\n",
       "    </tr>\n",
       "    <tr>\n",
       "      <td>std</td>\n",
       "      <td>932.996726</td>\n",
       "      <td>42.012518</td>\n",
       "      <td>39.320216</td>\n",
       "      <td>99.513444</td>\n",
       "      <td>28.824667</td>\n",
       "      <td>NaN</td>\n",
       "      <td>33.919845</td>\n",
       "      <td>8.610584</td>\n",
       "      <td>16.881728</td>\n",
       "      <td>19.931616</td>\n",
       "    </tr>\n",
       "    <tr>\n",
       "      <td>min</td>\n",
       "      <td>1.000000</td>\n",
       "      <td>1.918800</td>\n",
       "      <td>0.030160</td>\n",
       "      <td>0.144144</td>\n",
       "      <td>24.148801</td>\n",
       "      <td>15.132</td>\n",
       "      <td>0.034320</td>\n",
       "      <td>0.234208</td>\n",
       "      <td>45.076721</td>\n",
       "      <td>4.622800</td>\n",
       "    </tr>\n",
       "    <tr>\n",
       "      <td>25%</td>\n",
       "      <td>823.000000</td>\n",
       "      <td>72.115684</td>\n",
       "      <td>20.193680</td>\n",
       "      <td>95.135044</td>\n",
       "      <td>40.807002</td>\n",
       "      <td>15.132</td>\n",
       "      <td>25.053600</td>\n",
       "      <td>6.762756</td>\n",
       "      <td>46.094879</td>\n",
       "      <td>22.058401</td>\n",
       "    </tr>\n",
       "    <tr>\n",
       "      <td>50%</td>\n",
       "      <td>1619.000000</td>\n",
       "      <td>100.158234</td>\n",
       "      <td>40.142956</td>\n",
       "      <td>235.194977</td>\n",
       "      <td>45.234282</td>\n",
       "      <td>15.132</td>\n",
       "      <td>42.076324</td>\n",
       "      <td>9.017009</td>\n",
       "      <td>46.279999</td>\n",
       "      <td>30.066399</td>\n",
       "    </tr>\n",
       "    <tr>\n",
       "      <td>75%</td>\n",
       "      <td>2434.000000</td>\n",
       "      <td>126.060484</td>\n",
       "      <td>70.227558</td>\n",
       "      <td>276.252014</td>\n",
       "      <td>76.124619</td>\n",
       "      <td>15.132</td>\n",
       "      <td>64.212723</td>\n",
       "      <td>11.886057</td>\n",
       "      <td>48.089603</td>\n",
       "      <td>43.862003</td>\n",
       "    </tr>\n",
       "    <tr>\n",
       "      <td>max</td>\n",
       "      <td>3241.000000</td>\n",
       "      <td>330.314424</td>\n",
       "      <td>282.780152</td>\n",
       "      <td>385.008668</td>\n",
       "      <td>113.231044</td>\n",
       "      <td>15.132</td>\n",
       "      <td>180.454575</td>\n",
       "      <td>32.847674</td>\n",
       "      <td>102.762401</td>\n",
       "      <td>90.053604</td>\n",
       "    </tr>\n",
       "  </tbody>\n",
       "</table>\n",
       "</div>"
      ],
      "text/plain": [
       "               key       Wire 1       Wire 2      Wire 3      Wire 4  Wire 5  \\\n",
       "count  3081.000000  3055.000000  1079.000000   63.000000   14.000000   1.000   \n",
       "mean   1623.426485   100.895853    50.577323  189.482681   57.442841  15.132   \n",
       "std     932.996726    42.012518    39.320216   99.513444   28.824667     NaN   \n",
       "min       1.000000     1.918800     0.030160    0.144144   24.148801  15.132   \n",
       "25%     823.000000    72.115684    20.193680   95.135044   40.807002  15.132   \n",
       "50%    1619.000000   100.158234    40.142956  235.194977   45.234282  15.132   \n",
       "75%    2434.000000   126.060484    70.227558  276.252014   76.124619  15.132   \n",
       "max    3241.000000   330.314424   282.780152  385.008668  113.231044  15.132   \n",
       "\n",
       "           Wire 6     Wire 7      Wire 8     Wire 9  \n",
       "count   73.000000  11.000000   19.000000  29.000000  \n",
       "mean    48.016974  10.039007   53.625193  34.155752  \n",
       "std     33.919845   8.610584   16.881728  19.931616  \n",
       "min      0.034320   0.234208   45.076721   4.622800  \n",
       "25%     25.053600   6.762756   46.094879  22.058401  \n",
       "50%     42.076324   9.017009   46.279999  30.066399  \n",
       "75%     64.212723  11.886057   48.089603  43.862003  \n",
       "max    180.454575  32.847674  102.762401  90.053604  "
      ]
     },
     "metadata": {},
     "output_type": "display_data"
    },
    {
     "name": "stdout",
     "output_type": "stream",
     "text": [
      "Кол-во дубликатов: 0\n",
      "\n",
      "Кол-во уникальных партий: 3081\n"
     ]
    }
   ],
   "source": [
    "df_info(wire)"
   ]
  },
  {
   "cell_type": "markdown",
   "metadata": {},
   "source": [
    "- Имеем 3081 строку и 10 столбцов.\n",
    "- Дубликаты отсутствуют.\n",
    "- Есть пропуски во всех столбцах.\n",
    "- Кол-во уникальных партий 3081."
   ]
  },
  {
   "cell_type": "code",
   "execution_count": 10,
   "metadata": {},
   "outputs": [
    {
     "name": "stdout",
     "output_type": "stream",
     "text": [
      "<class 'pandas.core.frame.DataFrame'>\n",
      "RangeIndex: 3081 entries, 0 to 3080\n",
      "Data columns (total 10 columns):\n",
      "key       3081 non-null int64\n",
      "Wire 1    3055 non-null object\n",
      "Wire 2    1079 non-null object\n",
      "Wire 3    63 non-null object\n",
      "Wire 4    14 non-null object\n",
      "Wire 5    1 non-null object\n",
      "Wire 6    73 non-null object\n",
      "Wire 7    11 non-null object\n",
      "Wire 8    19 non-null object\n",
      "Wire 9    29 non-null object\n",
      "dtypes: int64(1), object(9)\n",
      "memory usage: 240.8+ KB\n"
     ]
    },
    {
     "data": {
      "text/html": [
       "<div>\n",
       "<style scoped>\n",
       "    .dataframe tbody tr th:only-of-type {\n",
       "        vertical-align: middle;\n",
       "    }\n",
       "\n",
       "    .dataframe tbody tr th {\n",
       "        vertical-align: top;\n",
       "    }\n",
       "\n",
       "    .dataframe thead th {\n",
       "        text-align: right;\n",
       "    }\n",
       "</style>\n",
       "<table border=\"1\" class=\"dataframe\">\n",
       "  <thead>\n",
       "    <tr style=\"text-align: right;\">\n",
       "      <th></th>\n",
       "      <th>key</th>\n",
       "      <th>Wire 1</th>\n",
       "      <th>Wire 2</th>\n",
       "      <th>Wire 3</th>\n",
       "      <th>Wire 4</th>\n",
       "      <th>Wire 5</th>\n",
       "      <th>Wire 6</th>\n",
       "      <th>Wire 7</th>\n",
       "      <th>Wire 8</th>\n",
       "      <th>Wire 9</th>\n",
       "    </tr>\n",
       "  </thead>\n",
       "  <tbody>\n",
       "    <tr>\n",
       "      <td>0</td>\n",
       "      <td>1</td>\n",
       "      <td>2019-05-03 11:11:41</td>\n",
       "      <td>NaN</td>\n",
       "      <td>NaN</td>\n",
       "      <td>NaN</td>\n",
       "      <td>NaN</td>\n",
       "      <td>NaN</td>\n",
       "      <td>NaN</td>\n",
       "      <td>NaN</td>\n",
       "      <td>NaN</td>\n",
       "    </tr>\n",
       "    <tr>\n",
       "      <td>1</td>\n",
       "      <td>2</td>\n",
       "      <td>2019-05-03 11:46:10</td>\n",
       "      <td>NaN</td>\n",
       "      <td>NaN</td>\n",
       "      <td>NaN</td>\n",
       "      <td>NaN</td>\n",
       "      <td>NaN</td>\n",
       "      <td>NaN</td>\n",
       "      <td>NaN</td>\n",
       "      <td>NaN</td>\n",
       "    </tr>\n",
       "    <tr>\n",
       "      <td>2</td>\n",
       "      <td>3</td>\n",
       "      <td>2019-05-03 12:13:47</td>\n",
       "      <td>NaN</td>\n",
       "      <td>NaN</td>\n",
       "      <td>NaN</td>\n",
       "      <td>NaN</td>\n",
       "      <td>NaN</td>\n",
       "      <td>NaN</td>\n",
       "      <td>NaN</td>\n",
       "      <td>NaN</td>\n",
       "    </tr>\n",
       "    <tr>\n",
       "      <td>3</td>\n",
       "      <td>4</td>\n",
       "      <td>2019-05-03 12:48:05</td>\n",
       "      <td>NaN</td>\n",
       "      <td>NaN</td>\n",
       "      <td>NaN</td>\n",
       "      <td>NaN</td>\n",
       "      <td>NaN</td>\n",
       "      <td>NaN</td>\n",
       "      <td>NaN</td>\n",
       "      <td>NaN</td>\n",
       "    </tr>\n",
       "    <tr>\n",
       "      <td>4</td>\n",
       "      <td>5</td>\n",
       "      <td>2019-05-03 13:18:15</td>\n",
       "      <td>2019-05-03 13:32:06</td>\n",
       "      <td>NaN</td>\n",
       "      <td>NaN</td>\n",
       "      <td>NaN</td>\n",
       "      <td>NaN</td>\n",
       "      <td>NaN</td>\n",
       "      <td>NaN</td>\n",
       "      <td>NaN</td>\n",
       "    </tr>\n",
       "    <tr>\n",
       "      <td>5</td>\n",
       "      <td>6</td>\n",
       "      <td>2019-05-03 13:59:02</td>\n",
       "      <td>2019-05-03 13:59:54</td>\n",
       "      <td>NaN</td>\n",
       "      <td>NaN</td>\n",
       "      <td>NaN</td>\n",
       "      <td>NaN</td>\n",
       "      <td>NaN</td>\n",
       "      <td>NaN</td>\n",
       "      <td>NaN</td>\n",
       "    </tr>\n",
       "    <tr>\n",
       "      <td>6</td>\n",
       "      <td>7</td>\n",
       "      <td>2019-05-03 14:28:46</td>\n",
       "      <td>NaN</td>\n",
       "      <td>NaN</td>\n",
       "      <td>NaN</td>\n",
       "      <td>NaN</td>\n",
       "      <td>NaN</td>\n",
       "      <td>NaN</td>\n",
       "      <td>NaN</td>\n",
       "      <td>NaN</td>\n",
       "    </tr>\n",
       "    <tr>\n",
       "      <td>7</td>\n",
       "      <td>8</td>\n",
       "      <td>2019-05-03 15:03:42</td>\n",
       "      <td>NaN</td>\n",
       "      <td>NaN</td>\n",
       "      <td>NaN</td>\n",
       "      <td>NaN</td>\n",
       "      <td>NaN</td>\n",
       "      <td>NaN</td>\n",
       "      <td>NaN</td>\n",
       "      <td>NaN</td>\n",
       "    </tr>\n",
       "    <tr>\n",
       "      <td>8</td>\n",
       "      <td>9</td>\n",
       "      <td>2019-05-03 15:42:43</td>\n",
       "      <td>2019-05-03 15:58:12</td>\n",
       "      <td>NaN</td>\n",
       "      <td>NaN</td>\n",
       "      <td>NaN</td>\n",
       "      <td>NaN</td>\n",
       "      <td>NaN</td>\n",
       "      <td>NaN</td>\n",
       "      <td>NaN</td>\n",
       "    </tr>\n",
       "    <tr>\n",
       "      <td>9</td>\n",
       "      <td>10</td>\n",
       "      <td>2019-05-03 16:20:25</td>\n",
       "      <td>2019-05-03 16:21:02</td>\n",
       "      <td>NaN</td>\n",
       "      <td>NaN</td>\n",
       "      <td>NaN</td>\n",
       "      <td>NaN</td>\n",
       "      <td>NaN</td>\n",
       "      <td>NaN</td>\n",
       "      <td>NaN</td>\n",
       "    </tr>\n",
       "  </tbody>\n",
       "</table>\n",
       "</div>"
      ],
      "text/plain": [
       "   key               Wire 1               Wire 2 Wire 3 Wire 4 Wire 5 Wire 6  \\\n",
       "0    1  2019-05-03 11:11:41                  NaN    NaN    NaN    NaN    NaN   \n",
       "1    2  2019-05-03 11:46:10                  NaN    NaN    NaN    NaN    NaN   \n",
       "2    3  2019-05-03 12:13:47                  NaN    NaN    NaN    NaN    NaN   \n",
       "3    4  2019-05-03 12:48:05                  NaN    NaN    NaN    NaN    NaN   \n",
       "4    5  2019-05-03 13:18:15  2019-05-03 13:32:06    NaN    NaN    NaN    NaN   \n",
       "5    6  2019-05-03 13:59:02  2019-05-03 13:59:54    NaN    NaN    NaN    NaN   \n",
       "6    7  2019-05-03 14:28:46                  NaN    NaN    NaN    NaN    NaN   \n",
       "7    8  2019-05-03 15:03:42                  NaN    NaN    NaN    NaN    NaN   \n",
       "8    9  2019-05-03 15:42:43  2019-05-03 15:58:12    NaN    NaN    NaN    NaN   \n",
       "9   10  2019-05-03 16:20:25  2019-05-03 16:21:02    NaN    NaN    NaN    NaN   \n",
       "\n",
       "  Wire 7 Wire 8 Wire 9  \n",
       "0    NaN    NaN    NaN  \n",
       "1    NaN    NaN    NaN  \n",
       "2    NaN    NaN    NaN  \n",
       "3    NaN    NaN    NaN  \n",
       "4    NaN    NaN    NaN  \n",
       "5    NaN    NaN    NaN  \n",
       "6    NaN    NaN    NaN  \n",
       "7    NaN    NaN    NaN  \n",
       "8    NaN    NaN    NaN  \n",
       "9    NaN    NaN    NaN  "
      ]
     },
     "metadata": {},
     "output_type": "display_data"
    },
    {
     "data": {
      "text/html": [
       "<div>\n",
       "<style scoped>\n",
       "    .dataframe tbody tr th:only-of-type {\n",
       "        vertical-align: middle;\n",
       "    }\n",
       "\n",
       "    .dataframe tbody tr th {\n",
       "        vertical-align: top;\n",
       "    }\n",
       "\n",
       "    .dataframe thead th {\n",
       "        text-align: right;\n",
       "    }\n",
       "</style>\n",
       "<table border=\"1\" class=\"dataframe\">\n",
       "  <thead>\n",
       "    <tr style=\"text-align: right;\">\n",
       "      <th></th>\n",
       "      <th>key</th>\n",
       "    </tr>\n",
       "  </thead>\n",
       "  <tbody>\n",
       "    <tr>\n",
       "      <td>count</td>\n",
       "      <td>3081.000000</td>\n",
       "    </tr>\n",
       "    <tr>\n",
       "      <td>mean</td>\n",
       "      <td>1623.426485</td>\n",
       "    </tr>\n",
       "    <tr>\n",
       "      <td>std</td>\n",
       "      <td>932.996726</td>\n",
       "    </tr>\n",
       "    <tr>\n",
       "      <td>min</td>\n",
       "      <td>1.000000</td>\n",
       "    </tr>\n",
       "    <tr>\n",
       "      <td>25%</td>\n",
       "      <td>823.000000</td>\n",
       "    </tr>\n",
       "    <tr>\n",
       "      <td>50%</td>\n",
       "      <td>1619.000000</td>\n",
       "    </tr>\n",
       "    <tr>\n",
       "      <td>75%</td>\n",
       "      <td>2434.000000</td>\n",
       "    </tr>\n",
       "    <tr>\n",
       "      <td>max</td>\n",
       "      <td>3241.000000</td>\n",
       "    </tr>\n",
       "  </tbody>\n",
       "</table>\n",
       "</div>"
      ],
      "text/plain": [
       "               key\n",
       "count  3081.000000\n",
       "mean   1623.426485\n",
       "std     932.996726\n",
       "min       1.000000\n",
       "25%     823.000000\n",
       "50%    1619.000000\n",
       "75%    2434.000000\n",
       "max    3241.000000"
      ]
     },
     "metadata": {},
     "output_type": "display_data"
    },
    {
     "name": "stdout",
     "output_type": "stream",
     "text": [
      "Кол-во дубликатов: 0\n",
      "\n",
      "Кол-во уникальных партий: 3081\n"
     ]
    }
   ],
   "source": [
    "df_info(wire_time)"
   ]
  },
  {
   "cell_type": "markdown",
   "metadata": {},
   "source": [
    "- Имеем 3081 строку и 10 столбцов.\n",
    "- Дубликаты отсутствуют.\n",
    "- Есть пропуски во всех столбцах.\n",
    "- Нужно изменить тип данных.\n",
    "- Кол-во уникальных партий 3081."
   ]
  },
  {
   "cell_type": "markdown",
   "metadata": {},
   "source": [
    "## Исследовательский анализ данных."
   ]
  },
  {
   "cell_type": "markdown",
   "metadata": {},
   "source": [
    "### arc — данные об электродах;"
   ]
  },
  {
   "cell_type": "markdown",
   "metadata": {},
   "source": [
    "Изучим данные о мощностях более наглядно"
   ]
  },
  {
   "cell_type": "code",
   "execution_count": 11,
   "metadata": {},
   "outputs": [
    {
     "data": {
      "image/png": "[encoded data removed]",
      "text/plain": [
       "<Figure size 1080x648 with 1 Axes>"
      ]
     },
     "metadata": {},
     "output_type": "display_data"
    }
   ],
   "source": [
    "sns.set(style='whitegrid')\n",
    "fig, ax = plt.subplots(sharey=True, figsize=(15,9), sharex=True)\n",
    "sns.distplot(a=arc['Активная мощность'], ax=ax, color=\"r\", kde=True)\n",
    "ax.set_ylabel('')\n",
    "fig.suptitle('График активной мощность')\n",
    "fig.show()"
   ]
  },
  {
   "cell_type": "markdown",
   "metadata": {},
   "source": [
    "Распределение похоже на нормальное, сдвинутое немного влево"
   ]
  },
  {
   "cell_type": "code",
   "execution_count": 12,
   "metadata": {},
   "outputs": [
    {
     "data": {
      "text/plain": [
       "Text(0, 0.5, '')"
      ]
     },
     "execution_count": 12,
     "metadata": {},
     "output_type": "execute_result"
    },
    {
     "data": {
      "image/png": "[encoded data removed]",
      "text/plain": [
       "<Figure size 648x648 with 1 Axes>"
      ]
     },
     "metadata": {},
     "output_type": "display_data"
    }
   ],
   "source": [
    "fig, ax = plt.subplots(sharey=True, figsize=(9,9))\n",
    "\n",
    "sns.boxplot(y='Активная мощность', linewidth=3, data=arc, ax=ax, showfliers=True, color=\"r\")\n",
    "ax.set_xlabel('Активная мощность')\n",
    "ax.set_ylabel('')"
   ]
  },
  {
   "cell_type": "markdown",
   "metadata": {},
   "source": [
    "Медиана примерно находится на уровне 0.6."
   ]
  },
  {
   "cell_type": "code",
   "execution_count": 13,
   "metadata": {},
   "outputs": [
    {
     "data": {
      "image/png": "[encoded data removed]",
      "text/plain": [
       "<Figure size 1080x648 with 1 Axes>"
      ]
     },
     "metadata": {},
     "output_type": "display_data"
    }
   ],
   "source": [
    "sns.set(style='whitegrid')\n",
    "fig, ax = plt.subplots(sharey=True, figsize=(15,9), sharex=True)\n",
    "sns.distplot(a=arc['Реактивная мощность'], ax=ax, color=\"y\", kde=True)\n",
    "ax.set_ylabel('')\n",
    "fig.suptitle('График реактивной мощность')\n",
    "fig.show()"
   ]
  },
  {
   "cell_type": "markdown",
   "metadata": {},
   "source": [
    "Большое кол-во аномалий, возьмем значения больше 0, ведь мощность не может быть отрицательной."
   ]
  },
  {
   "cell_type": "code",
   "execution_count": 14,
   "metadata": {},
   "outputs": [],
   "source": [
    "arc = arc[arc['Реактивная мощность'] >= 0]"
   ]
  },
  {
   "cell_type": "code",
   "execution_count": 15,
   "metadata": {},
   "outputs": [
    {
     "data": {
      "image/png": "[encoded data removed]",
      "text/plain": [
       "<Figure size 1080x648 with 1 Axes>"
      ]
     },
     "metadata": {},
     "output_type": "display_data"
    }
   ],
   "source": [
    "sns.set(style='whitegrid')\n",
    "fig, ax = plt.subplots(sharey=True, figsize=(15,9), sharex=True)\n",
    "sns.distplot(a=arc['Реактивная мощность'], ax=ax, color=\"y\", kde=True)\n",
    "ax.set_ylabel('')\n",
    "fig.suptitle('График реактивной мощность')\n",
    "fig.show()"
   ]
  },
  {
   "cell_type": "markdown",
   "metadata": {},
   "source": [
    "Имеем нормальное распределение, немного сдвинутое влево."
   ]
  },
  {
   "cell_type": "code",
   "execution_count": 16,
   "metadata": {},
   "outputs": [
    {
     "data": {
      "text/plain": [
       "Text(0, 0.5, '')"
      ]
     },
     "execution_count": 16,
     "metadata": {},
     "output_type": "execute_result"
    },
    {
     "data": {
      "image/png": "[encoded data removed]",
      "text/plain": [
       "<Figure size 648x648 with 1 Axes>"
      ]
     },
     "metadata": {},
     "output_type": "display_data"
    }
   ],
   "source": [
    "fig, ax = plt.subplots(sharey=True, figsize=(9,9))\n",
    "\n",
    "sns.boxplot(y='Реактивная мощность', linewidth=3, data=arc, ax=ax, showfliers=True, color = \"y\")\n",
    "ax.set_xlabel('Реактивная мощность')\n",
    "ax.set_ylabel('')"
   ]
  },
  {
   "cell_type": "markdown",
   "metadata": {},
   "source": [
    "Медиана примерно находится на уровне 0.4"
   ]
  },
  {
   "cell_type": "markdown",
   "metadata": {},
   "source": [
    "Активная и реактивная мощности имеют сильную зависимость, а значит есть риск переобучаемости модели."
   ]
  },
  {
   "cell_type": "code",
   "execution_count": 17,
   "metadata": {},
   "outputs": [
    {
     "data": {
      "text/html": [
       "<div>\n",
       "<style scoped>\n",
       "    .dataframe tbody tr th:only-of-type {\n",
       "        vertical-align: middle;\n",
       "    }\n",
       "\n",
       "    .dataframe tbody tr th {\n",
       "        vertical-align: top;\n",
       "    }\n",
       "\n",
       "    .dataframe thead th {\n",
       "        text-align: right;\n",
       "    }\n",
       "</style>\n",
       "<table border=\"1\" class=\"dataframe\">\n",
       "  <thead>\n",
       "    <tr style=\"text-align: right;\">\n",
       "      <th></th>\n",
       "      <th>Реактивная мощность</th>\n",
       "      <th>Активная мощность</th>\n",
       "    </tr>\n",
       "  </thead>\n",
       "  <tbody>\n",
       "    <tr>\n",
       "      <td>Реактивная мощность</td>\n",
       "      <td>1.000000</td>\n",
       "      <td>0.963182</td>\n",
       "    </tr>\n",
       "    <tr>\n",
       "      <td>Активная мощность</td>\n",
       "      <td>0.963182</td>\n",
       "      <td>1.000000</td>\n",
       "    </tr>\n",
       "  </tbody>\n",
       "</table>\n",
       "</div>"
      ],
      "text/plain": [
       "                     Реактивная мощность  Активная мощность\n",
       "Реактивная мощность             1.000000           0.963182\n",
       "Активная мощность               0.963182           1.000000"
      ]
     },
     "execution_count": 17,
     "metadata": {},
     "output_type": "execute_result"
    }
   ],
   "source": [
    "arc[['Реактивная мощность', 'Активная мощность']].corr()"
   ]
  },
  {
   "cell_type": "markdown",
   "metadata": {},
   "source": [
    "Поискав информацию в интернете, я узнал, что эти мощности взаимосвязаны и их можно выразить через полную мощность."
   ]
  },
  {
   "attachments": {
    "image.png": {
     "image/png": "[encoded data removed]"
    }
   },
   "cell_type": "markdown",
   "metadata": {},
   "source": [
    "![image.png](attachment:image.png)"
   ]
  },
  {
   "cell_type": "markdown",
   "metadata": {},
   "source": [
    "Найдем полную мощность по теореме Пифагора."
   ]
  },
  {
   "cell_type": "code",
   "execution_count": 18,
   "metadata": {},
   "outputs": [],
   "source": [
    "def full(df):\n",
    "    full = math.sqrt(df['Активная мощность']**2 + df['Реактивная мощность']**2)\n",
    "    return full"
   ]
  },
  {
   "cell_type": "code",
   "execution_count": 19,
   "metadata": {},
   "outputs": [],
   "source": [
    "arc['Полная мощность'] = arc.apply(full, axis=1)"
   ]
  },
  {
   "cell_type": "code",
   "execution_count": 20,
   "metadata": {},
   "outputs": [
    {
     "data": {
      "image/png": "[encoded data removed]",
      "text/plain": [
       "<Figure size 1080x648 with 1 Axes>"
      ]
     },
     "metadata": {},
     "output_type": "display_data"
    }
   ],
   "source": [
    "sns.set(style='whitegrid')\n",
    "fig, ax = plt.subplots(sharey=True, figsize=(15,9), sharex=True)\n",
    "sns.distplot(a=arc['Полная мощность'], ax=ax, color=\"b\", kde=True)\n",
    "ax.set_ylabel('')\n",
    "fig.suptitle('График полной мощность')\n",
    "fig.show()"
   ]
  },
  {
   "cell_type": "code",
   "execution_count": 21,
   "metadata": {},
   "outputs": [
    {
     "data": {
      "text/html": [
       "<div>\n",
       "<style scoped>\n",
       "    .dataframe tbody tr th:only-of-type {\n",
       "        vertical-align: middle;\n",
       "    }\n",
       "\n",
       "    .dataframe tbody tr th {\n",
       "        vertical-align: top;\n",
       "    }\n",
       "\n",
       "    .dataframe thead th {\n",
       "        text-align: right;\n",
       "    }\n",
       "</style>\n",
       "<table border=\"1\" class=\"dataframe\">\n",
       "  <thead>\n",
       "    <tr style=\"text-align: right;\">\n",
       "      <th></th>\n",
       "      <th>key</th>\n",
       "      <th>Начало нагрева дугой</th>\n",
       "      <th>Конец нагрева дугой</th>\n",
       "      <th>Активная мощность</th>\n",
       "      <th>Реактивная мощность</th>\n",
       "      <th>Полная мощность</th>\n",
       "    </tr>\n",
       "  </thead>\n",
       "  <tbody>\n",
       "    <tr>\n",
       "      <td>0</td>\n",
       "      <td>1</td>\n",
       "      <td>2019-05-03 11:02:14</td>\n",
       "      <td>2019-05-03 11:06:02</td>\n",
       "      <td>0.976059</td>\n",
       "      <td>0.687084</td>\n",
       "      <td>1.193639</td>\n",
       "    </tr>\n",
       "    <tr>\n",
       "      <td>1</td>\n",
       "      <td>1</td>\n",
       "      <td>2019-05-03 11:07:28</td>\n",
       "      <td>2019-05-03 11:10:33</td>\n",
       "      <td>0.805607</td>\n",
       "      <td>0.520285</td>\n",
       "      <td>0.959010</td>\n",
       "    </tr>\n",
       "    <tr>\n",
       "      <td>2</td>\n",
       "      <td>1</td>\n",
       "      <td>2019-05-03 11:11:44</td>\n",
       "      <td>2019-05-03 11:14:36</td>\n",
       "      <td>0.744363</td>\n",
       "      <td>0.498805</td>\n",
       "      <td>0.896038</td>\n",
       "    </tr>\n",
       "    <tr>\n",
       "      <td>3</td>\n",
       "      <td>1</td>\n",
       "      <td>2019-05-03 11:18:14</td>\n",
       "      <td>2019-05-03 11:24:19</td>\n",
       "      <td>1.659363</td>\n",
       "      <td>1.062669</td>\n",
       "      <td>1.970470</td>\n",
       "    </tr>\n",
       "    <tr>\n",
       "      <td>4</td>\n",
       "      <td>1</td>\n",
       "      <td>2019-05-03 11:26:09</td>\n",
       "      <td>2019-05-03 11:28:37</td>\n",
       "      <td>0.692755</td>\n",
       "      <td>0.414397</td>\n",
       "      <td>0.807239</td>\n",
       "    </tr>\n",
       "  </tbody>\n",
       "</table>\n",
       "</div>"
      ],
      "text/plain": [
       "   key Начало нагрева дугой  Конец нагрева дугой  Активная мощность  \\\n",
       "0    1  2019-05-03 11:02:14  2019-05-03 11:06:02           0.976059   \n",
       "1    1  2019-05-03 11:07:28  2019-05-03 11:10:33           0.805607   \n",
       "2    1  2019-05-03 11:11:44  2019-05-03 11:14:36           0.744363   \n",
       "3    1  2019-05-03 11:18:14  2019-05-03 11:24:19           1.659363   \n",
       "4    1  2019-05-03 11:26:09  2019-05-03 11:28:37           0.692755   \n",
       "\n",
       "   Реактивная мощность  Полная мощность  \n",
       "0             0.687084         1.193639  \n",
       "1             0.520285         0.959010  \n",
       "2             0.498805         0.896038  \n",
       "3             1.062669         1.970470  \n",
       "4             0.414397         0.807239  "
      ]
     },
     "execution_count": 21,
     "metadata": {},
     "output_type": "execute_result"
    }
   ],
   "source": [
    "arc.head()"
   ]
  },
  {
   "cell_type": "markdown",
   "metadata": {},
   "source": [
    "В дальнейшем можно убрать данные о Активной и Реактивной мощности, из-за их сильной корреляции."
   ]
  },
  {
   "cell_type": "markdown",
   "metadata": {},
   "source": [
    "### temp — результаты измерения температуры"
   ]
  },
  {
   "cell_type": "markdown",
   "metadata": {},
   "source": [
    "В данных о температуре у нас были пропуски, посмотрим на них."
   ]
  },
  {
   "cell_type": "code",
   "execution_count": 22,
   "metadata": {},
   "outputs": [
    {
     "data": {
      "text/html": [
       "<div>\n",
       "<style scoped>\n",
       "    .dataframe tbody tr th:only-of-type {\n",
       "        vertical-align: middle;\n",
       "    }\n",
       "\n",
       "    .dataframe tbody tr th {\n",
       "        vertical-align: top;\n",
       "    }\n",
       "\n",
       "    .dataframe thead th {\n",
       "        text-align: right;\n",
       "    }\n",
       "</style>\n",
       "<table border=\"1\" class=\"dataframe\">\n",
       "  <thead>\n",
       "    <tr style=\"text-align: right;\">\n",
       "      <th></th>\n",
       "      <th>key</th>\n",
       "      <th>Время замера</th>\n",
       "      <th>Температура</th>\n",
       "    </tr>\n",
       "  </thead>\n",
       "  <tbody>\n",
       "    <tr>\n",
       "      <td>12268</td>\n",
       "      <td>2500</td>\n",
       "      <td>2019-08-06 03:24:43</td>\n",
       "      <td>NaN</td>\n",
       "    </tr>\n",
       "    <tr>\n",
       "      <td>12269</td>\n",
       "      <td>2500</td>\n",
       "      <td>2019-08-06 03:25:16</td>\n",
       "      <td>NaN</td>\n",
       "    </tr>\n",
       "    <tr>\n",
       "      <td>12270</td>\n",
       "      <td>2500</td>\n",
       "      <td>2019-08-06 03:28:21</td>\n",
       "      <td>NaN</td>\n",
       "    </tr>\n",
       "    <tr>\n",
       "      <td>12272</td>\n",
       "      <td>2501</td>\n",
       "      <td>2019-08-06 04:01:59</td>\n",
       "      <td>NaN</td>\n",
       "    </tr>\n",
       "    <tr>\n",
       "      <td>12273</td>\n",
       "      <td>2501</td>\n",
       "      <td>2019-08-06 04:14:35</td>\n",
       "      <td>NaN</td>\n",
       "    </tr>\n",
       "    <tr>\n",
       "      <td>...</td>\n",
       "      <td>...</td>\n",
       "      <td>...</td>\n",
       "      <td>...</td>\n",
       "    </tr>\n",
       "    <tr>\n",
       "      <td>15901</td>\n",
       "      <td>3240</td>\n",
       "      <td>2019-09-01 03:35:16</td>\n",
       "      <td>NaN</td>\n",
       "    </tr>\n",
       "    <tr>\n",
       "      <td>15903</td>\n",
       "      <td>3241</td>\n",
       "      <td>2019-09-01 04:16:12</td>\n",
       "      <td>NaN</td>\n",
       "    </tr>\n",
       "    <tr>\n",
       "      <td>15904</td>\n",
       "      <td>3241</td>\n",
       "      <td>2019-09-01 04:22:39</td>\n",
       "      <td>NaN</td>\n",
       "    </tr>\n",
       "    <tr>\n",
       "      <td>15905</td>\n",
       "      <td>3241</td>\n",
       "      <td>2019-09-01 04:33:42</td>\n",
       "      <td>NaN</td>\n",
       "    </tr>\n",
       "    <tr>\n",
       "      <td>15906</td>\n",
       "      <td>3241</td>\n",
       "      <td>2019-09-01 04:38:08</td>\n",
       "      <td>NaN</td>\n",
       "    </tr>\n",
       "  </tbody>\n",
       "</table>\n",
       "<p>2901 rows × 3 columns</p>\n",
       "</div>"
      ],
      "text/plain": [
       "        key         Время замера  Температура\n",
       "12268  2500  2019-08-06 03:24:43          NaN\n",
       "12269  2500  2019-08-06 03:25:16          NaN\n",
       "12270  2500  2019-08-06 03:28:21          NaN\n",
       "12272  2501  2019-08-06 04:01:59          NaN\n",
       "12273  2501  2019-08-06 04:14:35          NaN\n",
       "...     ...                  ...          ...\n",
       "15901  3240  2019-09-01 03:35:16          NaN\n",
       "15903  3241  2019-09-01 04:16:12          NaN\n",
       "15904  3241  2019-09-01 04:22:39          NaN\n",
       "15905  3241  2019-09-01 04:33:42          NaN\n",
       "15906  3241  2019-09-01 04:38:08          NaN\n",
       "\n",
       "[2901 rows x 3 columns]"
      ]
     },
     "execution_count": 22,
     "metadata": {},
     "output_type": "execute_result"
    }
   ],
   "source": [
    "temp[temp['Температура'].isnull()]"
   ]
  },
  {
   "cell_type": "markdown",
   "metadata": {},
   "source": [
    "Можно заметить, что пропуски начинают идти с 2500 партии, возможно в это время что-то случилось. Нужно сообщить об ошибке."
   ]
  },
  {
   "cell_type": "code",
   "execution_count": 23,
   "metadata": {},
   "outputs": [
    {
     "data": {
      "text/plain": [
       "key             3640\n",
       "Время замера    3640\n",
       "Температура      739\n",
       "dtype: int64"
      ]
     },
     "execution_count": 23,
     "metadata": {},
     "output_type": "execute_result"
    }
   ],
   "source": [
    "temp[temp['key'] >= 2500].count()"
   ]
  },
  {
   "cell_type": "markdown",
   "metadata": {},
   "source": [
    "Но какие-то значения все же записывались."
   ]
  },
  {
   "cell_type": "code",
   "execution_count": 24,
   "metadata": {},
   "outputs": [
    {
     "data": {
      "text/html": [
       "<div>\n",
       "<style scoped>\n",
       "    .dataframe tbody tr th:only-of-type {\n",
       "        vertical-align: middle;\n",
       "    }\n",
       "\n",
       "    .dataframe tbody tr th {\n",
       "        vertical-align: top;\n",
       "    }\n",
       "\n",
       "    .dataframe thead th {\n",
       "        text-align: right;\n",
       "    }\n",
       "</style>\n",
       "<table border=\"1\" class=\"dataframe\">\n",
       "  <thead>\n",
       "    <tr style=\"text-align: right;\">\n",
       "      <th></th>\n",
       "      <th>key</th>\n",
       "      <th>Время замера</th>\n",
       "      <th>Температура</th>\n",
       "    </tr>\n",
       "  </thead>\n",
       "  <tbody>\n",
       "    <tr>\n",
       "      <td>12267</td>\n",
       "      <td>2500</td>\n",
       "      <td>2019-08-06 03:11:31</td>\n",
       "      <td>1539.0</td>\n",
       "    </tr>\n",
       "    <tr>\n",
       "      <td>12268</td>\n",
       "      <td>2500</td>\n",
       "      <td>2019-08-06 03:24:43</td>\n",
       "      <td>NaN</td>\n",
       "    </tr>\n",
       "    <tr>\n",
       "      <td>12269</td>\n",
       "      <td>2500</td>\n",
       "      <td>2019-08-06 03:25:16</td>\n",
       "      <td>NaN</td>\n",
       "    </tr>\n",
       "    <tr>\n",
       "      <td>12270</td>\n",
       "      <td>2500</td>\n",
       "      <td>2019-08-06 03:28:21</td>\n",
       "      <td>NaN</td>\n",
       "    </tr>\n",
       "    <tr>\n",
       "      <td>12271</td>\n",
       "      <td>2501</td>\n",
       "      <td>2019-08-06 03:44:42</td>\n",
       "      <td>1587.0</td>\n",
       "    </tr>\n",
       "    <tr>\n",
       "      <td>12272</td>\n",
       "      <td>2501</td>\n",
       "      <td>2019-08-06 04:01:59</td>\n",
       "      <td>NaN</td>\n",
       "    </tr>\n",
       "    <tr>\n",
       "      <td>12273</td>\n",
       "      <td>2501</td>\n",
       "      <td>2019-08-06 04:14:35</td>\n",
       "      <td>NaN</td>\n",
       "    </tr>\n",
       "    <tr>\n",
       "      <td>12274</td>\n",
       "      <td>2501</td>\n",
       "      <td>2019-08-06 04:22:14</td>\n",
       "      <td>NaN</td>\n",
       "    </tr>\n",
       "    <tr>\n",
       "      <td>12275</td>\n",
       "      <td>2501</td>\n",
       "      <td>2019-08-06 04:31:14</td>\n",
       "      <td>NaN</td>\n",
       "    </tr>\n",
       "    <tr>\n",
       "      <td>12276</td>\n",
       "      <td>2502</td>\n",
       "      <td>2019-08-06 04:45:26</td>\n",
       "      <td>1583.0</td>\n",
       "    </tr>\n",
       "    <tr>\n",
       "      <td>12277</td>\n",
       "      <td>2502</td>\n",
       "      <td>2019-08-06 04:46:04</td>\n",
       "      <td>NaN</td>\n",
       "    </tr>\n",
       "    <tr>\n",
       "      <td>12278</td>\n",
       "      <td>2502</td>\n",
       "      <td>2019-08-06 04:52:32</td>\n",
       "      <td>NaN</td>\n",
       "    </tr>\n",
       "    <tr>\n",
       "      <td>12279</td>\n",
       "      <td>2502</td>\n",
       "      <td>2019-08-06 04:57:30</td>\n",
       "      <td>NaN</td>\n",
       "    </tr>\n",
       "    <tr>\n",
       "      <td>12280</td>\n",
       "      <td>2502</td>\n",
       "      <td>2019-08-06 05:04:16</td>\n",
       "      <td>NaN</td>\n",
       "    </tr>\n",
       "    <tr>\n",
       "      <td>12281</td>\n",
       "      <td>2502</td>\n",
       "      <td>2019-08-06 05:11:38</td>\n",
       "      <td>NaN</td>\n",
       "    </tr>\n",
       "    <tr>\n",
       "      <td>12282</td>\n",
       "      <td>2502</td>\n",
       "      <td>2019-08-06 05:12:20</td>\n",
       "      <td>NaN</td>\n",
       "    </tr>\n",
       "    <tr>\n",
       "      <td>12283</td>\n",
       "      <td>2503</td>\n",
       "      <td>2019-08-06 05:32:06</td>\n",
       "      <td>1603.0</td>\n",
       "    </tr>\n",
       "    <tr>\n",
       "      <td>12284</td>\n",
       "      <td>2503</td>\n",
       "      <td>2019-08-06 05:50:37</td>\n",
       "      <td>NaN</td>\n",
       "    </tr>\n",
       "    <tr>\n",
       "      <td>12285</td>\n",
       "      <td>2503</td>\n",
       "      <td>2019-08-06 06:00:36</td>\n",
       "      <td>NaN</td>\n",
       "    </tr>\n",
       "    <tr>\n",
       "      <td>12286</td>\n",
       "      <td>2503</td>\n",
       "      <td>2019-08-06 06:07:35</td>\n",
       "      <td>NaN</td>\n",
       "    </tr>\n",
       "  </tbody>\n",
       "</table>\n",
       "</div>"
      ],
      "text/plain": [
       "        key         Время замера  Температура\n",
       "12267  2500  2019-08-06 03:11:31       1539.0\n",
       "12268  2500  2019-08-06 03:24:43          NaN\n",
       "12269  2500  2019-08-06 03:25:16          NaN\n",
       "12270  2500  2019-08-06 03:28:21          NaN\n",
       "12271  2501  2019-08-06 03:44:42       1587.0\n",
       "12272  2501  2019-08-06 04:01:59          NaN\n",
       "12273  2501  2019-08-06 04:14:35          NaN\n",
       "12274  2501  2019-08-06 04:22:14          NaN\n",
       "12275  2501  2019-08-06 04:31:14          NaN\n",
       "12276  2502  2019-08-06 04:45:26       1583.0\n",
       "12277  2502  2019-08-06 04:46:04          NaN\n",
       "12278  2502  2019-08-06 04:52:32          NaN\n",
       "12279  2502  2019-08-06 04:57:30          NaN\n",
       "12280  2502  2019-08-06 05:04:16          NaN\n",
       "12281  2502  2019-08-06 05:11:38          NaN\n",
       "12282  2502  2019-08-06 05:12:20          NaN\n",
       "12283  2503  2019-08-06 05:32:06       1603.0\n",
       "12284  2503  2019-08-06 05:50:37          NaN\n",
       "12285  2503  2019-08-06 06:00:36          NaN\n",
       "12286  2503  2019-08-06 06:07:35          NaN"
      ]
     },
     "execution_count": 24,
     "metadata": {},
     "output_type": "execute_result"
    }
   ],
   "source": [
    "temp[temp['key'] >= 2500].head(20)"
   ]
  },
  {
   "cell_type": "markdown",
   "metadata": {},
   "source": [
    "Можно заметить, что запись делалась только первой итерации каждой новой партии.\n",
    "\n",
    "На мой взгляд, просто удалить пропуски нельзя. Возьмем для примера данные о подаче сыпучих материалов (время) 2501 партии."
   ]
  },
  {
   "cell_type": "code",
   "execution_count": 25,
   "metadata": {},
   "outputs": [
    {
     "data": {
      "text/html": [
       "<div>\n",
       "<style scoped>\n",
       "    .dataframe tbody tr th:only-of-type {\n",
       "        vertical-align: middle;\n",
       "    }\n",
       "\n",
       "    .dataframe tbody tr th {\n",
       "        vertical-align: top;\n",
       "    }\n",
       "\n",
       "    .dataframe thead th {\n",
       "        text-align: right;\n",
       "    }\n",
       "</style>\n",
       "<table border=\"1\" class=\"dataframe\">\n",
       "  <thead>\n",
       "    <tr style=\"text-align: right;\">\n",
       "      <th></th>\n",
       "      <th>key</th>\n",
       "      <th>Bulk 1</th>\n",
       "      <th>Bulk 2</th>\n",
       "      <th>Bulk 3</th>\n",
       "      <th>Bulk 4</th>\n",
       "      <th>Bulk 5</th>\n",
       "      <th>Bulk 6</th>\n",
       "      <th>Bulk 7</th>\n",
       "      <th>Bulk 8</th>\n",
       "      <th>Bulk 9</th>\n",
       "      <th>Bulk 10</th>\n",
       "      <th>Bulk 11</th>\n",
       "      <th>Bulk 12</th>\n",
       "      <th>Bulk 13</th>\n",
       "      <th>Bulk 14</th>\n",
       "      <th>Bulk 15</th>\n",
       "    </tr>\n",
       "  </thead>\n",
       "  <tbody>\n",
       "    <tr>\n",
       "      <td>2409</td>\n",
       "      <td>2501</td>\n",
       "      <td>NaN</td>\n",
       "      <td>NaN</td>\n",
       "      <td>2019-08-06 04:01:16</td>\n",
       "      <td>NaN</td>\n",
       "      <td>NaN</td>\n",
       "      <td>NaN</td>\n",
       "      <td>NaN</td>\n",
       "      <td>NaN</td>\n",
       "      <td>NaN</td>\n",
       "      <td>NaN</td>\n",
       "      <td>NaN</td>\n",
       "      <td>2019-08-06 03:49:53</td>\n",
       "      <td>NaN</td>\n",
       "      <td>2019-08-06 03:49:53</td>\n",
       "      <td>2019-08-06 03:49:53</td>\n",
       "    </tr>\n",
       "  </tbody>\n",
       "</table>\n",
       "</div>"
      ],
      "text/plain": [
       "       key Bulk 1 Bulk 2               Bulk 3 Bulk 4 Bulk 5 Bulk 6 Bulk 7  \\\n",
       "2409  2501    NaN    NaN  2019-08-06 04:01:16    NaN    NaN    NaN    NaN   \n",
       "\n",
       "     Bulk 8 Bulk 9 Bulk 10 Bulk 11              Bulk 12 Bulk 13  \\\n",
       "2409    NaN    NaN     NaN     NaN  2019-08-06 03:49:53     NaN   \n",
       "\n",
       "                  Bulk 14              Bulk 15  \n",
       "2409  2019-08-06 03:49:53  2019-08-06 03:49:53  "
      ]
     },
     "execution_count": 25,
     "metadata": {},
     "output_type": "execute_result"
    }
   ],
   "source": [
    "bulk_time[bulk_time['key'] == 2501].head(10)"
   ]
  },
  {
   "cell_type": "markdown",
   "metadata": {},
   "source": [
    "Если мы удалим пропуски, то в дальнейшем в общей сводной таблице этой партии будет стоять значение температуры до всех подач сыпучих материалов, а значит увеличится риск ошибки. \n",
    "\n",
    "Поэтому предлагаю не брать партии дальше 2500."
   ]
  },
  {
   "cell_type": "markdown",
   "metadata": {},
   "source": [
    "### gas — данные о продувке сплава газом"
   ]
  },
  {
   "cell_type": "code",
   "execution_count": 26,
   "metadata": {},
   "outputs": [
    {
     "data": {
      "image/png": "[encoded data removed]",
      "text/plain": [
       "<Figure size 1080x648 with 1 Axes>"
      ]
     },
     "metadata": {},
     "output_type": "display_data"
    }
   ],
   "source": [
    "sns.set(style='whitegrid')\n",
    "fig, ax = plt.subplots(sharey=True, figsize=(15,9), sharex=True)\n",
    "sns.distplot(a=gas['Газ 1'], ax=ax, color=\"grey\", kde=True)\n",
    "ax.set_ylabel('')\n",
    "fig.suptitle('График Газ 1')\n",
    "fig.show()"
   ]
  },
  {
   "cell_type": "markdown",
   "metadata": {},
   "source": [
    "График имеет нормальное распределение."
   ]
  },
  {
   "cell_type": "code",
   "execution_count": 27,
   "metadata": {},
   "outputs": [
    {
     "data": {
      "text/plain": [
       "Text(0, 0.5, '')"
      ]
     },
     "execution_count": 27,
     "metadata": {},
     "output_type": "execute_result"
    },
    {
     "data": {
      "image/png": "[encoded data removed]",
      "text/plain": [
       "<Figure size 648x648 with 1 Axes>"
      ]
     },
     "metadata": {},
     "output_type": "display_data"
    }
   ],
   "source": [
    "fig, ax = plt.subplots(sharey=True, figsize=(9,9))\n",
    "\n",
    "sns.boxplot(y='Газ 1', linewidth=3, data=gas, ax=ax, showfliers=True, color = \"grey\")\n",
    "ax.set_xlabel('Газ 1')\n",
    "ax.set_ylabel('')"
   ]
  },
  {
   "cell_type": "markdown",
   "metadata": {},
   "source": [
    "Медиана примерно равно 10. После 40 наблюдаются редкие аномалии."
   ]
  },
  {
   "cell_type": "markdown",
   "metadata": {},
   "source": [
    "### Выводы"
   ]
  },
  {
   "cell_type": "markdown",
   "metadata": {},
   "source": [
    "- В этом пункте мы провели полный анализ данных\n",
    "- Выявили и убрали аномалии\n",
    "- Добавили новый параметр \"Полная мощность\"\n",
    "- Решили, что нужно сделать срез данных начиная с 2500-ой партии."
   ]
  },
  {
   "cell_type": "markdown",
   "metadata": {},
   "source": [
    "## Предобработка данных"
   ]
  },
  {
   "cell_type": "markdown",
   "metadata": {},
   "source": [
    "Исправим тип данных у времени"
   ]
  },
  {
   "cell_type": "code",
   "execution_count": 28,
   "metadata": {},
   "outputs": [],
   "source": [
    "arc['Начало нагрева дугой'] = pd.to_datetime(arc['Начало нагрева дугой'])\n",
    "arc['Конец нагрева дугой'] = pd.to_datetime(arc['Конец нагрева дугой'])\n",
    "temp['Время замера'] = pd.to_datetime(temp['Время замера'])"
   ]
  },
  {
   "cell_type": "markdown",
   "metadata": {},
   "source": [
    "Уберем ненужные строки"
   ]
  },
  {
   "cell_type": "code",
   "execution_count": 29,
   "metadata": {},
   "outputs": [],
   "source": [
    "temp = temp.query('key < 2500')\n",
    "arc = arc.query('key < 2500')\n",
    "bulk = bulk.query('key < 2500')\n",
    "wire = wire.query('key < 2500')"
   ]
  },
  {
   "cell_type": "markdown",
   "metadata": {},
   "source": [
    "Заменим пропуски нулями"
   ]
  },
  {
   "cell_type": "code",
   "execution_count": 30,
   "metadata": {},
   "outputs": [],
   "source": [
    "bulk = bulk.fillna(0)\n",
    "wire = wire.fillna(0)"
   ]
  },
  {
   "cell_type": "code",
   "execution_count": 31,
   "metadata": {},
   "outputs": [],
   "source": [
    "temp = temp.sort_values(by=['Время замера'])"
   ]
  },
  {
   "cell_type": "markdown",
   "metadata": {},
   "source": [
    "Сгруппируем данные в таблице temp по столбцу 'key' и узнаем первую и последнею температуру и время замера для каждой итерации."
   ]
  },
  {
   "cell_type": "code",
   "execution_count": 32,
   "metadata": {},
   "outputs": [],
   "source": [
    "temp = temp.groupby(by = 'key').agg(['first', 'last']).reset_index()\n",
    "temp.columns = temp.columns.droplevel()"
   ]
  },
  {
   "cell_type": "code",
   "execution_count": 33,
   "metadata": {},
   "outputs": [
    {
     "data": {
      "text/html": [
       "<div>\n",
       "<style scoped>\n",
       "    .dataframe tbody tr th:only-of-type {\n",
       "        vertical-align: middle;\n",
       "    }\n",
       "\n",
       "    .dataframe tbody tr th {\n",
       "        vertical-align: top;\n",
       "    }\n",
       "\n",
       "    .dataframe thead th {\n",
       "        text-align: right;\n",
       "    }\n",
       "</style>\n",
       "<table border=\"1\" class=\"dataframe\">\n",
       "  <thead>\n",
       "    <tr style=\"text-align: right;\">\n",
       "      <th></th>\n",
       "      <th></th>\n",
       "      <th>first</th>\n",
       "      <th>last</th>\n",
       "      <th>first</th>\n",
       "      <th>last</th>\n",
       "    </tr>\n",
       "  </thead>\n",
       "  <tbody>\n",
       "    <tr>\n",
       "      <td>0</td>\n",
       "      <td>1</td>\n",
       "      <td>2019-05-03 11:16:18</td>\n",
       "      <td>2019-05-03 11:30:39</td>\n",
       "      <td>1571.0</td>\n",
       "      <td>1613.0</td>\n",
       "    </tr>\n",
       "    <tr>\n",
       "      <td>1</td>\n",
       "      <td>2</td>\n",
       "      <td>2019-05-03 11:37:27</td>\n",
       "      <td>2019-05-03 11:59:12</td>\n",
       "      <td>1581.0</td>\n",
       "      <td>1602.0</td>\n",
       "    </tr>\n",
       "    <tr>\n",
       "      <td>2</td>\n",
       "      <td>3</td>\n",
       "      <td>2019-05-03 12:13:17</td>\n",
       "      <td>2019-05-03 12:34:57</td>\n",
       "      <td>1596.0</td>\n",
       "      <td>1599.0</td>\n",
       "    </tr>\n",
       "    <tr>\n",
       "      <td>3</td>\n",
       "      <td>4</td>\n",
       "      <td>2019-05-03 12:52:57</td>\n",
       "      <td>2019-05-03 12:59:25</td>\n",
       "      <td>1601.0</td>\n",
       "      <td>1625.0</td>\n",
       "    </tr>\n",
       "    <tr>\n",
       "      <td>4</td>\n",
       "      <td>5</td>\n",
       "      <td>2019-05-03 13:23:19</td>\n",
       "      <td>2019-05-03 13:36:01</td>\n",
       "      <td>1576.0</td>\n",
       "      <td>1602.0</td>\n",
       "    </tr>\n",
       "  </tbody>\n",
       "</table>\n",
       "</div>"
      ],
      "text/plain": [
       "                   first                last   first    last\n",
       "0  1 2019-05-03 11:16:18 2019-05-03 11:30:39  1571.0  1613.0\n",
       "1  2 2019-05-03 11:37:27 2019-05-03 11:59:12  1581.0  1602.0\n",
       "2  3 2019-05-03 12:13:17 2019-05-03 12:34:57  1596.0  1599.0\n",
       "3  4 2019-05-03 12:52:57 2019-05-03 12:59:25  1601.0  1625.0\n",
       "4  5 2019-05-03 13:23:19 2019-05-03 13:36:01  1576.0  1602.0"
      ]
     },
     "execution_count": 33,
     "metadata": {},
     "output_type": "execute_result"
    }
   ],
   "source": [
    "temp.head()"
   ]
  },
  {
   "cell_type": "code",
   "execution_count": 34,
   "metadata": {},
   "outputs": [],
   "source": [
    "temp.columns = ['key', 'Время 1', 'Время 2', 'Температура 1', 'Температура 2']"
   ]
  },
  {
   "cell_type": "markdown",
   "metadata": {},
   "source": [
    "удалим ненужные столбцы"
   ]
  },
  {
   "cell_type": "code",
   "execution_count": 35,
   "metadata": {},
   "outputs": [],
   "source": [
    "del temp['Время 1']\n",
    "del temp['Время 2']"
   ]
  },
  {
   "cell_type": "markdown",
   "metadata": {},
   "source": [
    "Узнаем сколько всего было итераций у каждой партии"
   ]
  },
  {
   "cell_type": "code",
   "execution_count": 36,
   "metadata": {},
   "outputs": [],
   "source": [
    "arc_new = arc.groupby(by = 'key', as_index = False).count()[['key', 'Начало нагрева дугой']]"
   ]
  },
  {
   "cell_type": "code",
   "execution_count": 37,
   "metadata": {},
   "outputs": [
    {
     "data": {
      "text/html": [
       "<div>\n",
       "<style scoped>\n",
       "    .dataframe tbody tr th:only-of-type {\n",
       "        vertical-align: middle;\n",
       "    }\n",
       "\n",
       "    .dataframe tbody tr th {\n",
       "        vertical-align: top;\n",
       "    }\n",
       "\n",
       "    .dataframe thead th {\n",
       "        text-align: right;\n",
       "    }\n",
       "</style>\n",
       "<table border=\"1\" class=\"dataframe\">\n",
       "  <thead>\n",
       "    <tr style=\"text-align: right;\">\n",
       "      <th></th>\n",
       "      <th>key</th>\n",
       "      <th>Начало нагрева дугой</th>\n",
       "    </tr>\n",
       "  </thead>\n",
       "  <tbody>\n",
       "    <tr>\n",
       "      <td>0</td>\n",
       "      <td>1</td>\n",
       "      <td>5</td>\n",
       "    </tr>\n",
       "    <tr>\n",
       "      <td>1</td>\n",
       "      <td>2</td>\n",
       "      <td>4</td>\n",
       "    </tr>\n",
       "    <tr>\n",
       "      <td>2</td>\n",
       "      <td>3</td>\n",
       "      <td>5</td>\n",
       "    </tr>\n",
       "    <tr>\n",
       "      <td>3</td>\n",
       "      <td>4</td>\n",
       "      <td>4</td>\n",
       "    </tr>\n",
       "    <tr>\n",
       "      <td>4</td>\n",
       "      <td>5</td>\n",
       "      <td>4</td>\n",
       "    </tr>\n",
       "  </tbody>\n",
       "</table>\n",
       "</div>"
      ],
      "text/plain": [
       "   key  Начало нагрева дугой\n",
       "0    1                     5\n",
       "1    2                     4\n",
       "2    3                     5\n",
       "3    4                     4\n",
       "4    5                     4"
      ]
     },
     "execution_count": 37,
     "metadata": {},
     "output_type": "execute_result"
    }
   ],
   "source": [
    "arc_new.head()"
   ]
  },
  {
   "cell_type": "code",
   "execution_count": 38,
   "metadata": {},
   "outputs": [],
   "source": [
    "arc_new.columns = ['key', 'Количество итераций']"
   ]
  },
  {
   "cell_type": "code",
   "execution_count": 39,
   "metadata": {},
   "outputs": [],
   "source": [
    "arc = arc.groupby(by = 'key', as_index = False).sum()"
   ]
  },
  {
   "cell_type": "code",
   "execution_count": 40,
   "metadata": {},
   "outputs": [
    {
     "data": {
      "text/html": [
       "<div>\n",
       "<style scoped>\n",
       "    .dataframe tbody tr th:only-of-type {\n",
       "        vertical-align: middle;\n",
       "    }\n",
       "\n",
       "    .dataframe tbody tr th {\n",
       "        vertical-align: top;\n",
       "    }\n",
       "\n",
       "    .dataframe thead th {\n",
       "        text-align: right;\n",
       "    }\n",
       "</style>\n",
       "<table border=\"1\" class=\"dataframe\">\n",
       "  <thead>\n",
       "    <tr style=\"text-align: right;\">\n",
       "      <th></th>\n",
       "      <th>key</th>\n",
       "      <th>Активная мощность</th>\n",
       "      <th>Реактивная мощность</th>\n",
       "      <th>Полная мощность</th>\n",
       "    </tr>\n",
       "  </thead>\n",
       "  <tbody>\n",
       "    <tr>\n",
       "      <td>0</td>\n",
       "      <td>1</td>\n",
       "      <td>4.878147</td>\n",
       "      <td>3.183241</td>\n",
       "      <td>5.826395</td>\n",
       "    </tr>\n",
       "    <tr>\n",
       "      <td>1</td>\n",
       "      <td>2</td>\n",
       "      <td>3.052598</td>\n",
       "      <td>1.998112</td>\n",
       "      <td>3.649216</td>\n",
       "    </tr>\n",
       "    <tr>\n",
       "      <td>2</td>\n",
       "      <td>3</td>\n",
       "      <td>2.525882</td>\n",
       "      <td>1.599076</td>\n",
       "      <td>2.989534</td>\n",
       "    </tr>\n",
       "    <tr>\n",
       "      <td>3</td>\n",
       "      <td>4</td>\n",
       "      <td>3.209250</td>\n",
       "      <td>2.060298</td>\n",
       "      <td>3.814962</td>\n",
       "    </tr>\n",
       "    <tr>\n",
       "      <td>4</td>\n",
       "      <td>5</td>\n",
       "      <td>3.347173</td>\n",
       "      <td>2.252643</td>\n",
       "      <td>4.035758</td>\n",
       "    </tr>\n",
       "  </tbody>\n",
       "</table>\n",
       "</div>"
      ],
      "text/plain": [
       "   key  Активная мощность  Реактивная мощность  Полная мощность\n",
       "0    1           4.878147             3.183241         5.826395\n",
       "1    2           3.052598             1.998112         3.649216\n",
       "2    3           2.525882             1.599076         2.989534\n",
       "3    4           3.209250             2.060298         3.814962\n",
       "4    5           3.347173             2.252643         4.035758"
      ]
     },
     "execution_count": 40,
     "metadata": {},
     "output_type": "execute_result"
    }
   ],
   "source": [
    "arc.head()"
   ]
  },
  {
   "cell_type": "markdown",
   "metadata": {},
   "source": [
    "Удалим данные об Активной и Реактивной мощностях"
   ]
  },
  {
   "cell_type": "code",
   "execution_count": 41,
   "metadata": {},
   "outputs": [],
   "source": [
    "del arc['Реактивная мощность']\n",
    "del arc['Активная мощность']"
   ]
  },
  {
   "cell_type": "markdown",
   "metadata": {},
   "source": [
    "Объединим все данные в одну таблицу"
   ]
  },
  {
   "cell_type": "code",
   "execution_count": 42,
   "metadata": {},
   "outputs": [],
   "source": [
    "df = temp.merge(arc, how = 'left', on = 'key')\n",
    "df = df.merge(arc_new, how = 'left', on = 'key')\n",
    "df = df.merge(wire, how = 'left', on = 'key')\n",
    "df = df.merge(bulk, how = 'left', on = 'key')\n",
    "df = df.merge(gas, how = 'left', on = 'key')"
   ]
  },
  {
   "cell_type": "code",
   "execution_count": 43,
   "metadata": {},
   "outputs": [
    {
     "data": {
      "text/html": [
       "<div>\n",
       "<style scoped>\n",
       "    .dataframe tbody tr th:only-of-type {\n",
       "        vertical-align: middle;\n",
       "    }\n",
       "\n",
       "    .dataframe tbody tr th {\n",
       "        vertical-align: top;\n",
       "    }\n",
       "\n",
       "    .dataframe thead th {\n",
       "        text-align: right;\n",
       "    }\n",
       "</style>\n",
       "<table border=\"1\" class=\"dataframe\">\n",
       "  <thead>\n",
       "    <tr style=\"text-align: right;\">\n",
       "      <th></th>\n",
       "      <th>key</th>\n",
       "      <th>Температура 1</th>\n",
       "      <th>Температура 2</th>\n",
       "      <th>Полная мощность</th>\n",
       "      <th>Количество итераций</th>\n",
       "      <th>Wire 1</th>\n",
       "      <th>Wire 2</th>\n",
       "      <th>Wire 3</th>\n",
       "      <th>Wire 4</th>\n",
       "      <th>Wire 5</th>\n",
       "      <th>...</th>\n",
       "      <th>Bulk 7</th>\n",
       "      <th>Bulk 8</th>\n",
       "      <th>Bulk 9</th>\n",
       "      <th>Bulk 10</th>\n",
       "      <th>Bulk 11</th>\n",
       "      <th>Bulk 12</th>\n",
       "      <th>Bulk 13</th>\n",
       "      <th>Bulk 14</th>\n",
       "      <th>Bulk 15</th>\n",
       "      <th>Газ 1</th>\n",
       "    </tr>\n",
       "  </thead>\n",
       "  <tbody>\n",
       "    <tr>\n",
       "      <td>0</td>\n",
       "      <td>1</td>\n",
       "      <td>1571.0</td>\n",
       "      <td>1613.0</td>\n",
       "      <td>5.826395</td>\n",
       "      <td>5.0</td>\n",
       "      <td>60.059998</td>\n",
       "      <td>0.00000</td>\n",
       "      <td>0.0</td>\n",
       "      <td>0.0</td>\n",
       "      <td>0.0</td>\n",
       "      <td>...</td>\n",
       "      <td>0.0</td>\n",
       "      <td>0.0</td>\n",
       "      <td>0.0</td>\n",
       "      <td>0.0</td>\n",
       "      <td>0.0</td>\n",
       "      <td>206.0</td>\n",
       "      <td>0.0</td>\n",
       "      <td>150.0</td>\n",
       "      <td>154.0</td>\n",
       "      <td>29.749986</td>\n",
       "    </tr>\n",
       "    <tr>\n",
       "      <td>1</td>\n",
       "      <td>2</td>\n",
       "      <td>1581.0</td>\n",
       "      <td>1602.0</td>\n",
       "      <td>3.649216</td>\n",
       "      <td>4.0</td>\n",
       "      <td>96.052315</td>\n",
       "      <td>0.00000</td>\n",
       "      <td>0.0</td>\n",
       "      <td>0.0</td>\n",
       "      <td>0.0</td>\n",
       "      <td>...</td>\n",
       "      <td>0.0</td>\n",
       "      <td>0.0</td>\n",
       "      <td>0.0</td>\n",
       "      <td>0.0</td>\n",
       "      <td>0.0</td>\n",
       "      <td>206.0</td>\n",
       "      <td>0.0</td>\n",
       "      <td>149.0</td>\n",
       "      <td>154.0</td>\n",
       "      <td>12.555561</td>\n",
       "    </tr>\n",
       "    <tr>\n",
       "      <td>2</td>\n",
       "      <td>3</td>\n",
       "      <td>1596.0</td>\n",
       "      <td>1599.0</td>\n",
       "      <td>2.989534</td>\n",
       "      <td>5.0</td>\n",
       "      <td>91.160157</td>\n",
       "      <td>0.00000</td>\n",
       "      <td>0.0</td>\n",
       "      <td>0.0</td>\n",
       "      <td>0.0</td>\n",
       "      <td>...</td>\n",
       "      <td>0.0</td>\n",
       "      <td>0.0</td>\n",
       "      <td>0.0</td>\n",
       "      <td>0.0</td>\n",
       "      <td>0.0</td>\n",
       "      <td>205.0</td>\n",
       "      <td>0.0</td>\n",
       "      <td>152.0</td>\n",
       "      <td>153.0</td>\n",
       "      <td>28.554793</td>\n",
       "    </tr>\n",
       "    <tr>\n",
       "      <td>3</td>\n",
       "      <td>4</td>\n",
       "      <td>1601.0</td>\n",
       "      <td>1625.0</td>\n",
       "      <td>3.814962</td>\n",
       "      <td>4.0</td>\n",
       "      <td>89.063515</td>\n",
       "      <td>0.00000</td>\n",
       "      <td>0.0</td>\n",
       "      <td>0.0</td>\n",
       "      <td>0.0</td>\n",
       "      <td>...</td>\n",
       "      <td>0.0</td>\n",
       "      <td>0.0</td>\n",
       "      <td>0.0</td>\n",
       "      <td>0.0</td>\n",
       "      <td>0.0</td>\n",
       "      <td>207.0</td>\n",
       "      <td>0.0</td>\n",
       "      <td>153.0</td>\n",
       "      <td>154.0</td>\n",
       "      <td>18.841219</td>\n",
       "    </tr>\n",
       "    <tr>\n",
       "      <td>4</td>\n",
       "      <td>5</td>\n",
       "      <td>1576.0</td>\n",
       "      <td>1602.0</td>\n",
       "      <td>4.035758</td>\n",
       "      <td>4.0</td>\n",
       "      <td>89.238236</td>\n",
       "      <td>9.11456</td>\n",
       "      <td>0.0</td>\n",
       "      <td>0.0</td>\n",
       "      <td>0.0</td>\n",
       "      <td>...</td>\n",
       "      <td>0.0</td>\n",
       "      <td>0.0</td>\n",
       "      <td>0.0</td>\n",
       "      <td>0.0</td>\n",
       "      <td>0.0</td>\n",
       "      <td>203.0</td>\n",
       "      <td>0.0</td>\n",
       "      <td>151.0</td>\n",
       "      <td>152.0</td>\n",
       "      <td>5.413692</td>\n",
       "    </tr>\n",
       "  </tbody>\n",
       "</table>\n",
       "<p>5 rows × 30 columns</p>\n",
       "</div>"
      ],
      "text/plain": [
       "   key  Температура 1  Температура 2  Полная мощность  Количество итераций  \\\n",
       "0    1         1571.0         1613.0         5.826395                  5.0   \n",
       "1    2         1581.0         1602.0         3.649216                  4.0   \n",
       "2    3         1596.0         1599.0         2.989534                  5.0   \n",
       "3    4         1601.0         1625.0         3.814962                  4.0   \n",
       "4    5         1576.0         1602.0         4.035758                  4.0   \n",
       "\n",
       "      Wire 1   Wire 2  Wire 3  Wire 4  Wire 5  ...  Bulk 7  Bulk 8  Bulk 9  \\\n",
       "0  60.059998  0.00000     0.0     0.0     0.0  ...     0.0     0.0     0.0   \n",
       "1  96.052315  0.00000     0.0     0.0     0.0  ...     0.0     0.0     0.0   \n",
       "2  91.160157  0.00000     0.0     0.0     0.0  ...     0.0     0.0     0.0   \n",
       "3  89.063515  0.00000     0.0     0.0     0.0  ...     0.0     0.0     0.0   \n",
       "4  89.238236  9.11456     0.0     0.0     0.0  ...     0.0     0.0     0.0   \n",
       "\n",
       "   Bulk 10  Bulk 11  Bulk 12  Bulk 13  Bulk 14  Bulk 15      Газ 1  \n",
       "0      0.0      0.0    206.0      0.0    150.0    154.0  29.749986  \n",
       "1      0.0      0.0    206.0      0.0    149.0    154.0  12.555561  \n",
       "2      0.0      0.0    205.0      0.0    152.0    153.0  28.554793  \n",
       "3      0.0      0.0    207.0      0.0    153.0    154.0  18.841219  \n",
       "4      0.0      0.0    203.0      0.0    151.0    152.0   5.413692  \n",
       "\n",
       "[5 rows x 30 columns]"
      ]
     },
     "execution_count": 43,
     "metadata": {},
     "output_type": "execute_result"
    }
   ],
   "source": [
    "df.head()"
   ]
  },
  {
   "cell_type": "code",
   "execution_count": 44,
   "metadata": {},
   "outputs": [],
   "source": [
    "del df['key']"
   ]
  },
  {
   "cell_type": "code",
   "execution_count": 45,
   "metadata": {},
   "outputs": [
    {
     "name": "stdout",
     "output_type": "stream",
     "text": [
      "<class 'pandas.core.frame.DataFrame'>\n",
      "Int64Index: 2477 entries, 0 to 2476\n",
      "Data columns (total 29 columns):\n",
      "Температура 1          2477 non-null float64\n",
      "Температура 2          2477 non-null float64\n",
      "Полная мощность        2475 non-null float64\n",
      "Количество итераций    2475 non-null float64\n",
      "Wire 1                 2373 non-null float64\n",
      "Wire 2                 2373 non-null float64\n",
      "Wire 3                 2373 non-null float64\n",
      "Wire 4                 2373 non-null float64\n",
      "Wire 5                 2373 non-null float64\n",
      "Wire 6                 2373 non-null float64\n",
      "Wire 7                 2373 non-null float64\n",
      "Wire 8                 2373 non-null float64\n",
      "Wire 9                 2373 non-null float64\n",
      "Bulk 1                 2408 non-null float64\n",
      "Bulk 2                 2408 non-null float64\n",
      "Bulk 3                 2408 non-null float64\n",
      "Bulk 4                 2408 non-null float64\n",
      "Bulk 5                 2408 non-null float64\n",
      "Bulk 6                 2408 non-null float64\n",
      "Bulk 7                 2408 non-null float64\n",
      "Bulk 8                 2408 non-null float64\n",
      "Bulk 9                 2408 non-null float64\n",
      "Bulk 10                2408 non-null float64\n",
      "Bulk 11                2408 non-null float64\n",
      "Bulk 12                2408 non-null float64\n",
      "Bulk 13                2408 non-null float64\n",
      "Bulk 14                2408 non-null float64\n",
      "Bulk 15                2408 non-null float64\n",
      "Газ 1                  2475 non-null float64\n",
      "dtypes: float64(29)\n",
      "memory usage: 580.5 KB\n"
     ]
    }
   ],
   "source": [
    "df.info()"
   ]
  },
  {
   "cell_type": "markdown",
   "metadata": {},
   "source": [
    "Заполним образовавшиеся пропуски нулями"
   ]
  },
  {
   "cell_type": "code",
   "execution_count": 46,
   "metadata": {},
   "outputs": [],
   "source": [
    "df = df.fillna(0)"
   ]
  },
  {
   "cell_type": "code",
   "execution_count": 47,
   "metadata": {},
   "outputs": [
    {
     "data": {
      "text/html": [
       "<div>\n",
       "<style scoped>\n",
       "    .dataframe tbody tr th:only-of-type {\n",
       "        vertical-align: middle;\n",
       "    }\n",
       "\n",
       "    .dataframe tbody tr th {\n",
       "        vertical-align: top;\n",
       "    }\n",
       "\n",
       "    .dataframe thead th {\n",
       "        text-align: right;\n",
       "    }\n",
       "</style>\n",
       "<table border=\"1\" class=\"dataframe\">\n",
       "  <thead>\n",
       "    <tr style=\"text-align: right;\">\n",
       "      <th></th>\n",
       "      <th>Температура 1</th>\n",
       "      <th>Температура 2</th>\n",
       "      <th>Полная мощность</th>\n",
       "      <th>Количество итераций</th>\n",
       "      <th>Wire 1</th>\n",
       "      <th>Wire 2</th>\n",
       "      <th>Wire 3</th>\n",
       "      <th>Wire 4</th>\n",
       "      <th>Wire 5</th>\n",
       "      <th>Wire 6</th>\n",
       "      <th>...</th>\n",
       "      <th>Bulk 7</th>\n",
       "      <th>Bulk 8</th>\n",
       "      <th>Bulk 9</th>\n",
       "      <th>Bulk 10</th>\n",
       "      <th>Bulk 11</th>\n",
       "      <th>Bulk 12</th>\n",
       "      <th>Bulk 13</th>\n",
       "      <th>Bulk 14</th>\n",
       "      <th>Bulk 15</th>\n",
       "      <th>Газ 1</th>\n",
       "    </tr>\n",
       "  </thead>\n",
       "  <tbody>\n",
       "    <tr>\n",
       "      <td>0</td>\n",
       "      <td>1571.0</td>\n",
       "      <td>1613.0</td>\n",
       "      <td>5.826395</td>\n",
       "      <td>5.0</td>\n",
       "      <td>60.059998</td>\n",
       "      <td>0.00000</td>\n",
       "      <td>0.0</td>\n",
       "      <td>0.0</td>\n",
       "      <td>0.0</td>\n",
       "      <td>0.0</td>\n",
       "      <td>...</td>\n",
       "      <td>0.0</td>\n",
       "      <td>0.0</td>\n",
       "      <td>0.0</td>\n",
       "      <td>0.0</td>\n",
       "      <td>0.0</td>\n",
       "      <td>206.0</td>\n",
       "      <td>0.0</td>\n",
       "      <td>150.0</td>\n",
       "      <td>154.0</td>\n",
       "      <td>29.749986</td>\n",
       "    </tr>\n",
       "    <tr>\n",
       "      <td>1</td>\n",
       "      <td>1581.0</td>\n",
       "      <td>1602.0</td>\n",
       "      <td>3.649216</td>\n",
       "      <td>4.0</td>\n",
       "      <td>96.052315</td>\n",
       "      <td>0.00000</td>\n",
       "      <td>0.0</td>\n",
       "      <td>0.0</td>\n",
       "      <td>0.0</td>\n",
       "      <td>0.0</td>\n",
       "      <td>...</td>\n",
       "      <td>0.0</td>\n",
       "      <td>0.0</td>\n",
       "      <td>0.0</td>\n",
       "      <td>0.0</td>\n",
       "      <td>0.0</td>\n",
       "      <td>206.0</td>\n",
       "      <td>0.0</td>\n",
       "      <td>149.0</td>\n",
       "      <td>154.0</td>\n",
       "      <td>12.555561</td>\n",
       "    </tr>\n",
       "    <tr>\n",
       "      <td>2</td>\n",
       "      <td>1596.0</td>\n",
       "      <td>1599.0</td>\n",
       "      <td>2.989534</td>\n",
       "      <td>5.0</td>\n",
       "      <td>91.160157</td>\n",
       "      <td>0.00000</td>\n",
       "      <td>0.0</td>\n",
       "      <td>0.0</td>\n",
       "      <td>0.0</td>\n",
       "      <td>0.0</td>\n",
       "      <td>...</td>\n",
       "      <td>0.0</td>\n",
       "      <td>0.0</td>\n",
       "      <td>0.0</td>\n",
       "      <td>0.0</td>\n",
       "      <td>0.0</td>\n",
       "      <td>205.0</td>\n",
       "      <td>0.0</td>\n",
       "      <td>152.0</td>\n",
       "      <td>153.0</td>\n",
       "      <td>28.554793</td>\n",
       "    </tr>\n",
       "    <tr>\n",
       "      <td>3</td>\n",
       "      <td>1601.0</td>\n",
       "      <td>1625.0</td>\n",
       "      <td>3.814962</td>\n",
       "      <td>4.0</td>\n",
       "      <td>89.063515</td>\n",
       "      <td>0.00000</td>\n",
       "      <td>0.0</td>\n",
       "      <td>0.0</td>\n",
       "      <td>0.0</td>\n",
       "      <td>0.0</td>\n",
       "      <td>...</td>\n",
       "      <td>0.0</td>\n",
       "      <td>0.0</td>\n",
       "      <td>0.0</td>\n",
       "      <td>0.0</td>\n",
       "      <td>0.0</td>\n",
       "      <td>207.0</td>\n",
       "      <td>0.0</td>\n",
       "      <td>153.0</td>\n",
       "      <td>154.0</td>\n",
       "      <td>18.841219</td>\n",
       "    </tr>\n",
       "    <tr>\n",
       "      <td>4</td>\n",
       "      <td>1576.0</td>\n",
       "      <td>1602.0</td>\n",
       "      <td>4.035758</td>\n",
       "      <td>4.0</td>\n",
       "      <td>89.238236</td>\n",
       "      <td>9.11456</td>\n",
       "      <td>0.0</td>\n",
       "      <td>0.0</td>\n",
       "      <td>0.0</td>\n",
       "      <td>0.0</td>\n",
       "      <td>...</td>\n",
       "      <td>0.0</td>\n",
       "      <td>0.0</td>\n",
       "      <td>0.0</td>\n",
       "      <td>0.0</td>\n",
       "      <td>0.0</td>\n",
       "      <td>203.0</td>\n",
       "      <td>0.0</td>\n",
       "      <td>151.0</td>\n",
       "      <td>152.0</td>\n",
       "      <td>5.413692</td>\n",
       "    </tr>\n",
       "    <tr>\n",
       "      <td>...</td>\n",
       "      <td>...</td>\n",
       "      <td>...</td>\n",
       "      <td>...</td>\n",
       "      <td>...</td>\n",
       "      <td>...</td>\n",
       "      <td>...</td>\n",
       "      <td>...</td>\n",
       "      <td>...</td>\n",
       "      <td>...</td>\n",
       "      <td>...</td>\n",
       "      <td>...</td>\n",
       "      <td>...</td>\n",
       "      <td>...</td>\n",
       "      <td>...</td>\n",
       "      <td>...</td>\n",
       "      <td>...</td>\n",
       "      <td>...</td>\n",
       "      <td>...</td>\n",
       "      <td>...</td>\n",
       "      <td>...</td>\n",
       "      <td>...</td>\n",
       "    </tr>\n",
       "    <tr>\n",
       "      <td>2472</td>\n",
       "      <td>1570.0</td>\n",
       "      <td>1591.0</td>\n",
       "      <td>3.986869</td>\n",
       "      <td>4.0</td>\n",
       "      <td>89.150879</td>\n",
       "      <td>0.00000</td>\n",
       "      <td>0.0</td>\n",
       "      <td>0.0</td>\n",
       "      <td>0.0</td>\n",
       "      <td>0.0</td>\n",
       "      <td>...</td>\n",
       "      <td>0.0</td>\n",
       "      <td>0.0</td>\n",
       "      <td>0.0</td>\n",
       "      <td>90.0</td>\n",
       "      <td>0.0</td>\n",
       "      <td>256.0</td>\n",
       "      <td>0.0</td>\n",
       "      <td>129.0</td>\n",
       "      <td>223.0</td>\n",
       "      <td>7.125735</td>\n",
       "    </tr>\n",
       "    <tr>\n",
       "      <td>2473</td>\n",
       "      <td>1554.0</td>\n",
       "      <td>1591.0</td>\n",
       "      <td>5.057033</td>\n",
       "      <td>6.0</td>\n",
       "      <td>114.179527</td>\n",
       "      <td>0.00000</td>\n",
       "      <td>0.0</td>\n",
       "      <td>0.0</td>\n",
       "      <td>0.0</td>\n",
       "      <td>0.0</td>\n",
       "      <td>...</td>\n",
       "      <td>0.0</td>\n",
       "      <td>0.0</td>\n",
       "      <td>0.0</td>\n",
       "      <td>122.0</td>\n",
       "      <td>0.0</td>\n",
       "      <td>256.0</td>\n",
       "      <td>0.0</td>\n",
       "      <td>129.0</td>\n",
       "      <td>226.0</td>\n",
       "      <td>9.412616</td>\n",
       "    </tr>\n",
       "    <tr>\n",
       "      <td>2474</td>\n",
       "      <td>1571.0</td>\n",
       "      <td>1589.0</td>\n",
       "      <td>2.885017</td>\n",
       "      <td>3.0</td>\n",
       "      <td>94.086723</td>\n",
       "      <td>9.04800</td>\n",
       "      <td>0.0</td>\n",
       "      <td>0.0</td>\n",
       "      <td>0.0</td>\n",
       "      <td>0.0</td>\n",
       "      <td>...</td>\n",
       "      <td>0.0</td>\n",
       "      <td>0.0</td>\n",
       "      <td>0.0</td>\n",
       "      <td>0.0</td>\n",
       "      <td>0.0</td>\n",
       "      <td>230.0</td>\n",
       "      <td>0.0</td>\n",
       "      <td>124.0</td>\n",
       "      <td>226.0</td>\n",
       "      <td>6.271699</td>\n",
       "    </tr>\n",
       "    <tr>\n",
       "      <td>2475</td>\n",
       "      <td>1591.0</td>\n",
       "      <td>1594.0</td>\n",
       "      <td>4.143749</td>\n",
       "      <td>5.0</td>\n",
       "      <td>118.110717</td>\n",
       "      <td>0.00000</td>\n",
       "      <td>0.0</td>\n",
       "      <td>0.0</td>\n",
       "      <td>0.0</td>\n",
       "      <td>0.0</td>\n",
       "      <td>...</td>\n",
       "      <td>0.0</td>\n",
       "      <td>0.0</td>\n",
       "      <td>0.0</td>\n",
       "      <td>101.0</td>\n",
       "      <td>0.0</td>\n",
       "      <td>206.0</td>\n",
       "      <td>0.0</td>\n",
       "      <td>129.0</td>\n",
       "      <td>207.0</td>\n",
       "      <td>14.953657</td>\n",
       "    </tr>\n",
       "    <tr>\n",
       "      <td>2476</td>\n",
       "      <td>1569.0</td>\n",
       "      <td>1603.0</td>\n",
       "      <td>4.953010</td>\n",
       "      <td>4.0</td>\n",
       "      <td>110.160958</td>\n",
       "      <td>50.00528</td>\n",
       "      <td>0.0</td>\n",
       "      <td>0.0</td>\n",
       "      <td>0.0</td>\n",
       "      <td>0.0</td>\n",
       "      <td>...</td>\n",
       "      <td>0.0</td>\n",
       "      <td>0.0</td>\n",
       "      <td>0.0</td>\n",
       "      <td>0.0</td>\n",
       "      <td>0.0</td>\n",
       "      <td>233.0</td>\n",
       "      <td>0.0</td>\n",
       "      <td>126.0</td>\n",
       "      <td>227.0</td>\n",
       "      <td>11.336151</td>\n",
       "    </tr>\n",
       "  </tbody>\n",
       "</table>\n",
       "<p>2477 rows × 29 columns</p>\n",
       "</div>"
      ],
      "text/plain": [
       "      Температура 1  Температура 2  Полная мощность  Количество итераций  \\\n",
       "0            1571.0         1613.0         5.826395                  5.0   \n",
       "1            1581.0         1602.0         3.649216                  4.0   \n",
       "2            1596.0         1599.0         2.989534                  5.0   \n",
       "3            1601.0         1625.0         3.814962                  4.0   \n",
       "4            1576.0         1602.0         4.035758                  4.0   \n",
       "...             ...            ...              ...                  ...   \n",
       "2472         1570.0         1591.0         3.986869                  4.0   \n",
       "2473         1554.0         1591.0         5.057033                  6.0   \n",
       "2474         1571.0         1589.0         2.885017                  3.0   \n",
       "2475         1591.0         1594.0         4.143749                  5.0   \n",
       "2476         1569.0         1603.0         4.953010                  4.0   \n",
       "\n",
       "          Wire 1    Wire 2  Wire 3  Wire 4  Wire 5  Wire 6  ...  Bulk 7  \\\n",
       "0      60.059998   0.00000     0.0     0.0     0.0     0.0  ...     0.0   \n",
       "1      96.052315   0.00000     0.0     0.0     0.0     0.0  ...     0.0   \n",
       "2      91.160157   0.00000     0.0     0.0     0.0     0.0  ...     0.0   \n",
       "3      89.063515   0.00000     0.0     0.0     0.0     0.0  ...     0.0   \n",
       "4      89.238236   9.11456     0.0     0.0     0.0     0.0  ...     0.0   \n",
       "...          ...       ...     ...     ...     ...     ...  ...     ...   \n",
       "2472   89.150879   0.00000     0.0     0.0     0.0     0.0  ...     0.0   \n",
       "2473  114.179527   0.00000     0.0     0.0     0.0     0.0  ...     0.0   \n",
       "2474   94.086723   9.04800     0.0     0.0     0.0     0.0  ...     0.0   \n",
       "2475  118.110717   0.00000     0.0     0.0     0.0     0.0  ...     0.0   \n",
       "2476  110.160958  50.00528     0.0     0.0     0.0     0.0  ...     0.0   \n",
       "\n",
       "      Bulk 8  Bulk 9  Bulk 10  Bulk 11  Bulk 12  Bulk 13  Bulk 14  Bulk 15  \\\n",
       "0        0.0     0.0      0.0      0.0    206.0      0.0    150.0    154.0   \n",
       "1        0.0     0.0      0.0      0.0    206.0      0.0    149.0    154.0   \n",
       "2        0.0     0.0      0.0      0.0    205.0      0.0    152.0    153.0   \n",
       "3        0.0     0.0      0.0      0.0    207.0      0.0    153.0    154.0   \n",
       "4        0.0     0.0      0.0      0.0    203.0      0.0    151.0    152.0   \n",
       "...      ...     ...      ...      ...      ...      ...      ...      ...   \n",
       "2472     0.0     0.0     90.0      0.0    256.0      0.0    129.0    223.0   \n",
       "2473     0.0     0.0    122.0      0.0    256.0      0.0    129.0    226.0   \n",
       "2474     0.0     0.0      0.0      0.0    230.0      0.0    124.0    226.0   \n",
       "2475     0.0     0.0    101.0      0.0    206.0      0.0    129.0    207.0   \n",
       "2476     0.0     0.0      0.0      0.0    233.0      0.0    126.0    227.0   \n",
       "\n",
       "          Газ 1  \n",
       "0     29.749986  \n",
       "1     12.555561  \n",
       "2     28.554793  \n",
       "3     18.841219  \n",
       "4      5.413692  \n",
       "...         ...  \n",
       "2472   7.125735  \n",
       "2473   9.412616  \n",
       "2474   6.271699  \n",
       "2475  14.953657  \n",
       "2476  11.336151  \n",
       "\n",
       "[2477 rows x 29 columns]"
      ]
     },
     "execution_count": 47,
     "metadata": {},
     "output_type": "execute_result"
    }
   ],
   "source": [
    "df"
   ]
  },
  {
   "cell_type": "markdown",
   "metadata": {},
   "source": [
    "Разделим данные на обучающую и тестовую выборку "
   ]
  },
  {
   "cell_type": "code",
   "execution_count": 48,
   "metadata": {},
   "outputs": [],
   "source": [
    "train, test = train_test_split(df, test_size = 0.25, random_state = 12345)"
   ]
  },
  {
   "cell_type": "code",
   "execution_count": 49,
   "metadata": {},
   "outputs": [
    {
     "name": "stdout",
     "output_type": "stream",
     "text": [
      "Размер обучающей выборки: (1857, 29)\n",
      "Размер тестовой выобрки: (620, 29)\n"
     ]
    }
   ],
   "source": [
    "print('Размер обучающей выборки:', train.shape)\n",
    "print('Размер тестовой выобрки:', test.shape)"
   ]
  },
  {
   "cell_type": "markdown",
   "metadata": {},
   "source": [
    "Проведем масштабирование признаков"
   ]
  },
  {
   "cell_type": "code",
   "execution_count": 50,
   "metadata": {},
   "outputs": [],
   "source": [
    "numeric = df.columns.tolist()\n",
    "numeric = [i for i in numeric if i not in ('Температура 2')]\n",
    "scaler = MinMaxScaler()\n",
    "scaler.fit(train[numeric])\n",
    "train[numeric] = scaler.transform(train[numeric])\n",
    "test[numeric] = scaler.transform(test[numeric])"
   ]
  },
  {
   "cell_type": "code",
   "execution_count": 51,
   "metadata": {},
   "outputs": [],
   "source": [
    "X_train = train.drop(['Температура 2'], axis = 1)\n",
    "y_train = train['Температура 2']\n",
    "X_test = test.drop(['Температура 2'], axis = 1)\n",
    "y_test = test['Температура 2']"
   ]
  },
  {
   "cell_type": "markdown",
   "metadata": {},
   "source": []
  },
  {
   "cell_type": "markdown",
   "metadata": {},
   "source": [
    "## Обучение моделей"
   ]
  },
  {
   "cell_type": "markdown",
   "metadata": {},
   "source": [
    "### LinearRegression"
   ]
  },
  {
   "cell_type": "code",
   "execution_count": 52,
   "metadata": {},
   "outputs": [
    {
     "name": "stdout",
     "output_type": "stream",
     "text": [
      "MAE на обучающей выборке: 8.013036535510055\n",
      "максимальное смещение: 1\n",
      "размер скользящего окна: 1\n",
      "CPU times: user 19.1 s, sys: 28.4 s, total: 47.5 s\n",
      "Wall time: 47.8 s\n"
     ]
    }
   ],
   "source": [
    "%%time\n",
    "best_lag = 0\n",
    "best_roll_size = 0\n",
    "best_mae = 100\n",
    "for lag in range(1, 101, 5):\n",
    "    for roll_size in range(1, 101, 5):\n",
    "        lr = LinearRegression()\n",
    "        lr.fit(X_train, y_train)\n",
    "        train_predictions = lr.predict(X_train)\n",
    "        mae = mean_absolute_error(train_predictions, y_train)\n",
    "        if mae < best_mae :\n",
    "            best_mae = mae\n",
    "            best_lag = lag\n",
    "            best_roll_size = roll_size\n",
    "print('MAE на обучающей выборке:', best_mae)\n",
    "print('максимальное смещение:',best_lag)\n",
    "print('размер скользящего окна:',best_roll_size)"
   ]
  },
  {
   "cell_type": "markdown",
   "metadata": {},
   "source": [
    "### Lasso"
   ]
  },
  {
   "cell_type": "code",
   "execution_count": 53,
   "metadata": {},
   "outputs": [
    {
     "name": "stdout",
     "output_type": "stream",
     "text": [
      "MAE на обучающей выборке: 8.423759754137864\n",
      "максимальное смещение: 1\n",
      "размер скользящего окна: 1\n",
      "Коэффициент регуляризации: 0.1\n",
      "CPU times: user 1min 3s, sys: 1min 33s, total: 2min 36s\n",
      "Wall time: 2min 36s\n"
     ]
    }
   ],
   "source": [
    "%%time\n",
    "best_lag_ls = 0\n",
    "best_roll_size_ls = 0\n",
    "best_alpha_ls = 0\n",
    "best_mae_ls = 100\n",
    "for lag in range(1, 101, 5):\n",
    "    for roll_size in range(1, 101, 5):\n",
    "        for alpha in np.arange(0.1, 1, 0.2):\n",
    "            ls = Lasso(alpha=alpha)\n",
    "            ls.fit(X_train, y_train)\n",
    "            train_predictions = ls.predict(X_train)\n",
    "            mae = mean_absolute_error(train_predictions,y_train)\n",
    "            if mae < best_mae_ls :\n",
    "                best_mae_ls = mae\n",
    "                best_lag_ls = lag\n",
    "                best_roll_size_ls = roll_size\n",
    "                best_alpha_ls = alpha\n",
    "print('MAE на обучающей выборке:', best_mae_ls)\n",
    "print('максимальное смещение:',best_lag_ls)\n",
    "print('размер скользящего окна:',best_roll_size_ls)\n",
    "print('Коэффициент регуляризации:',best_alpha_ls)"
   ]
  },
  {
   "cell_type": "markdown",
   "metadata": {},
   "source": [
    "### Ridge"
   ]
  },
  {
   "cell_type": "code",
   "execution_count": 54,
   "metadata": {},
   "outputs": [
    {
     "name": "stdout",
     "output_type": "stream",
     "text": [
      "MAE на обучающей выборке: 8.01146932994808\n",
      "максимальное смещение: 1\n",
      "размер скользящего окна: 1\n",
      "Коэффициент регуляризации: 0.1\n",
      "CPU times: user 30.4 s, sys: 38.2 s, total: 1min 8s\n",
      "Wall time: 1min 8s\n"
     ]
    }
   ],
   "source": [
    "%%time\n",
    "best_lag_rd = 0\n",
    "best_roll_size_rd = 0\n",
    "best_alpha_rd = 0\n",
    "best_mae_rd = 100\n",
    "for lag in range(1, 101, 5):\n",
    "    for roll_size in range(1, 101, 5):\n",
    "        for alpha in np.arange(0.1, 1, 0.2):\n",
    "            rd = Ridge(alpha=alpha)\n",
    "            rd.fit(X_train, y_train)\n",
    "            train_predictions = rd.predict(X_train)\n",
    "            mae = mean_absolute_error(train_predictions,y_train)\n",
    "            if mae < best_mae_rd :\n",
    "                best_mae_rd = mae\n",
    "                best_lag_rd = lag\n",
    "                best_roll_size_rd = roll_size\n",
    "                best_alpha_rd= alpha\n",
    "print('MAE на обучающей выборке:', best_mae_rd)\n",
    "print('максимальное смещение:',best_lag_rd)\n",
    "print('размер скользящего окна:',best_roll_size_rd)\n",
    "print('Коэффициент регуляризации:',best_alpha_rd)"
   ]
  },
  {
   "cell_type": "markdown",
   "metadata": {},
   "source": [
    "### CatBoostRegressor"
   ]
  },
  {
   "cell_type": "code",
   "execution_count": 55,
   "metadata": {},
   "outputs": [],
   "source": [
    "#%%time\n",
    "#model =  CatBoostRegressor()\n",
    "#params = {\n",
    "          #'loss_function':['MAE'],\n",
    "          #'n_estimators': np.arange(100, 500, 100),  \n",
    "          #'learning_rate': np.arange(0.03, 0.12, 0.02),\n",
    "          #'random_state':[12345],\n",
    "          #'depth': np.arange(1, 10)}\n",
    "#gscv = GridSearchCV(estimator=model, param_grid=params, cv=5)\n",
    "#gscv.fit(X_train, y_train)\n",
    "#pred = gscv.predict(X_test)\n",
    "#print('model CatBoostRegressor')\n",
    "#print('best_params', gscv.best_params_)\n",
    "#print('train_mae_score', mean_absolute_error(y_train, train_pred))"
   ]
  },
  {
   "cell_type": "markdown",
   "metadata": {},
   "source": [
    "Закомментировал модель, оставил только итоги. Т.к. модель считала больше часа\n",
    "\n",
    "model CatBoostRegressor\n",
    "\n",
    "best_params {'depth': 6, 'learning_rate': 0.07, 'loss_function': 'MAE', 'n_estimators': 400, 'random_state': 12345}\n",
    "\n",
    "train_mae_score 3.8549577052565174\n",
    "\n",
    "CPU times: user 53min 19s, sys: 5min 49s, total: 59min 8s\n",
    "\n",
    "Wall time: 1h 23min 52s"
   ]
  },
  {
   "cell_type": "markdown",
   "metadata": {},
   "source": [
    "### XGBRegressor"
   ]
  },
  {
   "cell_type": "code",
   "execution_count": 56,
   "metadata": {},
   "outputs": [
    {
     "name": "stdout",
     "output_type": "stream",
     "text": [
      "[13:25:20] WARNING: /workspace/src/objective/regression_obj.cu:152: reg:linear is now deprecated in favor of reg:squarederror.\n",
      "[13:25:20] WARNING: /workspace/src/objective/regression_obj.cu:152: reg:linear is now deprecated in favor of reg:squarederror.\n",
      "[13:25:20] WARNING: /workspace/src/objective/regression_obj.cu:152: reg:linear is now deprecated in favor of reg:squarederror.\n",
      "[13:25:20] WARNING: /workspace/src/objective/regression_obj.cu:152: reg:linear is now deprecated in favor of reg:squarederror.\n",
      "[13:25:20] WARNING: /workspace/src/objective/regression_obj.cu:152: reg:linear is now deprecated in favor of reg:squarederror.\n",
      "[13:25:20] WARNING: /workspace/src/objective/regression_obj.cu:152: reg:linear is now deprecated in favor of reg:squarederror.\n",
      "[13:25:21] WARNING: /workspace/src/objective/regression_obj.cu:152: reg:linear is now deprecated in favor of reg:squarederror.\n",
      "[13:25:21] WARNING: /workspace/src/objective/regression_obj.cu:152: reg:linear is now deprecated in favor of reg:squarederror.\n",
      "[13:25:21] WARNING: /workspace/src/objective/regression_obj.cu:152: reg:linear is now deprecated in favor of reg:squarederror.\n",
      "[13:25:21] WARNING: /workspace/src/objective/regression_obj.cu:152: reg:linear is now deprecated in favor of reg:squarederror.\n",
      "[13:25:21] WARNING: /workspace/src/objective/regression_obj.cu:152: reg:linear is now deprecated in favor of reg:squarederror.\n",
      "[13:25:21] WARNING: /workspace/src/objective/regression_obj.cu:152: reg:linear is now deprecated in favor of reg:squarederror.\n",
      "[13:25:22] WARNING: /workspace/src/objective/regression_obj.cu:152: reg:linear is now deprecated in favor of reg:squarederror.\n",
      "[13:25:22] WARNING: /workspace/src/objective/regression_obj.cu:152: reg:linear is now deprecated in favor of reg:squarederror.\n",
      "[13:25:22] WARNING: /workspace/src/objective/regression_obj.cu:152: reg:linear is now deprecated in favor of reg:squarederror.\n",
      "[13:25:22] WARNING: /workspace/src/objective/regression_obj.cu:152: reg:linear is now deprecated in favor of reg:squarederror.\n",
      "[13:25:22] WARNING: /workspace/src/objective/regression_obj.cu:152: reg:linear is now deprecated in favor of reg:squarederror.\n",
      "[13:25:23] WARNING: /workspace/src/objective/regression_obj.cu:152: reg:linear is now deprecated in favor of reg:squarederror.\n",
      "[13:25:23] WARNING: /workspace/src/objective/regression_obj.cu:152: reg:linear is now deprecated in favor of reg:squarederror.\n",
      "[13:25:23] WARNING: /workspace/src/objective/regression_obj.cu:152: reg:linear is now deprecated in favor of reg:squarederror.\n",
      "[13:25:24] WARNING: /workspace/src/objective/regression_obj.cu:152: reg:linear is now deprecated in favor of reg:squarederror.\n",
      "[13:25:24] WARNING: /workspace/src/objective/regression_obj.cu:152: reg:linear is now deprecated in favor of reg:squarederror.\n",
      "[13:25:24] WARNING: /workspace/src/objective/regression_obj.cu:152: reg:linear is now deprecated in favor of reg:squarederror.\n",
      "[13:25:25] WARNING: /workspace/src/objective/regression_obj.cu:152: reg:linear is now deprecated in favor of reg:squarederror.\n",
      "[13:25:25] WARNING: /workspace/src/objective/regression_obj.cu:152: reg:linear is now deprecated in favor of reg:squarederror.\n",
      "[13:25:25] WARNING: /workspace/src/objective/regression_obj.cu:152: reg:linear is now deprecated in favor of reg:squarederror.\n",
      "[13:25:25] WARNING: /workspace/src/objective/regression_obj.cu:152: reg:linear is now deprecated in favor of reg:squarederror.\n",
      "[13:25:26] WARNING: /workspace/src/objective/regression_obj.cu:152: reg:linear is now deprecated in favor of reg:squarederror.\n",
      "[13:25:26] WARNING: /workspace/src/objective/regression_obj.cu:152: reg:linear is now deprecated in favor of reg:squarederror.\n",
      "[13:25:26] WARNING: /workspace/src/objective/regression_obj.cu:152: reg:linear is now deprecated in favor of reg:squarederror.\n",
      "[13:25:26] WARNING: /workspace/src/objective/regression_obj.cu:152: reg:linear is now deprecated in favor of reg:squarederror.\n",
      "[13:25:27] WARNING: /workspace/src/objective/regression_obj.cu:152: reg:linear is now deprecated in favor of reg:squarederror.\n",
      "[13:25:27] WARNING: /workspace/src/objective/regression_obj.cu:152: reg:linear is now deprecated in favor of reg:squarederror.\n",
      "[13:25:28] WARNING: /workspace/src/objective/regression_obj.cu:152: reg:linear is now deprecated in favor of reg:squarederror.\n",
      "[13:25:28] WARNING: /workspace/src/objective/regression_obj.cu:152: reg:linear is now deprecated in favor of reg:squarederror.\n",
      "[13:25:29] WARNING: /workspace/src/objective/regression_obj.cu:152: reg:linear is now deprecated in favor of reg:squarederror.\n",
      "[13:25:29] WARNING: /workspace/src/objective/regression_obj.cu:152: reg:linear is now deprecated in favor of reg:squarederror.\n",
      "[13:25:30] WARNING: /workspace/src/objective/regression_obj.cu:152: reg:linear is now deprecated in favor of reg:squarederror.\n",
      "[13:25:30] WARNING: /workspace/src/objective/regression_obj.cu:152: reg:linear is now deprecated in favor of reg:squarederror.\n",
      "[13:25:31] WARNING: /workspace/src/objective/regression_obj.cu:152: reg:linear is now deprecated in favor of reg:squarederror.\n",
      "[13:25:31] WARNING: /workspace/src/objective/regression_obj.cu:152: reg:linear is now deprecated in favor of reg:squarederror.\n",
      "[13:25:31] WARNING: /workspace/src/objective/regression_obj.cu:152: reg:linear is now deprecated in favor of reg:squarederror.\n",
      "[13:25:32] WARNING: /workspace/src/objective/regression_obj.cu:152: reg:linear is now deprecated in favor of reg:squarederror.\n",
      "[13:25:32] WARNING: /workspace/src/objective/regression_obj.cu:152: reg:linear is now deprecated in favor of reg:squarederror.\n",
      "[13:25:33] WARNING: /workspace/src/objective/regression_obj.cu:152: reg:linear is now deprecated in favor of reg:squarederror.\n",
      "[13:25:33] WARNING: /workspace/src/objective/regression_obj.cu:152: reg:linear is now deprecated in favor of reg:squarederror.\n",
      "model xgboost.XGBRegressor\n",
      "best_params {'eval_metric': 'mae', 'max_depth': 5, 'min_child_weight': 10}\n",
      "train_mae_score_XGB 4.703647003420335\n",
      "CPU times: user 13.5 s, sys: 60.3 ms, total: 13.5 s\n",
      "Wall time: 13.6 s\n"
     ]
    }
   ],
   "source": [
    "%%time\n",
    "model =  xgboost.XGBRegressor()\n",
    "params = {\n",
    "        'min_child_weight': [10,20,30],\n",
    "        'max_depth': [5,10,20],\n",
    "        'eval_metric' :['mae']}\n",
    "gscv = GridSearchCV(estimator=model, param_grid=params, cv=5)\n",
    "gscv.fit(X_train, y_train)\n",
    "train_pred_XGB = gscv.predict(X_train)\n",
    "print('model xgboost.XGBRegressor')\n",
    "print('best_params', gscv.best_params_)\n",
    "print('train_mae_score_XGB', mean_absolute_error(y_train, train_pred_XGB))"
   ]
  },
  {
   "cell_type": "markdown",
   "metadata": {},
   "source": [
    "Соберем итоговую таблицу со всеми моделями"
   ]
  },
  {
   "cell_type": "code",
   "execution_count": 57,
   "metadata": {},
   "outputs": [],
   "source": [
    "final = []\n",
    "final = [['LinearRegression', best_mae],\n",
    "         ['Lasso', best_mae_ls],\n",
    "         ['RIDGE', best_mae_ls],\n",
    "         ['CatBoostRegressor', 3.8549577052565174],\n",
    "         ['XGBRegressor', mean_absolute_error(y_train, train_pred_XGB)]]\n",
    "final_df = pd.DataFrame(final, columns=['model','train_mae'])\n",
    "final_df.set_index('model', inplace = True)"
   ]
  },
  {
   "cell_type": "code",
   "execution_count": 58,
   "metadata": {},
   "outputs": [
    {
     "data": {
      "text/html": [
       "<div>\n",
       "<style scoped>\n",
       "    .dataframe tbody tr th:only-of-type {\n",
       "        vertical-align: middle;\n",
       "    }\n",
       "\n",
       "    .dataframe tbody tr th {\n",
       "        vertical-align: top;\n",
       "    }\n",
       "\n",
       "    .dataframe thead th {\n",
       "        text-align: right;\n",
       "    }\n",
       "</style>\n",
       "<table border=\"1\" class=\"dataframe\">\n",
       "  <thead>\n",
       "    <tr style=\"text-align: right;\">\n",
       "      <th></th>\n",
       "      <th>train_mae</th>\n",
       "    </tr>\n",
       "    <tr>\n",
       "      <th>model</th>\n",
       "      <th></th>\n",
       "    </tr>\n",
       "  </thead>\n",
       "  <tbody>\n",
       "    <tr>\n",
       "      <td>LinearRegression</td>\n",
       "      <td>8.013037</td>\n",
       "    </tr>\n",
       "    <tr>\n",
       "      <td>Lasso</td>\n",
       "      <td>8.423760</td>\n",
       "    </tr>\n",
       "    <tr>\n",
       "      <td>RIDGE</td>\n",
       "      <td>8.423760</td>\n",
       "    </tr>\n",
       "    <tr>\n",
       "      <td>CatBoostRegressor</td>\n",
       "      <td>3.854958</td>\n",
       "    </tr>\n",
       "    <tr>\n",
       "      <td>XGBRegressor</td>\n",
       "      <td>4.703647</td>\n",
       "    </tr>\n",
       "  </tbody>\n",
       "</table>\n",
       "</div>"
      ],
      "text/plain": [
       "                   train_mae\n",
       "model                       \n",
       "LinearRegression    8.013037\n",
       "Lasso               8.423760\n",
       "RIDGE               8.423760\n",
       "CatBoostRegressor   3.854958\n",
       "XGBRegressor        4.703647"
      ]
     },
     "execution_count": 58,
     "metadata": {},
     "output_type": "execute_result"
    }
   ],
   "source": [
    "final_df"
   ]
  },
  {
   "cell_type": "markdown",
   "metadata": {},
   "source": [
    "Лучше всех себя показали модели CatBoostRegressor и XGBRegressor, но CatBoost немного лучше. Поэтому для финального тестирования будем использовать ее."
   ]
  },
  {
   "cell_type": "code",
   "execution_count": 59,
   "metadata": {},
   "outputs": [
    {
     "name": "stdout",
     "output_type": "stream",
     "text": [
      "MAE на тестовой выборке: 5.9931606355635285\n",
      "CPU times: user 5.51 s, sys: 254 ms, total: 5.77 s\n",
      "Wall time: 7.21 s\n"
     ]
    }
   ],
   "source": [
    "%%time\n",
    "model_cb = CatBoostRegressor(depth=6, \n",
    "                          learning_rate = 0.07, \n",
    "                          loss_function = 'MAE', \n",
    "                          n_estimators = 400, \n",
    "                          random_state = 12345,\n",
    "                          verbose = 0)\n",
    "\n",
    "model_cb.fit(X_train,y_train)\n",
    "predictions = model_cb.predict(X_test)\n",
    "print('MAE на тестовой выборке:', mean_absolute_error(predictions,y_test))"
   ]
  },
  {
   "cell_type": "markdown",
   "metadata": {},
   "source": [
    "Узнаем, какие параметры для модели были самые важные"
   ]
  },
  {
   "cell_type": "code",
   "execution_count": 60,
   "metadata": {},
   "outputs": [],
   "source": [
    "def plot_feature_importance(importance,names,model_type):\n",
    "    \n",
    "    #Create arrays from feature importance and feature names\n",
    "    feature_importance = np.array(importance)\n",
    "    feature_names = np.array(names)\n",
    "    \n",
    "    #Create a DataFrame using a Dictionary\n",
    "    data={'feature_names':feature_names,'feature_importance':feature_importance}\n",
    "    fi_df = pd.DataFrame(data)\n",
    "    \n",
    "    #Sort the DataFrame in order decreasing feature importance\n",
    "    fi_df.sort_values(by=['feature_importance'], ascending=False,inplace=True)\n",
    "    \n",
    "    #Define size of bar plot\n",
    "    plt.figure(figsize=(10,8))\n",
    "    #Plot Searborn bar chart\n",
    "    sns.barplot(x=fi_df['feature_importance'], y=fi_df['feature_names'])\n",
    "    #Add chart labels\n",
    "    plt.title(model_type + 'FEATURE IMPORTANCE')\n",
    "    plt.xlabel('FEATURE IMPORTANCE')\n",
    "    plt.ylabel('FEATURE NAMES')"
   ]
  },
  {
   "cell_type": "code",
   "execution_count": 61,
   "metadata": {},
   "outputs": [
    {
     "data": {
      "image/png": "[encoded data removed]",
      "text/plain": [
       "<Figure size 720x576 with 1 Axes>"
      ]
     },
     "metadata": {},
     "output_type": "display_data"
    }
   ],
   "source": [
    "plot_feature_importance(model_cb.get_feature_importance(), X_test.columns,'CATBOOST')"
   ]
  },
  {
   "cell_type": "markdown",
   "metadata": {},
   "source": [
    "Как видно из графика, самыми важными параметрами для модели CatBoostRegressor являются Температура 1, Wire 1 и Полная мощность"
   ]
  },
  {
   "cell_type": "markdown",
   "metadata": {},
   "source": [
    "## Выводы"
   ]
  },
  {
   "cell_type": "markdown",
   "metadata": {},
   "source": [
    "В данной работе нам предстояло оптимизировать производственные расходы, металлургический комбинат ООО «Так закаляем сталь» путем построения модели, которая предскажет температуру стали.\n",
    "\n",
    "Для этого мы:\n",
    "- Загрузили данные\n",
    "- Провели первичный анализ данных\n",
    "- Узнали больше информации о задаче\n",
    "- Провели исследовательский анализ данных\n",
    "- Сделали предобработку данных\n",
    "- Подготовились к обучению моделей\n",
    "- Провели обучение моделей\n",
    "- Выбрали лучшую модель и протестировали ее на тестовой выборке с лучшими параметрами.\n",
    "- Добились значения MAE =~6"
   ]
  },
  {
   "cell_type": "markdown",
   "metadata": {},
   "source": [
    "В данной работе мы просто пытались угадать значение температуры исходя из некоторых факторов, но мы же знаем, что легкие колебания температуры есть всегда, а спрогнозировать их будет сложнее. \n",
    "\n",
    "Поэтому задачу экономии энергоресурсов можно поставить так: надо уменьшить разброс в измерениях. В данном случае в температуре.\n",
    "Один из подходов такой: Наверняка есть границы, в пределах которых колебания температур - дело нормальное.\n",
    "А что, если фиксировать случаи, когда температура выходит за эти границы?\n",
    "Скажем, как \"1\". И тогда для таких моментов времени собирать инфо по производству:\n",
    "а что был за материал, что был за газ, какая бригада работала. И вот тут можем реально находить причины (через корреляции, проверки гипотез, разные модельки...), фиксировать эти причины. Ну и разрабатывать энергосберегательные мероприятия."
   ]
  }
 ],
 "metadata": {
  "ExecuteTimeLog": [
   {
    "duration": 584,
    "start_time": "2021-09-21T16:39:55.962Z"
   },
   {
    "duration": 3,
    "start_time": "2021-09-21T16:41:38.385Z"
   },
   {
    "duration": 315,
    "start_time": "2021-09-21T16:42:08.852Z"
   },
   {
    "duration": 3,
    "start_time": "2021-09-21T16:42:10.924Z"
   },
   {
    "duration": 57,
    "start_time": "2021-09-21T16:42:22.923Z"
   },
   {
    "duration": 3,
    "start_time": "2021-09-21T16:42:34.199Z"
   },
   {
    "duration": 35,
    "start_time": "2021-09-21T16:42:36.891Z"
   },
   {
    "duration": 175,
    "start_time": "2021-09-21T16:45:10.877Z"
   },
   {
    "duration": 3,
    "start_time": "2021-09-21T16:45:11.575Z"
   },
   {
    "duration": 42,
    "start_time": "2021-09-21T16:45:12.040Z"
   },
   {
    "duration": 40,
    "start_time": "2021-09-21T16:45:17.552Z"
   },
   {
    "duration": 73,
    "start_time": "2021-09-21T16:45:21.664Z"
   },
   {
    "duration": 38,
    "start_time": "2021-09-21T16:45:42.382Z"
   },
   {
    "duration": 349,
    "start_time": "2021-09-21T16:48:38.138Z"
   },
   {
    "duration": 4,
    "start_time": "2021-09-21T16:48:46.198Z"
   },
   {
    "duration": 4,
    "start_time": "2021-09-21T16:49:00.897Z"
   },
   {
    "duration": 4,
    "start_time": "2021-09-21T16:49:12.687Z"
   },
   {
    "duration": 5,
    "start_time": "2021-09-21T16:49:31.744Z"
   },
   {
    "duration": 37,
    "start_time": "2021-09-21T16:49:34.263Z"
   },
   {
    "duration": 4,
    "start_time": "2021-09-21T16:49:47.414Z"
   },
   {
    "duration": 40,
    "start_time": "2021-09-21T16:49:49.482Z"
   },
   {
    "duration": 4,
    "start_time": "2021-09-21T16:50:45.498Z"
   },
   {
    "duration": 42,
    "start_time": "2021-09-21T16:50:46.047Z"
   },
   {
    "duration": 3,
    "start_time": "2021-09-21T16:51:07.636Z"
   },
   {
    "duration": 43,
    "start_time": "2021-09-21T16:51:09.030Z"
   },
   {
    "duration": 68,
    "start_time": "2021-09-21T16:51:15.481Z"
   },
   {
    "duration": 35,
    "start_time": "2021-09-21T16:51:17.705Z"
   },
   {
    "duration": 24,
    "start_time": "2021-09-21T16:51:35.062Z"
   },
   {
    "duration": 29,
    "start_time": "2021-09-21T16:52:38.010Z"
   },
   {
    "duration": 49,
    "start_time": "2021-09-21T16:53:16.677Z"
   },
   {
    "duration": 34,
    "start_time": "2021-09-21T16:53:22.463Z"
   },
   {
    "duration": 4,
    "start_time": "2021-09-21T16:58:19.401Z"
   },
   {
    "duration": 47,
    "start_time": "2021-09-21T16:58:22.522Z"
   },
   {
    "duration": 62,
    "start_time": "2021-09-21T16:58:46.576Z"
   },
   {
    "duration": 21,
    "start_time": "2021-09-21T17:02:47.907Z"
   },
   {
    "duration": 33,
    "start_time": "2021-09-21T17:05:00.372Z"
   },
   {
    "duration": 50,
    "start_time": "2021-09-21T17:07:34.732Z"
   },
   {
    "duration": 41,
    "start_time": "2021-09-21T17:09:22.174Z"
   },
   {
    "duration": 525,
    "start_time": "2021-09-21T17:31:38.288Z"
   },
   {
    "duration": 170,
    "start_time": "2021-09-21T17:31:38.815Z"
   },
   {
    "duration": 4,
    "start_time": "2021-09-21T17:31:38.987Z"
   },
   {
    "duration": 45,
    "start_time": "2021-09-21T17:31:38.993Z"
   },
   {
    "duration": 64,
    "start_time": "2021-09-21T17:31:39.040Z"
   },
   {
    "duration": 47,
    "start_time": "2021-09-21T17:31:39.106Z"
   },
   {
    "duration": 21,
    "start_time": "2021-09-21T17:31:39.155Z"
   },
   {
    "duration": 27,
    "start_time": "2021-09-21T17:31:39.177Z"
   },
   {
    "duration": 79,
    "start_time": "2021-09-21T17:31:39.205Z"
   },
   {
    "duration": 27,
    "start_time": "2021-09-21T17:31:39.285Z"
   },
   {
    "duration": 597,
    "start_time": "2021-09-22T08:48:39.522Z"
   },
   {
    "duration": 183,
    "start_time": "2021-09-22T08:48:40.121Z"
   },
   {
    "duration": 4,
    "start_time": "2021-09-22T08:48:40.306Z"
   },
   {
    "duration": 51,
    "start_time": "2021-09-22T08:48:40.336Z"
   },
   {
    "duration": 68,
    "start_time": "2021-09-22T08:48:41.392Z"
   },
   {
    "duration": 39,
    "start_time": "2021-09-22T08:48:41.783Z"
   },
   {
    "duration": 25,
    "start_time": "2021-09-22T08:48:42.150Z"
   },
   {
    "duration": 33,
    "start_time": "2021-09-22T08:48:42.719Z"
   },
   {
    "duration": 48,
    "start_time": "2021-09-22T08:48:43.402Z"
   },
   {
    "duration": 31,
    "start_time": "2021-09-22T08:48:44.062Z"
   },
   {
    "duration": 118,
    "start_time": "2021-09-23T10:19:23.287Z"
   },
   {
    "duration": 1230,
    "start_time": "2021-09-23T10:19:25.955Z"
   },
   {
    "duration": 171,
    "start_time": "2021-09-23T10:19:28.571Z"
   },
   {
    "duration": 4,
    "start_time": "2021-09-23T10:19:28.946Z"
   },
   {
    "duration": 45,
    "start_time": "2021-09-23T10:19:29.346Z"
   },
   {
    "duration": 70,
    "start_time": "2021-09-23T10:19:30.040Z"
   },
   {
    "duration": 40,
    "start_time": "2021-09-23T10:19:30.646Z"
   },
   {
    "duration": 22,
    "start_time": "2021-09-23T10:19:31.270Z"
   },
   {
    "duration": 30,
    "start_time": "2021-09-23T10:19:31.956Z"
   },
   {
    "duration": 52,
    "start_time": "2021-09-23T10:19:32.641Z"
   },
   {
    "duration": 32,
    "start_time": "2021-09-23T10:19:33.449Z"
   },
   {
    "duration": 484,
    "start_time": "2021-09-23T10:19:47.031Z"
   },
   {
    "duration": 204,
    "start_time": "2021-09-23T10:19:52.748Z"
   },
   {
    "duration": 447,
    "start_time": "2021-09-23T10:20:02.028Z"
   },
   {
    "duration": 114,
    "start_time": "2021-09-23T10:20:16.987Z"
   },
   {
    "duration": 362,
    "start_time": "2021-09-23T10:20:19.442Z"
   },
   {
    "duration": 422,
    "start_time": "2021-09-23T10:20:22.092Z"
   },
   {
    "duration": 193,
    "start_time": "2021-09-23T10:20:36.520Z"
   },
   {
    "duration": 190,
    "start_time": "2021-09-23T10:20:51.669Z"
   },
   {
    "duration": 7,
    "start_time": "2021-09-23T10:21:12.787Z"
   },
   {
    "duration": 203,
    "start_time": "2021-09-23T10:22:08.982Z"
   },
   {
    "duration": 390,
    "start_time": "2021-09-23T10:22:18.471Z"
   },
   {
    "duration": 359,
    "start_time": "2021-09-23T10:22:25.786Z"
   },
   {
    "duration": 196,
    "start_time": "2021-09-23T10:22:32.965Z"
   },
   {
    "duration": 344,
    "start_time": "2021-09-23T10:22:57.880Z"
   },
   {
    "duration": 262,
    "start_time": "2021-09-23T10:23:52.571Z"
   },
   {
    "duration": 256,
    "start_time": "2021-09-23T10:24:03.263Z"
   },
   {
    "duration": 212,
    "start_time": "2021-09-23T10:24:07.640Z"
   },
   {
    "duration": 200,
    "start_time": "2021-09-23T10:24:53.424Z"
   },
   {
    "duration": 197,
    "start_time": "2021-09-23T10:24:59.360Z"
   },
   {
    "duration": 213,
    "start_time": "2021-09-23T10:25:02.150Z"
   },
   {
    "duration": 200,
    "start_time": "2021-09-23T10:25:18.742Z"
   },
   {
    "duration": 206,
    "start_time": "2021-09-23T10:25:23.683Z"
   },
   {
    "duration": 116,
    "start_time": "2021-09-23T10:26:21.945Z"
   },
   {
    "duration": 271,
    "start_time": "2021-09-23T10:26:26.557Z"
   },
   {
    "duration": 206,
    "start_time": "2021-09-23T10:26:39.139Z"
   },
   {
    "duration": 285,
    "start_time": "2021-09-23T10:26:44.807Z"
   },
   {
    "duration": 350,
    "start_time": "2021-09-23T10:27:21.263Z"
   },
   {
    "duration": 9,
    "start_time": "2021-09-23T10:27:46.631Z"
   },
   {
    "duration": 447,
    "start_time": "2021-09-23T10:27:53.359Z"
   },
   {
    "duration": 335,
    "start_time": "2021-09-23T10:28:00.775Z"
   },
   {
    "duration": 313,
    "start_time": "2021-09-23T10:28:08.102Z"
   },
   {
    "duration": 305,
    "start_time": "2021-09-23T10:28:16.053Z"
   },
   {
    "duration": 665,
    "start_time": "2021-09-23T10:29:10.482Z"
   },
   {
    "duration": 616,
    "start_time": "2021-09-23T10:29:20.333Z"
   },
   {
    "duration": 855,
    "start_time": "2021-09-23T10:29:28.810Z"
   },
   {
    "duration": 504,
    "start_time": "2021-09-23T10:29:43.123Z"
   },
   {
    "duration": 390,
    "start_time": "2021-09-23T10:30:02.193Z"
   },
   {
    "duration": 785,
    "start_time": "2021-09-23T10:30:07.235Z"
   },
   {
    "duration": 681,
    "start_time": "2021-09-23T10:30:11.475Z"
   },
   {
    "duration": 670,
    "start_time": "2021-09-23T10:30:21.601Z"
   },
   {
    "duration": 133,
    "start_time": "2021-09-23T10:33:35.551Z"
   },
   {
    "duration": 113,
    "start_time": "2021-09-23T10:33:39.685Z"
   },
   {
    "duration": 827,
    "start_time": "2021-09-23T10:33:43.492Z"
   },
   {
    "duration": 982,
    "start_time": "2021-09-23T10:33:50.862Z"
   },
   {
    "duration": 830,
    "start_time": "2021-09-23T10:33:57.101Z"
   },
   {
    "duration": 852,
    "start_time": "2021-09-23T10:34:07.013Z"
   },
   {
    "duration": 495,
    "start_time": "2021-09-23T10:34:40.284Z"
   },
   {
    "duration": 1063,
    "start_time": "2021-09-23T10:34:50.704Z"
   },
   {
    "duration": 122,
    "start_time": "2021-09-23T10:35:39.337Z"
   },
   {
    "duration": 517,
    "start_time": "2021-09-23T10:35:44.693Z"
   },
   {
    "duration": 246,
    "start_time": "2021-09-23T10:36:55.509Z"
   },
   {
    "duration": 651,
    "start_time": "2021-09-23T10:40:29.213Z"
   },
   {
    "duration": 205,
    "start_time": "2021-09-23T10:40:40.374Z"
   },
   {
    "duration": 201,
    "start_time": "2021-09-23T10:41:13.417Z"
   },
   {
    "duration": 711,
    "start_time": "2021-09-23T10:41:26.542Z"
   },
   {
    "duration": 200,
    "start_time": "2021-09-23T10:41:30.192Z"
   },
   {
    "duration": 131,
    "start_time": "2021-09-23T10:42:25.337Z"
   },
   {
    "duration": 203,
    "start_time": "2021-09-23T10:42:30.594Z"
   },
   {
    "duration": 189,
    "start_time": "2021-09-23T10:44:56.298Z"
   },
   {
    "duration": 331,
    "start_time": "2021-09-23T10:45:08.977Z"
   },
   {
    "duration": 197,
    "start_time": "2021-09-23T10:45:15.137Z"
   },
   {
    "duration": 191,
    "start_time": "2021-09-23T10:45:22.654Z"
   },
   {
    "duration": 198,
    "start_time": "2021-09-23T10:45:34.358Z"
   },
   {
    "duration": 200,
    "start_time": "2021-09-23T10:45:47.031Z"
   },
   {
    "duration": 203,
    "start_time": "2021-09-23T10:46:13.137Z"
   },
   {
    "duration": 461,
    "start_time": "2021-09-23T10:46:28.804Z"
   },
   {
    "duration": 684,
    "start_time": "2021-09-23T10:46:38.249Z"
   },
   {
    "duration": 482,
    "start_time": "2021-09-23T10:46:40.447Z"
   },
   {
    "duration": 126,
    "start_time": "2021-09-23T10:47:20.517Z"
   },
   {
    "duration": 360,
    "start_time": "2021-09-23T10:47:31.015Z"
   },
   {
    "duration": 5,
    "start_time": "2021-09-23T10:47:59.133Z"
   },
   {
    "duration": 477,
    "start_time": "2021-09-23T10:48:01.601Z"
   },
   {
    "duration": 570,
    "start_time": "2021-09-23T10:48:12.043Z"
   },
   {
    "duration": 453,
    "start_time": "2021-09-23T10:48:24.625Z"
   },
   {
    "duration": 196,
    "start_time": "2021-09-23T10:48:45.229Z"
   },
   {
    "duration": 202,
    "start_time": "2021-09-23T10:48:56.189Z"
   },
   {
    "duration": 2400,
    "start_time": "2021-09-23T10:56:09.003Z"
   },
   {
    "duration": 2486,
    "start_time": "2021-09-23T10:56:21.739Z"
   },
   {
    "duration": 10,
    "start_time": "2021-09-23T10:56:35.392Z"
   },
   {
    "duration": -164,
    "start_time": "2021-09-23T10:56:51.121Z"
   },
   {
    "duration": 8,
    "start_time": "2021-09-23T10:56:53.690Z"
   },
   {
    "duration": 290,
    "start_time": "2021-09-23T10:57:18.035Z"
   },
   {
    "duration": 11,
    "start_time": "2021-09-23T10:59:50.482Z"
   },
   {
    "duration": 3,
    "start_time": "2021-09-23T11:02:31.686Z"
   },
   {
    "duration": 996,
    "start_time": "2021-09-23T11:02:40.436Z"
   },
   {
    "duration": 4,
    "start_time": "2021-09-23T11:02:44.837Z"
   },
   {
    "duration": 115,
    "start_time": "2021-09-23T11:02:59.111Z"
   },
   {
    "duration": 6,
    "start_time": "2021-09-23T11:03:00.999Z"
   },
   {
    "duration": 18,
    "start_time": "2021-09-23T11:03:07.790Z"
   },
   {
    "duration": 1179,
    "start_time": "2021-09-23T11:03:21.453Z"
   },
   {
    "duration": 195,
    "start_time": "2021-09-23T11:03:22.634Z"
   },
   {
    "duration": 4,
    "start_time": "2021-09-23T11:03:22.832Z"
   },
   {
    "duration": 57,
    "start_time": "2021-09-23T11:03:22.838Z"
   },
   {
    "duration": 85,
    "start_time": "2021-09-23T11:03:22.897Z"
   },
   {
    "duration": 41,
    "start_time": "2021-09-23T11:03:22.984Z"
   },
   {
    "duration": 51,
    "start_time": "2021-09-23T11:03:23.027Z"
   },
   {
    "duration": 33,
    "start_time": "2021-09-23T11:03:23.081Z"
   },
   {
    "duration": 82,
    "start_time": "2021-09-23T11:03:23.116Z"
   },
   {
    "duration": 29,
    "start_time": "2021-09-23T11:03:23.200Z"
   },
   {
    "duration": 569,
    "start_time": "2021-09-23T11:03:23.231Z"
   },
   {
    "duration": 254,
    "start_time": "2021-09-23T11:03:23.802Z"
   },
   {
    "duration": 528,
    "start_time": "2021-09-23T11:03:24.057Z"
   },
   {
    "duration": 6,
    "start_time": "2021-09-23T11:03:24.587Z"
   },
   {
    "duration": 584,
    "start_time": "2021-09-23T11:03:24.594Z"
   },
   {
    "duration": 228,
    "start_time": "2021-09-23T11:03:25.180Z"
   },
   {
    "duration": 9,
    "start_time": "2021-09-23T11:03:25.410Z"
   },
   {
    "duration": 26,
    "start_time": "2021-09-23T11:03:25.420Z"
   },
   {
    "duration": 15,
    "start_time": "2021-09-23T11:03:25.448Z"
   },
   {
    "duration": 18,
    "start_time": "2021-09-23T11:03:25.464Z"
   },
   {
    "duration": 334,
    "start_time": "2021-09-23T11:03:25.484Z"
   },
   {
    "duration": 109,
    "start_time": "2021-09-23T11:03:47.540Z"
   },
   {
    "duration": 20,
    "start_time": "2021-09-23T11:03:52.034Z"
   },
   {
    "duration": 18,
    "start_time": "2021-09-23T11:04:10.400Z"
   },
   {
    "duration": 12,
    "start_time": "2021-09-23T11:06:32.496Z"
   },
   {
    "duration": 12,
    "start_time": "2021-09-23T11:06:35.816Z"
   },
   {
    "duration": 12,
    "start_time": "2021-09-23T11:06:43.541Z"
   },
   {
    "duration": 13,
    "start_time": "2021-09-23T11:06:48.513Z"
   },
   {
    "duration": 12,
    "start_time": "2021-09-23T11:08:16.193Z"
   },
   {
    "duration": 464,
    "start_time": "2021-09-23T11:08:48.093Z"
   },
   {
    "duration": 11,
    "start_time": "2021-09-23T11:08:54.944Z"
   },
   {
    "duration": 14,
    "start_time": "2021-09-23T11:09:07.166Z"
   },
   {
    "duration": 8,
    "start_time": "2021-09-23T11:09:15.693Z"
   },
   {
    "duration": 12,
    "start_time": "2021-09-23T11:09:35.270Z"
   },
   {
    "duration": 12,
    "start_time": "2021-09-23T11:09:39.355Z"
   },
   {
    "duration": 9,
    "start_time": "2021-09-23T11:10:40.006Z"
   },
   {
    "duration": 13,
    "start_time": "2021-09-23T11:10:46.915Z"
   },
   {
    "duration": 12,
    "start_time": "2021-09-23T11:11:11.742Z"
   },
   {
    "duration": 13,
    "start_time": "2021-09-23T11:11:31.994Z"
   },
   {
    "duration": 10,
    "start_time": "2021-09-23T11:15:15.137Z"
   },
   {
    "duration": 18,
    "start_time": "2021-09-23T11:15:56.005Z"
   },
   {
    "duration": 10,
    "start_time": "2021-09-23T11:17:09.705Z"
   },
   {
    "duration": 10,
    "start_time": "2021-09-23T11:17:23.023Z"
   },
   {
    "duration": 11,
    "start_time": "2021-09-23T11:17:26.394Z"
   },
   {
    "duration": 15,
    "start_time": "2021-09-23T11:17:47.391Z"
   },
   {
    "duration": 11,
    "start_time": "2021-09-23T11:18:14.400Z"
   },
   {
    "duration": 10,
    "start_time": "2021-09-23T11:18:53.864Z"
   },
   {
    "duration": 5,
    "start_time": "2021-09-23T11:22:05.013Z"
   },
   {
    "duration": 375,
    "start_time": "2021-09-23T11:22:15.256Z"
   },
   {
    "duration": 354,
    "start_time": "2021-09-23T11:23:34.408Z"
   },
   {
    "duration": 3,
    "start_time": "2021-09-23T11:24:08.368Z"
   },
   {
    "duration": 242,
    "start_time": "2021-09-23T11:24:22.881Z"
   },
   {
    "duration": 6,
    "start_time": "2021-09-23T11:24:27.245Z"
   },
   {
    "duration": 3,
    "start_time": "2021-09-23T11:24:52.174Z"
   },
   {
    "duration": 247,
    "start_time": "2021-09-23T11:24:52.573Z"
   },
   {
    "duration": 6,
    "start_time": "2021-09-23T11:24:53.235Z"
   },
   {
    "duration": 10,
    "start_time": "2021-09-23T11:25:01.853Z"
   },
   {
    "duration": 10,
    "start_time": "2021-09-23T11:25:04.936Z"
   },
   {
    "duration": 498,
    "start_time": "2021-09-23T11:27:40.666Z"
   },
   {
    "duration": 490,
    "start_time": "2021-09-23T11:27:48.651Z"
   },
   {
    "duration": 513,
    "start_time": "2021-09-23T11:28:16.615Z"
   },
   {
    "duration": 11812,
    "start_time": "2021-09-23T11:28:23.047Z"
   },
   {
    "duration": -204,
    "start_time": "2021-09-23T11:28:35.065Z"
   },
   {
    "duration": 591,
    "start_time": "2021-09-23T11:28:38.485Z"
   },
   {
    "duration": 229,
    "start_time": "2021-09-23T11:29:37.994Z"
   },
   {
    "duration": 9600,
    "start_time": "2021-09-23T11:29:45.562Z"
   },
   {
    "duration": 590,
    "start_time": "2021-09-23T11:30:12.498Z"
   },
   {
    "duration": 1363,
    "start_time": "2021-09-23T11:32:02.405Z"
   },
   {
    "duration": 183,
    "start_time": "2021-09-23T11:32:03.770Z"
   },
   {
    "duration": 4,
    "start_time": "2021-09-23T11:32:03.955Z"
   },
   {
    "duration": 45,
    "start_time": "2021-09-23T11:32:03.960Z"
   },
   {
    "duration": 84,
    "start_time": "2021-09-23T11:32:04.007Z"
   },
   {
    "duration": 37,
    "start_time": "2021-09-23T11:32:04.092Z"
   },
   {
    "duration": 50,
    "start_time": "2021-09-23T11:32:04.131Z"
   },
   {
    "duration": 31,
    "start_time": "2021-09-23T11:32:04.184Z"
   },
   {
    "duration": 84,
    "start_time": "2021-09-23T11:32:04.217Z"
   },
   {
    "duration": 32,
    "start_time": "2021-09-23T11:32:04.303Z"
   },
   {
    "duration": 552,
    "start_time": "2021-09-23T11:32:04.336Z"
   },
   {
    "duration": 255,
    "start_time": "2021-09-23T11:32:04.890Z"
   },
   {
    "duration": 544,
    "start_time": "2021-09-23T11:32:05.147Z"
   },
   {
    "duration": 6,
    "start_time": "2021-09-23T11:32:05.693Z"
   },
   {
    "duration": 581,
    "start_time": "2021-09-23T11:32:05.701Z"
   },
   {
    "duration": 225,
    "start_time": "2021-09-23T11:32:06.284Z"
   },
   {
    "duration": 9,
    "start_time": "2021-09-23T11:32:06.510Z"
   },
   {
    "duration": 26,
    "start_time": "2021-09-23T11:32:06.521Z"
   },
   {
    "duration": 274,
    "start_time": "2021-09-23T11:32:06.549Z"
   },
   {
    "duration": 525,
    "start_time": "2021-09-23T11:32:06.825Z"
   },
   {
    "duration": 10,
    "start_time": "2021-09-23T11:32:07.352Z"
   },
   {
    "duration": 367,
    "start_time": "2021-09-23T11:32:07.364Z"
   },
   {
    "duration": 7,
    "start_time": "2021-09-23T11:32:07.734Z"
   },
   {
    "duration": 12,
    "start_time": "2021-09-23T11:32:07.743Z"
   },
   {
    "duration": 25,
    "start_time": "2021-09-23T11:32:07.757Z"
   },
   {
    "duration": 11,
    "start_time": "2021-09-23T11:32:07.784Z"
   },
   {
    "duration": 11,
    "start_time": "2021-09-23T11:32:07.797Z"
   },
   {
    "duration": 15,
    "start_time": "2021-09-23T11:32:07.809Z"
   },
   {
    "duration": 126,
    "start_time": "2021-09-23T11:33:19.998Z"
   },
   {
    "duration": 845,
    "start_time": "2021-09-23T11:39:36.701Z"
   },
   {
    "duration": 724,
    "start_time": "2021-09-23T11:40:05.631Z"
   },
   {
    "duration": 9272,
    "start_time": "2021-09-23T11:41:22.944Z"
   },
   {
    "duration": 467,
    "start_time": "2021-09-23T11:41:41.540Z"
   },
   {
    "duration": 502,
    "start_time": "2021-09-23T11:41:56.848Z"
   },
   {
    "duration": 540,
    "start_time": "2021-09-23T11:42:05.676Z"
   },
   {
    "duration": 209,
    "start_time": "2021-09-23T11:42:38.899Z"
   },
   {
    "duration": 210,
    "start_time": "2021-09-23T11:42:45.282Z"
   },
   {
    "duration": 507,
    "start_time": "2021-09-23T11:42:54.477Z"
   },
   {
    "duration": 14,
    "start_time": "2021-09-23T11:43:52.277Z"
   },
   {
    "duration": 11111,
    "start_time": "2021-09-23T11:45:28.803Z"
   },
   {
    "duration": 706,
    "start_time": "2021-09-23T11:45:55.890Z"
   },
   {
    "duration": 5,
    "start_time": "2021-09-23T11:51:08.080Z"
   },
   {
    "duration": 5,
    "start_time": "2021-09-23T11:51:11.269Z"
   },
   {
    "duration": 19,
    "start_time": "2021-09-24T09:52:52.511Z"
   },
   {
    "duration": 19,
    "start_time": "2021-09-24T09:53:41.886Z"
   },
   {
    "duration": 5,
    "start_time": "2021-09-24T09:53:58.033Z"
   },
   {
    "duration": 16,
    "start_time": "2021-09-24T09:54:03.639Z"
   },
   {
    "duration": 6764,
    "start_time": "2021-09-24T09:54:27.695Z"
   },
   {
    "duration": 1448,
    "start_time": "2021-09-24T09:55:18.121Z"
   },
   {
    "duration": 192,
    "start_time": "2021-09-24T09:55:19.572Z"
   },
   {
    "duration": 5,
    "start_time": "2021-09-24T09:55:19.767Z"
   },
   {
    "duration": 93,
    "start_time": "2021-09-24T09:55:19.774Z"
   },
   {
    "duration": 140,
    "start_time": "2021-09-24T09:55:19.870Z"
   },
   {
    "duration": 94,
    "start_time": "2021-09-24T09:55:20.014Z"
   },
   {
    "duration": 65,
    "start_time": "2021-09-24T09:55:20.110Z"
   },
   {
    "duration": 86,
    "start_time": "2021-09-24T09:55:20.179Z"
   },
   {
    "duration": 103,
    "start_time": "2021-09-24T09:55:20.268Z"
   },
   {
    "duration": 47,
    "start_time": "2021-09-24T09:55:20.373Z"
   },
   {
    "duration": 939,
    "start_time": "2021-09-24T09:55:20.422Z"
   },
   {
    "duration": 397,
    "start_time": "2021-09-24T09:55:21.364Z"
   },
   {
    "duration": 897,
    "start_time": "2021-09-24T09:55:21.764Z"
   },
   {
    "duration": 7,
    "start_time": "2021-09-24T09:55:22.664Z"
   },
   {
    "duration": 1181,
    "start_time": "2021-09-24T09:55:22.673Z"
   },
   {
    "duration": 362,
    "start_time": "2021-09-24T09:55:23.861Z"
   },
   {
    "duration": 13,
    "start_time": "2021-09-24T09:55:24.225Z"
   },
   {
    "duration": 24,
    "start_time": "2021-09-24T09:55:24.240Z"
   },
   {
    "duration": 432,
    "start_time": "2021-09-24T09:55:24.266Z"
   },
   {
    "duration": 873,
    "start_time": "2021-09-24T09:55:24.701Z"
   },
   {
    "duration": 16,
    "start_time": "2021-09-24T09:55:25.578Z"
   },
   {
    "duration": 24,
    "start_time": "2021-09-24T09:55:25.597Z"
   },
   {
    "duration": 11,
    "start_time": "2021-09-24T09:55:25.665Z"
   },
   {
    "duration": 18,
    "start_time": "2021-09-24T09:55:25.679Z"
   },
   {
    "duration": 69,
    "start_time": "2021-09-24T09:55:25.699Z"
   },
   {
    "duration": 845,
    "start_time": "2021-09-24T09:55:25.772Z"
   },
   {
    "duration": 379,
    "start_time": "2021-09-24T09:55:26.619Z"
   },
   {
    "duration": 25,
    "start_time": "2021-09-24T09:55:27.002Z"
   },
   {
    "duration": 45,
    "start_time": "2021-09-24T09:55:27.029Z"
   },
   {
    "duration": 17,
    "start_time": "2021-09-24T09:55:27.077Z"
   },
   {
    "duration": 18,
    "start_time": "2021-09-24T09:55:27.097Z"
   },
   {
    "duration": 9,
    "start_time": "2021-09-24T09:56:07.111Z"
   },
   {
    "duration": 13,
    "start_time": "2021-09-24T09:56:29.282Z"
   },
   {
    "duration": 5,
    "start_time": "2021-09-24T09:58:08.797Z"
   },
   {
    "duration": 6,
    "start_time": "2021-09-24T09:58:19.060Z"
   },
   {
    "duration": 11,
    "start_time": "2021-09-24T09:59:02.784Z"
   },
   {
    "duration": 15,
    "start_time": "2021-09-24T09:59:06.073Z"
   },
   {
    "duration": 12,
    "start_time": "2021-09-24T09:59:26.075Z"
   },
   {
    "duration": 15,
    "start_time": "2021-09-24T09:59:31.079Z"
   },
   {
    "duration": 11,
    "start_time": "2021-09-24T10:00:24.894Z"
   },
   {
    "duration": 400,
    "start_time": "2021-09-24T10:00:44.823Z"
   },
   {
    "duration": 6,
    "start_time": "2021-09-24T10:00:53.691Z"
   },
   {
    "duration": 8,
    "start_time": "2021-09-24T10:01:12.535Z"
   },
   {
    "duration": 12,
    "start_time": "2021-09-24T10:01:20.853Z"
   },
   {
    "duration": 12,
    "start_time": "2021-09-24T10:01:30.641Z"
   },
   {
    "duration": 22,
    "start_time": "2021-09-24T10:02:31.042Z"
   },
   {
    "duration": 20,
    "start_time": "2021-09-24T10:02:37.495Z"
   },
   {
    "duration": 5,
    "start_time": "2021-09-24T10:03:02.562Z"
   },
   {
    "duration": 13,
    "start_time": "2021-09-24T10:03:05.799Z"
   },
   {
    "duration": 5,
    "start_time": "2021-09-24T10:04:04.114Z"
   },
   {
    "duration": 5,
    "start_time": "2021-09-24T10:04:41.830Z"
   },
   {
    "duration": 10,
    "start_time": "2021-09-24T10:04:49.796Z"
   },
   {
    "duration": 99,
    "start_time": "2021-09-24T10:05:58.721Z"
   },
   {
    "duration": 9,
    "start_time": "2021-09-24T10:06:02.529Z"
   },
   {
    "duration": 13,
    "start_time": "2021-09-24T10:06:34.741Z"
   },
   {
    "duration": 1472,
    "start_time": "2021-09-24T10:07:15.281Z"
   },
   {
    "duration": 202,
    "start_time": "2021-09-24T10:07:16.756Z"
   },
   {
    "duration": 4,
    "start_time": "2021-09-24T10:07:16.962Z"
   },
   {
    "duration": 100,
    "start_time": "2021-09-24T10:07:16.969Z"
   },
   {
    "duration": 139,
    "start_time": "2021-09-24T10:07:17.071Z"
   },
   {
    "duration": 82,
    "start_time": "2021-09-24T10:07:17.213Z"
   },
   {
    "duration": 73,
    "start_time": "2021-09-24T10:07:17.297Z"
   },
   {
    "duration": 44,
    "start_time": "2021-09-24T10:07:17.374Z"
   },
   {
    "duration": 143,
    "start_time": "2021-09-24T10:07:17.422Z"
   },
   {
    "duration": 94,
    "start_time": "2021-09-24T10:07:17.569Z"
   },
   {
    "duration": 915,
    "start_time": "2021-09-24T10:07:17.667Z"
   },
   {
    "duration": 372,
    "start_time": "2021-09-24T10:07:18.584Z"
   },
   {
    "duration": 992,
    "start_time": "2021-09-24T10:07:18.962Z"
   },
   {
    "duration": 8,
    "start_time": "2021-09-24T10:07:19.957Z"
   },
   {
    "duration": 943,
    "start_time": "2021-09-24T10:07:19.968Z"
   },
   {
    "duration": 365,
    "start_time": "2021-09-24T10:07:20.914Z"
   },
   {
    "duration": 12,
    "start_time": "2021-09-24T10:07:21.281Z"
   },
   {
    "duration": 41,
    "start_time": "2021-09-24T10:07:21.296Z"
   },
   {
    "duration": 501,
    "start_time": "2021-09-24T10:07:21.339Z"
   },
   {
    "duration": 851,
    "start_time": "2021-09-24T10:07:21.843Z"
   },
   {
    "duration": 14,
    "start_time": "2021-09-24T10:07:22.697Z"
   },
   {
    "duration": 22,
    "start_time": "2021-09-24T10:07:22.714Z"
   },
   {
    "duration": 11,
    "start_time": "2021-09-24T10:07:22.765Z"
   },
   {
    "duration": 34,
    "start_time": "2021-09-24T10:07:22.778Z"
   },
   {
    "duration": 21,
    "start_time": "2021-09-24T10:07:22.814Z"
   },
   {
    "duration": 821,
    "start_time": "2021-09-24T10:07:22.862Z"
   },
   {
    "duration": 382,
    "start_time": "2021-09-24T10:07:23.685Z"
   },
   {
    "duration": 23,
    "start_time": "2021-09-24T10:07:24.069Z"
   },
   {
    "duration": 19,
    "start_time": "2021-09-24T10:07:24.095Z"
   },
   {
    "duration": 48,
    "start_time": "2021-09-24T10:07:24.118Z"
   },
   {
    "duration": 20,
    "start_time": "2021-09-24T10:07:24.169Z"
   },
   {
    "duration": 20,
    "start_time": "2021-09-24T10:07:24.191Z"
   },
   {
    "duration": 9,
    "start_time": "2021-09-24T10:07:24.213Z"
   },
   {
    "duration": 10,
    "start_time": "2021-09-24T10:07:24.224Z"
   },
   {
    "duration": 26,
    "start_time": "2021-09-24T10:07:24.236Z"
   },
   {
    "duration": 9,
    "start_time": "2021-09-24T10:07:24.264Z"
   },
   {
    "duration": 11,
    "start_time": "2021-09-24T10:07:24.275Z"
   },
   {
    "duration": 19,
    "start_time": "2021-09-24T10:07:24.288Z"
   },
   {
    "duration": 57,
    "start_time": "2021-09-24T10:07:24.310Z"
   },
   {
    "duration": 4,
    "start_time": "2021-09-24T10:07:24.369Z"
   },
   {
    "duration": 24,
    "start_time": "2021-09-24T10:07:24.375Z"
   },
   {
    "duration": 12,
    "start_time": "2021-09-24T10:07:24.401Z"
   },
   {
    "duration": 23,
    "start_time": "2021-09-24T10:07:24.415Z"
   },
   {
    "duration": 481,
    "start_time": "2021-09-24T10:07:24.440Z"
   },
   {
    "duration": -357,
    "start_time": "2021-09-24T10:07:25.281Z"
   },
   {
    "duration": 26,
    "start_time": "2021-09-24T10:07:39.023Z"
   },
   {
    "duration": 40,
    "start_time": "2021-09-24T10:07:39.536Z"
   },
   {
    "duration": 42,
    "start_time": "2021-09-24T10:08:08.755Z"
   },
   {
    "duration": 82,
    "start_time": "2021-09-24T10:10:44.705Z"
   },
   {
    "duration": 8,
    "start_time": "2021-09-24T10:11:14.152Z"
   },
   {
    "duration": 45,
    "start_time": "2021-09-24T10:11:39.584Z"
   },
   {
    "duration": 5,
    "start_time": "2021-09-24T10:11:46.983Z"
   },
   {
    "duration": 299,
    "start_time": "2021-09-24T10:11:57.101Z"
   },
   {
    "duration": 8,
    "start_time": "2021-09-24T10:12:16.460Z"
   },
   {
    "duration": 288,
    "start_time": "2021-09-24T10:12:36.441Z"
   },
   {
    "duration": 39,
    "start_time": "2021-09-24T10:13:09.273Z"
   },
   {
    "duration": 304,
    "start_time": "2021-09-24T10:13:13.256Z"
   },
   {
    "duration": 9,
    "start_time": "2021-09-24T10:13:28.493Z"
   },
   {
    "duration": 8,
    "start_time": "2021-09-24T10:13:32.713Z"
   },
   {
    "duration": 174,
    "start_time": "2021-09-24T10:13:36.138Z"
   },
   {
    "duration": 6,
    "start_time": "2021-09-24T10:14:43.191Z"
   },
   {
    "duration": 218,
    "start_time": "2021-09-24T10:14:49.667Z"
   },
   {
    "duration": 6,
    "start_time": "2021-09-24T10:14:58.293Z"
   },
   {
    "duration": 9,
    "start_time": "2021-09-24T10:14:59.328Z"
   },
   {
    "duration": 1226,
    "start_time": "2021-09-24T17:49:43.352Z"
   },
   {
    "duration": 189,
    "start_time": "2021-09-24T17:49:44.580Z"
   },
   {
    "duration": 3,
    "start_time": "2021-09-24T17:49:44.771Z"
   },
   {
    "duration": 45,
    "start_time": "2021-09-24T17:49:44.776Z"
   },
   {
    "duration": 85,
    "start_time": "2021-09-24T17:49:44.822Z"
   },
   {
    "duration": 36,
    "start_time": "2021-09-24T17:49:44.909Z"
   },
   {
    "duration": 44,
    "start_time": "2021-09-24T17:49:44.947Z"
   },
   {
    "duration": 33,
    "start_time": "2021-09-24T17:49:44.992Z"
   },
   {
    "duration": 81,
    "start_time": "2021-09-24T17:49:45.027Z"
   },
   {
    "duration": 31,
    "start_time": "2021-09-24T17:49:45.109Z"
   },
   {
    "duration": 559,
    "start_time": "2021-09-24T17:49:45.142Z"
   },
   {
    "duration": 221,
    "start_time": "2021-09-24T17:49:45.703Z"
   },
   {
    "duration": 586,
    "start_time": "2021-09-24T17:49:45.925Z"
   },
   {
    "duration": 6,
    "start_time": "2021-09-24T17:49:46.512Z"
   },
   {
    "duration": 530,
    "start_time": "2021-09-24T17:49:46.519Z"
   },
   {
    "duration": 227,
    "start_time": "2021-09-24T17:49:47.051Z"
   },
   {
    "duration": 8,
    "start_time": "2021-09-24T17:49:47.280Z"
   },
   {
    "duration": 3,
    "start_time": "2021-09-24T17:49:47.292Z"
   },
   {
    "duration": 335,
    "start_time": "2021-09-24T17:49:47.297Z"
   },
   {
    "duration": 483,
    "start_time": "2021-09-24T17:49:47.634Z"
   },
   {
    "duration": 9,
    "start_time": "2021-09-24T17:49:48.119Z"
   },
   {
    "duration": 12,
    "start_time": "2021-09-24T17:49:48.130Z"
   },
   {
    "duration": 7,
    "start_time": "2021-09-24T17:49:48.143Z"
   },
   {
    "duration": 32,
    "start_time": "2021-09-24T17:49:48.152Z"
   },
   {
    "duration": 14,
    "start_time": "2021-09-24T17:49:48.185Z"
   },
   {
    "duration": 478,
    "start_time": "2021-09-24T17:49:48.201Z"
   },
   {
    "duration": 219,
    "start_time": "2021-09-24T17:49:48.681Z"
   },
   {
    "duration": 17,
    "start_time": "2021-09-24T17:49:48.902Z"
   },
   {
    "duration": 11,
    "start_time": "2021-09-24T17:49:48.921Z"
   },
   {
    "duration": 8,
    "start_time": "2021-09-24T17:49:48.934Z"
   },
   {
    "duration": 8,
    "start_time": "2021-09-24T17:49:48.944Z"
   },
   {
    "duration": 26,
    "start_time": "2021-09-24T17:49:48.953Z"
   },
   {
    "duration": 3,
    "start_time": "2021-09-24T17:49:48.981Z"
   },
   {
    "duration": 6,
    "start_time": "2021-09-24T17:49:48.986Z"
   },
   {
    "duration": 7,
    "start_time": "2021-09-24T17:49:48.993Z"
   },
   {
    "duration": 3,
    "start_time": "2021-09-24T17:49:49.002Z"
   },
   {
    "duration": 9,
    "start_time": "2021-09-24T17:49:49.006Z"
   },
   {
    "duration": 7,
    "start_time": "2021-09-24T17:49:49.017Z"
   },
   {
    "duration": 14,
    "start_time": "2021-09-24T17:49:49.025Z"
   },
   {
    "duration": 35,
    "start_time": "2021-09-24T17:49:49.041Z"
   },
   {
    "duration": 3,
    "start_time": "2021-09-24T17:49:49.078Z"
   },
   {
    "duration": 7,
    "start_time": "2021-09-24T17:49:49.083Z"
   },
   {
    "duration": 10,
    "start_time": "2021-09-24T17:49:49.091Z"
   },
   {
    "duration": 16,
    "start_time": "2021-09-24T17:49:49.102Z"
   },
   {
    "duration": 24,
    "start_time": "2021-09-24T17:49:49.120Z"
   },
   {
    "duration": 30,
    "start_time": "2021-09-24T17:49:49.146Z"
   },
   {
    "duration": 28,
    "start_time": "2021-09-24T17:49:49.178Z"
   },
   {
    "duration": 4,
    "start_time": "2021-09-24T17:49:49.207Z"
   },
   {
    "duration": 10,
    "start_time": "2021-09-24T17:49:49.212Z"
   },
   {
    "duration": 5,
    "start_time": "2021-09-24T17:49:49.223Z"
   },
   {
    "duration": 7,
    "start_time": "2021-09-24T17:49:49.229Z"
   },
   {
    "duration": 2622953,
    "start_time": "2021-09-24T17:49:49.238Z"
   },
   {
    "duration": 4,
    "start_time": "2021-09-24T18:33:32.193Z"
   },
   {
    "duration": 34,
    "start_time": "2021-09-24T18:33:32.201Z"
   },
   {
    "duration": 22,
    "start_time": "2021-09-24T18:33:32.237Z"
   },
   {
    "duration": 5,
    "start_time": "2021-09-24T18:41:14.920Z"
   },
   {
    "duration": 8436,
    "start_time": "2021-09-24T18:41:48.838Z"
   },
   {
    "duration": 1290,
    "start_time": "2021-09-24T18:43:10.825Z"
   },
   {
    "duration": 186,
    "start_time": "2021-09-24T18:43:12.117Z"
   },
   {
    "duration": 4,
    "start_time": "2021-09-24T18:43:12.305Z"
   },
   {
    "duration": 54,
    "start_time": "2021-09-24T18:43:12.311Z"
   },
   {
    "duration": 73,
    "start_time": "2021-09-24T18:43:12.367Z"
   },
   {
    "duration": 62,
    "start_time": "2021-09-24T18:43:12.442Z"
   },
   {
    "duration": 25,
    "start_time": "2021-09-24T18:43:12.506Z"
   },
   {
    "duration": 69,
    "start_time": "2021-09-24T18:43:12.534Z"
   },
   {
    "duration": 77,
    "start_time": "2021-09-24T18:43:12.606Z"
   },
   {
    "duration": 31,
    "start_time": "2021-09-24T18:43:12.685Z"
   },
   {
    "duration": 633,
    "start_time": "2021-09-24T18:43:12.717Z"
   },
   {
    "duration": 239,
    "start_time": "2021-09-24T18:43:13.352Z"
   },
   {
    "duration": 586,
    "start_time": "2021-09-24T18:43:13.593Z"
   },
   {
    "duration": 5,
    "start_time": "2021-09-24T18:43:14.181Z"
   },
   {
    "duration": 523,
    "start_time": "2021-09-24T18:43:14.187Z"
   },
   {
    "duration": 229,
    "start_time": "2021-09-24T18:43:14.712Z"
   },
   {
    "duration": 10,
    "start_time": "2021-09-24T18:43:14.943Z"
   },
   {
    "duration": 6,
    "start_time": "2021-09-24T18:43:14.954Z"
   },
   {
    "duration": 269,
    "start_time": "2021-09-24T18:43:14.961Z"
   },
   {
    "duration": 504,
    "start_time": "2021-09-24T18:43:15.231Z"
   },
   {
    "duration": 10,
    "start_time": "2021-09-24T18:43:15.736Z"
   },
   {
    "duration": 27,
    "start_time": "2021-09-24T18:43:15.748Z"
   },
   {
    "duration": 7,
    "start_time": "2021-09-24T18:43:15.780Z"
   },
   {
    "duration": 13,
    "start_time": "2021-09-24T18:43:15.790Z"
   },
   {
    "duration": 15,
    "start_time": "2021-09-24T18:43:15.805Z"
   },
   {
    "duration": 497,
    "start_time": "2021-09-24T18:43:15.822Z"
   },
   {
    "duration": 228,
    "start_time": "2021-09-24T18:43:16.321Z"
   },
   {
    "duration": 17,
    "start_time": "2021-09-24T18:43:16.550Z"
   },
   {
    "duration": 17,
    "start_time": "2021-09-24T18:43:16.569Z"
   },
   {
    "duration": 5,
    "start_time": "2021-09-24T18:43:16.587Z"
   },
   {
    "duration": 8,
    "start_time": "2021-09-24T18:43:16.594Z"
   },
   {
    "duration": 462,
    "start_time": "2021-09-24T18:43:16.604Z"
   },
   {
    "duration": -95,
    "start_time": "2021-09-24T18:43:17.163Z"
   },
   {
    "duration": -97,
    "start_time": "2021-09-24T18:43:17.166Z"
   },
   {
    "duration": -99,
    "start_time": "2021-09-24T18:43:17.169Z"
   },
   {
    "duration": -101,
    "start_time": "2021-09-24T18:43:17.172Z"
   },
   {
    "duration": -103,
    "start_time": "2021-09-24T18:43:17.175Z"
   },
   {
    "duration": -104,
    "start_time": "2021-09-24T18:43:17.177Z"
   },
   {
    "duration": -106,
    "start_time": "2021-09-24T18:43:17.180Z"
   },
   {
    "duration": -108,
    "start_time": "2021-09-24T18:43:17.183Z"
   },
   {
    "duration": -110,
    "start_time": "2021-09-24T18:43:17.186Z"
   },
   {
    "duration": -113,
    "start_time": "2021-09-24T18:43:17.189Z"
   },
   {
    "duration": -115,
    "start_time": "2021-09-24T18:43:17.192Z"
   },
   {
    "duration": -116,
    "start_time": "2021-09-24T18:43:17.195Z"
   },
   {
    "duration": -116,
    "start_time": "2021-09-24T18:43:17.197Z"
   },
   {
    "duration": -124,
    "start_time": "2021-09-24T18:43:17.206Z"
   },
   {
    "duration": -126,
    "start_time": "2021-09-24T18:43:17.209Z"
   },
   {
    "duration": -128,
    "start_time": "2021-09-24T18:43:17.212Z"
   },
   {
    "duration": -130,
    "start_time": "2021-09-24T18:43:17.215Z"
   },
   {
    "duration": -132,
    "start_time": "2021-09-24T18:43:17.218Z"
   },
   {
    "duration": -134,
    "start_time": "2021-09-24T18:43:17.221Z"
   },
   {
    "duration": -135,
    "start_time": "2021-09-24T18:43:17.223Z"
   },
   {
    "duration": -137,
    "start_time": "2021-09-24T18:43:17.226Z"
   },
   {
    "duration": -139,
    "start_time": "2021-09-24T18:43:17.229Z"
   },
   {
    "duration": -140,
    "start_time": "2021-09-24T18:43:17.231Z"
   },
   {
    "duration": 529,
    "start_time": "2021-09-24T18:44:32.617Z"
   },
   {
    "duration": 1273,
    "start_time": "2021-09-24T18:44:41.348Z"
   },
   {
    "duration": 171,
    "start_time": "2021-09-24T18:44:42.623Z"
   },
   {
    "duration": 3,
    "start_time": "2021-09-24T18:44:42.797Z"
   },
   {
    "duration": 49,
    "start_time": "2021-09-24T18:44:42.802Z"
   },
   {
    "duration": 81,
    "start_time": "2021-09-24T18:44:42.853Z"
   },
   {
    "duration": 59,
    "start_time": "2021-09-24T18:44:42.935Z"
   },
   {
    "duration": 22,
    "start_time": "2021-09-24T18:44:42.996Z"
   },
   {
    "duration": 62,
    "start_time": "2021-09-24T18:44:43.020Z"
   },
   {
    "duration": 50,
    "start_time": "2021-09-24T18:44:43.085Z"
   },
   {
    "duration": 50,
    "start_time": "2021-09-24T18:44:43.137Z"
   },
   {
    "duration": 658,
    "start_time": "2021-09-24T18:44:43.189Z"
   },
   {
    "duration": 233,
    "start_time": "2021-09-24T18:44:43.848Z"
   },
   {
    "duration": 589,
    "start_time": "2021-09-24T18:44:44.083Z"
   },
   {
    "duration": 5,
    "start_time": "2021-09-24T18:44:44.676Z"
   },
   {
    "duration": 524,
    "start_time": "2021-09-24T18:44:44.683Z"
   },
   {
    "duration": 234,
    "start_time": "2021-09-24T18:44:45.209Z"
   },
   {
    "duration": 8,
    "start_time": "2021-09-24T18:44:45.445Z"
   },
   {
    "duration": 4,
    "start_time": "2021-09-24T18:44:45.455Z"
   },
   {
    "duration": 264,
    "start_time": "2021-09-24T18:44:45.460Z"
   },
   {
    "duration": 527,
    "start_time": "2021-09-24T18:44:45.726Z"
   },
   {
    "duration": 11,
    "start_time": "2021-09-24T18:44:46.255Z"
   },
   {
    "duration": 10,
    "start_time": "2021-09-24T18:44:46.277Z"
   },
   {
    "duration": 7,
    "start_time": "2021-09-24T18:44:46.291Z"
   },
   {
    "duration": 9,
    "start_time": "2021-09-24T18:44:46.300Z"
   },
   {
    "duration": 14,
    "start_time": "2021-09-24T18:44:46.311Z"
   },
   {
    "duration": 510,
    "start_time": "2021-09-24T18:44:46.327Z"
   },
   {
    "duration": 224,
    "start_time": "2021-09-24T18:44:46.839Z"
   },
   {
    "duration": 24,
    "start_time": "2021-09-24T18:44:47.065Z"
   },
   {
    "duration": 12,
    "start_time": "2021-09-24T18:44:47.091Z"
   },
   {
    "duration": 7,
    "start_time": "2021-09-24T18:44:47.104Z"
   },
   {
    "duration": 12,
    "start_time": "2021-09-24T18:44:47.113Z"
   },
   {
    "duration": 8,
    "start_time": "2021-09-24T18:44:47.126Z"
   },
   {
    "duration": 452,
    "start_time": "2021-09-24T18:44:47.136Z"
   },
   {
    "duration": -93,
    "start_time": "2021-09-24T18:44:47.682Z"
   },
   {
    "duration": -107,
    "start_time": "2021-09-24T18:44:47.698Z"
   },
   {
    "duration": -110,
    "start_time": "2021-09-24T18:44:47.702Z"
   },
   {
    "duration": -114,
    "start_time": "2021-09-24T18:44:47.707Z"
   },
   {
    "duration": -115,
    "start_time": "2021-09-24T18:44:47.710Z"
   },
   {
    "duration": -118,
    "start_time": "2021-09-24T18:44:47.714Z"
   },
   {
    "duration": -122,
    "start_time": "2021-09-24T18:44:47.719Z"
   },
   {
    "duration": -125,
    "start_time": "2021-09-24T18:44:47.723Z"
   },
   {
    "duration": -127,
    "start_time": "2021-09-24T18:44:47.726Z"
   },
   {
    "duration": -129,
    "start_time": "2021-09-24T18:44:47.729Z"
   },
   {
    "duration": -130,
    "start_time": "2021-09-24T18:44:47.731Z"
   },
   {
    "duration": -131,
    "start_time": "2021-09-24T18:44:47.733Z"
   },
   {
    "duration": -132,
    "start_time": "2021-09-24T18:44:47.735Z"
   },
   {
    "duration": -133,
    "start_time": "2021-09-24T18:44:47.737Z"
   },
   {
    "duration": -134,
    "start_time": "2021-09-24T18:44:47.739Z"
   },
   {
    "duration": -135,
    "start_time": "2021-09-24T18:44:47.741Z"
   },
   {
    "duration": -135,
    "start_time": "2021-09-24T18:44:47.743Z"
   },
   {
    "duration": -136,
    "start_time": "2021-09-24T18:44:47.745Z"
   },
   {
    "duration": -137,
    "start_time": "2021-09-24T18:44:47.747Z"
   },
   {
    "duration": -139,
    "start_time": "2021-09-24T18:44:47.750Z"
   },
   {
    "duration": -141,
    "start_time": "2021-09-24T18:44:47.753Z"
   },
   {
    "duration": -143,
    "start_time": "2021-09-24T18:44:47.756Z"
   },
   {
    "duration": 9,
    "start_time": "2021-09-24T18:45:03.869Z"
   },
   {
    "duration": 5,
    "start_time": "2021-09-24T18:45:04.623Z"
   },
   {
    "duration": 7,
    "start_time": "2021-09-24T18:45:05.172Z"
   },
   {
    "duration": 9,
    "start_time": "2021-09-24T18:45:05.480Z"
   },
   {
    "duration": 4,
    "start_time": "2021-09-24T18:45:05.750Z"
   },
   {
    "duration": 6,
    "start_time": "2021-09-24T18:45:06.007Z"
   },
   {
    "duration": 9,
    "start_time": "2021-09-24T18:45:06.214Z"
   },
   {
    "duration": 13,
    "start_time": "2021-09-24T18:45:06.669Z"
   },
   {
    "duration": 3,
    "start_time": "2021-09-24T18:45:07.042Z"
   },
   {
    "duration": 4,
    "start_time": "2021-09-24T18:45:07.354Z"
   },
   {
    "duration": 9569,
    "start_time": "2021-09-24T18:45:07.678Z"
   },
   {
    "duration": -104,
    "start_time": "2021-09-24T18:45:17.353Z"
   },
   {
    "duration": -111,
    "start_time": "2021-09-24T18:45:17.361Z"
   },
   {
    "duration": -115,
    "start_time": "2021-09-24T18:45:17.366Z"
   },
   {
    "duration": 9328,
    "start_time": "2021-09-24T18:45:25.820Z"
   },
   {
    "duration": 9837,
    "start_time": "2021-09-24T18:45:36.658Z"
   },
   {
    "duration": 9420,
    "start_time": "2021-09-24T18:45:51.261Z"
   },
   {
    "duration": 11,
    "start_time": "2021-09-24T18:46:04.348Z"
   },
   {
    "duration": 11414,
    "start_time": "2021-09-24T18:46:11.084Z"
   },
   {
    "duration": -115,
    "start_time": "2021-09-24T18:46:22.615Z"
   },
   {
    "duration": 8,
    "start_time": "2021-09-24T18:46:25.189Z"
   },
   {
    "duration": 18,
    "start_time": "2021-09-24T18:46:27.330Z"
   },
   {
    "duration": 28,
    "start_time": "2021-09-24T18:46:27.981Z"
   },
   {
    "duration": 6,
    "start_time": "2021-09-24T18:46:37.542Z"
   },
   {
    "duration": 30,
    "start_time": "2021-09-24T18:46:38.057Z"
   },
   {
    "duration": 4,
    "start_time": "2021-09-24T18:46:38.675Z"
   },
   {
    "duration": 7,
    "start_time": "2021-09-24T18:46:42.209Z"
   },
   {
    "duration": 4,
    "start_time": "2021-09-24T18:46:43.321Z"
   },
   {
    "duration": 388,
    "start_time": "2021-09-24T18:46:44.028Z"
   },
   {
    "duration": 8808,
    "start_time": "2021-09-24T18:46:49.253Z"
   },
   {
    "duration": 1026,
    "start_time": "2021-09-24T18:52:28.176Z"
   },
   {
    "duration": 35978,
    "start_time": "2021-09-24T18:53:27.402Z"
   },
   {
    "duration": 4,
    "start_time": "2021-09-24T19:04:35.053Z"
   },
   {
    "duration": 290,
    "start_time": "2021-09-24T19:04:49.667Z"
   },
   {
    "duration": 578,
    "start_time": "2021-09-24T19:04:53.690Z"
   },
   {
    "duration": 3,
    "start_time": "2021-09-24T19:05:15.021Z"
   },
   {
    "duration": 635,
    "start_time": "2021-09-24T19:05:16.709Z"
   },
   {
    "duration": 1268,
    "start_time": "2021-09-24T19:05:37.015Z"
   },
   {
    "duration": 172,
    "start_time": "2021-09-24T19:05:38.285Z"
   },
   {
    "duration": 4,
    "start_time": "2021-09-24T19:05:38.460Z"
   },
   {
    "duration": 45,
    "start_time": "2021-09-24T19:05:38.465Z"
   },
   {
    "duration": 80,
    "start_time": "2021-09-24T19:05:38.512Z"
   },
   {
    "duration": 36,
    "start_time": "2021-09-24T19:05:38.594Z"
   },
   {
    "duration": 49,
    "start_time": "2021-09-24T19:05:38.631Z"
   },
   {
    "duration": 29,
    "start_time": "2021-09-24T19:05:38.683Z"
   },
   {
    "duration": 73,
    "start_time": "2021-09-24T19:05:38.713Z"
   },
   {
    "duration": 30,
    "start_time": "2021-09-24T19:05:38.787Z"
   },
   {
    "duration": 556,
    "start_time": "2021-09-24T19:05:38.819Z"
   },
   {
    "duration": 225,
    "start_time": "2021-09-24T19:05:39.377Z"
   },
   {
    "duration": 578,
    "start_time": "2021-09-24T19:05:39.603Z"
   },
   {
    "duration": 5,
    "start_time": "2021-09-24T19:05:40.183Z"
   },
   {
    "duration": 524,
    "start_time": "2021-09-24T19:05:40.190Z"
   },
   {
    "duration": 215,
    "start_time": "2021-09-24T19:05:40.715Z"
   },
   {
    "duration": 8,
    "start_time": "2021-09-24T19:05:40.932Z"
   },
   {
    "duration": 2,
    "start_time": "2021-09-24T19:05:40.942Z"
   },
   {
    "duration": 462,
    "start_time": "2021-09-24T19:05:40.946Z"
   },
   {
    "duration": 494,
    "start_time": "2021-09-24T19:05:41.410Z"
   },
   {
    "duration": 10,
    "start_time": "2021-09-24T19:05:41.906Z"
   },
   {
    "duration": 12,
    "start_time": "2021-09-24T19:05:41.918Z"
   },
   {
    "duration": 7,
    "start_time": "2021-09-24T19:05:41.934Z"
   },
   {
    "duration": 39,
    "start_time": "2021-09-24T19:05:41.943Z"
   },
   {
    "duration": 13,
    "start_time": "2021-09-24T19:05:41.983Z"
   },
   {
    "duration": 503,
    "start_time": "2021-09-24T19:05:41.997Z"
   },
   {
    "duration": 237,
    "start_time": "2021-09-24T19:05:42.502Z"
   },
   {
    "duration": 16,
    "start_time": "2021-09-24T19:05:42.741Z"
   },
   {
    "duration": 20,
    "start_time": "2021-09-24T19:05:42.759Z"
   },
   {
    "duration": 6,
    "start_time": "2021-09-24T19:05:42.780Z"
   },
   {
    "duration": 11,
    "start_time": "2021-09-24T19:05:42.788Z"
   },
   {
    "duration": 9,
    "start_time": "2021-09-24T19:05:42.801Z"
   },
   {
    "duration": 10,
    "start_time": "2021-09-24T19:05:42.812Z"
   },
   {
    "duration": 5,
    "start_time": "2021-09-24T19:05:42.824Z"
   },
   {
    "duration": 50,
    "start_time": "2021-09-24T19:05:42.830Z"
   },
   {
    "duration": 7,
    "start_time": "2021-09-24T19:05:42.882Z"
   },
   {
    "duration": 4,
    "start_time": "2021-09-24T19:05:42.891Z"
   },
   {
    "duration": 9,
    "start_time": "2021-09-24T19:05:42.897Z"
   },
   {
    "duration": 6,
    "start_time": "2021-09-24T19:05:42.908Z"
   },
   {
    "duration": 14,
    "start_time": "2021-09-24T19:05:42.916Z"
   },
   {
    "duration": 3,
    "start_time": "2021-09-24T19:05:42.932Z"
   },
   {
    "duration": 5,
    "start_time": "2021-09-24T19:05:42.936Z"
   },
   {
    "duration": 43,
    "start_time": "2021-09-24T19:05:42.942Z"
   },
   {
    "duration": 4,
    "start_time": "2021-09-24T19:05:42.987Z"
   },
   {
    "duration": 10,
    "start_time": "2021-09-24T19:05:42.993Z"
   },
   {
    "duration": 21,
    "start_time": "2021-09-24T19:05:43.005Z"
   },
   {
    "duration": 50,
    "start_time": "2021-09-24T19:05:43.028Z"
   },
   {
    "duration": 6,
    "start_time": "2021-09-24T19:05:43.079Z"
   },
   {
    "duration": 28,
    "start_time": "2021-09-24T19:05:43.087Z"
   },
   {
    "duration": 3,
    "start_time": "2021-09-24T19:05:43.117Z"
   },
   {
    "duration": 9,
    "start_time": "2021-09-24T19:05:43.122Z"
   },
   {
    "duration": 5,
    "start_time": "2021-09-24T19:05:43.133Z"
   },
   {
    "duration": 4,
    "start_time": "2021-09-24T19:05:43.140Z"
   },
   {
    "duration": 690,
    "start_time": "2021-09-24T19:05:43.177Z"
   },
   {
    "duration": 5,
    "start_time": "2021-09-24T19:05:43.869Z"
   },
   {
    "duration": 7,
    "start_time": "2021-09-24T19:05:43.876Z"
   },
   {
    "duration": 14,
    "start_time": "2021-09-24T19:05:43.885Z"
   },
   {
    "duration": 7750,
    "start_time": "2021-09-24T19:05:43.901Z"
   },
   {
    "duration": 33226,
    "start_time": "2021-09-24T19:05:51.653Z"
   },
   {
    "duration": 5,
    "start_time": "2021-09-24T19:06:24.883Z"
   },
   {
    "duration": 1281,
    "start_time": "2021-09-24T19:06:30.004Z"
   },
   {
    "duration": 170,
    "start_time": "2021-09-24T19:06:31.287Z"
   },
   {
    "duration": 3,
    "start_time": "2021-09-24T19:06:31.459Z"
   },
   {
    "duration": 67,
    "start_time": "2021-09-24T19:06:31.464Z"
   },
   {
    "duration": 74,
    "start_time": "2021-09-24T19:06:31.533Z"
   },
   {
    "duration": 37,
    "start_time": "2021-09-24T19:06:31.608Z"
   },
   {
    "duration": 47,
    "start_time": "2021-09-24T19:06:31.647Z"
   },
   {
    "duration": 29,
    "start_time": "2021-09-24T19:06:31.697Z"
   },
   {
    "duration": 86,
    "start_time": "2021-09-24T19:06:31.728Z"
   },
   {
    "duration": 32,
    "start_time": "2021-09-24T19:06:31.816Z"
   },
   {
    "duration": 568,
    "start_time": "2021-09-24T19:06:31.850Z"
   },
   {
    "duration": 233,
    "start_time": "2021-09-24T19:06:32.421Z"
   },
   {
    "duration": 585,
    "start_time": "2021-09-24T19:06:32.656Z"
   },
   {
    "duration": 6,
    "start_time": "2021-09-24T19:06:33.243Z"
   },
   {
    "duration": 512,
    "start_time": "2021-09-24T19:06:33.251Z"
   },
   {
    "duration": 234,
    "start_time": "2021-09-24T19:06:33.765Z"
   },
   {
    "duration": 9,
    "start_time": "2021-09-24T19:06:34.001Z"
   },
   {
    "duration": 4,
    "start_time": "2021-09-24T19:06:34.011Z"
   },
   {
    "duration": 261,
    "start_time": "2021-09-24T19:06:34.017Z"
   },
   {
    "duration": 588,
    "start_time": "2021-09-24T19:06:34.280Z"
   },
   {
    "duration": 21,
    "start_time": "2021-09-24T19:06:34.871Z"
   },
   {
    "duration": 19,
    "start_time": "2021-09-24T19:06:34.894Z"
   },
   {
    "duration": 20,
    "start_time": "2021-09-24T19:06:34.920Z"
   },
   {
    "duration": 17,
    "start_time": "2021-09-24T19:06:34.945Z"
   },
   {
    "duration": 31,
    "start_time": "2021-09-24T19:06:34.965Z"
   },
   {
    "duration": 483,
    "start_time": "2021-09-24T19:06:34.998Z"
   },
   {
    "duration": 228,
    "start_time": "2021-09-24T19:06:35.483Z"
   },
   {
    "duration": 16,
    "start_time": "2021-09-24T19:06:35.712Z"
   },
   {
    "duration": 12,
    "start_time": "2021-09-24T19:06:35.730Z"
   },
   {
    "duration": 6,
    "start_time": "2021-09-24T19:06:35.744Z"
   },
   {
    "duration": 31,
    "start_time": "2021-09-24T19:06:35.751Z"
   },
   {
    "duration": 9,
    "start_time": "2021-09-24T19:06:35.784Z"
   },
   {
    "duration": 8,
    "start_time": "2021-09-24T19:06:35.795Z"
   },
   {
    "duration": 8,
    "start_time": "2021-09-24T19:06:35.805Z"
   },
   {
    "duration": 8,
    "start_time": "2021-09-24T19:06:35.815Z"
   },
   {
    "duration": 11,
    "start_time": "2021-09-24T19:06:35.825Z"
   },
   {
    "duration": 4,
    "start_time": "2021-09-24T19:06:35.838Z"
   },
   {
    "duration": 10,
    "start_time": "2021-09-24T19:06:35.844Z"
   },
   {
    "duration": 8,
    "start_time": "2021-09-24T19:06:35.876Z"
   },
   {
    "duration": 14,
    "start_time": "2021-09-24T19:06:35.886Z"
   },
   {
    "duration": 3,
    "start_time": "2021-09-24T19:06:35.902Z"
   },
   {
    "duration": 6,
    "start_time": "2021-09-24T19:06:35.906Z"
   },
   {
    "duration": 16,
    "start_time": "2021-09-24T19:06:35.914Z"
   },
   {
    "duration": 6,
    "start_time": "2021-09-24T19:06:35.932Z"
   },
   {
    "duration": 12,
    "start_time": "2021-09-24T19:06:35.939Z"
   },
   {
    "duration": 38,
    "start_time": "2021-09-24T19:06:35.953Z"
   },
   {
    "duration": 28,
    "start_time": "2021-09-24T19:06:35.993Z"
   },
   {
    "duration": 3,
    "start_time": "2021-09-24T19:06:36.023Z"
   },
   {
    "duration": 8,
    "start_time": "2021-09-24T19:06:36.028Z"
   },
   {
    "duration": 54,
    "start_time": "2021-09-24T19:06:36.038Z"
   },
   {
    "duration": 3,
    "start_time": "2021-09-24T19:06:36.093Z"
   },
   {
    "duration": 18,
    "start_time": "2021-09-24T19:06:36.098Z"
   },
   {
    "duration": 8,
    "start_time": "2021-09-24T19:06:36.118Z"
   },
   {
    "duration": 13,
    "start_time": "2021-09-24T19:06:36.128Z"
   },
   {
    "duration": 1334,
    "start_time": "2021-09-24T19:06:36.143Z"
   },
   {
    "duration": 6,
    "start_time": "2021-09-24T19:06:37.479Z"
   },
   {
    "duration": 95,
    "start_time": "2021-09-24T19:06:37.487Z"
   },
   {
    "duration": 10,
    "start_time": "2021-09-24T19:06:37.584Z"
   },
   {
    "duration": 7568,
    "start_time": "2021-09-24T19:06:37.595Z"
   },
   {
    "duration": 30820,
    "start_time": "2021-09-24T19:06:45.165Z"
   },
   {
    "duration": 20,
    "start_time": "2021-09-24T19:16:50.653Z"
   },
   {
    "duration": 29,
    "start_time": "2021-09-24T19:16:57.285Z"
   },
   {
    "duration": 20,
    "start_time": "2021-09-24T19:16:57.792Z"
   },
   {
    "duration": 4,
    "start_time": "2021-09-24T19:17:04.097Z"
   },
   {
    "duration": 6,
    "start_time": "2021-09-24T19:17:05.397Z"
   },
   {
    "duration": 5,
    "start_time": "2021-09-24T19:17:07.009Z"
   },
   {
    "duration": 3,
    "start_time": "2021-09-24T19:17:08.187Z"
   },
   {
    "duration": 3593,
    "start_time": "2021-09-24T19:17:11.793Z"
   },
   {
    "duration": 4,
    "start_time": "2021-09-24T19:17:17.070Z"
   },
   {
    "duration": 5,
    "start_time": "2021-09-24T19:17:18.547Z"
   },
   {
    "duration": 5,
    "start_time": "2021-09-24T19:17:18.990Z"
   },
   {
    "duration": 8099,
    "start_time": "2021-09-24T19:17:19.477Z"
   },
   {
    "duration": 4,
    "start_time": "2021-09-24T19:18:20.893Z"
   },
   {
    "duration": 3,
    "start_time": "2021-09-24T19:18:23.398Z"
   },
   {
    "duration": 6,
    "start_time": "2021-09-24T19:18:23.650Z"
   },
   {
    "duration": 27,
    "start_time": "2021-09-24T19:18:23.914Z"
   },
   {
    "duration": 20,
    "start_time": "2021-09-24T19:18:24.399Z"
   },
   {
    "duration": 4,
    "start_time": "2021-09-24T19:18:36.049Z"
   },
   {
    "duration": 6,
    "start_time": "2021-09-24T19:18:36.942Z"
   },
   {
    "duration": 4,
    "start_time": "2021-09-24T19:18:37.675Z"
   },
   {
    "duration": 3,
    "start_time": "2021-09-24T19:18:38.050Z"
   },
   {
    "duration": 2402,
    "start_time": "2021-09-24T19:18:39.084Z"
   },
   {
    "duration": 4,
    "start_time": "2021-09-24T19:18:43.736Z"
   },
   {
    "duration": 1313,
    "start_time": "2021-09-24T19:18:51.289Z"
   },
   {
    "duration": 172,
    "start_time": "2021-09-24T19:18:52.604Z"
   },
   {
    "duration": 3,
    "start_time": "2021-09-24T19:18:52.778Z"
   },
   {
    "duration": 46,
    "start_time": "2021-09-24T19:18:52.783Z"
   },
   {
    "duration": 88,
    "start_time": "2021-09-24T19:18:52.830Z"
   },
   {
    "duration": 55,
    "start_time": "2021-09-24T19:18:52.920Z"
   },
   {
    "duration": 25,
    "start_time": "2021-09-24T19:18:52.977Z"
   },
   {
    "duration": 30,
    "start_time": "2021-09-24T19:18:53.004Z"
   },
   {
    "duration": 87,
    "start_time": "2021-09-24T19:18:53.037Z"
   },
   {
    "duration": 60,
    "start_time": "2021-09-24T19:18:53.126Z"
   },
   {
    "duration": 646,
    "start_time": "2021-09-24T19:18:53.188Z"
   },
   {
    "duration": 227,
    "start_time": "2021-09-24T19:18:53.836Z"
   },
   {
    "duration": 584,
    "start_time": "2021-09-24T19:18:54.065Z"
   },
   {
    "duration": 5,
    "start_time": "2021-09-24T19:18:54.650Z"
   },
   {
    "duration": 505,
    "start_time": "2021-09-24T19:18:54.657Z"
   },
   {
    "duration": 223,
    "start_time": "2021-09-24T19:18:55.163Z"
   },
   {
    "duration": 8,
    "start_time": "2021-09-24T19:18:55.388Z"
   },
   {
    "duration": 3,
    "start_time": "2021-09-24T19:18:55.398Z"
   },
   {
    "duration": 363,
    "start_time": "2021-09-24T19:18:55.403Z"
   },
   {
    "duration": 493,
    "start_time": "2021-09-24T19:18:55.768Z"
   },
   {
    "duration": 20,
    "start_time": "2021-09-24T19:18:56.264Z"
   },
   {
    "duration": 18,
    "start_time": "2021-09-24T19:18:56.286Z"
   },
   {
    "duration": 7,
    "start_time": "2021-09-24T19:18:56.308Z"
   },
   {
    "duration": 20,
    "start_time": "2021-09-24T19:18:56.317Z"
   },
   {
    "duration": 16,
    "start_time": "2021-09-24T19:18:56.338Z"
   },
   {
    "duration": 472,
    "start_time": "2021-09-24T19:18:56.356Z"
   },
   {
    "duration": 235,
    "start_time": "2021-09-24T19:18:56.830Z"
   },
   {
    "duration": 24,
    "start_time": "2021-09-24T19:18:57.066Z"
   },
   {
    "duration": 11,
    "start_time": "2021-09-24T19:18:57.092Z"
   },
   {
    "duration": 5,
    "start_time": "2021-09-24T19:18:57.105Z"
   },
   {
    "duration": 10,
    "start_time": "2021-09-24T19:18:57.111Z"
   },
   {
    "duration": 8,
    "start_time": "2021-09-24T19:18:57.122Z"
   },
   {
    "duration": 10,
    "start_time": "2021-09-24T19:18:57.132Z"
   },
   {
    "duration": 32,
    "start_time": "2021-09-24T19:18:57.144Z"
   },
   {
    "duration": 9,
    "start_time": "2021-09-24T19:18:57.178Z"
   },
   {
    "duration": 9,
    "start_time": "2021-09-24T19:18:57.189Z"
   },
   {
    "duration": 5,
    "start_time": "2021-09-24T19:18:57.200Z"
   },
   {
    "duration": 10,
    "start_time": "2021-09-24T19:18:57.206Z"
   },
   {
    "duration": 8,
    "start_time": "2021-09-24T19:18:57.218Z"
   },
   {
    "duration": 48,
    "start_time": "2021-09-24T19:18:57.228Z"
   },
   {
    "duration": 4,
    "start_time": "2021-09-24T19:18:57.278Z"
   },
   {
    "duration": 5,
    "start_time": "2021-09-24T19:18:57.284Z"
   },
   {
    "duration": 16,
    "start_time": "2021-09-24T19:18:57.291Z"
   },
   {
    "duration": 5,
    "start_time": "2021-09-24T19:18:57.309Z"
   },
   {
    "duration": 12,
    "start_time": "2021-09-24T19:18:57.316Z"
   },
   {
    "duration": 45,
    "start_time": "2021-09-24T19:18:57.331Z"
   },
   {
    "duration": 30,
    "start_time": "2021-09-24T19:18:57.379Z"
   },
   {
    "duration": 4,
    "start_time": "2021-09-24T19:18:57.412Z"
   },
   {
    "duration": 5,
    "start_time": "2021-09-24T19:18:57.418Z"
   },
   {
    "duration": 11,
    "start_time": "2021-09-24T19:18:57.425Z"
   },
   {
    "duration": 52,
    "start_time": "2021-09-24T19:18:57.438Z"
   },
   {
    "duration": 21,
    "start_time": "2021-09-24T19:18:57.492Z"
   },
   {
    "duration": 7,
    "start_time": "2021-09-24T19:18:57.515Z"
   },
   {
    "duration": 11,
    "start_time": "2021-09-24T19:18:57.524Z"
   },
   {
    "duration": 17,
    "start_time": "2021-09-24T19:18:57.537Z"
   },
   {
    "duration": 8,
    "start_time": "2021-09-24T19:18:57.555Z"
   },
   {
    "duration": 2118,
    "start_time": "2021-09-24T19:18:57.564Z"
   },
   {
    "duration": 94,
    "start_time": "2021-09-24T19:18:59.685Z"
   },
   {
    "duration": 95,
    "start_time": "2021-09-24T19:18:59.782Z"
   },
   {
    "duration": 17,
    "start_time": "2021-09-24T19:18:59.879Z"
   },
   {
    "duration": 7477,
    "start_time": "2021-09-24T19:18:59.897Z"
   },
   {
    "duration": 34102,
    "start_time": "2021-09-24T19:19:07.376Z"
   },
   {
    "duration": 1185,
    "start_time": "2021-09-24T19:24:45.505Z"
   },
   {
    "duration": 174,
    "start_time": "2021-09-24T19:24:46.692Z"
   },
   {
    "duration": 4,
    "start_time": "2021-09-24T19:24:46.867Z"
   },
   {
    "duration": 45,
    "start_time": "2021-09-24T19:24:46.873Z"
   },
   {
    "duration": 82,
    "start_time": "2021-09-24T19:24:46.919Z"
   },
   {
    "duration": 38,
    "start_time": "2021-09-24T19:24:47.003Z"
   },
   {
    "duration": 46,
    "start_time": "2021-09-24T19:24:47.043Z"
   },
   {
    "duration": 29,
    "start_time": "2021-09-24T19:24:47.092Z"
   },
   {
    "duration": 85,
    "start_time": "2021-09-24T19:24:47.123Z"
   },
   {
    "duration": 33,
    "start_time": "2021-09-24T19:24:47.210Z"
   },
   {
    "duration": 556,
    "start_time": "2021-09-24T19:24:47.244Z"
   },
   {
    "duration": 226,
    "start_time": "2021-09-24T19:24:47.802Z"
   },
   {
    "duration": 588,
    "start_time": "2021-09-24T19:24:48.030Z"
   },
   {
    "duration": 6,
    "start_time": "2021-09-24T19:24:48.620Z"
   },
   {
    "duration": 510,
    "start_time": "2021-09-24T19:24:48.628Z"
   },
   {
    "duration": 220,
    "start_time": "2021-09-24T19:24:49.140Z"
   },
   {
    "duration": 14,
    "start_time": "2021-09-24T19:24:49.362Z"
   },
   {
    "duration": 3,
    "start_time": "2021-09-24T19:24:49.379Z"
   },
   {
    "duration": 259,
    "start_time": "2021-09-24T19:24:49.384Z"
   },
   {
    "duration": 492,
    "start_time": "2021-09-24T19:24:49.645Z"
   },
   {
    "duration": 10,
    "start_time": "2021-09-24T19:24:50.139Z"
   },
   {
    "duration": 18,
    "start_time": "2021-09-24T19:24:50.150Z"
   },
   {
    "duration": 8,
    "start_time": "2021-09-24T19:24:50.178Z"
   },
   {
    "duration": 16,
    "start_time": "2021-09-24T19:24:50.188Z"
   },
   {
    "duration": 14,
    "start_time": "2021-09-24T19:24:50.206Z"
   },
   {
    "duration": 479,
    "start_time": "2021-09-24T19:24:50.222Z"
   },
   {
    "duration": 230,
    "start_time": "2021-09-24T19:24:50.703Z"
   },
   {
    "duration": 11,
    "start_time": "2021-09-24T19:24:50.934Z"
   },
   {
    "duration": 11,
    "start_time": "2021-09-24T19:24:50.947Z"
   },
   {
    "duration": 17,
    "start_time": "2021-09-24T19:24:50.959Z"
   },
   {
    "duration": 23,
    "start_time": "2021-09-24T19:24:50.978Z"
   },
   {
    "duration": 10,
    "start_time": "2021-09-24T19:24:51.003Z"
   },
   {
    "duration": 12,
    "start_time": "2021-09-24T19:24:51.014Z"
   },
   {
    "duration": 5,
    "start_time": "2021-09-24T19:24:51.028Z"
   },
   {
    "duration": 6,
    "start_time": "2021-09-24T19:24:51.035Z"
   },
   {
    "duration": 34,
    "start_time": "2021-09-24T19:24:51.043Z"
   },
   {
    "duration": 10,
    "start_time": "2021-09-24T19:24:51.079Z"
   },
   {
    "duration": 11,
    "start_time": "2021-09-24T19:24:51.091Z"
   },
   {
    "duration": 15,
    "start_time": "2021-09-24T19:24:51.104Z"
   },
   {
    "duration": 55,
    "start_time": "2021-09-24T19:24:51.121Z"
   },
   {
    "duration": 30,
    "start_time": "2021-09-24T19:24:51.178Z"
   },
   {
    "duration": 7,
    "start_time": "2021-09-24T19:24:51.210Z"
   },
   {
    "duration": 28,
    "start_time": "2021-09-24T19:24:51.219Z"
   },
   {
    "duration": 29,
    "start_time": "2021-09-24T19:24:51.249Z"
   },
   {
    "duration": 8,
    "start_time": "2021-09-24T19:24:51.280Z"
   },
   {
    "duration": 9,
    "start_time": "2021-09-24T19:24:51.290Z"
   },
   {
    "duration": 8,
    "start_time": "2021-09-24T19:24:51.301Z"
   },
   {
    "duration": 2372,
    "start_time": "2021-09-24T19:24:51.311Z"
   },
   {
    "duration": 94,
    "start_time": "2021-09-24T19:24:53.685Z"
   },
   {
    "duration": 101,
    "start_time": "2021-09-24T19:24:53.781Z"
   },
   {
    "duration": 10,
    "start_time": "2021-09-24T19:24:53.884Z"
   },
   {
    "duration": 7623,
    "start_time": "2021-09-24T19:24:53.896Z"
   },
   {
    "duration": 338,
    "start_time": "2021-09-24T19:25:01.521Z"
   },
   {
    "duration": 335,
    "start_time": "2021-09-24T19:25:10.786Z"
   },
   {
    "duration": 32657,
    "start_time": "2021-09-24T19:25:24.925Z"
   },
   {
    "duration": 1191,
    "start_time": "2021-09-26T09:39:06.960Z"
   },
   {
    "duration": 323,
    "start_time": "2021-09-26T09:39:08.153Z"
   },
   {
    "duration": 4,
    "start_time": "2021-09-26T09:39:08.478Z"
   },
   {
    "duration": 46,
    "start_time": "2021-09-26T09:39:08.483Z"
   },
   {
    "duration": 66,
    "start_time": "2021-09-26T09:39:08.531Z"
   },
   {
    "duration": 55,
    "start_time": "2021-09-26T09:39:08.599Z"
   },
   {
    "duration": 22,
    "start_time": "2021-09-26T09:39:08.656Z"
   },
   {
    "duration": 29,
    "start_time": "2021-09-26T09:39:08.681Z"
   },
   {
    "duration": 81,
    "start_time": "2021-09-26T09:39:08.712Z"
   },
   {
    "duration": 29,
    "start_time": "2021-09-26T09:39:08.795Z"
   },
   {
    "duration": 546,
    "start_time": "2021-09-26T09:39:08.826Z"
   },
   {
    "duration": 214,
    "start_time": "2021-09-26T09:39:09.374Z"
   },
   {
    "duration": 579,
    "start_time": "2021-09-26T09:39:09.589Z"
   },
   {
    "duration": 6,
    "start_time": "2021-09-26T09:39:10.170Z"
   },
   {
    "duration": 513,
    "start_time": "2021-09-26T09:39:10.177Z"
   },
   {
    "duration": 224,
    "start_time": "2021-09-26T09:39:10.693Z"
   },
   {
    "duration": 9,
    "start_time": "2021-09-26T09:39:10.918Z"
   },
   {
    "duration": 4,
    "start_time": "2021-09-26T09:39:10.930Z"
   },
   {
    "duration": 246,
    "start_time": "2021-09-26T09:39:10.950Z"
   },
   {
    "duration": 495,
    "start_time": "2021-09-26T09:39:11.197Z"
   },
   {
    "duration": 10,
    "start_time": "2021-09-26T09:39:11.694Z"
   },
   {
    "duration": 12,
    "start_time": "2021-09-26T09:39:11.705Z"
   },
   {
    "duration": 7,
    "start_time": "2021-09-26T09:39:11.721Z"
   },
   {
    "duration": 10,
    "start_time": "2021-09-26T09:39:11.750Z"
   },
   {
    "duration": 14,
    "start_time": "2021-09-26T09:39:11.762Z"
   },
   {
    "duration": 457,
    "start_time": "2021-09-26T09:39:11.778Z"
   },
   {
    "duration": 221,
    "start_time": "2021-09-26T09:39:12.237Z"
   },
   {
    "duration": 12,
    "start_time": "2021-09-26T09:39:12.459Z"
   },
   {
    "duration": 10,
    "start_time": "2021-09-26T09:39:12.472Z"
   },
   {
    "duration": 9,
    "start_time": "2021-09-26T09:39:12.484Z"
   },
   {
    "duration": 15,
    "start_time": "2021-09-26T09:39:12.495Z"
   },
   {
    "duration": 7,
    "start_time": "2021-09-26T09:39:12.511Z"
   },
   {
    "duration": 31,
    "start_time": "2021-09-26T09:39:12.520Z"
   },
   {
    "duration": 4,
    "start_time": "2021-09-26T09:39:12.553Z"
   },
   {
    "duration": 6,
    "start_time": "2021-09-26T09:39:12.558Z"
   },
   {
    "duration": 8,
    "start_time": "2021-09-26T09:39:12.565Z"
   },
   {
    "duration": 14,
    "start_time": "2021-09-26T09:39:12.574Z"
   },
   {
    "duration": 15,
    "start_time": "2021-09-26T09:39:12.589Z"
   },
   {
    "duration": 14,
    "start_time": "2021-09-26T09:39:12.606Z"
   },
   {
    "duration": 38,
    "start_time": "2021-09-26T09:39:12.622Z"
   },
   {
    "duration": 25,
    "start_time": "2021-09-26T09:39:12.661Z"
   },
   {
    "duration": 5,
    "start_time": "2021-09-26T09:39:12.688Z"
   },
   {
    "duration": 28,
    "start_time": "2021-09-26T09:39:12.694Z"
   },
   {
    "duration": 27,
    "start_time": "2021-09-26T09:39:12.723Z"
   },
   {
    "duration": 9,
    "start_time": "2021-09-26T09:39:12.752Z"
   },
   {
    "duration": 4,
    "start_time": "2021-09-26T09:39:12.763Z"
   },
   {
    "duration": 9,
    "start_time": "2021-09-26T09:39:12.769Z"
   },
   {
    "duration": 1471,
    "start_time": "2021-09-26T09:39:12.779Z"
   },
   {
    "duration": 5,
    "start_time": "2021-09-26T09:39:14.252Z"
   },
   {
    "duration": 97,
    "start_time": "2021-09-26T09:39:14.259Z"
   },
   {
    "duration": 8,
    "start_time": "2021-09-26T09:39:14.358Z"
   },
   {
    "duration": 6926,
    "start_time": "2021-09-26T09:39:14.367Z"
   },
   {
    "duration": 34964,
    "start_time": "2021-09-26T09:39:21.295Z"
   },
   {
    "duration": 7,
    "start_time": "2021-09-26T09:46:17.836Z"
   },
   {
    "duration": 105877,
    "start_time": "2021-09-26T09:47:18.974Z"
   },
   {
    "duration": 3,
    "start_time": "2021-09-26T09:50:46.770Z"
   },
   {
    "duration": 263,
    "start_time": "2021-09-26T09:51:15.429Z"
   },
   {
    "duration": 338,
    "start_time": "2021-09-26T09:53:48.017Z"
   },
   {
    "duration": 226,
    "start_time": "2021-09-26T09:54:21.094Z"
   },
   {
    "duration": 257112,
    "start_time": "2021-09-26T09:54:41.644Z"
   },
   {
    "duration": 61576,
    "start_time": "2021-09-26T10:01:11.683Z"
   },
   {
    "duration": 226,
    "start_time": "2021-09-26T10:04:26.309Z"
   },
   {
    "duration": 82334,
    "start_time": "2021-09-26T10:04:53.816Z"
   },
   {
    "duration": 1205,
    "start_time": "2021-09-26T10:06:36.590Z"
   },
   {
    "duration": 201,
    "start_time": "2021-09-26T10:06:37.798Z"
   },
   {
    "duration": 5,
    "start_time": "2021-09-26T10:06:38.002Z"
   },
   {
    "duration": 63,
    "start_time": "2021-09-26T10:06:38.009Z"
   },
   {
    "duration": 87,
    "start_time": "2021-09-26T10:06:38.074Z"
   },
   {
    "duration": 40,
    "start_time": "2021-09-26T10:06:38.163Z"
   },
   {
    "duration": 55,
    "start_time": "2021-09-26T10:06:38.204Z"
   },
   {
    "duration": 29,
    "start_time": "2021-09-26T10:06:38.262Z"
   },
   {
    "duration": 84,
    "start_time": "2021-09-26T10:06:38.293Z"
   },
   {
    "duration": 29,
    "start_time": "2021-09-26T10:06:38.378Z"
   },
   {
    "duration": 549,
    "start_time": "2021-09-26T10:06:38.409Z"
   },
   {
    "duration": 231,
    "start_time": "2021-09-26T10:06:38.959Z"
   },
   {
    "duration": 590,
    "start_time": "2021-09-26T10:06:39.192Z"
   },
   {
    "duration": 5,
    "start_time": "2021-09-26T10:06:39.783Z"
   },
   {
    "duration": 510,
    "start_time": "2021-09-26T10:06:39.790Z"
   },
   {
    "duration": 220,
    "start_time": "2021-09-26T10:06:40.301Z"
   },
   {
    "duration": 9,
    "start_time": "2021-09-26T10:06:40.523Z"
   },
   {
    "duration": 15,
    "start_time": "2021-09-26T10:06:40.534Z"
   },
   {
    "duration": 248,
    "start_time": "2021-09-26T10:06:40.551Z"
   },
   {
    "duration": 577,
    "start_time": "2021-09-26T10:06:40.801Z"
   },
   {
    "duration": 11,
    "start_time": "2021-09-26T10:06:41.380Z"
   },
   {
    "duration": 15,
    "start_time": "2021-09-26T10:06:41.394Z"
   },
   {
    "duration": 36,
    "start_time": "2021-09-26T10:06:41.414Z"
   },
   {
    "duration": 11,
    "start_time": "2021-09-26T10:06:41.454Z"
   },
   {
    "duration": 15,
    "start_time": "2021-09-26T10:06:41.467Z"
   },
   {
    "duration": 493,
    "start_time": "2021-09-26T10:06:41.484Z"
   },
   {
    "duration": 334,
    "start_time": "2021-09-26T10:06:41.979Z"
   },
   {
    "duration": 12,
    "start_time": "2021-09-26T10:06:42.315Z"
   },
   {
    "duration": 20,
    "start_time": "2021-09-26T10:06:42.329Z"
   },
   {
    "duration": 7,
    "start_time": "2021-09-26T10:06:42.351Z"
   },
   {
    "duration": 17,
    "start_time": "2021-09-26T10:06:42.360Z"
   },
   {
    "duration": 8,
    "start_time": "2021-09-26T10:06:42.379Z"
   },
   {
    "duration": 11,
    "start_time": "2021-09-26T10:06:42.389Z"
   },
   {
    "duration": 4,
    "start_time": "2021-09-26T10:06:42.402Z"
   },
   {
    "duration": 5,
    "start_time": "2021-09-26T10:06:42.408Z"
   },
   {
    "duration": 37,
    "start_time": "2021-09-26T10:06:42.415Z"
   },
   {
    "duration": 16,
    "start_time": "2021-09-26T10:06:42.454Z"
   },
   {
    "duration": 10,
    "start_time": "2021-09-26T10:06:42.473Z"
   },
   {
    "duration": 14,
    "start_time": "2021-09-26T10:06:42.485Z"
   },
   {
    "duration": 21,
    "start_time": "2021-09-26T10:06:42.501Z"
   },
   {
    "duration": 49,
    "start_time": "2021-09-26T10:06:42.524Z"
   },
   {
    "duration": 5,
    "start_time": "2021-09-26T10:06:42.575Z"
   },
   {
    "duration": 28,
    "start_time": "2021-09-26T10:06:42.582Z"
   },
   {
    "duration": 3,
    "start_time": "2021-09-26T10:06:42.612Z"
   },
   {
    "duration": 32,
    "start_time": "2021-09-26T10:06:42.617Z"
   },
   {
    "duration": 7,
    "start_time": "2021-09-26T10:06:42.652Z"
   },
   {
    "duration": 10,
    "start_time": "2021-09-26T10:06:42.661Z"
   },
   {
    "duration": 2882,
    "start_time": "2021-09-26T10:06:42.673Z"
   },
   {
    "duration": 93,
    "start_time": "2021-09-26T10:06:45.558Z"
   },
   {
    "duration": 8,
    "start_time": "2021-09-26T10:06:45.653Z"
   },
   {
    "duration": 8,
    "start_time": "2021-09-26T10:06:45.663Z"
   },
   {
    "duration": 8027,
    "start_time": "2021-09-26T10:06:45.673Z"
   },
   {
    "duration": 63960,
    "start_time": "2021-09-26T10:06:53.702Z"
   },
   {
    "duration": 2,
    "start_time": "2021-09-26T10:07:57.750Z"
   },
   {
    "duration": 221504,
    "start_time": "2021-09-26T10:07:57.754Z"
   },
   {
    "duration": 103495,
    "start_time": "2021-09-26T10:11:39.356Z"
   },
   {
    "duration": 327,
    "start_time": "2021-09-26T10:20:22.257Z"
   },
   {
    "duration": 27894,
    "start_time": "2021-09-26T10:21:40.320Z"
   },
   {
    "duration": 242,
    "start_time": "2021-09-26T10:22:44.102Z"
   },
   {
    "duration": 540,
    "start_time": "2021-09-26T10:25:15.211Z"
   },
   {
    "duration": 243,
    "start_time": "2021-09-26T10:25:41.334Z"
   },
   {
    "duration": 246,
    "start_time": "2021-09-26T10:26:02.732Z"
   },
   {
    "duration": 269,
    "start_time": "2021-09-26T10:26:17.578Z"
   },
   {
    "duration": 3,
    "start_time": "2021-09-26T10:26:38.876Z"
   },
   {
    "duration": 252,
    "start_time": "2021-09-26T10:26:39.351Z"
   },
   {
    "duration": 387,
    "start_time": "2021-09-26T10:30:22.412Z"
   },
   {
    "duration": 244,
    "start_time": "2021-09-26T10:31:12.889Z"
   },
   {
    "duration": 478302,
    "start_time": "2021-09-26T10:31:21.708Z"
   },
   {
    "duration": 229,
    "start_time": "2021-09-26T10:39:24.704Z"
   },
   {
    "duration": 272,
    "start_time": "2021-09-26T10:39:55.471Z"
   },
   {
    "duration": 294,
    "start_time": "2021-09-26T10:40:42.975Z"
   },
   {
    "duration": 2499782,
    "start_time": "2021-09-26T10:41:04.373Z"
   },
   {
    "duration": 172,
    "start_time": "2021-09-26T11:22:43.986Z"
   },
   {
    "duration": 167,
    "start_time": "2021-09-26T11:22:43.992Z"
   },
   {
    "duration": 90898,
    "start_time": "2021-09-26T11:26:53.680Z"
   },
   {
    "duration": 283,
    "start_time": "2021-09-26T11:28:24.299Z"
   },
   {
    "duration": 12835,
    "start_time": "2021-09-26T11:28:52.301Z"
   },
   {
    "duration": 335264,
    "start_time": "2021-09-26T11:32:38.573Z"
   },
   {
    "duration": 2242532,
    "start_time": "2021-09-26T11:44:57.064Z"
   },
   {
    "duration": 327142,
    "start_time": "2021-09-26T12:27:09.995Z"
   },
   {
    "duration": 1931,
    "start_time": "2021-09-27T19:29:01.046Z"
   },
   {
    "duration": 210,
    "start_time": "2021-09-27T19:29:03.874Z"
   },
   {
    "duration": 3,
    "start_time": "2021-09-27T19:29:05.604Z"
   },
   {
    "duration": 63,
    "start_time": "2021-09-27T19:29:06.225Z"
   },
   {
    "duration": 77,
    "start_time": "2021-09-27T19:29:07.103Z"
   },
   {
    "duration": 41,
    "start_time": "2021-09-27T19:29:07.695Z"
   },
   {
    "duration": 25,
    "start_time": "2021-09-27T19:29:08.198Z"
   },
   {
    "duration": 31,
    "start_time": "2021-09-27T19:29:08.637Z"
   },
   {
    "duration": 50,
    "start_time": "2021-09-27T19:29:09.055Z"
   },
   {
    "duration": 32,
    "start_time": "2021-09-27T19:29:09.474Z"
   },
   {
    "duration": 540,
    "start_time": "2021-09-27T19:29:10.610Z"
   },
   {
    "duration": 236,
    "start_time": "2021-09-27T19:29:11.152Z"
   },
   {
    "duration": 684,
    "start_time": "2021-09-27T19:29:11.409Z"
   },
   {
    "duration": 7,
    "start_time": "2021-09-27T19:29:12.095Z"
   },
   {
    "duration": 559,
    "start_time": "2021-09-27T19:29:12.104Z"
   },
   {
    "duration": 222,
    "start_time": "2021-09-27T19:29:12.665Z"
   },
   {
    "duration": 9,
    "start_time": "2021-09-27T19:29:13.364Z"
   },
   {
    "duration": 4,
    "start_time": "2021-09-27T19:29:14.491Z"
   },
   {
    "duration": 270,
    "start_time": "2021-09-27T19:29:14.753Z"
   },
   {
    "duration": 576,
    "start_time": "2021-09-27T19:29:15.289Z"
   },
   {
    "duration": 18,
    "start_time": "2021-09-27T19:29:15.867Z"
   },
   {
    "duration": 11,
    "start_time": "2021-09-27T19:29:16.853Z"
   },
   {
    "duration": 8,
    "start_time": "2021-09-27T19:29:17.305Z"
   },
   {
    "duration": 10,
    "start_time": "2021-09-27T19:29:17.889Z"
   },
   {
    "duration": 15,
    "start_time": "2021-09-27T19:29:18.761Z"
   },
   {
    "duration": 480,
    "start_time": "2021-09-27T19:29:19.769Z"
   },
   {
    "duration": 215,
    "start_time": "2021-09-27T19:29:20.555Z"
   },
   {
    "duration": 18,
    "start_time": "2021-09-27T19:29:22.883Z"
   },
   {
    "duration": 17,
    "start_time": "2021-09-27T19:29:25.143Z"
   },
   {
    "duration": 4,
    "start_time": "2021-09-27T19:29:25.805Z"
   },
   {
    "duration": 6,
    "start_time": "2021-09-27T19:29:26.353Z"
   },
   {
    "duration": 11,
    "start_time": "2021-09-27T19:29:26.956Z"
   },
   {
    "duration": 9,
    "start_time": "2021-09-27T19:29:28.220Z"
   },
   {
    "duration": 3,
    "start_time": "2021-09-27T19:29:31.424Z"
   },
   {
    "duration": 4,
    "start_time": "2021-09-27T19:29:38.068Z"
   },
   {
    "duration": 9,
    "start_time": "2021-09-27T19:30:46.985Z"
   },
   {
    "duration": 8,
    "start_time": "2021-09-27T19:30:50.752Z"
   },
   {
    "duration": 7,
    "start_time": "2021-09-27T19:31:07.525Z"
   },
   {
    "duration": 189,
    "start_time": "2021-09-27T19:31:13.210Z"
   },
   {
    "duration": 4,
    "start_time": "2021-09-27T19:31:13.565Z"
   },
   {
    "duration": 44,
    "start_time": "2021-09-27T19:31:13.767Z"
   },
   {
    "duration": 71,
    "start_time": "2021-09-27T19:31:14.085Z"
   },
   {
    "duration": 55,
    "start_time": "2021-09-27T19:31:14.352Z"
   },
   {
    "duration": 32,
    "start_time": "2021-09-27T19:31:14.626Z"
   },
   {
    "duration": 41,
    "start_time": "2021-09-27T19:31:14.894Z"
   },
   {
    "duration": 57,
    "start_time": "2021-09-27T19:31:15.178Z"
   },
   {
    "duration": 33,
    "start_time": "2021-09-27T19:31:15.475Z"
   },
   {
    "duration": 627,
    "start_time": "2021-09-27T19:31:16.482Z"
   },
   {
    "duration": 367,
    "start_time": "2021-09-27T19:31:17.112Z"
   },
   {
    "duration": 754,
    "start_time": "2021-09-27T19:31:17.482Z"
   },
   {
    "duration": 6,
    "start_time": "2021-09-27T19:31:18.238Z"
   },
   {
    "duration": 784,
    "start_time": "2021-09-27T19:31:18.246Z"
   },
   {
    "duration": 332,
    "start_time": "2021-09-27T19:31:19.033Z"
   },
   {
    "duration": 17,
    "start_time": "2021-09-27T19:31:19.367Z"
   },
   {
    "duration": 3,
    "start_time": "2021-09-27T19:31:19.387Z"
   },
   {
    "duration": 433,
    "start_time": "2021-09-27T19:31:19.392Z"
   },
   {
    "duration": 768,
    "start_time": "2021-09-27T19:31:19.828Z"
   },
   {
    "duration": 13,
    "start_time": "2021-09-27T19:31:20.598Z"
   },
   {
    "duration": 15,
    "start_time": "2021-09-27T19:31:20.614Z"
   },
   {
    "duration": 10,
    "start_time": "2021-09-27T19:31:20.807Z"
   },
   {
    "duration": 14,
    "start_time": "2021-09-27T19:31:21.067Z"
   },
   {
    "duration": 20,
    "start_time": "2021-09-27T19:31:21.356Z"
   },
   {
    "duration": 649,
    "start_time": "2021-09-27T19:31:21.791Z"
   },
   {
    "duration": 241,
    "start_time": "2021-09-27T19:31:22.442Z"
   },
   {
    "duration": 16,
    "start_time": "2021-09-27T19:31:23.868Z"
   },
   {
    "duration": 13,
    "start_time": "2021-09-27T19:31:24.184Z"
   },
   {
    "duration": 4,
    "start_time": "2021-09-27T19:31:24.525Z"
   },
   {
    "duration": 5,
    "start_time": "2021-09-27T19:31:24.866Z"
   },
   {
    "duration": 12,
    "start_time": "2021-09-27T19:31:25.148Z"
   },
   {
    "duration": 10,
    "start_time": "2021-09-27T19:31:25.752Z"
   },
   {
    "duration": 3,
    "start_time": "2021-09-27T19:31:26.108Z"
   },
   {
    "duration": 5,
    "start_time": "2021-09-27T19:31:26.796Z"
   },
   {
    "duration": 7,
    "start_time": "2021-09-27T19:31:28.372Z"
   },
   {
    "duration": 8,
    "start_time": "2021-09-27T19:31:31.929Z"
   },
   {
    "duration": 2,
    "start_time": "2021-09-27T19:32:05.542Z"
   },
   {
    "duration": 14,
    "start_time": "2021-09-27T19:32:23.980Z"
   },
   {
    "duration": 9,
    "start_time": "2021-09-27T19:32:33.145Z"
   },
   {
    "duration": 7,
    "start_time": "2021-09-27T19:33:01.102Z"
   },
   {
    "duration": 8,
    "start_time": "2021-09-27T19:33:05.656Z"
   },
   {
    "duration": 4,
    "start_time": "2021-09-27T19:33:40.881Z"
   },
   {
    "duration": 108,
    "start_time": "2021-09-27T19:34:09.926Z"
   },
   {
    "duration": 11,
    "start_time": "2021-09-27T19:34:21.480Z"
   },
   {
    "duration": 205,
    "start_time": "2021-09-27T19:34:21.989Z"
   },
   {
    "duration": 4,
    "start_time": "2021-09-27T19:34:22.196Z"
   },
   {
    "duration": 46,
    "start_time": "2021-09-27T19:34:22.284Z"
   },
   {
    "duration": 82,
    "start_time": "2021-09-27T19:34:22.560Z"
   },
   {
    "duration": 38,
    "start_time": "2021-09-27T19:34:22.807Z"
   },
   {
    "duration": 28,
    "start_time": "2021-09-27T19:34:23.083Z"
   },
   {
    "duration": 38,
    "start_time": "2021-09-27T19:34:23.364Z"
   },
   {
    "duration": 51,
    "start_time": "2021-09-27T19:34:23.646Z"
   },
   {
    "duration": 35,
    "start_time": "2021-09-27T19:34:23.926Z"
   },
   {
    "duration": 561,
    "start_time": "2021-09-27T19:34:24.655Z"
   },
   {
    "duration": 245,
    "start_time": "2021-09-27T19:34:25.218Z"
   },
   {
    "duration": 562,
    "start_time": "2021-09-27T19:34:25.466Z"
   },
   {
    "duration": 6,
    "start_time": "2021-09-27T19:34:26.030Z"
   },
   {
    "duration": 560,
    "start_time": "2021-09-27T19:34:26.038Z"
   },
   {
    "duration": 224,
    "start_time": "2021-09-27T19:34:26.600Z"
   },
   {
    "duration": 9,
    "start_time": "2021-09-27T19:34:26.826Z"
   },
   {
    "duration": 3,
    "start_time": "2021-09-27T19:34:26.953Z"
   },
   {
    "duration": 325,
    "start_time": "2021-09-27T19:34:27.099Z"
   },
   {
    "duration": 677,
    "start_time": "2021-09-27T19:34:27.426Z"
   },
   {
    "duration": 11,
    "start_time": "2021-09-27T19:34:28.106Z"
   },
   {
    "duration": 13,
    "start_time": "2021-09-27T19:34:28.118Z"
   },
   {
    "duration": 8,
    "start_time": "2021-09-27T19:34:28.307Z"
   },
   {
    "duration": 12,
    "start_time": "2021-09-27T19:34:28.624Z"
   },
   {
    "duration": 13,
    "start_time": "2021-09-27T19:34:28.965Z"
   },
   {
    "duration": 592,
    "start_time": "2021-09-27T19:34:29.500Z"
   },
   {
    "duration": 230,
    "start_time": "2021-09-27T19:34:30.094Z"
   },
   {
    "duration": 18,
    "start_time": "2021-09-27T19:34:31.022Z"
   },
   {
    "duration": 12,
    "start_time": "2021-09-27T19:34:31.210Z"
   },
   {
    "duration": 5,
    "start_time": "2021-09-27T19:34:31.386Z"
   },
   {
    "duration": 6,
    "start_time": "2021-09-27T19:34:31.675Z"
   },
   {
    "duration": 16,
    "start_time": "2021-09-27T19:34:31.880Z"
   },
   {
    "duration": 13,
    "start_time": "2021-09-27T19:34:32.071Z"
   },
   {
    "duration": 3,
    "start_time": "2021-09-27T19:34:32.397Z"
   },
   {
    "duration": 4,
    "start_time": "2021-09-27T19:34:32.590Z"
   },
   {
    "duration": 8,
    "start_time": "2021-09-27T19:34:32.802Z"
   },
   {
    "duration": 8,
    "start_time": "2021-09-27T19:34:33.427Z"
   },
   {
    "duration": 3,
    "start_time": "2021-09-27T19:34:33.920Z"
   },
   {
    "duration": 6,
    "start_time": "2021-09-27T19:34:34.487Z"
   },
   {
    "duration": 8,
    "start_time": "2021-09-27T19:34:34.820Z"
   },
   {
    "duration": 4,
    "start_time": "2021-09-27T19:34:35.497Z"
   },
   {
    "duration": 8,
    "start_time": "2021-09-27T19:34:35.751Z"
   },
   {
    "duration": 10,
    "start_time": "2021-09-27T19:34:41.321Z"
   },
   {
    "duration": 28,
    "start_time": "2021-09-27T19:35:44.974Z"
   },
   {
    "duration": 21,
    "start_time": "2021-09-27T19:35:45.611Z"
   },
   {
    "duration": 28,
    "start_time": "2021-09-27T19:35:59.950Z"
   },
   {
    "duration": 3,
    "start_time": "2021-09-27T19:37:16.880Z"
   },
   {
    "duration": 29,
    "start_time": "2021-09-27T19:37:18.417Z"
   },
   {
    "duration": 6,
    "start_time": "2021-09-27T19:37:23.930Z"
   },
   {
    "duration": 12,
    "start_time": "2021-09-27T19:37:28.931Z"
   },
   {
    "duration": 4,
    "start_time": "2021-09-27T19:37:31.013Z"
   },
   {
    "duration": 5,
    "start_time": "2021-09-27T19:37:48.855Z"
   },
   {
    "duration": 423,
    "start_time": "2021-09-27T19:37:54.602Z"
   },
   {
    "duration": 6477,
    "start_time": "2021-09-27T19:38:14.719Z"
   },
   {
    "duration": 5677,
    "start_time": "2021-09-27T19:38:22.086Z"
   },
   {
    "duration": 9,
    "start_time": "2021-09-27T19:39:37.044Z"
   },
   {
    "duration": 2736,
    "start_time": "2021-09-27T19:39:37.339Z"
   },
   {
    "duration": 4,
    "start_time": "2021-09-27T19:39:40.077Z"
   },
   {
    "duration": 44,
    "start_time": "2021-09-27T19:39:40.083Z"
   },
   {
    "duration": 101,
    "start_time": "2021-09-27T19:39:40.130Z"
   },
   {
    "duration": 60,
    "start_time": "2021-09-27T19:39:40.232Z"
   },
   {
    "duration": 28,
    "start_time": "2021-09-27T19:39:40.294Z"
   },
   {
    "duration": 60,
    "start_time": "2021-09-27T19:39:40.323Z"
   },
   {
    "duration": 49,
    "start_time": "2021-09-27T19:39:40.386Z"
   },
   {
    "duration": 52,
    "start_time": "2021-09-27T19:39:40.437Z"
   },
   {
    "duration": 740,
    "start_time": "2021-09-27T19:39:40.491Z"
   },
   {
    "duration": 347,
    "start_time": "2021-09-27T19:39:41.233Z"
   },
   {
    "duration": 540,
    "start_time": "2021-09-27T19:39:41.583Z"
   },
   {
    "duration": 7,
    "start_time": "2021-09-27T19:39:42.125Z"
   },
   {
    "duration": 545,
    "start_time": "2021-09-27T19:39:42.134Z"
   },
   {
    "duration": 240,
    "start_time": "2021-09-27T19:39:42.681Z"
   },
   {
    "duration": 10,
    "start_time": "2021-09-27T19:39:42.923Z"
   },
   {
    "duration": 6,
    "start_time": "2021-09-27T19:39:42.935Z"
   },
   {
    "duration": 275,
    "start_time": "2021-09-27T19:39:42.943Z"
   },
   {
    "duration": 606,
    "start_time": "2021-09-27T19:39:43.220Z"
   },
   {
    "duration": 10,
    "start_time": "2021-09-27T19:39:43.829Z"
   },
   {
    "duration": 20,
    "start_time": "2021-09-27T19:39:43.841Z"
   },
   {
    "duration": 18,
    "start_time": "2021-09-27T19:39:43.863Z"
   },
   {
    "duration": 11,
    "start_time": "2021-09-27T19:39:43.884Z"
   },
   {
    "duration": 14,
    "start_time": "2021-09-27T19:39:43.952Z"
   },
   {
    "duration": 484,
    "start_time": "2021-09-27T19:39:44.663Z"
   },
   {
    "duration": 234,
    "start_time": "2021-09-27T19:39:45.150Z"
   },
   {
    "duration": 19,
    "start_time": "2021-09-27T19:39:45.800Z"
   },
   {
    "duration": 13,
    "start_time": "2021-09-27T19:39:46.017Z"
   },
   {
    "duration": 5,
    "start_time": "2021-09-27T19:39:46.248Z"
   },
   {
    "duration": 5,
    "start_time": "2021-09-27T19:39:46.617Z"
   },
   {
    "duration": 12,
    "start_time": "2021-09-27T19:39:46.871Z"
   },
   {
    "duration": 10,
    "start_time": "2021-09-27T19:39:47.390Z"
   },
   {
    "duration": 1428,
    "start_time": "2021-09-27T19:39:47.736Z"
   },
   {
    "duration": -1078,
    "start_time": "2021-09-27T19:39:50.244Z"
   },
   {
    "duration": -1081,
    "start_time": "2021-09-27T19:39:50.248Z"
   },
   {
    "duration": 3,
    "start_time": "2021-09-27T19:39:54.065Z"
   },
   {
    "duration": 4,
    "start_time": "2021-09-27T19:39:54.841Z"
   },
   {
    "duration": 8,
    "start_time": "2021-09-27T19:39:55.250Z"
   },
   {
    "duration": 7,
    "start_time": "2021-09-27T19:39:56.141Z"
   },
   {
    "duration": 3,
    "start_time": "2021-09-27T19:39:58.168Z"
   },
   {
    "duration": 7,
    "start_time": "2021-09-27T19:39:58.559Z"
   },
   {
    "duration": 9,
    "start_time": "2021-09-27T19:39:58.922Z"
   },
   {
    "duration": 3,
    "start_time": "2021-09-27T19:39:59.896Z"
   },
   {
    "duration": 22,
    "start_time": "2021-09-27T19:40:00.237Z"
   },
   {
    "duration": 23,
    "start_time": "2021-09-27T19:40:01.357Z"
   },
   {
    "duration": 3,
    "start_time": "2021-09-27T19:40:11.319Z"
   },
   {
    "duration": 28,
    "start_time": "2021-09-27T19:40:11.768Z"
   },
   {
    "duration": 119,
    "start_time": "2021-09-27T19:40:45.380Z"
   },
   {
    "duration": 362,
    "start_time": "2021-09-27T19:40:56.117Z"
   },
   {
    "duration": 123,
    "start_time": "2021-09-27T19:41:06.833Z"
   },
   {
    "duration": 122,
    "start_time": "2021-09-27T19:41:16.700Z"
   },
   {
    "duration": 7,
    "start_time": "2021-09-27T19:42:25.515Z"
   },
   {
    "duration": 378,
    "start_time": "2021-09-27T19:42:57.840Z"
   },
   {
    "duration": 374,
    "start_time": "2021-09-27T19:45:11.156Z"
   },
   {
    "duration": 9,
    "start_time": "2021-09-27T19:45:27.000Z"
   },
   {
    "duration": 25,
    "start_time": "2021-09-27T19:45:39.548Z"
   },
   {
    "duration": 5,
    "start_time": "2021-09-27T19:45:42.017Z"
   },
   {
    "duration": 11,
    "start_time": "2021-09-27T19:45:42.827Z"
   },
   {
    "duration": 5,
    "start_time": "2021-09-27T19:45:43.368Z"
   },
   {
    "duration": 6,
    "start_time": "2021-09-27T19:45:45.300Z"
   },
   {
    "duration": 248,
    "start_time": "2021-09-27T19:45:45.710Z"
   },
   {
    "duration": 6101,
    "start_time": "2021-09-27T19:46:04.502Z"
   },
   {
    "duration": 4,
    "start_time": "2021-09-27T19:46:34.654Z"
   },
   {
    "duration": 10,
    "start_time": "2021-09-27T19:46:36.283Z"
   },
   {
    "duration": 12,
    "start_time": "2021-09-27T19:46:36.643Z"
   },
   {
    "duration": 4,
    "start_time": "2021-09-27T19:46:37.186Z"
   },
   {
    "duration": 6,
    "start_time": "2021-09-27T19:46:39.559Z"
   },
   {
    "duration": 3942,
    "start_time": "2021-09-27T19:46:45.357Z"
   },
   {
    "duration": 6324,
    "start_time": "2021-09-27T19:46:54.378Z"
   },
   {
    "duration": 368,
    "start_time": "2021-09-27T19:50:25.778Z"
   },
   {
    "duration": 5,
    "start_time": "2021-09-27T19:50:49.339Z"
   },
   {
    "duration": 26,
    "start_time": "2021-09-27T19:50:52.742Z"
   },
   {
    "duration": 9,
    "start_time": "2021-09-27T19:51:40.201Z"
   },
   {
    "duration": 204,
    "start_time": "2021-09-27T19:51:40.617Z"
   },
   {
    "duration": 4,
    "start_time": "2021-09-27T19:51:40.822Z"
   },
   {
    "duration": 44,
    "start_time": "2021-09-27T19:51:40.934Z"
   },
   {
    "duration": 76,
    "start_time": "2021-09-27T19:51:41.213Z"
   },
   {
    "duration": 38,
    "start_time": "2021-09-27T19:51:41.501Z"
   },
   {
    "duration": 23,
    "start_time": "2021-09-27T19:51:41.789Z"
   },
   {
    "duration": 32,
    "start_time": "2021-09-27T19:51:42.079Z"
   },
   {
    "duration": 54,
    "start_time": "2021-09-27T19:51:42.349Z"
   },
   {
    "duration": 34,
    "start_time": "2021-09-27T19:51:42.621Z"
   },
   {
    "duration": 564,
    "start_time": "2021-09-27T19:51:43.329Z"
   },
   {
    "duration": 247,
    "start_time": "2021-09-27T19:51:43.895Z"
   },
   {
    "duration": 564,
    "start_time": "2021-09-27T19:51:44.144Z"
   },
   {
    "duration": 5,
    "start_time": "2021-09-27T19:51:44.710Z"
   },
   {
    "duration": 637,
    "start_time": "2021-09-27T19:51:44.717Z"
   },
   {
    "duration": 220,
    "start_time": "2021-09-27T19:51:45.356Z"
   },
   {
    "duration": 8,
    "start_time": "2021-09-27T19:51:45.578Z"
   },
   {
    "duration": 3,
    "start_time": "2021-09-27T19:51:45.762Z"
   },
   {
    "duration": 270,
    "start_time": "2021-09-27T19:51:45.922Z"
   },
   {
    "duration": 511,
    "start_time": "2021-09-27T19:51:46.194Z"
   },
   {
    "duration": 10,
    "start_time": "2021-09-27T19:51:46.708Z"
   },
   {
    "duration": 12,
    "start_time": "2021-09-27T19:51:46.953Z"
   },
   {
    "duration": 9,
    "start_time": "2021-09-27T19:51:47.318Z"
   },
   {
    "duration": 10,
    "start_time": "2021-09-27T19:51:47.622Z"
   },
   {
    "duration": 14,
    "start_time": "2021-09-27T19:51:47.936Z"
   },
   {
    "duration": 478,
    "start_time": "2021-09-27T19:51:48.493Z"
   },
   {
    "duration": 222,
    "start_time": "2021-09-27T19:51:48.976Z"
   },
   {
    "duration": 17,
    "start_time": "2021-09-27T19:51:50.156Z"
   },
   {
    "duration": 13,
    "start_time": "2021-09-27T19:51:50.327Z"
   },
   {
    "duration": 4,
    "start_time": "2021-09-27T19:51:50.517Z"
   },
   {
    "duration": 5,
    "start_time": "2021-09-27T19:51:50.684Z"
   },
   {
    "duration": 12,
    "start_time": "2021-09-27T19:51:50.851Z"
   },
   {
    "duration": 10,
    "start_time": "2021-09-27T19:51:51.002Z"
   },
   {
    "duration": 3,
    "start_time": "2021-09-27T19:51:51.165Z"
   },
   {
    "duration": 4,
    "start_time": "2021-09-27T19:51:51.564Z"
   },
   {
    "duration": 7,
    "start_time": "2021-09-27T19:51:51.882Z"
   },
   {
    "duration": 7,
    "start_time": "2021-09-27T19:51:52.222Z"
   },
   {
    "duration": 4,
    "start_time": "2021-09-27T19:51:52.431Z"
   },
   {
    "duration": 7,
    "start_time": "2021-09-27T19:51:52.601Z"
   },
   {
    "duration": 12,
    "start_time": "2021-09-27T19:51:52.776Z"
   },
   {
    "duration": 5,
    "start_time": "2021-09-27T19:51:52.932Z"
   },
   {
    "duration": 31,
    "start_time": "2021-09-27T19:51:53.104Z"
   },
   {
    "duration": 33,
    "start_time": "2021-09-27T19:51:53.293Z"
   },
   {
    "duration": 4,
    "start_time": "2021-09-27T19:51:53.704Z"
   },
   {
    "duration": 9,
    "start_time": "2021-09-27T19:51:53.962Z"
   },
   {
    "duration": 4,
    "start_time": "2021-09-27T19:51:54.443Z"
   },
   {
    "duration": 23,
    "start_time": "2021-09-27T19:51:55.080Z"
   },
   {
    "duration": 5,
    "start_time": "2021-09-27T19:51:56.072Z"
   },
   {
    "duration": 12,
    "start_time": "2021-09-27T19:51:57.846Z"
   },
   {
    "duration": 4,
    "start_time": "2021-09-27T19:51:58.207Z"
   },
   {
    "duration": 7,
    "start_time": "2021-09-27T19:52:00.534Z"
   },
   {
    "duration": 5532,
    "start_time": "2021-09-27T19:52:20.920Z"
   },
   {
    "duration": 5,
    "start_time": "2021-09-27T19:53:06.788Z"
   },
   {
    "duration": 25,
    "start_time": "2021-09-27T19:53:08.052Z"
   },
   {
    "duration": 6,
    "start_time": "2021-09-27T19:53:38.596Z"
   },
   {
    "duration": 207,
    "start_time": "2021-09-27T19:53:38.904Z"
   },
   {
    "duration": 3,
    "start_time": "2021-09-27T19:53:39.113Z"
   },
   {
    "duration": 41,
    "start_time": "2021-09-27T19:53:39.191Z"
   },
   {
    "duration": 72,
    "start_time": "2021-09-27T19:53:39.482Z"
   },
   {
    "duration": 39,
    "start_time": "2021-09-27T19:53:39.763Z"
   },
   {
    "duration": 25,
    "start_time": "2021-09-27T19:53:40.046Z"
   },
   {
    "duration": 31,
    "start_time": "2021-09-27T19:53:40.332Z"
   },
   {
    "duration": 50,
    "start_time": "2021-09-27T19:53:40.623Z"
   },
   {
    "duration": 31,
    "start_time": "2021-09-27T19:53:40.929Z"
   },
   {
    "duration": 559,
    "start_time": "2021-09-27T19:53:41.650Z"
   },
   {
    "duration": 356,
    "start_time": "2021-09-27T19:53:42.212Z"
   },
   {
    "duration": 740,
    "start_time": "2021-09-27T19:53:42.576Z"
   },
   {
    "duration": 7,
    "start_time": "2021-09-27T19:53:43.318Z"
   },
   {
    "duration": 621,
    "start_time": "2021-09-27T19:53:43.328Z"
   },
   {
    "duration": 227,
    "start_time": "2021-09-27T19:53:43.952Z"
   },
   {
    "duration": 8,
    "start_time": "2021-09-27T19:53:44.181Z"
   },
   {
    "duration": 11,
    "start_time": "2021-09-27T19:53:44.191Z"
   },
   {
    "duration": 351,
    "start_time": "2021-09-27T19:53:44.204Z"
   },
   {
    "duration": 496,
    "start_time": "2021-09-27T19:53:44.557Z"
   },
   {
    "duration": 9,
    "start_time": "2021-09-27T19:53:45.056Z"
   },
   {
    "duration": 12,
    "start_time": "2021-09-27T19:53:45.075Z"
   },
   {
    "duration": 8,
    "start_time": "2021-09-27T19:53:45.369Z"
   },
   {
    "duration": 10,
    "start_time": "2021-09-27T19:53:45.682Z"
   },
   {
    "duration": 15,
    "start_time": "2021-09-27T19:53:46.013Z"
   },
   {
    "duration": 474,
    "start_time": "2021-09-27T19:53:46.492Z"
   },
   {
    "duration": 227,
    "start_time": "2021-09-27T19:53:46.968Z"
   },
   {
    "duration": 17,
    "start_time": "2021-09-27T19:53:47.925Z"
   },
   {
    "duration": 13,
    "start_time": "2021-09-27T19:53:48.114Z"
   },
   {
    "duration": 4,
    "start_time": "2021-09-27T19:53:48.293Z"
   },
   {
    "duration": 4,
    "start_time": "2021-09-27T19:53:48.456Z"
   },
   {
    "duration": 12,
    "start_time": "2021-09-27T19:53:48.599Z"
   },
   {
    "duration": 10,
    "start_time": "2021-09-27T19:53:48.766Z"
   },
   {
    "duration": 3,
    "start_time": "2021-09-27T19:53:48.948Z"
   },
   {
    "duration": 4,
    "start_time": "2021-09-27T19:53:49.299Z"
   },
   {
    "duration": 8,
    "start_time": "2021-09-27T19:53:49.610Z"
   },
   {
    "duration": 7,
    "start_time": "2021-09-27T19:53:49.903Z"
   },
   {
    "duration": 4,
    "start_time": "2021-09-27T19:53:50.188Z"
   },
   {
    "duration": 7,
    "start_time": "2021-09-27T19:53:50.559Z"
   },
   {
    "duration": 8,
    "start_time": "2021-09-27T19:53:50.848Z"
   },
   {
    "duration": 3,
    "start_time": "2021-09-27T19:53:51.890Z"
   },
   {
    "duration": 21,
    "start_time": "2021-09-27T19:53:52.340Z"
   },
   {
    "duration": 20,
    "start_time": "2021-09-27T19:53:53.027Z"
   },
   {
    "duration": 3,
    "start_time": "2021-09-27T19:53:55.092Z"
   },
   {
    "duration": 9,
    "start_time": "2021-09-27T19:53:55.756Z"
   },
   {
    "duration": 4,
    "start_time": "2021-09-27T19:53:56.688Z"
   },
   {
    "duration": 5,
    "start_time": "2021-09-27T19:53:57.563Z"
   },
   {
    "duration": 24,
    "start_time": "2021-09-27T19:53:58.248Z"
   },
   {
    "duration": 5,
    "start_time": "2021-09-27T19:54:04.455Z"
   },
   {
    "duration": 25,
    "start_time": "2021-09-27T19:54:05.381Z"
   },
   {
    "duration": 5,
    "start_time": "2021-09-27T19:54:11.965Z"
   },
   {
    "duration": 11,
    "start_time": "2021-09-27T19:54:14.611Z"
   },
   {
    "duration": 4,
    "start_time": "2021-09-27T19:54:16.521Z"
   },
   {
    "duration": 144,
    "start_time": "2021-09-27T19:54:32.804Z"
   },
   {
    "duration": 5,
    "start_time": "2021-09-27T19:54:39.632Z"
   },
   {
    "duration": 5444,
    "start_time": "2021-09-27T19:54:44.685Z"
   },
   {
    "duration": 10,
    "start_time": "2021-09-27T19:55:41.993Z"
   },
   {
    "duration": 193,
    "start_time": "2021-09-27T19:55:42.336Z"
   },
   {
    "duration": 3,
    "start_time": "2021-09-27T19:55:42.531Z"
   },
   {
    "duration": 43,
    "start_time": "2021-09-27T19:55:42.601Z"
   },
   {
    "duration": 73,
    "start_time": "2021-09-27T19:55:42.860Z"
   },
   {
    "duration": 40,
    "start_time": "2021-09-27T19:55:43.131Z"
   },
   {
    "duration": 24,
    "start_time": "2021-09-27T19:55:43.398Z"
   },
   {
    "duration": 30,
    "start_time": "2021-09-27T19:55:43.672Z"
   },
   {
    "duration": 51,
    "start_time": "2021-09-27T19:55:43.939Z"
   },
   {
    "duration": 31,
    "start_time": "2021-09-27T19:55:44.195Z"
   },
   {
    "duration": 554,
    "start_time": "2021-09-27T19:55:44.885Z"
   },
   {
    "duration": 226,
    "start_time": "2021-09-27T19:55:45.440Z"
   },
   {
    "duration": 516,
    "start_time": "2021-09-27T19:55:45.668Z"
   },
   {
    "duration": 5,
    "start_time": "2021-09-27T19:55:46.186Z"
   },
   {
    "duration": 631,
    "start_time": "2021-09-27T19:55:46.193Z"
   },
   {
    "duration": 220,
    "start_time": "2021-09-27T19:55:46.826Z"
   },
   {
    "duration": 9,
    "start_time": "2021-09-27T19:55:47.048Z"
   },
   {
    "duration": 3,
    "start_time": "2021-09-27T19:55:47.146Z"
   },
   {
    "duration": 253,
    "start_time": "2021-09-27T19:55:47.296Z"
   },
   {
    "duration": 513,
    "start_time": "2021-09-27T19:55:47.551Z"
   },
   {
    "duration": 14,
    "start_time": "2021-09-27T19:55:48.066Z"
   },
   {
    "duration": 13,
    "start_time": "2021-09-27T19:55:48.179Z"
   },
   {
    "duration": 8,
    "start_time": "2021-09-27T19:55:48.428Z"
   },
   {
    "duration": 10,
    "start_time": "2021-09-27T19:55:48.716Z"
   },
   {
    "duration": 14,
    "start_time": "2021-09-27T19:55:49.002Z"
   },
   {
    "duration": 470,
    "start_time": "2021-09-27T19:55:49.444Z"
   },
   {
    "duration": 230,
    "start_time": "2021-09-27T19:55:49.916Z"
   },
   {
    "duration": 17,
    "start_time": "2021-09-27T19:55:50.633Z"
   },
   {
    "duration": 12,
    "start_time": "2021-09-27T19:55:50.782Z"
   },
   {
    "duration": 4,
    "start_time": "2021-09-27T19:55:50.927Z"
   },
   {
    "duration": 5,
    "start_time": "2021-09-27T19:55:51.077Z"
   },
   {
    "duration": 12,
    "start_time": "2021-09-27T19:55:51.230Z"
   },
   {
    "duration": 9,
    "start_time": "2021-09-27T19:55:51.367Z"
   },
   {
    "duration": 3,
    "start_time": "2021-09-27T19:55:51.534Z"
   },
   {
    "duration": 4,
    "start_time": "2021-09-27T19:55:51.670Z"
   },
   {
    "duration": 7,
    "start_time": "2021-09-27T19:55:51.826Z"
   },
   {
    "duration": 7,
    "start_time": "2021-09-27T19:55:51.973Z"
   },
   {
    "duration": 2,
    "start_time": "2021-09-27T19:55:52.122Z"
   },
   {
    "duration": 6,
    "start_time": "2021-09-27T19:55:52.446Z"
   },
   {
    "duration": 8,
    "start_time": "2021-09-27T19:55:52.618Z"
   },
   {
    "duration": 4,
    "start_time": "2021-09-27T19:55:52.768Z"
   },
   {
    "duration": 22,
    "start_time": "2021-09-27T19:55:52.922Z"
   },
   {
    "duration": 19,
    "start_time": "2021-09-27T19:55:53.069Z"
   },
   {
    "duration": 4,
    "start_time": "2021-09-27T19:55:53.231Z"
   },
   {
    "duration": 9,
    "start_time": "2021-09-27T19:55:53.642Z"
   },
   {
    "duration": 3,
    "start_time": "2021-09-27T19:55:53.839Z"
   },
   {
    "duration": 25,
    "start_time": "2021-09-27T19:55:53.985Z"
   },
   {
    "duration": 5,
    "start_time": "2021-09-27T19:55:54.156Z"
   },
   {
    "duration": 12,
    "start_time": "2021-09-27T19:55:54.362Z"
   },
   {
    "duration": 4,
    "start_time": "2021-09-27T19:55:54.892Z"
   },
   {
    "duration": 6,
    "start_time": "2021-09-27T19:55:57.028Z"
   },
   {
    "duration": 6033,
    "start_time": "2021-09-27T19:56:01.447Z"
   },
   {
    "duration": 5547,
    "start_time": "2021-09-27T19:56:12.302Z"
   },
   {
    "duration": 4,
    "start_time": "2021-09-27T19:56:54.840Z"
   },
   {
    "duration": 389,
    "start_time": "2021-09-27T20:01:43.551Z"
   },
   {
    "duration": 42663,
    "start_time": "2021-09-27T20:05:41.117Z"
   },
   {
    "duration": 179292,
    "start_time": "2021-09-27T20:06:23.784Z"
   },
   {
    "duration": 64448,
    "start_time": "2021-09-27T20:09:23.079Z"
   },
   {
    "duration": 21474,
    "start_time": "2021-09-27T20:10:27.529Z"
   },
   {
    "duration": 14938,
    "start_time": "2021-09-27T20:10:49.005Z"
   },
   {
    "duration": 6128,
    "start_time": "2021-09-27T20:11:03.951Z"
   },
   {
    "duration": 141,
    "start_time": "2021-09-27T20:11:10.081Z"
   },
   {
    "duration": 4,
    "start_time": "2021-09-27T20:11:37.150Z"
   },
   {
    "duration": 376,
    "start_time": "2021-09-27T20:11:38.714Z"
   },
   {
    "duration": 755,
    "start_time": "2021-09-27T20:11:47.343Z"
   },
   {
    "duration": 426,
    "start_time": "2021-09-27T20:12:08.162Z"
   },
   {
    "duration": 783,
    "start_time": "2021-09-27T20:12:31.289Z"
   },
   {
    "duration": 372,
    "start_time": "2021-09-27T20:12:55.742Z"
   },
   {
    "duration": 627,
    "start_time": "2021-09-27T20:14:35.806Z"
   },
   {
    "duration": 515,
    "start_time": "2021-09-27T20:14:51.618Z"
   },
   {
    "duration": 449,
    "start_time": "2021-09-27T20:15:22.873Z"
   },
   {
    "duration": 6464,
    "start_time": "2021-09-27T20:15:25.223Z"
   },
   {
    "duration": 515,
    "start_time": "2021-09-27T20:15:34.819Z"
   },
   {
    "duration": 3,
    "start_time": "2021-09-27T20:16:11.174Z"
   },
   {
    "duration": 3,
    "start_time": "2021-09-27T20:17:02.763Z"
   },
   {
    "duration": 4,
    "start_time": "2021-09-27T20:17:08.331Z"
   },
   {
    "duration": 4,
    "start_time": "2021-09-27T20:17:16.575Z"
   },
   {
    "duration": 4,
    "start_time": "2021-09-27T20:17:17.000Z"
   },
   {
    "duration": 377,
    "start_time": "2021-09-27T20:18:40.015Z"
   },
   {
    "duration": 4,
    "start_time": "2021-09-27T20:19:01.252Z"
   },
   {
    "duration": 3,
    "start_time": "2021-09-27T20:19:02.045Z"
   },
   {
    "duration": 11,
    "start_time": "2021-09-27T20:19:04.632Z"
   },
   {
    "duration": 6,
    "start_time": "2021-09-27T20:19:51.864Z"
   },
   {
    "duration": 192,
    "start_time": "2021-09-27T20:19:52.319Z"
   },
   {
    "duration": 4,
    "start_time": "2021-09-27T20:19:52.514Z"
   },
   {
    "duration": 40,
    "start_time": "2021-09-27T20:19:52.591Z"
   },
   {
    "duration": 197,
    "start_time": "2021-09-27T20:19:52.857Z"
   },
   {
    "duration": 40,
    "start_time": "2021-09-27T20:19:53.137Z"
   },
   {
    "duration": 31,
    "start_time": "2021-09-27T20:19:53.428Z"
   },
   {
    "duration": 33,
    "start_time": "2021-09-27T20:19:53.721Z"
   },
   {
    "duration": 56,
    "start_time": "2021-09-27T20:19:54.006Z"
   },
   {
    "duration": 39,
    "start_time": "2021-09-27T20:19:54.293Z"
   },
   {
    "duration": 583,
    "start_time": "2021-09-27T20:19:54.999Z"
   },
   {
    "duration": 246,
    "start_time": "2021-09-27T20:19:55.584Z"
   },
   {
    "duration": 574,
    "start_time": "2021-09-27T20:19:55.832Z"
   },
   {
    "duration": 5,
    "start_time": "2021-09-27T20:19:56.408Z"
   },
   {
    "duration": 557,
    "start_time": "2021-09-27T20:19:56.415Z"
   },
   {
    "duration": 256,
    "start_time": "2021-09-27T20:19:56.974Z"
   },
   {
    "duration": 17,
    "start_time": "2021-09-27T20:19:57.232Z"
   },
   {
    "duration": 3,
    "start_time": "2021-09-27T20:19:57.406Z"
   },
   {
    "duration": 333,
    "start_time": "2021-09-27T20:19:57.554Z"
   },
   {
    "duration": 647,
    "start_time": "2021-09-27T20:19:57.889Z"
   },
   {
    "duration": 10,
    "start_time": "2021-09-27T20:19:58.538Z"
   },
   {
    "duration": 36,
    "start_time": "2021-09-27T20:19:58.550Z"
   },
   {
    "duration": 8,
    "start_time": "2021-09-27T20:19:58.742Z"
   },
   {
    "duration": 11,
    "start_time": "2021-09-27T20:19:59.050Z"
   },
   {
    "duration": 15,
    "start_time": "2021-09-27T20:19:59.346Z"
   },
   {
    "duration": 512,
    "start_time": "2021-09-27T20:19:59.843Z"
   },
   {
    "duration": 254,
    "start_time": "2021-09-27T20:20:00.357Z"
   },
   {
    "duration": 18,
    "start_time": "2021-09-27T20:20:01.275Z"
   },
   {
    "duration": 13,
    "start_time": "2021-09-27T20:20:01.440Z"
   },
   {
    "duration": 4,
    "start_time": "2021-09-27T20:20:01.637Z"
   },
   {
    "duration": 5,
    "start_time": "2021-09-27T20:20:01.825Z"
   },
   {
    "duration": 13,
    "start_time": "2021-09-27T20:20:02.009Z"
   },
   {
    "duration": 10,
    "start_time": "2021-09-27T20:20:02.189Z"
   },
   {
    "duration": 3,
    "start_time": "2021-09-27T20:20:02.353Z"
   },
   {
    "duration": 4,
    "start_time": "2021-09-27T20:20:02.533Z"
   },
   {
    "duration": 8,
    "start_time": "2021-09-27T20:20:02.670Z"
   },
   {
    "duration": 8,
    "start_time": "2021-09-27T20:20:02.815Z"
   },
   {
    "duration": 4,
    "start_time": "2021-09-27T20:20:02.960Z"
   },
   {
    "duration": 8,
    "start_time": "2021-09-27T20:20:03.110Z"
   },
   {
    "duration": 8,
    "start_time": "2021-09-27T20:20:03.260Z"
   },
   {
    "duration": 4,
    "start_time": "2021-09-27T20:20:03.440Z"
   },
   {
    "duration": 26,
    "start_time": "2021-09-27T20:20:03.576Z"
   },
   {
    "duration": 22,
    "start_time": "2021-09-27T20:20:03.712Z"
   },
   {
    "duration": 4,
    "start_time": "2021-09-27T20:20:03.874Z"
   },
   {
    "duration": 8,
    "start_time": "2021-09-27T20:20:04.018Z"
   },
   {
    "duration": 5,
    "start_time": "2021-09-27T20:20:04.186Z"
   },
   {
    "duration": 31,
    "start_time": "2021-09-27T20:20:04.369Z"
   },
   {
    "duration": 5,
    "start_time": "2021-09-27T20:20:04.544Z"
   },
   {
    "duration": 4,
    "start_time": "2021-09-27T20:20:04.725Z"
   },
   {
    "duration": 11,
    "start_time": "2021-09-27T20:20:04.912Z"
   },
   {
    "duration": 7,
    "start_time": "2021-09-27T20:20:05.081Z"
   },
   {
    "duration": 51422,
    "start_time": "2021-09-27T20:20:05.275Z"
   },
   {
    "duration": 152978,
    "start_time": "2021-09-27T20:20:56.700Z"
   },
   {
    "duration": 82000,
    "start_time": "2021-09-27T20:23:29.682Z"
   },
   {
    "duration": 1437797,
    "start_time": "2021-09-27T20:24:51.686Z"
   },
   {
    "duration": 14431,
    "start_time": "2021-09-27T20:48:49.485Z"
   },
   {
    "duration": 5470,
    "start_time": "2021-09-27T20:49:03.917Z"
   },
   {
    "duration": 4,
    "start_time": "2021-09-27T20:49:09.389Z"
   },
   {
    "duration": 514,
    "start_time": "2021-09-27T20:49:09.395Z"
   },
   {
    "duration": 15249,
    "start_time": "2021-09-27T20:49:11.843Z"
   },
   {
    "duration": 384035,
    "start_time": "2021-09-27T20:49:41.908Z"
   },
   {
    "duration": 14308,
    "start_time": "2021-09-27T20:56:38.578Z"
   },
   {
    "duration": 22468,
    "start_time": "2021-09-27T20:57:15.083Z"
   },
   {
    "duration": 370,
    "start_time": "2021-09-27T20:57:54.561Z"
   },
   {
    "duration": 351,
    "start_time": "2021-09-27T20:58:36.110Z"
   },
   {
    "duration": 359,
    "start_time": "2021-09-27T20:59:23.430Z"
   },
   {
    "duration": 114,
    "start_time": "2021-09-27T20:59:37.913Z"
   },
   {
    "duration": 379,
    "start_time": "2021-09-27T20:59:42.574Z"
   },
   {
    "duration": 6,
    "start_time": "2021-09-27T20:59:53.332Z"
   },
   {
    "duration": 6,
    "start_time": "2021-09-27T20:59:54.774Z"
   },
   {
    "duration": 6,
    "start_time": "2021-09-27T21:00:11.336Z"
   },
   {
    "duration": 7,
    "start_time": "2021-09-27T21:00:12.063Z"
   },
   {
    "duration": 1275,
    "start_time": "2021-09-27T21:01:40.083Z"
   },
   {
    "duration": 173,
    "start_time": "2021-09-27T21:01:41.360Z"
   },
   {
    "duration": 4,
    "start_time": "2021-09-27T21:01:41.535Z"
   },
   {
    "duration": 49,
    "start_time": "2021-09-27T21:01:41.542Z"
   },
   {
    "duration": 93,
    "start_time": "2021-09-27T21:01:41.594Z"
   },
   {
    "duration": 41,
    "start_time": "2021-09-27T21:01:41.689Z"
   },
   {
    "duration": 55,
    "start_time": "2021-09-27T21:01:41.732Z"
   },
   {
    "duration": 32,
    "start_time": "2021-09-27T21:01:41.790Z"
   },
   {
    "duration": 79,
    "start_time": "2021-09-27T21:01:41.825Z"
   },
   {
    "duration": 31,
    "start_time": "2021-09-27T21:01:41.906Z"
   },
   {
    "duration": 581,
    "start_time": "2021-09-27T21:01:41.939Z"
   },
   {
    "duration": 239,
    "start_time": "2021-09-27T21:01:42.522Z"
   },
   {
    "duration": 595,
    "start_time": "2021-09-27T21:01:42.763Z"
   },
   {
    "duration": 17,
    "start_time": "2021-09-27T21:01:43.360Z"
   },
   {
    "duration": 509,
    "start_time": "2021-09-27T21:01:43.379Z"
   },
   {
    "duration": 219,
    "start_time": "2021-09-27T21:01:43.890Z"
   },
   {
    "duration": 9,
    "start_time": "2021-09-27T21:01:44.111Z"
   },
   {
    "duration": 6,
    "start_time": "2021-09-27T21:01:44.122Z"
   },
   {
    "duration": 273,
    "start_time": "2021-09-27T21:01:44.130Z"
   },
   {
    "duration": 496,
    "start_time": "2021-09-27T21:01:44.405Z"
   },
   {
    "duration": 10,
    "start_time": "2021-09-27T21:01:44.903Z"
   },
   {
    "duration": 28,
    "start_time": "2021-09-27T21:01:44.914Z"
   },
   {
    "duration": 13,
    "start_time": "2021-09-27T21:01:44.946Z"
   },
   {
    "duration": 27,
    "start_time": "2021-09-27T21:01:44.962Z"
   },
   {
    "duration": 38,
    "start_time": "2021-09-27T21:01:44.991Z"
   },
   {
    "duration": 483,
    "start_time": "2021-09-27T21:01:45.031Z"
   },
   {
    "duration": 226,
    "start_time": "2021-09-27T21:01:45.516Z"
   },
   {
    "duration": 15,
    "start_time": "2021-09-27T21:01:45.744Z"
   },
   {
    "duration": 25,
    "start_time": "2021-09-27T21:01:45.761Z"
   },
   {
    "duration": 14,
    "start_time": "2021-09-27T21:01:45.787Z"
   },
   {
    "duration": 19,
    "start_time": "2021-09-27T21:01:45.803Z"
   },
   {
    "duration": 38,
    "start_time": "2021-09-27T21:01:45.824Z"
   },
   {
    "duration": 29,
    "start_time": "2021-09-27T21:01:45.864Z"
   },
   {
    "duration": 25,
    "start_time": "2021-09-27T21:01:45.894Z"
   },
   {
    "duration": 21,
    "start_time": "2021-09-27T21:01:45.921Z"
   },
   {
    "duration": 27,
    "start_time": "2021-09-27T21:01:45.944Z"
   },
   {
    "duration": 9,
    "start_time": "2021-09-27T21:01:45.973Z"
   },
   {
    "duration": 23,
    "start_time": "2021-09-27T21:01:45.984Z"
   },
   {
    "duration": 23,
    "start_time": "2021-09-27T21:01:46.009Z"
   },
   {
    "duration": 28,
    "start_time": "2021-09-27T21:01:46.034Z"
   },
   {
    "duration": 12,
    "start_time": "2021-09-27T21:01:46.064Z"
   },
   {
    "duration": 37,
    "start_time": "2021-09-27T21:01:46.078Z"
   },
   {
    "duration": 21,
    "start_time": "2021-09-27T21:01:46.117Z"
   },
   {
    "duration": 40,
    "start_time": "2021-09-27T21:01:46.141Z"
   },
   {
    "duration": 90,
    "start_time": "2021-09-27T21:01:46.183Z"
   },
   {
    "duration": 25,
    "start_time": "2021-09-27T21:01:46.275Z"
   },
   {
    "duration": 38,
    "start_time": "2021-09-27T21:01:46.302Z"
   },
   {
    "duration": 6,
    "start_time": "2021-09-27T21:01:46.342Z"
   },
   {
    "duration": 24,
    "start_time": "2021-09-27T21:01:46.350Z"
   },
   {
    "duration": 134,
    "start_time": "2021-09-27T21:01:46.377Z"
   },
   {
    "duration": -1041,
    "start_time": "2021-09-27T21:01:47.554Z"
   },
   {
    "duration": -1042,
    "start_time": "2021-09-27T21:01:47.557Z"
   },
   {
    "duration": -1045,
    "start_time": "2021-09-27T21:01:47.561Z"
   },
   {
    "duration": -1045,
    "start_time": "2021-09-27T21:01:47.563Z"
   },
   {
    "duration": -1048,
    "start_time": "2021-09-27T21:01:47.567Z"
   },
   {
    "duration": -1049,
    "start_time": "2021-09-27T21:01:47.570Z"
   },
   {
    "duration": -1051,
    "start_time": "2021-09-27T21:01:47.573Z"
   },
   {
    "duration": -1053,
    "start_time": "2021-09-27T21:01:47.577Z"
   },
   {
    "duration": -1055,
    "start_time": "2021-09-27T21:01:47.580Z"
   },
   {
    "duration": -1055,
    "start_time": "2021-09-27T21:01:47.582Z"
   },
   {
    "duration": -1061,
    "start_time": "2021-09-27T21:01:47.590Z"
   },
   {
    "duration": -1062,
    "start_time": "2021-09-27T21:01:47.592Z"
   },
   {
    "duration": 1322,
    "start_time": "2021-09-27T21:02:02.654Z"
   },
   {
    "duration": 175,
    "start_time": "2021-09-27T21:02:03.978Z"
   },
   {
    "duration": 4,
    "start_time": "2021-09-27T21:02:04.155Z"
   },
   {
    "duration": 52,
    "start_time": "2021-09-27T21:02:04.161Z"
   },
   {
    "duration": 83,
    "start_time": "2021-09-27T21:02:04.215Z"
   },
   {
    "duration": 36,
    "start_time": "2021-09-27T21:02:04.300Z"
   },
   {
    "duration": 48,
    "start_time": "2021-09-27T21:02:04.338Z"
   },
   {
    "duration": 29,
    "start_time": "2021-09-27T21:02:04.388Z"
   },
   {
    "duration": 78,
    "start_time": "2021-09-27T21:02:04.419Z"
   },
   {
    "duration": 30,
    "start_time": "2021-09-27T21:02:04.499Z"
   },
   {
    "duration": 560,
    "start_time": "2021-09-27T21:02:04.530Z"
   },
   {
    "duration": 226,
    "start_time": "2021-09-27T21:02:05.092Z"
   },
   {
    "duration": 596,
    "start_time": "2021-09-27T21:02:05.320Z"
   },
   {
    "duration": 5,
    "start_time": "2021-09-27T21:02:05.918Z"
   },
   {
    "duration": 522,
    "start_time": "2021-09-27T21:02:05.925Z"
   },
   {
    "duration": 228,
    "start_time": "2021-09-27T21:02:06.449Z"
   },
   {
    "duration": 9,
    "start_time": "2021-09-27T21:02:06.679Z"
   },
   {
    "duration": 6,
    "start_time": "2021-09-27T21:02:06.690Z"
   },
   {
    "duration": 263,
    "start_time": "2021-09-27T21:02:06.698Z"
   },
   {
    "duration": 503,
    "start_time": "2021-09-27T21:02:06.963Z"
   },
   {
    "duration": 11,
    "start_time": "2021-09-27T21:02:07.476Z"
   },
   {
    "duration": 25,
    "start_time": "2021-09-27T21:02:07.489Z"
   },
   {
    "duration": 7,
    "start_time": "2021-09-27T21:02:07.519Z"
   },
   {
    "duration": 19,
    "start_time": "2021-09-27T21:02:07.529Z"
   },
   {
    "duration": 25,
    "start_time": "2021-09-27T21:02:07.550Z"
   },
   {
    "duration": 481,
    "start_time": "2021-09-27T21:02:07.576Z"
   },
   {
    "duration": 230,
    "start_time": "2021-09-27T21:02:08.059Z"
   },
   {
    "duration": 16,
    "start_time": "2021-09-27T21:02:08.291Z"
   },
   {
    "duration": 18,
    "start_time": "2021-09-27T21:02:08.308Z"
   },
   {
    "duration": 4,
    "start_time": "2021-09-27T21:02:08.327Z"
   },
   {
    "duration": 15,
    "start_time": "2021-09-27T21:02:08.332Z"
   },
   {
    "duration": 28,
    "start_time": "2021-09-27T21:02:08.349Z"
   },
   {
    "duration": 9,
    "start_time": "2021-09-27T21:02:08.378Z"
   },
   {
    "duration": 9,
    "start_time": "2021-09-27T21:02:08.389Z"
   },
   {
    "duration": 12,
    "start_time": "2021-09-27T21:02:08.400Z"
   },
   {
    "duration": 13,
    "start_time": "2021-09-27T21:02:08.414Z"
   },
   {
    "duration": 14,
    "start_time": "2021-09-27T21:02:08.429Z"
   },
   {
    "duration": 14,
    "start_time": "2021-09-27T21:02:08.444Z"
   },
   {
    "duration": 17,
    "start_time": "2021-09-27T21:02:08.460Z"
   },
   {
    "duration": 11,
    "start_time": "2021-09-27T21:02:08.479Z"
   },
   {
    "duration": 3,
    "start_time": "2021-09-27T21:02:08.492Z"
   },
   {
    "duration": 22,
    "start_time": "2021-09-27T21:02:08.497Z"
   },
   {
    "duration": 19,
    "start_time": "2021-09-27T21:02:08.521Z"
   },
   {
    "duration": 4,
    "start_time": "2021-09-27T21:02:08.542Z"
   },
   {
    "duration": 28,
    "start_time": "2021-09-27T21:02:08.548Z"
   },
   {
    "duration": 4,
    "start_time": "2021-09-27T21:02:08.578Z"
   },
   {
    "duration": 33,
    "start_time": "2021-09-27T21:02:08.583Z"
   },
   {
    "duration": 4,
    "start_time": "2021-09-27T21:02:08.618Z"
   },
   {
    "duration": 14,
    "start_time": "2021-09-27T21:02:08.624Z"
   },
   {
    "duration": 14,
    "start_time": "2021-09-27T21:02:08.639Z"
   },
   {
    "duration": 10,
    "start_time": "2021-09-27T21:02:08.655Z"
   },
   {
    "duration": 36012,
    "start_time": "2021-09-27T21:02:08.666Z"
   },
   {
    "duration": 128299,
    "start_time": "2021-09-27T21:02:44.680Z"
   },
   {
    "duration": 70698,
    "start_time": "2021-09-27T21:04:52.981Z"
   },
   {
    "duration": 5032967,
    "start_time": "2021-09-27T21:06:03.682Z"
   },
   {
    "duration": 14239,
    "start_time": "2021-09-27T22:29:56.651Z"
   },
   {
    "duration": 6,
    "start_time": "2021-09-27T22:30:10.891Z"
   },
   {
    "duration": 21,
    "start_time": "2021-09-27T22:30:10.899Z"
   },
   {
    "duration": 6069,
    "start_time": "2021-09-27T22:30:10.922Z"
   },
   {
    "duration": 4,
    "start_time": "2021-09-27T22:30:16.993Z"
   },
   {
    "duration": 612,
    "start_time": "2021-09-27T22:30:16.999Z"
   },
   {
    "duration": 6,
    "start_time": "2021-09-28T07:30:19.834Z"
   },
   {
    "duration": 7,
    "start_time": "2021-09-28T07:30:20.600Z"
   },
   {
    "duration": 7297,
    "start_time": "2021-09-28T07:31:11.566Z"
   },
   {
    "duration": 14342,
    "start_time": "2021-09-28T07:44:53.318Z"
   },
   {
    "duration": 1582,
    "start_time": "2021-09-28T07:49:52.143Z"
   },
   {
    "duration": 214,
    "start_time": "2021-09-28T07:49:53.727Z"
   },
   {
    "duration": 3,
    "start_time": "2021-09-28T07:49:53.943Z"
   },
   {
    "duration": 59,
    "start_time": "2021-09-28T07:49:53.948Z"
   },
   {
    "duration": 109,
    "start_time": "2021-09-28T07:49:54.009Z"
   },
   {
    "duration": 77,
    "start_time": "2021-09-28T07:49:54.120Z"
   },
   {
    "duration": 28,
    "start_time": "2021-09-28T07:49:54.200Z"
   },
   {
    "duration": 65,
    "start_time": "2021-09-28T07:49:54.231Z"
   },
   {
    "duration": 50,
    "start_time": "2021-09-28T07:49:54.298Z"
   },
   {
    "duration": 44,
    "start_time": "2021-09-28T07:49:54.350Z"
   },
   {
    "duration": 540,
    "start_time": "2021-09-28T07:49:54.395Z"
   },
   {
    "duration": 238,
    "start_time": "2021-09-28T07:49:54.937Z"
   },
   {
    "duration": 605,
    "start_time": "2021-09-28T07:49:55.177Z"
   },
   {
    "duration": 5,
    "start_time": "2021-09-28T07:49:55.784Z"
   },
   {
    "duration": 825,
    "start_time": "2021-09-28T07:49:55.791Z"
   },
   {
    "duration": 226,
    "start_time": "2021-09-28T07:49:56.618Z"
   },
   {
    "duration": 11,
    "start_time": "2021-09-28T07:49:56.846Z"
   },
   {
    "duration": 3,
    "start_time": "2021-09-28T07:49:56.859Z"
   },
   {
    "duration": 334,
    "start_time": "2021-09-28T07:49:56.864Z"
   },
   {
    "duration": 500,
    "start_time": "2021-09-28T07:49:57.200Z"
   },
   {
    "duration": 9,
    "start_time": "2021-09-28T07:49:57.701Z"
   },
   {
    "duration": 11,
    "start_time": "2021-09-28T07:49:57.712Z"
   },
   {
    "duration": 7,
    "start_time": "2021-09-28T07:49:57.726Z"
   },
   {
    "duration": 9,
    "start_time": "2021-09-28T07:49:57.734Z"
   },
   {
    "duration": 12,
    "start_time": "2021-09-28T07:49:57.745Z"
   },
   {
    "duration": 472,
    "start_time": "2021-09-28T07:49:57.758Z"
   },
   {
    "duration": 212,
    "start_time": "2021-09-28T07:49:58.232Z"
   },
   {
    "duration": 16,
    "start_time": "2021-09-28T07:49:58.445Z"
   },
   {
    "duration": 19,
    "start_time": "2021-09-28T07:49:58.463Z"
   },
   {
    "duration": 4,
    "start_time": "2021-09-28T07:49:58.483Z"
   },
   {
    "duration": 17,
    "start_time": "2021-09-28T07:49:58.488Z"
   },
   {
    "duration": 17,
    "start_time": "2021-09-28T07:50:01.027Z"
   },
   {
    "duration": 29,
    "start_time": "2021-09-28T07:50:01.047Z"
   },
   {
    "duration": 7,
    "start_time": "2021-09-28T07:50:01.079Z"
   },
   {
    "duration": 22,
    "start_time": "2021-09-28T07:50:01.089Z"
   },
   {
    "duration": 29,
    "start_time": "2021-09-28T07:50:01.113Z"
   },
   {
    "duration": 39,
    "start_time": "2021-09-28T07:50:01.144Z"
   },
   {
    "duration": 20,
    "start_time": "2021-09-28T07:50:01.186Z"
   },
   {
    "duration": 31,
    "start_time": "2021-09-28T07:50:01.210Z"
   },
   {
    "duration": 13,
    "start_time": "2021-09-28T07:50:01.277Z"
   },
   {
    "duration": 50,
    "start_time": "2021-09-28T07:50:01.292Z"
   },
   {
    "duration": 52,
    "start_time": "2021-09-28T07:50:01.344Z"
   },
   {
    "duration": 47,
    "start_time": "2021-09-28T07:50:01.398Z"
   },
   {
    "duration": 16,
    "start_time": "2021-09-28T07:50:01.447Z"
   },
   {
    "duration": 44,
    "start_time": "2021-09-28T07:50:01.465Z"
   },
   {
    "duration": 35,
    "start_time": "2021-09-28T07:50:01.511Z"
   },
   {
    "duration": 65,
    "start_time": "2021-09-28T07:50:01.547Z"
   },
   {
    "duration": 54,
    "start_time": "2021-09-28T07:50:01.614Z"
   },
   {
    "duration": 27,
    "start_time": "2021-09-28T07:50:01.670Z"
   },
   {
    "duration": 41,
    "start_time": "2021-09-28T07:50:01.699Z"
   },
   {
    "duration": 35,
    "start_time": "2021-09-28T07:50:01.742Z"
   },
   {
    "duration": 39802,
    "start_time": "2021-09-28T07:50:01.778Z"
   },
   {
    "duration": 163594,
    "start_time": "2021-09-28T07:50:41.585Z"
   },
   {
    "duration": 90095,
    "start_time": "2021-09-28T07:53:25.183Z"
   },
   {
    "duration": 2,
    "start_time": "2021-09-28T07:54:55.282Z"
   },
   {
    "duration": 15392,
    "start_time": "2021-09-28T07:54:55.287Z"
   },
   {
    "duration": 464,
    "start_time": "2021-09-28T07:55:10.681Z"
   },
   {
    "duration": -317,
    "start_time": "2021-09-28T07:55:11.464Z"
   },
   {
    "duration": -333,
    "start_time": "2021-09-28T07:55:11.482Z"
   },
   {
    "duration": -342,
    "start_time": "2021-09-28T07:55:11.492Z"
   },
   {
    "duration": -354,
    "start_time": "2021-09-28T07:55:11.505Z"
   },
   {
    "duration": 7,
    "start_time": "2021-09-28T07:56:12.490Z"
   },
   {
    "duration": 8,
    "start_time": "2021-09-28T07:56:13.254Z"
   },
   {
    "duration": 7778,
    "start_time": "2021-09-28T07:56:16.886Z"
   },
   {
    "duration": 6,
    "start_time": "2021-09-28T07:56:27.221Z"
   },
   {
    "duration": 513,
    "start_time": "2021-09-28T07:56:28.933Z"
   },
   {
    "duration": 1920,
    "start_time": "2021-09-28T09:48:31.805Z"
   },
   {
    "duration": 221,
    "start_time": "2021-09-28T09:48:33.777Z"
   },
   {
    "duration": 3,
    "start_time": "2021-09-28T09:48:34.877Z"
   },
   {
    "duration": 101,
    "start_time": "2021-09-28T09:48:35.077Z"
   },
   {
    "duration": 134,
    "start_time": "2021-09-28T09:48:35.456Z"
   },
   {
    "duration": 46,
    "start_time": "2021-09-28T09:48:35.759Z"
   },
   {
    "duration": 27,
    "start_time": "2021-09-28T09:48:36.074Z"
   },
   {
    "duration": 53,
    "start_time": "2021-09-28T09:48:36.436Z"
   },
   {
    "duration": 99,
    "start_time": "2021-09-28T09:48:36.784Z"
   },
   {
    "duration": 38,
    "start_time": "2021-09-28T09:48:37.185Z"
   },
   {
    "duration": 1087,
    "start_time": "2021-09-28T09:48:39.305Z"
   },
   {
    "duration": 427,
    "start_time": "2021-09-28T09:48:40.394Z"
   },
   {
    "duration": 1146,
    "start_time": "2021-09-28T09:48:40.876Z"
   },
   {
    "duration": 5,
    "start_time": "2021-09-28T09:48:42.077Z"
   },
   {
    "duration": 1093,
    "start_time": "2021-09-28T09:48:42.084Z"
   },
   {
    "duration": 421,
    "start_time": "2021-09-28T09:48:43.179Z"
   },
   {
    "duration": 10,
    "start_time": "2021-09-28T09:48:43.602Z"
   },
   {
    "duration": 3,
    "start_time": "2021-09-28T09:48:43.829Z"
   },
   {
    "duration": 477,
    "start_time": "2021-09-28T09:48:44.003Z"
   },
   {
    "duration": 1010,
    "start_time": "2021-09-28T09:48:44.481Z"
   },
   {
    "duration": 10,
    "start_time": "2021-09-28T09:48:45.493Z"
   },
   {
    "duration": 73,
    "start_time": "2021-09-28T09:48:45.505Z"
   },
   {
    "duration": 7,
    "start_time": "2021-09-28T09:48:45.580Z"
   },
   {
    "duration": 11,
    "start_time": "2021-09-28T09:48:45.889Z"
   },
   {
    "duration": 20,
    "start_time": "2021-09-28T09:48:46.268Z"
   },
   {
    "duration": 971,
    "start_time": "2021-09-28T09:48:46.808Z"
   },
   {
    "duration": 410,
    "start_time": "2021-09-28T09:48:47.781Z"
   },
   {
    "duration": 40,
    "start_time": "2021-09-28T09:50:46.837Z"
   },
   {
    "duration": 22,
    "start_time": "2021-09-28T09:50:47.703Z"
   },
   {
    "duration": 4,
    "start_time": "2021-09-28T09:51:41.289Z"
   },
   {
    "duration": 4,
    "start_time": "2021-09-28T09:51:41.439Z"
   },
   {
    "duration": 12,
    "start_time": "2021-09-28T09:51:41.786Z"
   },
   {
    "duration": 8,
    "start_time": "2021-09-28T09:51:41.978Z"
   },
   {
    "duration": 3,
    "start_time": "2021-09-28T09:51:42.167Z"
   },
   {
    "duration": 5,
    "start_time": "2021-09-28T09:51:42.580Z"
   },
   {
    "duration": 8,
    "start_time": "2021-09-28T09:51:42.997Z"
   },
   {
    "duration": 6,
    "start_time": "2021-09-28T09:51:43.174Z"
   },
   {
    "duration": 3,
    "start_time": "2021-09-28T09:51:43.353Z"
   },
   {
    "duration": 8,
    "start_time": "2021-09-28T09:51:43.498Z"
   },
   {
    "duration": 12,
    "start_time": "2021-09-28T09:51:43.673Z"
   },
   {
    "duration": 5,
    "start_time": "2021-09-28T09:51:43.997Z"
   },
   {
    "duration": 34,
    "start_time": "2021-09-28T09:51:44.314Z"
   },
   {
    "duration": 31,
    "start_time": "2021-09-28T09:51:44.505Z"
   },
   {
    "duration": 5,
    "start_time": "2021-09-28T09:51:44.691Z"
   },
   {
    "duration": 11,
    "start_time": "2021-09-28T09:51:45.078Z"
   },
   {
    "duration": 5,
    "start_time": "2021-09-28T09:51:45.542Z"
   },
   {
    "duration": 84,
    "start_time": "2021-09-28T09:51:45.797Z"
   },
   {
    "duration": 6,
    "start_time": "2021-09-28T09:51:46.175Z"
   },
   {
    "duration": 10,
    "start_time": "2021-09-28T09:51:46.370Z"
   },
   {
    "duration": 32,
    "start_time": "2021-09-28T09:51:46.944Z"
   },
   {
    "duration": 7,
    "start_time": "2021-09-28T09:51:47.229Z"
   },
   {
    "duration": 42881,
    "start_time": "2021-09-28T09:54:40.496Z"
   },
   {
    "duration": 1559,
    "start_time": "2021-09-29T13:20:39.679Z"
   },
   {
    "duration": 201,
    "start_time": "2021-09-29T13:20:41.240Z"
   },
   {
    "duration": 4,
    "start_time": "2021-09-29T13:20:41.445Z"
   },
   {
    "duration": 54,
    "start_time": "2021-09-29T13:20:41.450Z"
   },
   {
    "duration": 101,
    "start_time": "2021-09-29T13:20:41.506Z"
   },
   {
    "duration": 52,
    "start_time": "2021-09-29T13:20:41.609Z"
   },
   {
    "duration": 62,
    "start_time": "2021-09-29T13:20:41.664Z"
   },
   {
    "duration": 30,
    "start_time": "2021-09-29T13:20:41.730Z"
   },
   {
    "duration": 102,
    "start_time": "2021-09-29T13:20:41.762Z"
   },
   {
    "duration": 48,
    "start_time": "2021-09-29T13:20:41.865Z"
   },
   {
    "duration": 611,
    "start_time": "2021-09-29T13:20:41.915Z"
   },
   {
    "duration": 242,
    "start_time": "2021-09-29T13:20:42.528Z"
   },
   {
    "duration": 620,
    "start_time": "2021-09-29T13:20:42.771Z"
   },
   {
    "duration": 9,
    "start_time": "2021-09-29T13:20:43.393Z"
   },
   {
    "duration": 542,
    "start_time": "2021-09-29T13:20:43.404Z"
   },
   {
    "duration": 242,
    "start_time": "2021-09-29T13:20:43.948Z"
   },
   {
    "duration": 13,
    "start_time": "2021-09-29T13:20:44.192Z"
   },
   {
    "duration": 12,
    "start_time": "2021-09-29T13:20:44.207Z"
   },
   {
    "duration": 264,
    "start_time": "2021-09-29T13:20:44.220Z"
   },
   {
    "duration": 539,
    "start_time": "2021-09-29T13:20:44.485Z"
   },
   {
    "duration": 9,
    "start_time": "2021-09-29T13:20:45.026Z"
   },
   {
    "duration": 21,
    "start_time": "2021-09-29T13:20:45.039Z"
   },
   {
    "duration": 13,
    "start_time": "2021-09-29T13:20:45.062Z"
   },
   {
    "duration": 28,
    "start_time": "2021-09-29T13:20:45.076Z"
   },
   {
    "duration": 21,
    "start_time": "2021-09-29T13:20:45.106Z"
   },
   {
    "duration": 508,
    "start_time": "2021-09-29T13:20:45.128Z"
   },
   {
    "duration": 238,
    "start_time": "2021-09-29T13:20:45.638Z"
   },
   {
    "duration": 22,
    "start_time": "2021-09-29T13:20:45.877Z"
   },
   {
    "duration": 13,
    "start_time": "2021-09-29T13:20:45.902Z"
   },
   {
    "duration": 6,
    "start_time": "2021-09-29T13:20:45.917Z"
   },
   {
    "duration": 9,
    "start_time": "2021-09-29T13:20:45.925Z"
   },
   {
    "duration": 17,
    "start_time": "2021-09-29T13:20:45.935Z"
   },
   {
    "duration": 9,
    "start_time": "2021-09-29T13:20:45.953Z"
   },
   {
    "duration": 4,
    "start_time": "2021-09-29T13:20:45.964Z"
   },
   {
    "duration": 31,
    "start_time": "2021-09-29T13:20:45.969Z"
   },
   {
    "duration": 16,
    "start_time": "2021-09-29T13:20:46.002Z"
   },
   {
    "duration": 9,
    "start_time": "2021-09-29T13:20:46.020Z"
   },
   {
    "duration": 10,
    "start_time": "2021-09-29T13:20:46.030Z"
   },
   {
    "duration": 9,
    "start_time": "2021-09-29T13:20:46.042Z"
   },
   {
    "duration": 33,
    "start_time": "2021-09-29T13:20:46.053Z"
   },
   {
    "duration": 4,
    "start_time": "2021-09-29T13:20:46.088Z"
   },
   {
    "duration": 21,
    "start_time": "2021-09-29T13:20:46.094Z"
   },
   {
    "duration": 22,
    "start_time": "2021-09-29T13:20:46.117Z"
   },
   {
    "duration": 3,
    "start_time": "2021-09-29T13:20:46.140Z"
   },
   {
    "duration": 10,
    "start_time": "2021-09-29T13:20:46.144Z"
   },
   {
    "duration": 3,
    "start_time": "2021-09-29T13:20:46.155Z"
   },
   {
    "duration": 46,
    "start_time": "2021-09-29T13:20:46.159Z"
   },
   {
    "duration": 5,
    "start_time": "2021-09-29T13:20:46.207Z"
   },
   {
    "duration": 9,
    "start_time": "2021-09-29T13:20:46.214Z"
   },
   {
    "duration": 13,
    "start_time": "2021-09-29T13:20:46.225Z"
   },
   {
    "duration": 5,
    "start_time": "2021-09-29T13:20:46.240Z"
   },
   {
    "duration": 47858,
    "start_time": "2021-09-29T13:20:46.246Z"
   },
   {
    "duration": 156810,
    "start_time": "2021-09-29T13:21:34.108Z"
   },
   {
    "duration": 68983,
    "start_time": "2021-09-29T13:24:11.018Z"
   },
   {
    "duration": 3,
    "start_time": "2021-09-29T13:25:20.004Z"
   },
   {
    "duration": 13728,
    "start_time": "2021-09-29T13:25:20.009Z"
   },
   {
    "duration": 7,
    "start_time": "2021-09-29T13:25:33.739Z"
   },
   {
    "duration": 11,
    "start_time": "2021-09-29T13:25:33.747Z"
   },
   {
    "duration": 7214,
    "start_time": "2021-09-29T13:25:33.760Z"
   },
   {
    "duration": 4,
    "start_time": "2021-09-29T13:25:40.976Z"
   },
   {
    "duration": 550,
    "start_time": "2021-09-29T13:25:40.982Z"
   },
   {
    "duration": 350,
    "start_time": "2021-09-29T13:25:41.534Z"
   }
  ],
  "kernelspec": {
   "display_name": "Python 3",
   "language": "python",
   "name": "python3"
  },
  "language_info": {
   "codemirror_mode": {
    "name": "ipython",
    "version": 3
   },
   "file_extension": ".py",
   "mimetype": "text/x-python",
   "name": "python",
   "nbconvert_exporter": "python",
   "pygments_lexer": "ipython3",
   "version": "3.7.8"
  },
  "toc": {
   "base_numbering": 1,
   "nav_menu": {},
   "number_sections": true,
   "sideBar": true,
   "skip_h1_title": true,
   "title_cell": "Table of Contents",
   "title_sidebar": "Contents",
   "toc_cell": false,
   "toc_position": {},
   "toc_section_display": true,
   "toc_window_display": false
  }
 },
 "nbformat": 4,
 "nbformat_minor": 2
}
